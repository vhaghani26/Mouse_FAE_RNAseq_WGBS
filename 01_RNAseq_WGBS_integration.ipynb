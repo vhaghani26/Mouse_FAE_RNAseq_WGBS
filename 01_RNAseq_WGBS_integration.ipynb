{
 "cells": [
  {
   "cell_type": "markdown",
   "id": "3b368ea1-8766-4ff6-95f0-0149fc8b2dfb",
   "metadata": {},
   "source": [
    "# Set Library Path"
   ]
  },
  {
   "cell_type": "code",
   "execution_count": null,
   "id": "a8ae1f46-ac7e-41c8-8a63-fb2a2a3c4a17",
   "metadata": {},
   "outputs": [],
   "source": [
    ".libPaths(\"/share/korflab/home/viki/anaconda3/jupyter_nb/lib/R/library\")"
   ]
  },
  {
   "cell_type": "markdown",
   "id": "ffe67b1c-aa08-4b3c-8a0a-c80154e23d35",
   "metadata": {},
   "source": [
    "# Load Libraries"
   ]
  },
  {
   "cell_type": "code",
   "execution_count": null,
   "id": "277059a0-f3c7-42c4-8da5-1ffcf2bf21ba",
   "metadata": {},
   "outputs": [],
   "source": [
    "library(dplyr)\n",
    "library(rtracklayer)\n",
    "library(GenomicRanges)\n",
    "library(tibble)\n",
    "library(readr)\n",
    "library(tidyr)\n",
    "library(ggplot2)\n",
    "library(readxl)"
   ]
  },
  {
   "cell_type": "markdown",
   "id": "48feee8a-1e74-4643-97e2-ea4e9279c584",
   "metadata": {},
   "source": [
    "# Process RNA-seq Data"
   ]
  },
  {
   "cell_type": "markdown",
   "id": "79f6bc58-02c4-48e2-a20d-5c42f040cd4d",
   "metadata": {},
   "source": [
    "## Load Data"
   ]
  },
  {
   "cell_type": "code",
   "execution_count": null,
   "id": "2b9171fa-9d44-4901-81d7-ac8d691b2b9f",
   "metadata": {},
   "outputs": [],
   "source": [
    "# Read in normalized gene counts from DEG analysis\n",
    "counts <- read.delim(\"rnaseq/05_gene_counts/normalized_counts.txt\")\n",
    "\n",
    "# View\n",
    "head(counts)"
   ]
  },
  {
   "cell_type": "code",
   "execution_count": null,
   "id": "3da75de0-a596-4e5a-82f2-6ba1f6f2e0d5",
   "metadata": {},
   "outputs": [],
   "source": [
    "# Prepare to assign gene names \n",
    "names <- rownames(counts) %>% as.data.frame()\n",
    "colnames(names) <- \"gene_names\"\n",
    "rownames(counts) <- NULL\n",
    "\n",
    "# View\n",
    "head(counts)"
   ]
  },
  {
   "cell_type": "code",
   "execution_count": null,
   "id": "f8b780cf-3f26-4ab9-8385-0e6576215005",
   "metadata": {},
   "outputs": [],
   "source": [
    "# Load data\n",
    "rnaseq <- read.csv(\"rnaseq/05_DEGs/control_vs_faexcess_genes.csv\", header = TRUE) %>%\n",
    "dplyr::select(\"gene_names\",\"external_gene_name\")\n",
    "\n",
    "new_names <- names %>% dplyr::left_join(rnaseq, by = \"gene_names\")\n",
    "\n",
    "# View\n",
    "head(new_names)"
   ]
  },
  {
   "cell_type": "code",
   "execution_count": null,
   "id": "8c1d838e-e004-463c-895b-bf91dfef2814",
   "metadata": {},
   "outputs": [],
   "source": [
    "# Combine data to get external_gene_name\n",
    "counts <- cbind(new_names, counts)\n",
    "\n",
    "# Remove rows where external_gene_name is NA\n",
    "counts <- counts[!is.na(counts$external_gene_name), ]\n",
    "\n",
    "# View\n",
    "head(counts)"
   ]
  },
  {
   "cell_type": "code",
   "execution_count": null,
   "id": "1d5cae7b-af34-4aa0-b0b9-90afe6c57720",
   "metadata": {},
   "outputs": [],
   "source": [
    "# Assign gene names as row names\n",
    "rownames(counts) <- counts$external_gene_name\n",
    "\n",
    "# Remove the gene_names and external_gene_name columns\n",
    "counts <- counts[, !(names(counts) %in% c(\"gene_names\", \"external_gene_name\"))]\n",
    "\n",
    "# View the updated counts data frame\n",
    "head(counts)"
   ]
  },
  {
   "cell_type": "markdown",
   "id": "9879b682-8bfd-4f11-b910-bed1bafca236",
   "metadata": {},
   "source": [
    "## Convert Gene Lengths to Kilobases for TPM Calculation"
   ]
  },
  {
   "cell_type": "code",
   "execution_count": null,
   "id": "c5b9baaf-101c-4e0f-a941-aca4adcfffca",
   "metadata": {},
   "outputs": [],
   "source": [
    "# Read the GTF annotation file\n",
    "gtf_file <- \"/share/lasallelab/genomes/mm10/mm10.refGene.gtf\"\n",
    "gtf_data <- import(gtf_file)\n",
    "\n",
    "# View\n",
    "head(gtf_data)"
   ]
  },
  {
   "cell_type": "code",
   "execution_count": null,
   "id": "08aa72b9-7110-4030-9cff-e7cb5d918256",
   "metadata": {},
   "outputs": [],
   "source": [
    "# Remove rows from counts if genes are not found in the annotation file\n",
    "\n",
    "# Assign unique genes for easy searching\n",
    "unique_genes <- unique(gtf_data$gene_name)\n",
    "\n",
    "# Filter counts_data to keep only rows where the row names are in unique_genes\n",
    "counts <- counts[rownames(counts) %in% unique_genes, ]\n",
    "\n",
    "# View\n",
    "head(counts)\n",
    "print(length(rownames(counts)))"
   ]
  },
  {
   "cell_type": "code",
   "execution_count": null,
   "id": "2415fc0f-c488-42ba-950d-bcdc97d9a704",
   "metadata": {},
   "outputs": [],
   "source": [
    "# Calculate gene lengths\n",
    "\n",
    "# Filter for exon features\n",
    "exon_data <- gtf_data[gtf_data$type == \"exon\"]\n",
    "\n",
    "# Calculate the length of each exon\n",
    "exon_lengths <- width(exon_data)\n",
    "\n",
    "# Create a data frame to store gene lengths\n",
    "gene_lengths <- data.frame(gene_id = exon_data$gene_id, length = exon_lengths)\n",
    "\n",
    "# Sum the lengths for each gene\n",
    "gene_length_summary <- aggregate(length ~ gene_id, data = gene_lengths, FUN = sum)\n",
    "\n",
    "# Print the gene lengths\n",
    "head(gene_length_summary)\n",
    "print(length(gene_length_summary$gene_id))"
   ]
  },
  {
   "cell_type": "code",
   "execution_count": null,
   "id": "5cad8674-d6ab-4026-9933-bcb406bcfc73",
   "metadata": {},
   "outputs": [],
   "source": [
    "# Convert gene length to kilobases\n",
    "gene_length_summary <- gene_length_summary %>%\n",
    "  mutate(length_kb = length / 1000)\n",
    "\n",
    "head(gene_length_summary)"
   ]
  },
  {
   "cell_type": "markdown",
   "id": "c901da47-9d54-4198-a75a-eeb33c3f680e",
   "metadata": {},
   "source": [
    "## Calculate Reads Per Kilobase"
   ]
  },
  {
   "cell_type": "code",
   "execution_count": null,
   "id": "1fb07ced-0d5a-4df4-b489-036b26d56948",
   "metadata": {},
   "outputs": [],
   "source": [
    "# Convert counts to a data frame \n",
    "counts <- as.data.frame(counts)\n",
    "\n",
    "# Add gene_id as a column to counts\n",
    "counts$gene_id <- rownames(counts)\n",
    "\n",
    "# Merge counts with gene_length_summary\n",
    "merged_data <- merge(counts, gene_length_summary, by = \"gene_id\", all.x = TRUE)\n",
    "\n",
    "# Calculate RPK for each gene (RPK = counts / length in kilobases)\n",
    "count_columns <- names(merged_data)[-which(names(merged_data) %in% c(\"gene_id\", \"length_kb\"))]\n",
    "\n",
    "# Divide the count columns by length_kb\n",
    "merged_data[count_columns] <- merged_data[count_columns] / merged_data$length_kb\n",
    "\n",
    "# Set the gene_id back as row names\n",
    "rownames(merged_data) <- merged_data$gene_id\n",
    "\n",
    "# Clean data\n",
    "merged_data$gene_id <- NULL\n",
    "merged_data$length_kb <- NULL\n",
    "merged_data$length <- NULL\n",
    "\n",
    "# View the RPK data\n",
    "head(merged_data)"
   ]
  },
  {
   "cell_type": "code",
   "execution_count": null,
   "id": "9f8d489f-9209-494b-ac6e-28ab5efe2db1",
   "metadata": {},
   "outputs": [],
   "source": [
    "# Verify proper RPK calculations\n",
    "specific_row <- counts[\"0610005C13Rik\", , drop = FALSE]\n",
    "\n",
    "# Convert the row to a numeric vector\n",
    "specific_row_vector <- as.numeric(specific_row)\n",
    "\n",
    "# Divide every value in the row by the gene length (in kb) of 0610005C13Rik\n",
    "expected_counts <- specific_row_vector / 2.037\n",
    "\n",
    "# Print the output\n",
    "print(expected_counts)"
   ]
  },
  {
   "cell_type": "markdown",
   "id": "83e16bc6-a6fe-4da1-9968-8adef677442f",
   "metadata": {},
   "source": [
    "## Calculate Total Reads Per Kilobase"
   ]
  },
  {
   "cell_type": "code",
   "execution_count": null,
   "id": "7369fb26-bf33-4fba-838a-4ca92fd8da62",
   "metadata": {},
   "outputs": [],
   "source": [
    "# Calculate the total RPK for each sample \n",
    "total_rpk <- colSums(merged_data)"
   ]
  },
  {
   "cell_type": "markdown",
   "id": "5bf5aff3-4e06-4c01-b1c4-a98778a55a1b",
   "metadata": {},
   "source": [
    "## Calculate TPM per Sample"
   ]
  },
  {
   "cell_type": "code",
   "execution_count": null,
   "id": "53f0ee88-958a-45bf-b6db-5d9cc7cad644",
   "metadata": {},
   "outputs": [],
   "source": [
    "# Calculate TPM for each gene (TPM = (RPK / Total RPK) * 1,000,000)\n",
    "tpm <- sweep(merged_data, 2, total_rpk, FUN = \"/\") * 1e6\n",
    "\n",
    "# Convert the result to a data frame (optional)\n",
    "tpm_df <- as.data.frame(tpm)\n",
    "\n",
    "# View\n",
    "head(tpm_df)"
   ]
  },
  {
   "cell_type": "code",
   "execution_count": null,
   "id": "2cc09f9b-cefe-46b9-99d0-d0f0992cb63f",
   "metadata": {},
   "outputs": [],
   "source": [
    "# Save TPM data to a CSV\n",
    "write.csv(tpm_df, file = \"RNAseq_TPM_Values.csv\", row.names = TRUE)"
   ]
  },
  {
   "cell_type": "code",
   "execution_count": null,
   "id": "34178f36-7c6e-459b-ae70-a2b792aafa2a",
   "metadata": {},
   "outputs": [],
   "source": [
    "colnames(tpm_df)"
   ]
  },
  {
   "cell_type": "markdown",
   "id": "94f3c7f3-625f-4cc4-ab2e-c2a2175e6b24",
   "metadata": {},
   "source": [
    "# Process WGBS Data"
   ]
  },
  {
   "cell_type": "markdown",
   "id": "ed335dd4-3781-4a4e-80a4-63c3c3f0611d",
   "metadata": {},
   "source": [
    "## Annotate Genes"
   ]
  },
  {
   "cell_type": "code",
   "execution_count": null,
   "id": "5e8111aa-5e02-4c1a-b769-c66ad369f2d6",
   "metadata": {},
   "outputs": [],
   "source": [
    "# Load data\n",
    "files <- list.files(path = \"wgbs/08_cytosine_reports\", \n",
    "                    pattern = \"\\\\.deduplicated\\\\.bismark\\\\.cov\\\\.gz\\\\.CpG_report\\\\.merged_CpG_evidence\\\\.cov\\\\.gz$\", \n",
    "                    full.names = TRUE)\n",
    "\n",
    "# View the list of files\n",
    "print(files)"
   ]
  },
  {
   "cell_type": "code",
   "execution_count": null,
   "id": "a6960836-51ce-4a4d-95f5-2a411b1b956a",
   "metadata": {},
   "outputs": [],
   "source": [
    "# Read the GTF annotation file\n",
    "gtf_file <- \"/share/lasallelab/genomes/mm10/mm10.refGene.gtf\"\n",
    "gtf_data <- import(gtf_file)\n",
    "\n",
    "# View\n",
    "head(gtf_data)"
   ]
  },
  {
   "cell_type": "code",
   "execution_count": null,
   "id": "e18663a3-33f9-440f-9f91-7f8be4012673",
   "metadata": {},
   "outputs": [],
   "source": [
    "gtf_transcripts <- gtf_data[gtf_data$type == \"transcript\"]\n",
    "\n",
    "# Create GRanges object for gene annotations\n",
    "gr_genes <- GRanges(seqnames = seqnames(gtf_transcripts),\n",
    "                    ranges = IRanges(start = start(gtf_transcripts), end = end(gtf_transcripts)),\n",
    "                    gene_name = mcols(gtf_transcripts)$gene_name)\n",
    "\n",
    "# View \n",
    "head(gr_genes)"
   ]
  },
  {
   "cell_type": "code",
   "execution_count": null,
   "id": "10c8c0c8-3247-4a60-994d-aff418c11451",
   "metadata": {},
   "outputs": [],
   "source": [
    "# Loop through each file in the files list\n",
    "for (file in files) {\n",
    "  # Read the gzipped file\n",
    "  regions <- read.table(gzfile(file), header = FALSE, stringsAsFactors = FALSE)\n",
    "  \n",
    "  # Create GRanges object for regions\n",
    "  gr_regions <- GRanges(seqnames = regions$V1,  \n",
    "                        ranges = IRanges(start = regions$V2, end = regions$V3))  \n",
    "  \n",
    "  # Find overlaps between regions and gene annotations\n",
    "  overlaps <- findOverlaps(gr_regions, gr_genes)\n",
    "  \n",
    "  # Create a new column for gene names in the regions data frame\n",
    "  regions$gene_name <- NA \n",
    "  regions$gene_name[queryHits(overlaps)] <- gr_genes$gene_name[subjectHits(overlaps)]\n",
    "\n",
    "  # Do not save columns where gene names are NA\n",
    "  regions <- regions %>% filter(!is.na(gene_name))\n",
    "  \n",
    "  # Create a sample basename for saving the results\n",
    "  sample_basename <- sub(\"\\\\..*$\", \"\", basename(file))\n",
    "  \n",
    "  # Save the annotated regions to a CSV file\n",
    "  output_directory <- \"wgbs/08_cytosine_reports/\"\n",
    "  write.csv(regions, file = paste0(output_directory, sample_basename, \"_annotated_regions.csv\"), row.names = FALSE)\n",
    "\n",
    "  # Print progress\n",
    "  cat(sprintf(\"Regions have been assigned for %s...\\n\", sample_basename))\n",
    "}"
   ]
  },
  {
   "cell_type": "markdown",
   "id": "cd0c9098-207b-461e-86c0-f2b30fee8614",
   "metadata": {},
   "source": [
    "## Calculate Percent Methylation Per Gene"
   ]
  },
  {
   "cell_type": "code",
   "execution_count": null,
   "id": "991b85b3-0448-469c-bdec-46b0848ae55b",
   "metadata": {},
   "outputs": [],
   "source": [
    "# Load data\n",
    "files <- list.files(path = \"wgbs/08_cytosine_reports\", \n",
    "                    pattern = \"\\\\.csv$\", \n",
    "                    full.names = TRUE)\n",
    "\n",
    "# View the list of files\n",
    "print(files)"
   ]
  },
  {
   "cell_type": "code",
   "execution_count": null,
   "id": "f6fdeefd-701a-408d-a22c-8d99967c483f",
   "metadata": {},
   "outputs": [],
   "source": [
    "# Loop through each file\n",
    "for (file in files) {\n",
    "  # Read the CSV file\n",
    "  data <- read.csv(file, stringsAsFactors = FALSE)\n",
    "  \n",
    "  # Aggregate counts by gene_name\n",
    "  aggregated_data <- data %>%\n",
    "    group_by(gene_name) %>%\n",
    "    summarise(\n",
    "      methylated_cytosines = sum(V5, na.rm = TRUE),\n",
    "      unmethylated_cytosines = sum(V6, na.rm = TRUE),\n",
    "      .groups = 'drop'  # This ensures that the grouping is dropped after summarising\n",
    "    ) %>%\n",
    "    mutate(\n",
    "      percent_methylated = (methylated_cytosines / (methylated_cytosines + unmethylated_cytosines)) * 100\n",
    "    )\n",
    "    \n",
    "  # Specify the output directory\n",
    "  output_directory <- \"wgbs/08_cytosine_reports/\"\n",
    "  \n",
    "  # Extract the first part of the basename before the first underscore\n",
    "  base_name <- tools::file_path_sans_ext(basename(file))\n",
    "  first_part <- strsplit(base_name, \"_\")[[1]][1]\n",
    "  \n",
    "  # Save the aggregated data to a CSV file in the specified directory\n",
    "  write.csv(aggregated_data, file = paste0(output_directory, first_part, \"_percent_methylated.csv\"), row.names = FALSE)\n",
    "}"
   ]
  },
  {
   "cell_type": "markdown",
   "id": "acf3342e-f611-4604-9fe3-1089695c6bcc",
   "metadata": {},
   "source": [
    "## Create Percent Methylation Table Comparable to TPM Table"
   ]
  },
  {
   "cell_type": "code",
   "execution_count": null,
   "id": "1fcab8e4-e7ce-43e7-8cc4-f944aa111107",
   "metadata": {},
   "outputs": [],
   "source": [
    "# Load data\n",
    "files <- list.files(path = \"wgbs/08_cytosine_reports\", \n",
    "                    pattern = \"FA\\\\d+_percent_methylated\\\\.csv\", \n",
    "                    full.names = TRUE)\n",
    "\n",
    "# View the list of files\n",
    "print(files)"
   ]
  },
  {
   "cell_type": "code",
   "execution_count": null,
   "id": "0dbc2a96-dadb-483c-bee1-5f0bcbb80ab3",
   "metadata": {},
   "outputs": [],
   "source": [
    "# Initialize an empty data frame\n",
    "df <- data.frame()\n",
    "\n",
    "# Loop through each CSV file\n",
    "for (file in files) {\n",
    "  # Read the CSV file\n",
    "  data <- read.csv(file)\n",
    "     \n",
    "  # Delete unnecessary files\n",
    "  data$methylated_cytosines <- NULL\n",
    "  data$unmethylated_cytosines <- NULL\n",
    "    \n",
    "  # Extract sample names from the file names\n",
    "  sample_name <- gsub(\".*?(FA\\\\d+)_percent_methylated\\\\.csv\", \"\\\\1\", file)\n",
    "\n",
    "  # Rename percent_methylated to sample name\n",
    "  colnames(data)[colnames(data) == \"percent_methylated\"] <- sample_name\n",
    "    \n",
    "  # Merge the current data frame with the main data frame\n",
    "  if (nrow(df) == 0) {\n",
    "    df <- data  \n",
    "  } else {\n",
    "    df <- merge(df, data, by = \"gene_name\", all = TRUE) \n",
    "  }\n",
    "}\n",
    "\n",
    "# View\n",
    "head(df)"
   ]
  },
  {
   "cell_type": "code",
   "execution_count": null,
   "id": "c5998c10-85e0-49e1-bb07-da1e9b134519",
   "metadata": {},
   "outputs": [],
   "source": [
    "# Assign gene names as row names to match formatting of RNA-seq TPM counts\n",
    "rownames(df) <- df$gene_name\n",
    "df$gene_name <- NULL\n",
    "\n",
    "# View\n",
    "head(df)"
   ]
  },
  {
   "cell_type": "code",
   "execution_count": null,
   "id": "6aa76080-43da-4c1a-99d2-7306391a3182",
   "metadata": {},
   "outputs": [],
   "source": [
    "# Save percent methylation data to a CSV\n",
    "write.csv(df, file = \"WGBS_Percent_Methylation_Values.csv\", row.names = TRUE)"
   ]
  },
  {
   "cell_type": "markdown",
   "id": "cf3e6a42-9311-484c-8c07-a7fdfeae1dc4",
   "metadata": {},
   "source": [
    "# Integrate Data Frames"
   ]
  },
  {
   "cell_type": "code",
   "execution_count": null,
   "id": "94033a8e-c996-414b-b27d-3e28c520f517",
   "metadata": {},
   "outputs": [],
   "source": [
    "# Load RNA-seq data\n",
    "rnaseq <- read.csv(\"RNAseq_TPM_Values.csv\")\n",
    "\n",
    "# Assign row names\n",
    "rownames(rnaseq) <- rnaseq$X\n",
    "rnaseq$X <- NULL\n",
    "\n",
    "# View\n",
    "head(rnaseq)"
   ]
  },
  {
   "cell_type": "code",
   "execution_count": null,
   "id": "603076d1-4ea9-4fec-8c08-8f5871a65342",
   "metadata": {},
   "outputs": [],
   "source": [
    "# Load WGBS data\n",
    "wgbs <- read.csv(\"WGBS_Percent_Methylation_Values.csv\")\n",
    "\n",
    "# Assign row names\n",
    "rownames(wgbs) <- wgbs$X\n",
    "wgbs$X <- NULL\n",
    "\n",
    "# View\n",
    "head(wgbs)"
   ]
  },
  {
   "cell_type": "code",
   "execution_count": null,
   "id": "a9e41cce-6b45-49a5-86ab-b4c17a29d40c",
   "metadata": {},
   "outputs": [],
   "source": [
    "# Sample mapping from WGBS to RNA-seq\n",
    "sample_map <- c(\n",
    "  \"G1_1_1_4\" = \"FA114\",\n",
    "  \"G1_1_1_5\" = \"FA115\",\n",
    "  \"G1_1_1_6\" = \"FA116\",\n",
    "  \"G1_1_1_7\" = \"FA117\",\n",
    "  \"G1_1_2_4\" = \"FA124\",\n",
    "  \"G1_1_2_5\" = \"FA125\",\n",
    "  \"G1_1_2_6\" = \"FA126\",\n",
    "  \"G2_2_6_5\" = \"FA265\",\n",
    "  \"G2_2_6_6\" = \"FA266\",\n",
    "  \"G2_2_7_10\" = \"FA2710\",\n",
    "  \"G2_2_7_11\" = \"FA2711\",\n",
    "  \"G2_2_7_7\" = \"FA277\"\n",
    ")"
   ]
  },
  {
   "cell_type": "code",
   "execution_count": null,
   "id": "87fda1eb-690e-4ee5-a821-5f85d8053e45",
   "metadata": {},
   "outputs": [],
   "source": [
    "# Create a new row with the column names\n",
    "new_row <- as.data.frame(t(colnames(rnaseq)))\n",
    "\n",
    "# Set the column names for the new row\n",
    "colnames(new_row) <- colnames(rnaseq)\n",
    "\n",
    "# Add the new row to the top of the dataframe\n",
    "rnaseq <- rbind(new_row, rnaseq)\n",
    "\n",
    "# View\n",
    "head(rnaseq)"
   ]
  },
  {
   "cell_type": "code",
   "execution_count": null,
   "id": "909e0139-1f0e-4830-97b5-2e731032be31",
   "metadata": {},
   "outputs": [],
   "source": [
    "# Match the RNA-seq column names to the sample map (visually confirm mapping of names)\n",
    "colnames(rnaseq) <- sample_map[colnames(rnaseq)]\n",
    "\n",
    "# View\n",
    "head(rnaseq)"
   ]
  },
  {
   "cell_type": "code",
   "execution_count": null,
   "id": "86771f34-046d-42d8-b385-c15297c19402",
   "metadata": {},
   "outputs": [],
   "source": [
    "# Remove row containing original sample names\n",
    "rnaseq <- rnaseq[rownames(rnaseq) != \"1\", ]\n",
    "\n",
    "# Remove columns where NA is the column name\n",
    "rnaseq <- rnaseq[, !is.na(colnames(rnaseq))]\n",
    "\n",
    "# View\n",
    "head(rnaseq)"
   ]
  },
  {
   "cell_type": "code",
   "execution_count": null,
   "id": "5ff98283-8dfc-470a-8b4c-9842f66f88bf",
   "metadata": {},
   "outputs": [],
   "source": [
    "# Determine length of each dataframe\n",
    "print(length(rownames(rnaseq)))\n",
    "print(length(rownames(wgbs)))"
   ]
  },
  {
   "cell_type": "code",
   "execution_count": null,
   "id": "3e282aac-56ad-4e5d-af22-ee3384961380",
   "metadata": {},
   "outputs": [],
   "source": [
    "# Keep only the rows overlapping between rnaseq and wgbs\n",
    "wgbs <- wgbs[rownames(wgbs) %in% rownames(rnaseq), ]\n",
    "\n",
    "# Confirm length\n",
    "print(length(rownames(wgbs)))"
   ]
  },
  {
   "cell_type": "code",
   "execution_count": null,
   "id": "1895b2ac-0f55-4b31-ba1b-a7749a3731fd",
   "metadata": {},
   "outputs": [],
   "source": [
    "# Keep only the rows overlapping between rnaseq and wgbs\n",
    "rnaseq <- rnaseq[rownames(rnaseq) %in% rownames(wgbs), ]\n",
    "\n",
    "# Confirm length\n",
    "print(length(rownames(rnaseq)))"
   ]
  },
  {
   "cell_type": "code",
   "execution_count": null,
   "id": "d83e832d-16c0-47bd-9c0e-f7a0893f053c",
   "metadata": {},
   "outputs": [],
   "source": [
    "# Confirm that all row names match to ensure paired data\n",
    "print(length(rownames(rnaseq)))\n",
    "print(length(rownames(wgbs)))\n",
    "\n",
    "print(all(rownames(rnaseq) %in% rownames(wgbs)))\n",
    "print(all(rownames(wgbs) %in% rownames(rnaseq)))"
   ]
  },
  {
   "cell_type": "code",
   "execution_count": null,
   "id": "b7e1febf-fafe-4e4a-8fca-fe703a09de0e",
   "metadata": {},
   "outputs": [],
   "source": [
    "# View both dataframes\n",
    "head(rnaseq)\n",
    "head(wgbs)"
   ]
  },
  {
   "cell_type": "code",
   "execution_count": null,
   "id": "b17b804b-0a64-4431-87db-a9b2afdd389c",
   "metadata": {},
   "outputs": [],
   "source": [
    "# Merge datasets\n",
    "merged_data <- rnaseq %>%\n",
    "  rownames_to_column(var = \"Gene\") %>%\n",
    "  inner_join(wgbs %>% rownames_to_column(var = \"Gene\"), by = \"Gene\")\n",
    "\n",
    "# View\n",
    "head(merged_data)"
   ]
  },
  {
   "cell_type": "code",
   "execution_count": null,
   "id": "9cf7686e-ed06-4a07-84fd-090c12c98180",
   "metadata": {},
   "outputs": [],
   "source": [
    "# Convert columns containing RNA-seq data to numeric and log2 transform to normalize\n",
    "merged_data <- merged_data %>%\n",
    "  filter(if_all(ends_with(\".x\"), ~ as.numeric(.) >= 0)) %>%\n",
    "  mutate(across(ends_with(\".x\"), ~ log2(as.numeric(.))))\n",
    "\n",
    "# Reformat\n",
    "rownames(merged_data) <- merged_data$Gene\n",
    "merged_data$Gene <- NULL\n",
    "\n",
    "# View\n",
    "head(merged_data)"
   ]
  },
  {
   "cell_type": "markdown",
   "id": "948ea10c-a157-47fa-a297-c768aade449a",
   "metadata": {},
   "source": [
    "# Calculate Correlations"
   ]
  },
  {
   "cell_type": "code",
   "execution_count": null,
   "id": "a0a19040-fa28-404e-8150-4389be4cc79c",
   "metadata": {},
   "outputs": [],
   "source": [
    "# Create a named vector for the mapping with updated group name\n",
    "mapping <- c(\n",
    "  FA114 = \"Control\",\n",
    "  FA115 = \"Control\",\n",
    "  FA116 = \"Control\",\n",
    "  FA117 = \"Control\",\n",
    "  FA124 = \"Control\",\n",
    "  FA125 = \"Control\",\n",
    "  FA126 = \"Control\",\n",
    "  FA265 = \"FAE\",\n",
    "  FA266 = \"FAE\",\n",
    "  FA2710 = \"FAE\",\n",
    "  FA2711 = \"FAE\",\n",
    "  FA277 = \"FAE\"\n",
    ")"
   ]
  },
  {
   "cell_type": "code",
   "execution_count": null,
   "id": "0eb59570-0776-4ff1-a1c6-fe7d965a523b",
   "metadata": {},
   "outputs": [],
   "source": [
    "# Create a data frame for the mapping\n",
    "group_info <- data.frame(Sample = names(mapping), Group = mapping, stringsAsFactors = FALSE)\n",
    "\n",
    "# View\n",
    "print(group_info)"
   ]
  },
  {
   "cell_type": "code",
   "execution_count": null,
   "id": "0f7faf0e-712b-47b3-8dce-434a17b50f18",
   "metadata": {},
   "outputs": [],
   "source": [
    "# Convert row names to a column in merged_data\n",
    "merged_data <- cbind(Gene = rownames(merged_data), merged_data)\n",
    "\n",
    "# Reshape the data to long format for easier manipulation\n",
    "long_data <- merged_data %>%\n",
    "  pivot_longer(cols = -Gene, names_to = c(\"Sample\", \"Type\"), names_sep = \"\\\\.\", values_to = \"Value\") %>%\n",
    "  left_join(group_info, by = \"Sample\") %>%\n",
    "  filter(!is.na(Group))\n",
    "\n",
    "# View\n",
    "head(long_data)\n",
    "length(unique(long_data$Gene))\n",
    "unique(long_data$Sample)\n",
    "unique(long_data$Type)\n",
    "unique(long_data$Group)"
   ]
  },
  {
   "cell_type": "code",
   "execution_count": null,
   "id": "1010f22a-aa83-44a3-8f7b-a70fb287c1f8",
   "metadata": {},
   "outputs": [],
   "source": [
    "# Calculate Spearman correlation coefficients and their significance for each gene by group\n",
    "correlation_results <- long_data %>%\n",
    "  filter(Type %in% c(\"x\", \"y\")) %>%\n",
    "  pivot_wider(names_from = Type, values_from = Value, names_prefix = \"Type_\") %>%\n",
    "  group_by(Gene, Group) %>%\n",
    "  summarise(\n",
    "    correlation = ifelse(\n",
    "      sd(Type_x, na.rm = TRUE) > 0 & sd(Type_y, na.rm = TRUE) > 0,\n",
    "      cor(Type_x, Type_y, method = \"spearman\", use = \"complete.obs\"),\n",
    "      NA\n",
    "    ),\n",
    "    p_value = ifelse(\n",
    "      sd(Type_x, na.rm = TRUE) > 0 & sd(Type_y, na.rm = TRUE) > 0,\n",
    "      cor.test(Type_x, Type_y, method = \"spearman\", use = \"complete.obs\")$p.value,\n",
    "      NA\n",
    "    ),\n",
    "    .groups = 'drop'\n",
    "  ) %>%\n",
    "  pivot_wider(names_from = Group, values_from = c(correlation, p_value), names_prefix = \"Correlation_\")  \n",
    "\n",
    "# View\n",
    "head(correlation_results)"
   ]
  },
  {
   "cell_type": "code",
   "execution_count": null,
   "id": "58633e85-9a29-419b-a617-fad1650b631f",
   "metadata": {},
   "outputs": [],
   "source": [
    "# Save the correlation results to a CSV file\n",
    "write.csv(correlation_results, file = \"spearman_correlation_results.csv\", row.names = FALSE)"
   ]
  },
  {
   "cell_type": "code",
   "execution_count": null,
   "id": "0316d709-b9ad-4e16-bc66-26d882f95c18",
   "metadata": {},
   "outputs": [],
   "source": [
    "# See significant correlations\n",
    "significant_results <- correlation_results %>%\n",
    "  filter(\n",
    "    p_value_Correlation_Control < 0.05 | \n",
    "    p_value_Correlation_FAE < 0.05\n",
    "  )\n",
    "\n",
    "# View\n",
    "head(significant_results)\n",
    "print(length(significant_results$Gene))"
   ]
  },
  {
   "cell_type": "code",
   "execution_count": null,
   "id": "795ef7b1-3358-4c18-b1ae-a75d9958e350",
   "metadata": {},
   "outputs": [],
   "source": [
    "# Save the correlation results to a CSV file\n",
    "write.csv(correlation_results, file = \"spearman_correlation_significant_results.csv\", row.names = FALSE)"
   ]
  },
  {
   "cell_type": "markdown",
   "id": "c6c06fca-125a-4e10-9f74-6d19854f2d8a",
   "metadata": {},
   "source": [
    "# Visualize Correlations"
   ]
  },
  {
   "cell_type": "markdown",
   "id": "e00bcb1e-5ac3-4587-a6a9-3ea0c2878f4a",
   "metadata": {},
   "source": [
    "## Load Data"
   ]
  },
  {
   "cell_type": "code",
   "execution_count": null,
   "id": "3739c559-72f2-4e26-b2a5-0c6994df3e43",
   "metadata": {},
   "outputs": [],
   "source": [
    "# Load data\n",
    "degs <- read.csv(\"rnaseq/05_DEGs/faexcess_vs_control_genes.csv\", header = TRUE)\n",
    "\n",
    "# View\n",
    "head(degs)"
   ]
  },
  {
   "cell_type": "code",
   "execution_count": null,
   "id": "1eaa2b0c-7b8b-4ed5-990e-6cdf418b7b4b",
   "metadata": {},
   "outputs": [],
   "source": [
    "# Load data\n",
    "dmrs <- read_excel(\"wgbs/08_cytosine_reports/DMRs/DMRs_annotated.xlsx\")\n",
    "\n",
    "# View\n",
    "head(dmrs)"
   ]
  },
  {
   "cell_type": "markdown",
   "id": "0da2a2b4-07ab-4878-9292-ee22e033bd5f",
   "metadata": {},
   "source": [
    "## Significant DEGs Only"
   ]
  },
  {
   "cell_type": "code",
   "execution_count": null,
   "id": "5db352ff-2c47-42a6-b47f-afe8bf4caeb3",
   "metadata": {},
   "outputs": [],
   "source": [
    "# Subset to significant DEGs only\n",
    "significant_DEGs <- degs[degs$adj.P.Val < 0.05, ]\n",
    "\n",
    "# View\n",
    "head(significant_DEGs)\n",
    "length(significant_DEGs$external_gene_name)"
   ]
  },
  {
   "cell_type": "code",
   "execution_count": null,
   "id": "6fd71337-97c4-4b6f-bcbd-6a592b88ee5e",
   "metadata": {},
   "outputs": [],
   "source": [
    "# Subset long data to have only significant DEGs\n",
    "long_data_sigDEGs <- long_data[long_data$Gene %in% significant_DEGs$external_gene_name, ]\n",
    "\n",
    "# View the first few rows of the new object\n",
    "head(long_data_sigDEGs)\n",
    "length(unique(long_data_sigDEGs$Gene))\n",
    "unique(long_data_sigDEGs$Sample)\n",
    "unique(long_data_sigDEGs$Type)\n",
    "unique(long_data_sigDEGs$Group)"
   ]
  },
  {
   "cell_type": "code",
   "execution_count": null,
   "id": "2be6b3b2-f0cc-4032-beef-8b0f4a1e3b4a",
   "metadata": {},
   "outputs": [],
   "source": [
    "# Prepare the data for plotting\n",
    "plot_data <- long_data_sigDEGs %>%\n",
    "  filter(Type %in% c(\"x\", \"y\")) %>%\n",
    "  pivot_wider(names_from = Type, values_from = Value, names_prefix = \"Type_\") %>%\n",
    "  filter(!is.na(Type_x) & !is.na(Type_y)) "
   ]
  },
  {
   "cell_type": "code",
   "execution_count": null,
   "id": "37f425fe-dde3-46dc-beb5-5ba840eb3eea",
   "metadata": {},
   "outputs": [],
   "source": [
    "# Initalize PDF\n",
    "pdf(\"scatter_plot_RNAseq_vs_WGBS_significant_DEGs.pdf\", width = 16, height = 12)\n",
    "\n",
    "# Create a combined scatter plot\n",
    "p <- ggplot(plot_data, aes(x = Type_y, y = Type_x, color = Group)) +\n",
    "  geom_point(alpha = 0.7) +  \n",
    "  labs(title = \"Scatter Plot of RNA-seq TPMs vs. WGBS Percent Methylation\",\n",
    "       x = \"WGBS Percent Methylation\",\n",
    "       y = \"RNA-seq TPMs\") +\n",
    "  scale_color_manual(values = c(\"Control\" = \"blue\", \"FAE\" = \"red\")) +\n",
    "  theme_minimal() +\n",
    "  theme(legend.title = element_blank())\n",
    "\n",
    "# View \n",
    "print(p)\n",
    "\n",
    "# Close the PDF device\n",
    "dev.off()"
   ]
  },
  {
   "cell_type": "markdown",
   "id": "717837d8-dbb5-4771-9a2a-68037e0b9813",
   "metadata": {},
   "source": [
    "## Significant DEGs Positively Correlated Only"
   ]
  },
  {
   "cell_type": "code",
   "execution_count": null,
   "id": "6aa96054-2ca4-4a64-a71e-3b31383cfa70",
   "metadata": {},
   "outputs": [],
   "source": [
    "# Subset to significant DEGs only\n",
    "significant_DEGs <- degs[degs$adj.P.Val < 0.05, ]\n",
    "\n",
    "# View\n",
    "head(significant_DEGs)\n",
    "length(significant_DEGs$external_gene_name)"
   ]
  },
  {
   "cell_type": "code",
   "execution_count": null,
   "id": "6eea0302-6ccd-471a-97da-d0f41404f922",
   "metadata": {},
   "outputs": [],
   "source": [
    "# Subset for positive correlations only\n",
    "positive_correlations <- correlation_results[correlation_results$Correlation_Control > 0 & \n",
    "                                            correlation_results$Correlation_FAE > 0, ]\n",
    "\n",
    "# View the subsetted results\n",
    "head(positive_correlations)"
   ]
  },
  {
   "cell_type": "code",
   "execution_count": null,
   "id": "97cb35f1-1834-4ac1-8696-30d23caf3cdf",
   "metadata": {},
   "outputs": [],
   "source": [
    "# Subset significant_DEGs for only positively correlated ones\n",
    "significant_DEGs <- significant_DEGs[significant_DEGs$external_gene_name %in% positive_correlations$Gene, ]\n",
    "\n",
    "# View\n",
    "head(significant_DEGs)\n",
    "length(significant_DEGs$external_gene_name)"
   ]
  },
  {
   "cell_type": "code",
   "execution_count": null,
   "id": "b8f66a5b-a223-4514-a5a7-61fc2b813d33",
   "metadata": {},
   "outputs": [],
   "source": [
    "# Subset long data to have only significant DEGs\n",
    "long_data_sigDEGs <- long_data[long_data$Gene %in% significant_DEGs$external_gene_name, ]\n",
    "\n",
    "# View the first few rows of the new object\n",
    "head(long_data_sigDEGs)\n",
    "length(unique(long_data_sigDEGs$Gene))\n",
    "unique(long_data_sigDEGs$Sample)\n",
    "unique(long_data_sigDEGs$Type)\n",
    "unique(long_data_sigDEGs$Group)"
   ]
  },
  {
   "cell_type": "code",
   "execution_count": null,
   "id": "7213b5f8-b1d6-4638-aa8b-c85762a844f3",
   "metadata": {},
   "outputs": [],
   "source": [
    "# Prepare the data for plotting\n",
    "plot_data <- long_data_sigDEGs %>%\n",
    "  filter(Type %in% c(\"x\", \"y\")) %>%\n",
    "  pivot_wider(names_from = Type, values_from = Value, names_prefix = \"Type_\") %>%\n",
    "  filter(!is.na(Type_x) & !is.na(Type_y)) "
   ]
  },
  {
   "cell_type": "code",
   "execution_count": null,
   "id": "021dadce-2bae-476d-b4ee-27f269d381b3",
   "metadata": {},
   "outputs": [],
   "source": [
    "# Initalize PDF\n",
    "pdf(\"scatter_plot_RNAseq_vs_WGBS_significant_positively_correlated_DEGs.pdf\", width = 16, height = 12)\n",
    "\n",
    "# Create a combined scatter plot\n",
    "p <- ggplot(plot_data, aes(x = Type_y, y = Type_x, color = Group)) +\n",
    "  geom_point(alpha = 0.7) +  \n",
    "  labs(title = \"Scatter Plot of RNA-seq TPMs vs. WGBS Percent Methylation\",\n",
    "       x = \"WGBS Percent Methylation\",\n",
    "       y = \"RNA-seq TPMs\") +\n",
    "  scale_color_manual(values = c(\"Control\" = \"blue\", \"FAE\" = \"red\")) +\n",
    "  theme_minimal() +\n",
    "  theme(legend.title = element_blank())\n",
    "\n",
    "# View \n",
    "print(p)\n",
    "\n",
    "# Close the PDF device\n",
    "dev.off()"
   ]
  },
  {
   "cell_type": "markdown",
   "id": "9601e8ef-12ca-4d18-9351-9aa06ac8d220",
   "metadata": {},
   "source": [
    "## Significant DEGs Negatively Correlated Only"
   ]
  },
  {
   "cell_type": "code",
   "execution_count": null,
   "id": "5fea9919-582c-4146-93ec-fd437e2c9777",
   "metadata": {},
   "outputs": [],
   "source": [
    "# Subset to significant DEGs only\n",
    "significant_DEGs <- degs[degs$adj.P.Val < 0.05, ]\n",
    "\n",
    "# View\n",
    "head(significant_DEGs)\n",
    "length(significant_DEGs$external_gene_name)"
   ]
  },
  {
   "cell_type": "code",
   "execution_count": null,
   "id": "685ac296-0459-4c1a-b925-2c0d47cea7a5",
   "metadata": {},
   "outputs": [],
   "source": [
    "# Subset for negative correlations only\n",
    "negative_correlations <- correlation_results[correlation_results$Correlation_Control < 0 & \n",
    "                                            correlation_results$Correlation_FAE < 0, ]\n",
    "\n",
    "# View the subsetted results\n",
    "head(negative_correlations)"
   ]
  },
  {
   "cell_type": "code",
   "execution_count": null,
   "id": "9e619897-ea23-4d4a-a44c-e3b7c215ff91",
   "metadata": {},
   "outputs": [],
   "source": [
    "# Subset significant_DEGs for only negatively correlated ones\n",
    "significant_DEGs <- significant_DEGs[significant_DEGs$external_gene_name %in% negative_correlations$Gene, ]\n",
    "\n",
    "# View\n",
    "head(significant_DEGs)\n",
    "length(significant_DEGs$external_gene_name)"
   ]
  },
  {
   "cell_type": "code",
   "execution_count": null,
   "id": "2c06e763-7446-41d6-94ef-821a26c98ba7",
   "metadata": {},
   "outputs": [],
   "source": [
    "# Subset long data to have only significant DEGs\n",
    "long_data_sigDEGs <- long_data[long_data$Gene %in% significant_DEGs$external_gene_name, ]\n",
    "\n",
    "# View the first few rows of the new object\n",
    "head(long_data_sigDEGs)\n",
    "length(unique(long_data_sigDEGs$Gene))\n",
    "unique(long_data_sigDEGs$Sample)\n",
    "unique(long_data_sigDEGs$Type)\n",
    "unique(long_data_sigDEGs$Group)"
   ]
  },
  {
   "cell_type": "code",
   "execution_count": null,
   "id": "9d56078a-1237-45eb-bfa5-40358caac19f",
   "metadata": {},
   "outputs": [],
   "source": [
    "# Prepare the data for plotting\n",
    "plot_data <- long_data_sigDEGs %>%\n",
    "  filter(Type %in% c(\"x\", \"y\")) %>%\n",
    "  pivot_wider(names_from = Type, values_from = Value, names_prefix = \"Type_\") %>%\n",
    "  filter(!is.na(Type_x) & !is.na(Type_y)) "
   ]
  },
  {
   "cell_type": "code",
   "execution_count": null,
   "id": "095f7106-ac0c-480b-a019-70f34dbaeea9",
   "metadata": {},
   "outputs": [],
   "source": [
    "# Initalize PDF\n",
    "pdf(\"scatter_plot_RNAseq_vs_WGBS_significant_negatively_correlated_DEGs.pdf\", width = 16, height = 12)\n",
    "\n",
    "# Create a combined scatter plot\n",
    "p <- ggplot(plot_data, aes(x = Type_y, y = Type_x, color = Group)) +\n",
    "  geom_point(alpha = 0.7) +  \n",
    "  labs(title = \"Scatter Plot of RNA-seq TPMs vs. WGBS Percent Methylation\",\n",
    "       x = \"WGBS Percent Methylation\",\n",
    "       y = \"RNA-seq TPMs\") +\n",
    "  scale_color_manual(values = c(\"Control\" = \"blue\", \"FAE\" = \"red\")) +\n",
    "  theme_minimal() +\n",
    "  theme(legend.title = element_blank())\n",
    "\n",
    "# View \n",
    "print(p)\n",
    "\n",
    "# Close the PDF device\n",
    "dev.off()"
   ]
  },
  {
   "cell_type": "markdown",
   "id": "66b88f9b-3d26-4b8f-a942-a07d1fa69680",
   "metadata": {},
   "source": [
    "## Significant Upregulated DEGs Only"
   ]
  },
  {
   "cell_type": "code",
   "execution_count": null,
   "id": "635665bd-b2e7-4d3a-8266-01c95d5b2991",
   "metadata": {},
   "outputs": [],
   "source": [
    "# Subset to significant DEGs only\n",
    "significant__upregulated_DEGs <- degs[degs$adj.P.Val < 0.05 & degs$logFC > 0, ]\n",
    "\n",
    "# View\n",
    "head(significant__upregulated_DEGs)\n",
    "length(significant__upregulated_DEGs$external_gene_name)"
   ]
  },
  {
   "cell_type": "code",
   "execution_count": null,
   "id": "c2e37a25-7f7a-4959-b45d-d69296b17c45",
   "metadata": {},
   "outputs": [],
   "source": [
    "# Subset long data to have only significantly upregulated DEGs\n",
    "long_data_sigUpDEGs <- long_data[long_data$Gene %in% significant__upregulated_DEGs$external_gene_name, ]\n",
    "\n",
    "# View the first few rows of the new object\n",
    "head(long_data_sigUpDEGs)\n",
    "length(unique(long_data_sigUpDEGs$Gene))\n",
    "unique(long_data_sigUpDEGs$Sample)\n",
    "unique(long_data_sigUpDEGs$Type)\n",
    "unique(long_data_sigUpDEGs$Group)"
   ]
  },
  {
   "cell_type": "code",
   "execution_count": null,
   "id": "fcf10a3b-f401-4186-9f7a-ed3b14c7afd7",
   "metadata": {},
   "outputs": [],
   "source": [
    "# Prepare the data for plotting\n",
    "plot_data <- long_data_sigUpDEGs %>%\n",
    "  filter(Type %in% c(\"x\", \"y\")) %>%\n",
    "  pivot_wider(names_from = Type, values_from = Value, names_prefix = \"Type_\") %>%\n",
    "  filter(!is.na(Type_x) & !is.na(Type_y)) "
   ]
  },
  {
   "cell_type": "code",
   "execution_count": null,
   "id": "5451af7f-c765-4755-b17a-e062af25c08c",
   "metadata": {},
   "outputs": [],
   "source": [
    "# Initalize PDF\n",
    "pdf(\"scatter_plot_RNAseq_vs_WGBS_significant_upregulated_DEGs.pdf\", width = 16, height = 12)\n",
    "\n",
    "# Create a combined scatter plot\n",
    "p <- ggplot(plot_data, aes(x = Type_y, y = Type_x, color = Group)) +\n",
    "  geom_point(alpha = 0.7) +  \n",
    "  labs(title = \"Scatter Plot of RNA-seq TPMs vs. WGBS Percent Methylation\",\n",
    "       x = \"WGBS Percent Methylation\",\n",
    "       y = \"RNA-seq TPMs\") +\n",
    "  scale_color_manual(values = c(\"Control\" = \"blue\", \"FAE\" = \"red\")) +\n",
    "  theme_minimal() +\n",
    "  theme(legend.title = element_blank())\n",
    "\n",
    "# View \n",
    "print(p)\n",
    "\n",
    "# Close the PDF device\n",
    "dev.off()"
   ]
  },
  {
   "cell_type": "markdown",
   "id": "02f4331d-5b86-429a-8a98-0153855d470f",
   "metadata": {},
   "source": [
    "## Significant Downregulated DEGs Only"
   ]
  },
  {
   "cell_type": "code",
   "execution_count": null,
   "id": "c0430330-176a-453c-bcdd-c2a672d7855c",
   "metadata": {},
   "outputs": [],
   "source": [
    "# Subset to significant downregulated DEGs only\n",
    "significant_downregulated_DEGs <- degs[degs$adj.P.Val < 0.05 & degs$logFC < 0, ]\n",
    "\n",
    "# View\n",
    "head(significant_downregulated_DEGs)\n",
    "length(significant_downregulated_DEGs$external_gene_name)"
   ]
  },
  {
   "cell_type": "code",
   "execution_count": null,
   "id": "82822723-a973-4985-8699-85319b27deed",
   "metadata": {},
   "outputs": [],
   "source": [
    "# Subset long data to have only significantly downregulated DEGs\n",
    "long_data_sigDownDEGs <- long_data[long_data$Gene %in% significant_downregulated_DEGs$external_gene_name, ]\n",
    "\n",
    "# View the first few rows of the new object\n",
    "head(long_data_sigDownDEGs)\n",
    "length(unique(long_data_sigDownDEGs$Gene))\n",
    "unique(long_data_sigDownDEGs$Sample)\n",
    "unique(long_data_sigDownDEGs$Type)\n",
    "unique(long_data_sigDownDEGs$Group)"
   ]
  },
  {
   "cell_type": "code",
   "execution_count": null,
   "id": "e1368022-bf18-4b5d-8424-4bfd2b089691",
   "metadata": {},
   "outputs": [],
   "source": [
    "# Prepare the data for plotting\n",
    "plot_data <- long_data_sigDownDEGs %>%\n",
    "  filter(Type %in% c(\"x\", \"y\")) %>%\n",
    "  pivot_wider(names_from = Type, values_from = Value, names_prefix = \"Type_\") %>%\n",
    "  filter(!is.na(Type_x) & !is.na(Type_y)) "
   ]
  },
  {
   "cell_type": "code",
   "execution_count": null,
   "id": "020d4e02-7914-4f84-aeba-6c7451ca0d71",
   "metadata": {},
   "outputs": [],
   "source": [
    "# Initalize PDF\n",
    "pdf(\"scatter_plot_RNAseq_vs_WGBS_significant_downregulated_DEGs.pdf\", width = 16, height = 12)\n",
    "\n",
    "# Create a combined scatter plot\n",
    "p <- ggplot(plot_data, aes(x = Type_y, y = Type_x, color = Group)) +\n",
    "  geom_point(alpha = 0.7) +  \n",
    "  labs(title = \"Scatter Plot of RNA-seq TPMs vs. WGBS Percent Methylation\",\n",
    "       x = \"WGBS Percent Methylation\",\n",
    "       y = \"RNA-seq TPMs\") +\n",
    "  scale_color_manual(values = c(\"Control\" = \"blue\", \"FAE\" = \"red\")) +\n",
    "  theme_minimal() +\n",
    "  theme(legend.title = element_blank())\n",
    "\n",
    "# View \n",
    "print(p)\n",
    "\n",
    "# Close the PDF device\n",
    "dev.off()"
   ]
  },
  {
   "cell_type": "markdown",
   "id": "c9f4a0e7-778b-44d2-9fe6-184a426cb844",
   "metadata": {},
   "source": [
    "## Overlapping Significant DEGs and DMRs"
   ]
  },
  {
   "cell_type": "code",
   "execution_count": null,
   "id": "5788d751-4394-484a-8d0e-8348765e2049",
   "metadata": {},
   "outputs": [],
   "source": [
    "# Subset to significant DEGs only\n",
    "significant_DEGs <- degs[degs$adj.P.Val < 0.05, ]\n",
    "\n",
    "# View\n",
    "head(significant_DEGs)\n",
    "length(significant_DEGs$external_gene_name)"
   ]
  },
  {
   "cell_type": "code",
   "execution_count": null,
   "id": "266c3463-d7d7-4610-bf90-721f1b397606",
   "metadata": {},
   "outputs": [],
   "source": [
    "# Subset to significant DMRs only\n",
    "significant_DMRs <- dmrs[dmrs$p.value < 0.05, ]\n",
    "\n",
    "# View\n",
    "head(significant_DMRs)\n",
    "length(significant_DMRs$geneSymbol)"
   ]
  },
  {
   "cell_type": "code",
   "execution_count": null,
   "id": "7768c4cf-2029-4606-a232-4386aed885ec",
   "metadata": {},
   "outputs": [],
   "source": [
    "# Subset significant_DEGs for ones found in significant DMRs\n",
    "significant_DEGs <- significant_DEGs[significant_DEGs$external_gene_name %in% dmrs$geneSymbol, ]\n",
    "\n",
    "# View\n",
    "head(significant_DEGs)\n",
    "length(significant_DEGs$external_gene_name)\n",
    "\n",
    "# See overlapping genes\n",
    "print(unique(significant_DEGs$external_gene_name))"
   ]
  },
  {
   "cell_type": "code",
   "execution_count": null,
   "id": "09a76d2f-f8e8-4ea9-b8a1-dcac35653246",
   "metadata": {},
   "outputs": [],
   "source": [
    "# Subset long data to have only significant DEGs\n",
    "long_data_sigDEGs <- long_data[long_data$Gene %in% significant_DEGs$external_gene_name, ]\n",
    "\n",
    "# View the first few rows of the new object\n",
    "head(long_data_sigDEGs)\n",
    "length(unique(long_data_sigDEGs$Gene))\n",
    "unique(long_data_sigDEGs$Sample)\n",
    "unique(long_data_sigDEGs$Type)\n",
    "unique(long_data_sigDEGs$Group)"
   ]
  },
  {
   "cell_type": "code",
   "execution_count": null,
   "id": "addef949-1822-4a4c-b04a-9835c2c52bd3",
   "metadata": {},
   "outputs": [],
   "source": [
    "# Prepare the data for plotting\n",
    "plot_data <- long_data_sigDEGs %>%\n",
    "  filter(Type %in% c(\"x\", \"y\")) %>%\n",
    "  pivot_wider(names_from = Type, values_from = Value, names_prefix = \"Type_\") %>%\n",
    "  filter(!is.na(Type_x) & !is.na(Type_y)) "
   ]
  },
  {
   "cell_type": "code",
   "execution_count": null,
   "id": "25e7d52b-50f4-49e6-8596-463673c56c8e",
   "metadata": {},
   "outputs": [],
   "source": [
    "# Initialize PDF\n",
    "pdf(\"scatter_plot_RNAseq_vs_WGBS_overlapping_DEGs_and_DMRs_labeled.pdf\", width = 20, height = 12)\n",
    "\n",
    "# Create a combined scatter plot\n",
    "p <- ggplot(plot_data, aes(x = Type_y, y = Type_x, color = Group)) +\n",
    "  geom_point(alpha = 0.7) +  \n",
    "  geom_text(aes(label = Gene), vjust = -1, size = 2.5) +  \n",
    "  labs(title = \"Scatter Plot of RNA-seq TPMs vs. WGBS Percent Methylation\",\n",
    "       x = \"WGBS Percent Methylation\",\n",
    "       y = \"RNA-seq TPMs\") +\n",
    "  scale_color_manual(values = c(\"Control\" = \"blue\", \"FAE\" = \"red\")) +\n",
    "  theme_minimal() +\n",
    "  theme(legend.title = element_blank())\n",
    "\n",
    "# View \n",
    "print(p)\n",
    "\n",
    "# Close the PDF device\n",
    "dev.off()"
   ]
  },
  {
   "cell_type": "code",
   "execution_count": null,
   "id": "7661a96e-7449-4d06-930b-5f937c874890",
   "metadata": {},
   "outputs": [],
   "source": [
    "# Initialize PDF\n",
    "pdf(\"scatter_plot_RNAseq_vs_WGBS_overlapping_DEGs_and_DMRs.pdf\", width = 8, height = 6)\n",
    "\n",
    "# Create a combined scatter plot\n",
    "p <- ggplot(plot_data, aes(x = Type_y, y = Type_x, color = Group)) +\n",
    "  geom_point(alpha = 0.7) +  \n",
    "  labs(title = \"Scatter Plot of RNA-seq TPMs vs. WGBS Percent Methylation\",\n",
    "       x = \"WGBS Percent Methylation\",\n",
    "       y = \"RNA-seq TPMs\") +\n",
    "  scale_color_manual(values = c(\"Control\" = \"blue\", \"FAE\" = \"red\")) +\n",
    "  theme_minimal() +\n",
    "  theme(legend.title = element_blank())\n",
    "\n",
    "# View \n",
    "print(p)\n",
    "\n",
    "# Close the PDF device\n",
    "dev.off()"
   ]
  },
  {
   "cell_type": "markdown",
   "id": "57317313-996a-4e8c-915a-e95614d462d3",
   "metadata": {},
   "source": [
    "# Assess Significance of DEG and DMR Overlap"
   ]
  },
  {
   "cell_type": "code",
   "execution_count": null,
   "id": "1aa07664-fbf3-4900-9441-0519990bf373",
   "metadata": {},
   "outputs": [],
   "source": [
    "# Load data\n",
    "degs <- read.csv(\"rnaseq/05_DEGs/faexcess_vs_control_genes.csv\", header = TRUE)\n",
    "\n",
    "# Subset to significant DEGs only\n",
    "degs <- degs[degs$adj.P.Val < 0.05, ]\n",
    "\n",
    "# View\n",
    "head(degs)"
   ]
  },
  {
   "cell_type": "code",
   "execution_count": null,
   "id": "c396c6ba-4c52-44d2-a82c-08102e16b7d5",
   "metadata": {},
   "outputs": [],
   "source": [
    "# Load data\n",
    "dmrs <- read_excel(\"wgbs/08_cytosine_reports/DMRs/DMRs_annotated.xlsx\")\n",
    "\n",
    "# Subset to significant DMRs only\n",
    "dmrs <- dmrs[dmrs$p.value < 0.05, ]\n",
    "\n",
    "# View\n",
    "head(dmrs)"
   ]
  },
  {
   "cell_type": "markdown",
   "id": "3c5bd15c-81d2-4afc-99c1-631a265ad611",
   "metadata": {},
   "source": [
    "## Make Contingency Table for Fisher's Exact Test"
   ]
  },
  {
   "cell_type": "code",
   "execution_count": null,
   "id": "d8ea3fbb-85a8-4240-b9a1-cce96932de1a",
   "metadata": {},
   "outputs": [],
   "source": [
    "# Overlap\n",
    "overlap_count <- length(intersect(degs$external_gene_name, dmrs$geneSymbol))"
   ]
  },
  {
   "cell_type": "code",
   "execution_count": null,
   "id": "b70b8ed4-c7eb-488e-a08c-f6fcc283473a",
   "metadata": {},
   "outputs": [],
   "source": [
    "# DEGs not in DMRs\n",
    "b <- length(setdiff(degs$external_gene_name, dmrs$geneSymbol))"
   ]
  },
  {
   "cell_type": "code",
   "execution_count": null,
   "id": "283bd781-0932-4844-80fb-50e53187a374",
   "metadata": {},
   "outputs": [],
   "source": [
    "# DMRs not in DEGs\n",
    "c <- length(setdiff(dmrs$geneSymbol, degs$external_gene_name))"
   ]
  },
  {
   "cell_type": "code",
   "execution_count": null,
   "id": "15fb7f0a-432f-4368-8d87-81645d3e6f61",
   "metadata": {},
   "outputs": [],
   "source": [
    "# Total genes\n",
    "total_genes <- length(unique(gtf_data$gene_name))  \n",
    "d <- total_genes - (overlap_count + b + c)"
   ]
  },
  {
   "cell_type": "code",
   "execution_count": null,
   "id": "4aa381c0-2624-4954-bb4b-10a87b2d355e",
   "metadata": {},
   "outputs": [],
   "source": [
    "# Create the contingency table\n",
    "contingency_table <- matrix(c(overlap_count, b, c, d), nrow = 2)\n",
    "colnames(contingency_table) <- c(\"In DMRs\", \"Not in DMRs\")\n",
    "rownames(contingency_table) <- c(\"Overlap\", \"No Overlap\")\n",
    "\n",
    "# View\n",
    "print(contingency_table)"
   ]
  },
  {
   "cell_type": "code",
   "execution_count": null,
   "id": "ee098ad2-b006-42f5-9ffc-d0ed32c96732",
   "metadata": {},
   "outputs": [],
   "source": [
    "# Perform Fisher's Exact Test\n",
    "fisher_result <- fisher.test(contingency_table)\n",
    "\n",
    "# View\n",
    "print(fisher_result)"
   ]
  },
  {
   "cell_type": "markdown",
   "id": "00593afb-5776-4fcb-af82-64530aa9a5bc",
   "metadata": {},
   "source": [
    "## Assess Significance of Correlations"
   ]
  },
  {
   "cell_type": "code",
   "execution_count": null,
   "id": "5822575f-9ab3-4042-8f3c-ebf25c4e3347",
   "metadata": {},
   "outputs": [],
   "source": [
    "# Load data\n",
    "correlation_results <- read.csv(\"spearman_correlation_results.csv\")\n",
    "\n",
    "# View\n",
    "head(correlation_results)"
   ]
  },
  {
   "cell_type": "code",
   "execution_count": null,
   "id": "4edfea98-9393-4f2f-8d10-aede4a10da7e",
   "metadata": {},
   "outputs": [],
   "source": [
    "# Identify significant correlations for each condition\n",
    "control_total <- correlation_results[correlation_results$p_value_Correlation_Control < 0.05, ]\n",
    "control_only <- correlation_results[correlation_results$p_value_Correlation_Control < 0.05 & correlation_results$p_value_Correlation_FAE >= 0.05, ]\n",
    "FAE_total <- correlation_results[correlation_results$p_value_Correlation_FAE < 0.05, ]\n",
    "FAE_only <- correlation_results[correlation_results$p_value_Correlation_FAE < 0.05 & correlation_results$p_value_Correlation_Control >= 0.05, ]\n",
    "both <- correlation_results[correlation_results$p_value_Correlation_Control < 0.05 & correlation_results$p_value_Correlation_FAE < 0.05, ]\n",
    "either <- correlation_results[correlation_results$p_value_Correlation_Control < 0.05 | correlation_results$p_value_Correlation_FAE < 0.05, ]\n",
    "\n",
    "# Print the number of significant genes for each condition\n",
    "print(length(control_total$Gene))\n",
    "print(length(control_only$Gene))\n",
    "print(length(FAE_total$Gene))\n",
    "print(length(FAE_only$Gene))\n",
    "print(length(both$Gene))\n",
    "print(length(either$Gene))"
   ]
  },
  {
   "cell_type": "code",
   "execution_count": null,
   "id": "cad62776-b8c4-407f-893c-479e2c043f6f",
   "metadata": {},
   "outputs": [],
   "source": [
    "# List of genes to check\n",
    "genes_to_check <- c(\"Naa20\", \"Med10\", \"Epb41l4a\", \"Katnal2\", \"D3Ertd751e\", \n",
    "                     \"Ccdc93\", \"Itga6\", \"Tacr3\", \"Cald1\", \"Ccl17\", \n",
    "                     \"Atp2c1\", \"Asprv1\", \"Kcnk10\", \"Fau\", \"Egr1\", \n",
    "                     \"Mest\", \"Fbh1\", \"Syt10\", \"Urm1\", \"Arrdc3\")\n",
    "\n",
    "# Check if these genes are in the either category\n",
    "genes_in_either <- genes_to_check[genes_to_check %in% either$Gene]\n",
    "\n",
    "# Print the genes that are found in the either category\n",
    "print(genes_in_either)"
   ]
  }
 ],
 "metadata": {
  "kernelspec": {
   "display_name": "R",
   "language": "R",
   "name": "ir"
  },
  "language_info": {
   "codemirror_mode": "r",
   "file_extension": ".r",
   "mimetype": "text/x-r-source",
   "name": "R",
   "pygments_lexer": "r",
   "version": "4.3.2"
  }
 },
 "nbformat": 4,
 "nbformat_minor": 5
}
