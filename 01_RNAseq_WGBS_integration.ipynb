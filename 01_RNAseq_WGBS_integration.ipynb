{
 "cells": [
  {
   "cell_type": "markdown",
   "id": "3b368ea1-8766-4ff6-95f0-0149fc8b2dfb",
   "metadata": {},
   "source": [
    "# Set Library Path"
   ]
  },
  {
   "cell_type": "code",
   "execution_count": null,
   "id": "a8ae1f46-ac7e-41c8-8a63-fb2a2a3c4a17",
   "metadata": {},
   "outputs": [],
   "source": [
    ".libPaths(\"/share/korflab/home/viki/anaconda3/jupyter_nb/lib/R/library\")"
   ]
  },
  {
   "cell_type": "markdown",
   "id": "ffe67b1c-aa08-4b3c-8a0a-c80154e23d35",
   "metadata": {},
   "source": [
    "# Load Libraries"
   ]
  },
  {
   "cell_type": "code",
   "execution_count": null,
   "id": "277059a0-f3c7-42c4-8da5-1ffcf2bf21ba",
   "metadata": {},
   "outputs": [],
   "source": [
    "library(dplyr)\n",
    "library(rtracklayer)\n",
    "library(GenomicRanges)\n",
    "library(tibble)\n",
    "library(readr)\n",
    "library(tidyr)"
   ]
  },
  {
   "cell_type": "markdown",
   "id": "48feee8a-1e74-4643-97e2-ea4e9279c584",
   "metadata": {},
   "source": [
    "# Process RNA-seq Data"
   ]
  },
  {
   "cell_type": "markdown",
   "id": "79f6bc58-02c4-48e2-a20d-5c42f040cd4d",
   "metadata": {},
   "source": [
    "## Load Data"
   ]
  },
  {
   "cell_type": "code",
   "execution_count": null,
   "id": "d37e17e1-371d-48ac-b535-b30868a649a4",
   "metadata": {},
   "outputs": [],
   "source": [
    "# Read in normalized gene counts from DEG analysis\n",
    "counts <- read.delim(\"rnaseq/05_gene_counts/normalized_counts.txt\")\n",
    "\n",
    "# View\n",
    "head(counts)"
   ]
  },
  {
   "cell_type": "code",
   "execution_count": null,
   "id": "3da75de0-a596-4e5a-82f2-6ba1f6f2e0d5",
   "metadata": {},
   "outputs": [],
   "source": [
    "# Prepare to assign gene names \n",
    "names <- rownames(counts) %>% as.data.frame()\n",
    "colnames(names) <- \"gene_names\"\n",
    "rownames(counts) <- NULL\n",
    "\n",
    "# View\n",
    "head(counts)"
   ]
  },
  {
   "cell_type": "code",
   "execution_count": null,
   "id": "f8b780cf-3f26-4ab9-8385-0e6576215005",
   "metadata": {},
   "outputs": [],
   "source": [
    "# Load data\n",
    "rnaseq <- read.csv(\"rnaseq/05_DEGs/control_vs_faexcess_genes.csv\", header = TRUE) %>%\n",
    "dplyr::select(\"gene_names\",\"external_gene_name\")\n",
    "\n",
    "new_names <- names %>% dplyr::left_join(rnaseq, by = \"gene_names\")\n",
    "\n",
    "# View\n",
    "head(new_names)"
   ]
  },
  {
   "cell_type": "code",
   "execution_count": null,
   "id": "8c1d838e-e004-463c-895b-bf91dfef2814",
   "metadata": {},
   "outputs": [],
   "source": [
    "# Combine data to get external_gene_name\n",
    "counts <- cbind(new_names, counts)\n",
    "\n",
    "# Remove rows where external_gene_name is NA\n",
    "counts <- counts[!is.na(counts$external_gene_name), ]\n",
    "\n",
    "# View\n",
    "head(counts)"
   ]
  },
  {
   "cell_type": "code",
   "execution_count": null,
   "id": "1d5cae7b-af34-4aa0-b0b9-90afe6c57720",
   "metadata": {},
   "outputs": [],
   "source": [
    "# Assign gene names as row names\n",
    "rownames(counts) <- counts$external_gene_name\n",
    "\n",
    "# Remove the gene_names and external_gene_name columns\n",
    "counts <- counts[, !(names(counts) %in% c(\"gene_names\", \"external_gene_name\"))]\n",
    "\n",
    "# View the updated counts data frame\n",
    "head(counts)"
   ]
  },
  {
   "cell_type": "markdown",
   "id": "9879b682-8bfd-4f11-b910-bed1bafca236",
   "metadata": {},
   "source": [
    "## Convert Gene Lengths to Kilobases for TPM Calculation"
   ]
  },
  {
   "cell_type": "code",
   "execution_count": null,
   "id": "c5b9baaf-101c-4e0f-a941-aca4adcfffca",
   "metadata": {},
   "outputs": [],
   "source": [
    "# Read the GTF annotation file\n",
    "gtf_file <- \"/share/lasallelab/genomes/mm10/mm10.refGene.gtf\"\n",
    "gtf_data <- import(gtf_file)\n",
    "\n",
    "# View\n",
    "head(gtf_data)"
   ]
  },
  {
   "cell_type": "code",
   "execution_count": null,
   "id": "08aa72b9-7110-4030-9cff-e7cb5d918256",
   "metadata": {},
   "outputs": [],
   "source": [
    "# Remove rows from counts if genes are not found in the annotation file\n",
    "\n",
    "# Assign unique genes for easy searching\n",
    "unique_genes <- unique(gtf_data$gene_name)\n",
    "\n",
    "# Filter counts_data to keep only rows where the row names are in unique_genes\n",
    "counts <- counts[rownames(counts) %in% unique_genes, ]\n",
    "\n",
    "# View\n",
    "head(counts)\n",
    "print(length(rownames(counts)))"
   ]
  },
  {
   "cell_type": "code",
   "execution_count": null,
   "id": "2415fc0f-c488-42ba-950d-bcdc97d9a704",
   "metadata": {},
   "outputs": [],
   "source": [
    "# Calculate gene lengths\n",
    "\n",
    "# Filter for exon features\n",
    "exon_data <- gtf_data[gtf_data$type == \"exon\"]\n",
    "\n",
    "# Calculate the length of each exon\n",
    "exon_lengths <- width(exon_data)\n",
    "\n",
    "# Create a data frame to store gene lengths\n",
    "gene_lengths <- data.frame(gene_id = exon_data$gene_id, length = exon_lengths)\n",
    "\n",
    "# Sum the lengths for each gene\n",
    "gene_length_summary <- aggregate(length ~ gene_id, data = gene_lengths, FUN = sum)\n",
    "\n",
    "# Print the gene lengths\n",
    "head(gene_length_summary)\n",
    "print(length(gene_length_summary$gene_id))"
   ]
  },
  {
   "cell_type": "code",
   "execution_count": null,
   "id": "5cad8674-d6ab-4026-9933-bcb406bcfc73",
   "metadata": {},
   "outputs": [],
   "source": [
    "# Convert gene length to kilobases\n",
    "gene_length_summary <- gene_length_summary %>%\n",
    "  mutate(length_kb = length / 1000)\n",
    "\n",
    "head(gene_length_summary)"
   ]
  },
  {
   "cell_type": "markdown",
   "id": "c901da47-9d54-4198-a75a-eeb33c3f680e",
   "metadata": {},
   "source": [
    "## Calculate Reads Per Kilobase"
   ]
  },
  {
   "cell_type": "code",
   "execution_count": null,
   "id": "1fb07ced-0d5a-4df4-b489-036b26d56948",
   "metadata": {},
   "outputs": [],
   "source": [
    "# Convert counts to a data frame \n",
    "counts <- as.data.frame(counts)\n",
    "\n",
    "# Add gene_id as a column to counts\n",
    "counts$gene_id <- rownames(counts)\n",
    "\n",
    "# Merge counts with gene_length_summary\n",
    "merged_data <- merge(counts, gene_length_summary, by = \"gene_id\", all.x = TRUE)\n",
    "\n",
    "# Calculate RPK for each gene (RPK = counts / length in kilobases)\n",
    "count_columns <- names(merged_data)[-which(names(merged_data) %in% c(\"gene_id\", \"length_kb\"))]\n",
    "\n",
    "# Divide the count columns by length_kb\n",
    "merged_data[count_columns] <- merged_data[count_columns] / merged_data$length_kb\n",
    "\n",
    "# Set the gene_id back as row names\n",
    "rownames(merged_data) <- merged_data$gene_id\n",
    "\n",
    "# Clean data\n",
    "merged_data$gene_id <- NULL\n",
    "merged_data$length_kb <- NULL\n",
    "merged_data$length <- NULL\n",
    "\n",
    "# View the RPK data\n",
    "head(merged_data)"
   ]
  },
  {
   "cell_type": "code",
   "execution_count": null,
   "id": "9f8d489f-9209-494b-ac6e-28ab5efe2db1",
   "metadata": {},
   "outputs": [],
   "source": [
    "# Verify proper RPK calculations\n",
    "specific_row <- counts[\"0610005C13Rik\", , drop = FALSE]\n",
    "\n",
    "# Convert the row to a numeric vector\n",
    "specific_row_vector <- as.numeric(specific_row)\n",
    "\n",
    "# Divide every value in the row by the gene length (in kb) of 0610005C13Rik\n",
    "expected_counts <- specific_row_vector / 2.037\n",
    "\n",
    "# Print the output\n",
    "print(expected_counts)"
   ]
  },
  {
   "cell_type": "markdown",
   "id": "83e16bc6-a6fe-4da1-9968-8adef677442f",
   "metadata": {},
   "source": [
    "## Calculate Total Reads Per Kilobase"
   ]
  },
  {
   "cell_type": "code",
   "execution_count": null,
   "id": "7369fb26-bf33-4fba-838a-4ca92fd8da62",
   "metadata": {},
   "outputs": [],
   "source": [
    "# Calculate the total RPK for each sample \n",
    "total_rpk <- colSums(merged_data)"
   ]
  },
  {
   "cell_type": "markdown",
   "id": "5bf5aff3-4e06-4c01-b1c4-a98778a55a1b",
   "metadata": {},
   "source": [
    "## Calculate TPM per Sample"
   ]
  },
  {
   "cell_type": "code",
   "execution_count": null,
   "id": "53f0ee88-958a-45bf-b6db-5d9cc7cad644",
   "metadata": {},
   "outputs": [],
   "source": [
    "# Calculate TPM for each gene (TPM = (RPK / Total RPK) * 1,000,000)\n",
    "tpm <- sweep(merged_data, 2, total_rpk, FUN = \"/\") * 1e6\n",
    "\n",
    "# Convert the result to a data frame (optional)\n",
    "tpm_df <- as.data.frame(tpm)\n",
    "\n",
    "# View\n",
    "head(tpm_df)"
   ]
  },
  {
   "cell_type": "code",
   "execution_count": null,
   "id": "2cc09f9b-cefe-46b9-99d0-d0f0992cb63f",
   "metadata": {},
   "outputs": [],
   "source": [
    "# Save TPM data to a CSV\n",
    "write.csv(tpm_df, file = \"RNAseq_TPM_Values.csv\", row.names = TRUE)"
   ]
  },
  {
   "cell_type": "code",
   "execution_count": null,
   "id": "34178f36-7c6e-459b-ae70-a2b792aafa2a",
   "metadata": {},
   "outputs": [],
   "source": [
    "colnames(tpm_df)"
   ]
  },
  {
   "cell_type": "markdown",
   "id": "94f3c7f3-625f-4cc4-ab2e-c2a2175e6b24",
   "metadata": {},
   "source": [
    "# Process WGBS Data"
   ]
  },
  {
   "cell_type": "markdown",
   "id": "ed335dd4-3781-4a4e-80a4-63c3c3f0611d",
   "metadata": {},
   "source": [
    "## Annotate Genes"
   ]
  },
  {
   "cell_type": "code",
   "execution_count": null,
   "id": "5e8111aa-5e02-4c1a-b769-c66ad369f2d6",
   "metadata": {},
   "outputs": [],
   "source": [
    "# Load data\n",
    "files <- list.files(path = \"wgbs/08_cytosine_reports\", \n",
    "                    pattern = \"\\\\.deduplicated\\\\.bismark\\\\.cov\\\\.gz\\\\.CpG_report\\\\.merged_CpG_evidence\\\\.cov\\\\.gz$\", \n",
    "                    full.names = TRUE)\n",
    "\n",
    "# View the list of files\n",
    "print(files)"
   ]
  },
  {
   "cell_type": "code",
   "execution_count": null,
   "id": "a6960836-51ce-4a4d-95f5-2a411b1b956a",
   "metadata": {},
   "outputs": [],
   "source": [
    "# Read the GTF annotation file\n",
    "gtf_file <- \"/share/lasallelab/genomes/mm10/mm10.refGene.gtf\"\n",
    "gtf_data <- import(gtf_file)\n",
    "\n",
    "# View\n",
    "head(gtf_data)"
   ]
  },
  {
   "cell_type": "code",
   "execution_count": null,
   "id": "e18663a3-33f9-440f-9f91-7f8be4012673",
   "metadata": {},
   "outputs": [],
   "source": [
    "gtf_transcripts <- gtf_data[gtf_data$type == \"transcript\"]\n",
    "\n",
    "# Create GRanges object for gene annotations\n",
    "gr_genes <- GRanges(seqnames = seqnames(gtf_transcripts),\n",
    "                    ranges = IRanges(start = start(gtf_transcripts), end = end(gtf_transcripts)),\n",
    "                    gene_name = mcols(gtf_transcripts)$gene_name)\n",
    "\n",
    "# View \n",
    "head(gr_genes)"
   ]
  },
  {
   "cell_type": "code",
   "execution_count": null,
   "id": "10c8c0c8-3247-4a60-994d-aff418c11451",
   "metadata": {},
   "outputs": [],
   "source": [
    "# Loop through each file in the files list\n",
    "for (file in files) {\n",
    "  # Read the gzipped file\n",
    "  regions <- read.table(gzfile(file), header = FALSE, stringsAsFactors = FALSE)\n",
    "  \n",
    "  # Create GRanges object for regions\n",
    "  gr_regions <- GRanges(seqnames = regions$V1,  \n",
    "                        ranges = IRanges(start = regions$V2, end = regions$V3))  \n",
    "  \n",
    "  # Find overlaps between regions and gene annotations\n",
    "  overlaps <- findOverlaps(gr_regions, gr_genes)\n",
    "  \n",
    "  # Create a new column for gene names in the regions data frame\n",
    "  regions$gene_name <- NA \n",
    "  regions$gene_name[queryHits(overlaps)] <- gr_genes$gene_name[subjectHits(overlaps)]\n",
    "\n",
    "  # Do not save columns where gene names are NA\n",
    "  regions <- regions %>% filter(!is.na(gene_name))\n",
    "  \n",
    "  # Create a sample basename for saving the results\n",
    "  sample_basename <- sub(\"\\\\..*$\", \"\", basename(file))\n",
    "  \n",
    "  # Save the annotated regions to a CSV file\n",
    "  output_directory <- \"wgbs/08_cytosine_reports/\"\n",
    "  write.csv(regions, file = paste0(output_directory, sample_basename, \"_annotated_regions.csv\"), row.names = FALSE)\n",
    "\n",
    "  # Print progress\n",
    "  cat(sprintf(\"Regions have been assigned for %s...\\n\", sample_basename))\n",
    "}"
   ]
  },
  {
   "cell_type": "markdown",
   "id": "cd0c9098-207b-461e-86c0-f2b30fee8614",
   "metadata": {},
   "source": [
    "## Calculate Percent Methylation Per Gene"
   ]
  },
  {
   "cell_type": "code",
   "execution_count": null,
   "id": "991b85b3-0448-469c-bdec-46b0848ae55b",
   "metadata": {},
   "outputs": [],
   "source": [
    "# Load data\n",
    "files <- list.files(path = \"wgbs/08_cytosine_reports\", \n",
    "                    pattern = \"\\\\.csv$\", \n",
    "                    full.names = TRUE)\n",
    "\n",
    "# View the list of files\n",
    "print(files)"
   ]
  },
  {
   "cell_type": "code",
   "execution_count": null,
   "id": "f6fdeefd-701a-408d-a22c-8d99967c483f",
   "metadata": {},
   "outputs": [],
   "source": [
    "# Loop through each file\n",
    "for (file in files) {\n",
    "  # Read the CSV file\n",
    "  data <- read.csv(file, stringsAsFactors = FALSE)\n",
    "  \n",
    "  # Aggregate counts by gene_name\n",
    "  aggregated_data <- data %>%\n",
    "    group_by(gene_name) %>%\n",
    "    summarise(\n",
    "      methylated_cytosines = sum(V5, na.rm = TRUE),\n",
    "      unmethylated_cytosines = sum(V6, na.rm = TRUE),\n",
    "      .groups = 'drop'  # This ensures that the grouping is dropped after summarising\n",
    "    ) %>%\n",
    "    mutate(\n",
    "      percent_methylated = (methylated_cytosines / (methylated_cytosines + unmethylated_cytosines)) * 100\n",
    "    )\n",
    "    \n",
    "  # Specify the output directory\n",
    "  output_directory <- \"wgbs/08_cytosine_reports/\"\n",
    "  \n",
    "  # Extract the first part of the basename before the first underscore\n",
    "  base_name <- tools::file_path_sans_ext(basename(file))\n",
    "  first_part <- strsplit(base_name, \"_\")[[1]][1]\n",
    "  \n",
    "  # Save the aggregated data to a CSV file in the specified directory\n",
    "  write.csv(aggregated_data, file = paste0(output_directory, first_part, \"_percent_methylated.csv\"), row.names = FALSE)\n",
    "}"
   ]
  },
  {
   "cell_type": "markdown",
   "id": "acf3342e-f611-4604-9fe3-1089695c6bcc",
   "metadata": {},
   "source": [
    "## Create Percent Methylation Table Comparable to TPM Table"
   ]
  },
  {
   "cell_type": "code",
   "execution_count": null,
   "id": "1fcab8e4-e7ce-43e7-8cc4-f944aa111107",
   "metadata": {},
   "outputs": [],
   "source": [
    "# Load data\n",
    "files <- list.files(path = \"wgbs/08_cytosine_reports\", \n",
    "                    pattern = \"FA\\\\d+_percent_methylated\\\\.csv\", \n",
    "                    full.names = TRUE)\n",
    "\n",
    "# View the list of files\n",
    "print(files)"
   ]
  },
  {
   "cell_type": "code",
   "execution_count": null,
   "id": "0dbc2a96-dadb-483c-bee1-5f0bcbb80ab3",
   "metadata": {},
   "outputs": [],
   "source": [
    "# Initialize an empty data frame\n",
    "df <- data.frame()\n",
    "\n",
    "# Loop through each CSV file\n",
    "for (file in files) {\n",
    "  # Read the CSV file\n",
    "  data <- read.csv(file)\n",
    "     \n",
    "  # Delete unnecessary files\n",
    "  data$methylated_cytosines <- NULL\n",
    "  data$unmethylated_cytosines <- NULL\n",
    "    \n",
    "  # Extract sample names from the file names\n",
    "  sample_name <- gsub(\".*?(FA\\\\d+)_percent_methylated\\\\.csv\", \"\\\\1\", file)\n",
    "\n",
    "  # Rename percent_methylated to sample name\n",
    "  colnames(data)[colnames(data) == \"percent_methylated\"] <- sample_name\n",
    "    \n",
    "  # Merge the current data frame with the main data frame\n",
    "  if (nrow(df) == 0) {\n",
    "    df <- data  \n",
    "  } else {\n",
    "    df <- merge(df, data, by = \"gene_name\", all = TRUE) \n",
    "  }\n",
    "}\n",
    "\n",
    "# View\n",
    "head(df)"
   ]
  },
  {
   "cell_type": "code",
   "execution_count": null,
   "id": "c5998c10-85e0-49e1-bb07-da1e9b134519",
   "metadata": {},
   "outputs": [],
   "source": [
    "# Assign gene names as row names to match formatting of RNA-seq TPM counts\n",
    "rownames(df) <- df$gene_name\n",
    "df$gene_name <- NULL\n",
    "\n",
    "# View\n",
    "head(df)"
   ]
  },
  {
   "cell_type": "code",
   "execution_count": null,
   "id": "6aa76080-43da-4c1a-99d2-7306391a3182",
   "metadata": {},
   "outputs": [],
   "source": [
    "# Save percent methylation data to a CSV\n",
    "write.csv(df, file = \"WGBS_Percent_Methylation_Values.csv\", row.names = TRUE)"
   ]
  },
  {
   "cell_type": "markdown",
   "id": "cf3e6a42-9311-484c-8c07-a7fdfeae1dc4",
   "metadata": {},
   "source": [
    "# Integrate Data Frames"
   ]
  },
  {
   "cell_type": "code",
   "execution_count": 1,
   "id": "94033a8e-c996-414b-b27d-3e28c520f517",
   "metadata": {},
   "outputs": [
    {
     "data": {
      "text/html": [
       "<table class=\"dataframe\">\n",
       "<caption>A data.frame: 6 × 16</caption>\n",
       "<thead>\n",
       "\t<tr><th></th><th scope=col>G1_1_1_4</th><th scope=col>G1_1_1_5</th><th scope=col>G1_1_1_6</th><th scope=col>G1_1_1_7</th><th scope=col>G1_1_2_4</th><th scope=col>G1_1_2_5</th><th scope=col>G1_1_2_6</th><th scope=col>G2_2_6_5</th><th scope=col>G2_2_6_6</th><th scope=col>G2_2_6_7</th><th scope=col>G2_2_6_8</th><th scope=col>G2_2_7_10</th><th scope=col>G2_2_7_11</th><th scope=col>G2_2_7_7</th><th scope=col>G2_2_7_8</th><th scope=col>G2_2_7_9</th></tr>\n",
       "\t<tr><th></th><th scope=col>&lt;dbl&gt;</th><th scope=col>&lt;dbl&gt;</th><th scope=col>&lt;dbl&gt;</th><th scope=col>&lt;dbl&gt;</th><th scope=col>&lt;dbl&gt;</th><th scope=col>&lt;dbl&gt;</th><th scope=col>&lt;dbl&gt;</th><th scope=col>&lt;dbl&gt;</th><th scope=col>&lt;dbl&gt;</th><th scope=col>&lt;dbl&gt;</th><th scope=col>&lt;dbl&gt;</th><th scope=col>&lt;dbl&gt;</th><th scope=col>&lt;dbl&gt;</th><th scope=col>&lt;dbl&gt;</th><th scope=col>&lt;dbl&gt;</th><th scope=col>&lt;dbl&gt;</th></tr>\n",
       "</thead>\n",
       "<tbody>\n",
       "\t<tr><th scope=row>0610005C13Rik</th><td> 41.775010</td><td> 26.80276852</td><td> 11.411480</td><td> -8.752577</td><td> 28.067142</td><td> 17.843883</td><td> 29.846533</td><td> 27.205443</td><td> 32.433327</td><td> 22.012507</td><td> 11.805063</td><td> 34.419602</td><td> 39.165244</td><td> 33.380731</td><td> 29.440247</td><td> 29.658463</td></tr>\n",
       "\t<tr><th scope=row>0610009E02Rik</th><td> 64.230624</td><td> 56.82052616</td><td> 72.032676</td><td> 64.734080</td><td> 56.006185</td><td> 58.560116</td><td> 63.471752</td><td> 62.794459</td><td> 61.696110</td><td> 57.675975</td><td> 66.559522</td><td> 66.853333</td><td> 67.455080</td><td> 70.571016</td><td> 62.772558</td><td> 69.859374</td></tr>\n",
       "\t<tr><th scope=row>0610009L18Rik</th><td>279.959717</td><td>236.48884339</td><td>229.363575</td><td>254.246831</td><td>250.882158</td><td>241.185135</td><td>189.873772</td><td>234.380141</td><td>214.005398</td><td>203.886753</td><td>219.292072</td><td>212.777777</td><td>217.114917</td><td>244.029054</td><td>270.012105</td><td>228.017498</td></tr>\n",
       "\t<tr><th scope=row>0610010K14Rik</th><td> -1.595618</td><td>  0.07403448</td><td>  7.975566</td><td>  4.291156</td><td>  9.722921</td><td>  3.935585</td><td>  1.842714</td><td>  4.854214</td><td> -8.956592</td><td>  3.323151</td><td>  8.512191</td><td>  3.083256</td><td>  4.270727</td><td>  6.995823</td><td>  8.438767</td><td>  8.415358</td></tr>\n",
       "\t<tr><th scope=row>0610030E20Rik</th><td> 46.555287</td><td> 37.49050991</td><td> 41.171451</td><td> 41.249467</td><td> 41.114246</td><td> 36.703945</td><td> 42.770950</td><td> 43.645316</td><td> 39.017554</td><td> 41.895253</td><td> 44.675313</td><td> 38.360030</td><td> 41.524456</td><td> 44.423049</td><td> 38.307154</td><td> 39.312327</td></tr>\n",
       "\t<tr><th scope=row>0610039K10Rik</th><td>162.010043</td><td>159.39222526</td><td>171.496195</td><td>173.124424</td><td>165.149861</td><td>186.658612</td><td>203.857924</td><td>191.094286</td><td>155.064311</td><td>180.176168</td><td>174.776664</td><td>196.674571</td><td>183.785579</td><td>177.454793</td><td>182.942072</td><td>135.496452</td></tr>\n",
       "</tbody>\n",
       "</table>\n"
      ],
      "text/latex": [
       "A data.frame: 6 × 16\n",
       "\\begin{tabular}{r|llllllllllllllll}\n",
       "  & G1\\_1\\_1\\_4 & G1\\_1\\_1\\_5 & G1\\_1\\_1\\_6 & G1\\_1\\_1\\_7 & G1\\_1\\_2\\_4 & G1\\_1\\_2\\_5 & G1\\_1\\_2\\_6 & G2\\_2\\_6\\_5 & G2\\_2\\_6\\_6 & G2\\_2\\_6\\_7 & G2\\_2\\_6\\_8 & G2\\_2\\_7\\_10 & G2\\_2\\_7\\_11 & G2\\_2\\_7\\_7 & G2\\_2\\_7\\_8 & G2\\_2\\_7\\_9\\\\\n",
       "  & <dbl> & <dbl> & <dbl> & <dbl> & <dbl> & <dbl> & <dbl> & <dbl> & <dbl> & <dbl> & <dbl> & <dbl> & <dbl> & <dbl> & <dbl> & <dbl>\\\\\n",
       "\\hline\n",
       "\t0610005C13Rik &  41.775010 &  26.80276852 &  11.411480 &  -8.752577 &  28.067142 &  17.843883 &  29.846533 &  27.205443 &  32.433327 &  22.012507 &  11.805063 &  34.419602 &  39.165244 &  33.380731 &  29.440247 &  29.658463\\\\\n",
       "\t0610009E02Rik &  64.230624 &  56.82052616 &  72.032676 &  64.734080 &  56.006185 &  58.560116 &  63.471752 &  62.794459 &  61.696110 &  57.675975 &  66.559522 &  66.853333 &  67.455080 &  70.571016 &  62.772558 &  69.859374\\\\\n",
       "\t0610009L18Rik & 279.959717 & 236.48884339 & 229.363575 & 254.246831 & 250.882158 & 241.185135 & 189.873772 & 234.380141 & 214.005398 & 203.886753 & 219.292072 & 212.777777 & 217.114917 & 244.029054 & 270.012105 & 228.017498\\\\\n",
       "\t0610010K14Rik &  -1.595618 &   0.07403448 &   7.975566 &   4.291156 &   9.722921 &   3.935585 &   1.842714 &   4.854214 &  -8.956592 &   3.323151 &   8.512191 &   3.083256 &   4.270727 &   6.995823 &   8.438767 &   8.415358\\\\\n",
       "\t0610030E20Rik &  46.555287 &  37.49050991 &  41.171451 &  41.249467 &  41.114246 &  36.703945 &  42.770950 &  43.645316 &  39.017554 &  41.895253 &  44.675313 &  38.360030 &  41.524456 &  44.423049 &  38.307154 &  39.312327\\\\\n",
       "\t0610039K10Rik & 162.010043 & 159.39222526 & 171.496195 & 173.124424 & 165.149861 & 186.658612 & 203.857924 & 191.094286 & 155.064311 & 180.176168 & 174.776664 & 196.674571 & 183.785579 & 177.454793 & 182.942072 & 135.496452\\\\\n",
       "\\end{tabular}\n"
      ],
      "text/markdown": [
       "\n",
       "A data.frame: 6 × 16\n",
       "\n",
       "| <!--/--> | G1_1_1_4 &lt;dbl&gt; | G1_1_1_5 &lt;dbl&gt; | G1_1_1_6 &lt;dbl&gt; | G1_1_1_7 &lt;dbl&gt; | G1_1_2_4 &lt;dbl&gt; | G1_1_2_5 &lt;dbl&gt; | G1_1_2_6 &lt;dbl&gt; | G2_2_6_5 &lt;dbl&gt; | G2_2_6_6 &lt;dbl&gt; | G2_2_6_7 &lt;dbl&gt; | G2_2_6_8 &lt;dbl&gt; | G2_2_7_10 &lt;dbl&gt; | G2_2_7_11 &lt;dbl&gt; | G2_2_7_7 &lt;dbl&gt; | G2_2_7_8 &lt;dbl&gt; | G2_2_7_9 &lt;dbl&gt; |\n",
       "|---|---|---|---|---|---|---|---|---|---|---|---|---|---|---|---|---|\n",
       "| 0610005C13Rik |  41.775010 |  26.80276852 |  11.411480 |  -8.752577 |  28.067142 |  17.843883 |  29.846533 |  27.205443 |  32.433327 |  22.012507 |  11.805063 |  34.419602 |  39.165244 |  33.380731 |  29.440247 |  29.658463 |\n",
       "| 0610009E02Rik |  64.230624 |  56.82052616 |  72.032676 |  64.734080 |  56.006185 |  58.560116 |  63.471752 |  62.794459 |  61.696110 |  57.675975 |  66.559522 |  66.853333 |  67.455080 |  70.571016 |  62.772558 |  69.859374 |\n",
       "| 0610009L18Rik | 279.959717 | 236.48884339 | 229.363575 | 254.246831 | 250.882158 | 241.185135 | 189.873772 | 234.380141 | 214.005398 | 203.886753 | 219.292072 | 212.777777 | 217.114917 | 244.029054 | 270.012105 | 228.017498 |\n",
       "| 0610010K14Rik |  -1.595618 |   0.07403448 |   7.975566 |   4.291156 |   9.722921 |   3.935585 |   1.842714 |   4.854214 |  -8.956592 |   3.323151 |   8.512191 |   3.083256 |   4.270727 |   6.995823 |   8.438767 |   8.415358 |\n",
       "| 0610030E20Rik |  46.555287 |  37.49050991 |  41.171451 |  41.249467 |  41.114246 |  36.703945 |  42.770950 |  43.645316 |  39.017554 |  41.895253 |  44.675313 |  38.360030 |  41.524456 |  44.423049 |  38.307154 |  39.312327 |\n",
       "| 0610039K10Rik | 162.010043 | 159.39222526 | 171.496195 | 173.124424 | 165.149861 | 186.658612 | 203.857924 | 191.094286 | 155.064311 | 180.176168 | 174.776664 | 196.674571 | 183.785579 | 177.454793 | 182.942072 | 135.496452 |\n",
       "\n"
      ],
      "text/plain": [
       "              G1_1_1_4   G1_1_1_5     G1_1_1_6   G1_1_1_7   G1_1_2_4  \n",
       "0610005C13Rik  41.775010  26.80276852  11.411480  -8.752577  28.067142\n",
       "0610009E02Rik  64.230624  56.82052616  72.032676  64.734080  56.006185\n",
       "0610009L18Rik 279.959717 236.48884339 229.363575 254.246831 250.882158\n",
       "0610010K14Rik  -1.595618   0.07403448   7.975566   4.291156   9.722921\n",
       "0610030E20Rik  46.555287  37.49050991  41.171451  41.249467  41.114246\n",
       "0610039K10Rik 162.010043 159.39222526 171.496195 173.124424 165.149861\n",
       "              G1_1_2_5   G1_1_2_6   G2_2_6_5   G2_2_6_6   G2_2_6_7   G2_2_6_8  \n",
       "0610005C13Rik  17.843883  29.846533  27.205443  32.433327  22.012507  11.805063\n",
       "0610009E02Rik  58.560116  63.471752  62.794459  61.696110  57.675975  66.559522\n",
       "0610009L18Rik 241.185135 189.873772 234.380141 214.005398 203.886753 219.292072\n",
       "0610010K14Rik   3.935585   1.842714   4.854214  -8.956592   3.323151   8.512191\n",
       "0610030E20Rik  36.703945  42.770950  43.645316  39.017554  41.895253  44.675313\n",
       "0610039K10Rik 186.658612 203.857924 191.094286 155.064311 180.176168 174.776664\n",
       "              G2_2_7_10  G2_2_7_11  G2_2_7_7   G2_2_7_8   G2_2_7_9  \n",
       "0610005C13Rik  34.419602  39.165244  33.380731  29.440247  29.658463\n",
       "0610009E02Rik  66.853333  67.455080  70.571016  62.772558  69.859374\n",
       "0610009L18Rik 212.777777 217.114917 244.029054 270.012105 228.017498\n",
       "0610010K14Rik   3.083256   4.270727   6.995823   8.438767   8.415358\n",
       "0610030E20Rik  38.360030  41.524456  44.423049  38.307154  39.312327\n",
       "0610039K10Rik 196.674571 183.785579 177.454793 182.942072 135.496452"
      ]
     },
     "metadata": {},
     "output_type": "display_data"
    }
   ],
   "source": [
    "# Load RNA-seq data\n",
    "rnaseq <- read.csv(\"RNAseq_TPM_Values.csv\")\n",
    "\n",
    "# Assign row names\n",
    "rownames(rnaseq) <- rnaseq$X\n",
    "rnaseq$X <- NULL\n",
    "\n",
    "# View\n",
    "head(rnaseq)"
   ]
  },
  {
   "cell_type": "code",
   "execution_count": 2,
   "id": "603076d1-4ea9-4fec-8c08-8f5871a65342",
   "metadata": {},
   "outputs": [
    {
     "data": {
      "text/html": [
       "<table class=\"dataframe\">\n",
       "<caption>A data.frame: 6 × 12</caption>\n",
       "<thead>\n",
       "\t<tr><th></th><th scope=col>FA114</th><th scope=col>FA115</th><th scope=col>FA116</th><th scope=col>FA117</th><th scope=col>FA124</th><th scope=col>FA125</th><th scope=col>FA126</th><th scope=col>FA265</th><th scope=col>FA266</th><th scope=col>FA2710</th><th scope=col>FA2711</th><th scope=col>FA277</th></tr>\n",
       "\t<tr><th></th><th scope=col>&lt;dbl&gt;</th><th scope=col>&lt;dbl&gt;</th><th scope=col>&lt;dbl&gt;</th><th scope=col>&lt;dbl&gt;</th><th scope=col>&lt;dbl&gt;</th><th scope=col>&lt;dbl&gt;</th><th scope=col>&lt;dbl&gt;</th><th scope=col>&lt;dbl&gt;</th><th scope=col>&lt;dbl&gt;</th><th scope=col>&lt;dbl&gt;</th><th scope=col>&lt;dbl&gt;</th><th scope=col>&lt;dbl&gt;</th></tr>\n",
       "</thead>\n",
       "<tbody>\n",
       "\t<tr><th scope=row>0610005C13Rik</th><td>34.117647</td><td>32.512315</td><td>26.337449</td><td>17.1052632</td><td>27.325581</td><td>31.052632</td><td>54.000000</td><td>26.744186</td><td>26.38436</td><td>21.014493</td><td>30.555556</td><td>34.666667</td></tr>\n",
       "\t<tr><th scope=row>0610009B22Rik</th><td>64.814815</td><td>57.915058</td><td>68.558952</td><td>74.2971888</td><td>54.545455</td><td>66.336634</td><td>70.813397</td><td>75.362319</td><td>71.00977</td><td>60.795455</td><td>54.861111</td><td>61.029412</td></tr>\n",
       "\t<tr><th scope=row>0610009E02Rik</th><td>57.046980</td><td>56.688963</td><td>61.684211</td><td>59.1269841</td><td>60.702875</td><td>57.035647</td><td>61.815068</td><td>61.607143</td><td>58.15739</td><td>55.882353</td><td>54.721550</td><td>55.555556</td></tr>\n",
       "\t<tr><th scope=row>0610009L18Rik</th><td> 2.857143</td><td> 3.664921</td><td> 2.279202</td><td> 0.9111617</td><td> 2.165605</td><td> 4.247104</td><td> 1.355932</td><td> 1.596517</td><td> 4.58613</td><td> 2.716049</td><td> 2.678571</td><td> 2.047782</td></tr>\n",
       "\t<tr><th scope=row>0610010F05Rik</th><td>80.000000</td><td>80.498084</td><td>80.208708</td><td>85.0646950</td><td>74.821705</td><td>78.614351</td><td>80.832037</td><td>79.350034</td><td>74.83296</td><td>86.412764</td><td>79.834111</td><td>77.411477</td></tr>\n",
       "\t<tr><th scope=row>0610010K14Rik</th><td>32.947977</td><td>16.049383</td><td>28.767123</td><td>22.4683544</td><td>18.264840</td><td>40.086207</td><td>24.215247</td><td>16.981132</td><td>28.30189</td><td>50.000000</td><td>38.738739</td><td>28.521127</td></tr>\n",
       "</tbody>\n",
       "</table>\n"
      ],
      "text/latex": [
       "A data.frame: 6 × 12\n",
       "\\begin{tabular}{r|llllllllllll}\n",
       "  & FA114 & FA115 & FA116 & FA117 & FA124 & FA125 & FA126 & FA265 & FA266 & FA2710 & FA2711 & FA277\\\\\n",
       "  & <dbl> & <dbl> & <dbl> & <dbl> & <dbl> & <dbl> & <dbl> & <dbl> & <dbl> & <dbl> & <dbl> & <dbl>\\\\\n",
       "\\hline\n",
       "\t0610005C13Rik & 34.117647 & 32.512315 & 26.337449 & 17.1052632 & 27.325581 & 31.052632 & 54.000000 & 26.744186 & 26.38436 & 21.014493 & 30.555556 & 34.666667\\\\\n",
       "\t0610009B22Rik & 64.814815 & 57.915058 & 68.558952 & 74.2971888 & 54.545455 & 66.336634 & 70.813397 & 75.362319 & 71.00977 & 60.795455 & 54.861111 & 61.029412\\\\\n",
       "\t0610009E02Rik & 57.046980 & 56.688963 & 61.684211 & 59.1269841 & 60.702875 & 57.035647 & 61.815068 & 61.607143 & 58.15739 & 55.882353 & 54.721550 & 55.555556\\\\\n",
       "\t0610009L18Rik &  2.857143 &  3.664921 &  2.279202 &  0.9111617 &  2.165605 &  4.247104 &  1.355932 &  1.596517 &  4.58613 &  2.716049 &  2.678571 &  2.047782\\\\\n",
       "\t0610010F05Rik & 80.000000 & 80.498084 & 80.208708 & 85.0646950 & 74.821705 & 78.614351 & 80.832037 & 79.350034 & 74.83296 & 86.412764 & 79.834111 & 77.411477\\\\\n",
       "\t0610010K14Rik & 32.947977 & 16.049383 & 28.767123 & 22.4683544 & 18.264840 & 40.086207 & 24.215247 & 16.981132 & 28.30189 & 50.000000 & 38.738739 & 28.521127\\\\\n",
       "\\end{tabular}\n"
      ],
      "text/markdown": [
       "\n",
       "A data.frame: 6 × 12\n",
       "\n",
       "| <!--/--> | FA114 &lt;dbl&gt; | FA115 &lt;dbl&gt; | FA116 &lt;dbl&gt; | FA117 &lt;dbl&gt; | FA124 &lt;dbl&gt; | FA125 &lt;dbl&gt; | FA126 &lt;dbl&gt; | FA265 &lt;dbl&gt; | FA266 &lt;dbl&gt; | FA2710 &lt;dbl&gt; | FA2711 &lt;dbl&gt; | FA277 &lt;dbl&gt; |\n",
       "|---|---|---|---|---|---|---|---|---|---|---|---|---|\n",
       "| 0610005C13Rik | 34.117647 | 32.512315 | 26.337449 | 17.1052632 | 27.325581 | 31.052632 | 54.000000 | 26.744186 | 26.38436 | 21.014493 | 30.555556 | 34.666667 |\n",
       "| 0610009B22Rik | 64.814815 | 57.915058 | 68.558952 | 74.2971888 | 54.545455 | 66.336634 | 70.813397 | 75.362319 | 71.00977 | 60.795455 | 54.861111 | 61.029412 |\n",
       "| 0610009E02Rik | 57.046980 | 56.688963 | 61.684211 | 59.1269841 | 60.702875 | 57.035647 | 61.815068 | 61.607143 | 58.15739 | 55.882353 | 54.721550 | 55.555556 |\n",
       "| 0610009L18Rik |  2.857143 |  3.664921 |  2.279202 |  0.9111617 |  2.165605 |  4.247104 |  1.355932 |  1.596517 |  4.58613 |  2.716049 |  2.678571 |  2.047782 |\n",
       "| 0610010F05Rik | 80.000000 | 80.498084 | 80.208708 | 85.0646950 | 74.821705 | 78.614351 | 80.832037 | 79.350034 | 74.83296 | 86.412764 | 79.834111 | 77.411477 |\n",
       "| 0610010K14Rik | 32.947977 | 16.049383 | 28.767123 | 22.4683544 | 18.264840 | 40.086207 | 24.215247 | 16.981132 | 28.30189 | 50.000000 | 38.738739 | 28.521127 |\n",
       "\n"
      ],
      "text/plain": [
       "              FA114     FA115     FA116     FA117      FA124     FA125    \n",
       "0610005C13Rik 34.117647 32.512315 26.337449 17.1052632 27.325581 31.052632\n",
       "0610009B22Rik 64.814815 57.915058 68.558952 74.2971888 54.545455 66.336634\n",
       "0610009E02Rik 57.046980 56.688963 61.684211 59.1269841 60.702875 57.035647\n",
       "0610009L18Rik  2.857143  3.664921  2.279202  0.9111617  2.165605  4.247104\n",
       "0610010F05Rik 80.000000 80.498084 80.208708 85.0646950 74.821705 78.614351\n",
       "0610010K14Rik 32.947977 16.049383 28.767123 22.4683544 18.264840 40.086207\n",
       "              FA126     FA265     FA266    FA2710    FA2711    FA277    \n",
       "0610005C13Rik 54.000000 26.744186 26.38436 21.014493 30.555556 34.666667\n",
       "0610009B22Rik 70.813397 75.362319 71.00977 60.795455 54.861111 61.029412\n",
       "0610009E02Rik 61.815068 61.607143 58.15739 55.882353 54.721550 55.555556\n",
       "0610009L18Rik  1.355932  1.596517  4.58613  2.716049  2.678571  2.047782\n",
       "0610010F05Rik 80.832037 79.350034 74.83296 86.412764 79.834111 77.411477\n",
       "0610010K14Rik 24.215247 16.981132 28.30189 50.000000 38.738739 28.521127"
      ]
     },
     "metadata": {},
     "output_type": "display_data"
    }
   ],
   "source": [
    "# Load WGBS data\n",
    "wgbs <- read.csv(\"WGBS_Percent_Methylation_Values.csv\")\n",
    "\n",
    "# Assign row names\n",
    "rownames(wgbs) <- wgbs$X\n",
    "wgbs$X <- NULL\n",
    "\n",
    "# View\n",
    "head(wgbs)"
   ]
  },
  {
   "cell_type": "markdown",
   "id": "948ea10c-a157-47fa-a297-c768aade449a",
   "metadata": {},
   "source": [
    "# Calculate Correlations"
   ]
  },
  {
   "cell_type": "markdown",
   "id": "c6c06fca-125a-4e10-9f74-6d19854f2d8a",
   "metadata": {},
   "source": [
    "# Visualize Correlations"
   ]
  }
 ],
 "metadata": {
  "kernelspec": {
   "display_name": "R",
   "language": "R",
   "name": "ir"
  },
  "language_info": {
   "codemirror_mode": "r",
   "file_extension": ".r",
   "mimetype": "text/x-r-source",
   "name": "R",
   "pygments_lexer": "r",
   "version": "4.3.2"
  }
 },
 "nbformat": 4,
 "nbformat_minor": 5
}
