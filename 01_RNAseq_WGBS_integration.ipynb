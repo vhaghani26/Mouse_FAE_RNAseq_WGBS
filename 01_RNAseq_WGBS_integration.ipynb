{
 "cells": [
  {
   "cell_type": "markdown",
   "id": "3b368ea1-8766-4ff6-95f0-0149fc8b2dfb",
   "metadata": {},
   "source": [
    "# Set Library Path"
   ]
  },
  {
   "cell_type": "code",
   "execution_count": 1,
   "id": "a8ae1f46-ac7e-41c8-8a63-fb2a2a3c4a17",
   "metadata": {},
   "outputs": [],
   "source": [
    ".libPaths(\"/share/korflab/home/viki/anaconda3/jupyter_nb/lib/R/library\")"
   ]
  },
  {
   "cell_type": "markdown",
   "id": "ffe67b1c-aa08-4b3c-8a0a-c80154e23d35",
   "metadata": {},
   "source": [
    "# Load Libraries"
   ]
  },
  {
   "cell_type": "code",
   "execution_count": 3,
   "id": "277059a0-f3c7-42c4-8da5-1ffcf2bf21ba",
   "metadata": {},
   "outputs": [],
   "source": [
    "library(dplyr)\n",
    "library(rtracklayer)\n",
    "library(GenomicRanges)\n",
    "library(tibble)\n",
    "library(readr)\n",
    "library(tidyr)\n",
    "library(ggplot2)\n",
    "library(readxl)\n",
    "library(enrichR)\n",
    "library(biomaRt)\n",
    "library(openxlsx)"
   ]
  },
  {
   "cell_type": "markdown",
   "id": "48feee8a-1e74-4643-97e2-ea4e9279c584",
   "metadata": {},
   "source": [
    "# Process RNA-seq Data"
   ]
  },
  {
   "cell_type": "markdown",
   "id": "79f6bc58-02c4-48e2-a20d-5c42f040cd4d",
   "metadata": {},
   "source": [
    "## Load Data"
   ]
  },
  {
   "cell_type": "code",
   "execution_count": null,
   "id": "2b9171fa-9d44-4901-81d7-ac8d691b2b9f",
   "metadata": {},
   "outputs": [],
   "source": [
    "# Read in normalized gene counts from DEG analysis\n",
    "counts <- read.delim(\"rnaseq/05_gene_counts/normalized_counts.txt\")\n",
    "\n",
    "# View\n",
    "head(counts)"
   ]
  },
  {
   "cell_type": "code",
   "execution_count": null,
   "id": "3da75de0-a596-4e5a-82f2-6ba1f6f2e0d5",
   "metadata": {},
   "outputs": [],
   "source": [
    "# Prepare to assign gene names \n",
    "names <- rownames(counts) %>% as.data.frame()\n",
    "colnames(names) <- \"gene_names\"\n",
    "rownames(counts) <- NULL\n",
    "\n",
    "# View\n",
    "head(counts)"
   ]
  },
  {
   "cell_type": "code",
   "execution_count": null,
   "id": "f8b780cf-3f26-4ab9-8385-0e6576215005",
   "metadata": {},
   "outputs": [],
   "source": [
    "# Load data\n",
    "rnaseq <- read.csv(\"rnaseq/05_DEGs/control_vs_faexcess_genes.csv\", header = TRUE) %>%\n",
    "dplyr::select(\"gene_names\",\"external_gene_name\")\n",
    "\n",
    "new_names <- names %>% dplyr::left_join(rnaseq, by = \"gene_names\")\n",
    "\n",
    "# View\n",
    "head(new_names)"
   ]
  },
  {
   "cell_type": "code",
   "execution_count": null,
   "id": "8c1d838e-e004-463c-895b-bf91dfef2814",
   "metadata": {},
   "outputs": [],
   "source": [
    "# Combine data to get external_gene_name\n",
    "counts <- cbind(new_names, counts)\n",
    "\n",
    "# Remove rows where external_gene_name is NA\n",
    "counts <- counts[!is.na(counts$external_gene_name), ]\n",
    "\n",
    "# View\n",
    "head(counts)"
   ]
  },
  {
   "cell_type": "code",
   "execution_count": null,
   "id": "1d5cae7b-af34-4aa0-b0b9-90afe6c57720",
   "metadata": {},
   "outputs": [],
   "source": [
    "# Assign gene names as row names\n",
    "rownames(counts) <- counts$external_gene_name\n",
    "\n",
    "# Remove the gene_names and external_gene_name columns\n",
    "counts <- counts[, !(names(counts) %in% c(\"gene_names\", \"external_gene_name\"))]\n",
    "\n",
    "# View the updated counts data frame\n",
    "head(counts)"
   ]
  },
  {
   "cell_type": "markdown",
   "id": "9879b682-8bfd-4f11-b910-bed1bafca236",
   "metadata": {},
   "source": [
    "## Convert Gene Lengths to Kilobases for TPM Calculation"
   ]
  },
  {
   "cell_type": "code",
   "execution_count": null,
   "id": "c5b9baaf-101c-4e0f-a941-aca4adcfffca",
   "metadata": {},
   "outputs": [],
   "source": [
    "# Read the GTF annotation file\n",
    "gtf_file <- \"/share/lasallelab/genomes/mm10/mm10.refGene.gtf\"\n",
    "gtf_data <- import(gtf_file)\n",
    "\n",
    "# View\n",
    "head(gtf_data)"
   ]
  },
  {
   "cell_type": "code",
   "execution_count": null,
   "id": "08aa72b9-7110-4030-9cff-e7cb5d918256",
   "metadata": {},
   "outputs": [],
   "source": [
    "# Remove rows from counts if genes are not found in the annotation file\n",
    "\n",
    "# Assign unique genes for easy searching\n",
    "unique_genes <- unique(gtf_data$gene_name)\n",
    "\n",
    "# Filter counts_data to keep only rows where the row names are in unique_genes\n",
    "counts <- counts[rownames(counts) %in% unique_genes, ]\n",
    "\n",
    "# View\n",
    "head(counts)\n",
    "print(length(rownames(counts)))"
   ]
  },
  {
   "cell_type": "code",
   "execution_count": null,
   "id": "2415fc0f-c488-42ba-950d-bcdc97d9a704",
   "metadata": {},
   "outputs": [],
   "source": [
    "# Calculate gene lengths\n",
    "\n",
    "# Filter for exon features\n",
    "exon_data <- gtf_data[gtf_data$type == \"exon\"]\n",
    "\n",
    "# Calculate the length of each exon\n",
    "exon_lengths <- width(exon_data)\n",
    "\n",
    "# Create a data frame to store gene lengths\n",
    "gene_lengths <- data.frame(gene_id = exon_data$gene_id, length = exon_lengths)\n",
    "\n",
    "# Sum the lengths for each gene\n",
    "gene_length_summary <- aggregate(length ~ gene_id, data = gene_lengths, FUN = sum)\n",
    "\n",
    "# Print the gene lengths\n",
    "head(gene_length_summary)\n",
    "print(length(gene_length_summary$gene_id))"
   ]
  },
  {
   "cell_type": "code",
   "execution_count": null,
   "id": "5cad8674-d6ab-4026-9933-bcb406bcfc73",
   "metadata": {},
   "outputs": [],
   "source": [
    "# Convert gene length to kilobases\n",
    "gene_length_summary <- gene_length_summary %>%\n",
    "  mutate(length_kb = length / 1000)\n",
    "\n",
    "head(gene_length_summary)"
   ]
  },
  {
   "cell_type": "markdown",
   "id": "c901da47-9d54-4198-a75a-eeb33c3f680e",
   "metadata": {},
   "source": [
    "## Calculate Reads Per Kilobase"
   ]
  },
  {
   "cell_type": "code",
   "execution_count": null,
   "id": "1fb07ced-0d5a-4df4-b489-036b26d56948",
   "metadata": {},
   "outputs": [],
   "source": [
    "# Convert counts to a data frame \n",
    "counts <- as.data.frame(counts)\n",
    "\n",
    "# Add gene_id as a column to counts\n",
    "counts$gene_id <- rownames(counts)\n",
    "\n",
    "# Merge counts with gene_length_summary\n",
    "merged_data <- merge(counts, gene_length_summary, by = \"gene_id\", all.x = TRUE)\n",
    "\n",
    "# Calculate RPK for each gene (RPK = counts / length in kilobases)\n",
    "count_columns <- names(merged_data)[-which(names(merged_data) %in% c(\"gene_id\", \"length_kb\"))]\n",
    "\n",
    "# Divide the count columns by length_kb\n",
    "merged_data[count_columns] <- merged_data[count_columns] / merged_data$length_kb\n",
    "\n",
    "# Set the gene_id back as row names\n",
    "rownames(merged_data) <- merged_data$gene_id\n",
    "\n",
    "# Clean data\n",
    "merged_data$gene_id <- NULL\n",
    "merged_data$length_kb <- NULL\n",
    "merged_data$length <- NULL\n",
    "\n",
    "# View the RPK data\n",
    "head(merged_data)"
   ]
  },
  {
   "cell_type": "code",
   "execution_count": null,
   "id": "9f8d489f-9209-494b-ac6e-28ab5efe2db1",
   "metadata": {},
   "outputs": [],
   "source": [
    "# Verify proper RPK calculations\n",
    "specific_row <- counts[\"0610005C13Rik\", , drop = FALSE]\n",
    "\n",
    "# Convert the row to a numeric vector\n",
    "specific_row_vector <- as.numeric(specific_row)\n",
    "\n",
    "# Divide every value in the row by the gene length (in kb) of 0610005C13Rik\n",
    "expected_counts <- specific_row_vector / 2.037\n",
    "\n",
    "# Print the output\n",
    "print(expected_counts)"
   ]
  },
  {
   "cell_type": "markdown",
   "id": "83e16bc6-a6fe-4da1-9968-8adef677442f",
   "metadata": {},
   "source": [
    "## Calculate Total Reads Per Kilobase"
   ]
  },
  {
   "cell_type": "code",
   "execution_count": null,
   "id": "7369fb26-bf33-4fba-838a-4ca92fd8da62",
   "metadata": {},
   "outputs": [],
   "source": [
    "# Calculate the total RPK for each sample \n",
    "total_rpk <- colSums(merged_data)"
   ]
  },
  {
   "cell_type": "markdown",
   "id": "5bf5aff3-4e06-4c01-b1c4-a98778a55a1b",
   "metadata": {},
   "source": [
    "## Calculate TPM per Sample"
   ]
  },
  {
   "cell_type": "code",
   "execution_count": null,
   "id": "53f0ee88-958a-45bf-b6db-5d9cc7cad644",
   "metadata": {},
   "outputs": [],
   "source": [
    "# Calculate TPM for each gene (TPM = (RPK / Total RPK) * 1,000,000)\n",
    "tpm <- sweep(merged_data, 2, total_rpk, FUN = \"/\") * 1e6\n",
    "\n",
    "# Convert the result to a data frame (optional)\n",
    "tpm_df <- as.data.frame(tpm)\n",
    "\n",
    "# View\n",
    "head(tpm_df)"
   ]
  },
  {
   "cell_type": "code",
   "execution_count": null,
   "id": "2cc09f9b-cefe-46b9-99d0-d0f0992cb63f",
   "metadata": {},
   "outputs": [],
   "source": [
    "# Save TPM data to a CSV\n",
    "write.csv(tpm_df, file = \"RNAseq_TPM_Values.csv\", row.names = TRUE)"
   ]
  },
  {
   "cell_type": "code",
   "execution_count": null,
   "id": "34178f36-7c6e-459b-ae70-a2b792aafa2a",
   "metadata": {},
   "outputs": [],
   "source": [
    "colnames(tpm_df)"
   ]
  },
  {
   "cell_type": "markdown",
   "id": "94f3c7f3-625f-4cc4-ab2e-c2a2175e6b24",
   "metadata": {},
   "source": [
    "# Process WGBS Data"
   ]
  },
  {
   "cell_type": "markdown",
   "id": "ed335dd4-3781-4a4e-80a4-63c3c3f0611d",
   "metadata": {},
   "source": [
    "## Annotate Genes"
   ]
  },
  {
   "cell_type": "code",
   "execution_count": null,
   "id": "5e8111aa-5e02-4c1a-b769-c66ad369f2d6",
   "metadata": {},
   "outputs": [],
   "source": [
    "# Load data\n",
    "files <- list.files(path = \"wgbs/08_cytosine_reports\", \n",
    "                    pattern = \"\\\\.deduplicated\\\\.bismark\\\\.cov\\\\.gz\\\\.CpG_report\\\\.merged_CpG_evidence\\\\.cov\\\\.gz$\", \n",
    "                    full.names = TRUE)\n",
    "\n",
    "# View the list of files\n",
    "print(files)"
   ]
  },
  {
   "cell_type": "code",
   "execution_count": null,
   "id": "a6960836-51ce-4a4d-95f5-2a411b1b956a",
   "metadata": {},
   "outputs": [],
   "source": [
    "# Read the GTF annotation file\n",
    "gtf_file <- \"/share/lasallelab/genomes/mm10/mm10.refGene.gtf\"\n",
    "gtf_data <- import(gtf_file)\n",
    "\n",
    "# View\n",
    "head(gtf_data)"
   ]
  },
  {
   "cell_type": "code",
   "execution_count": null,
   "id": "e18663a3-33f9-440f-9f91-7f8be4012673",
   "metadata": {},
   "outputs": [],
   "source": [
    "gtf_transcripts <- gtf_data[gtf_data$type == \"transcript\"]\n",
    "\n",
    "# Create GRanges object for gene annotations\n",
    "gr_genes <- GRanges(seqnames = seqnames(gtf_transcripts),\n",
    "                    ranges = IRanges(start = start(gtf_transcripts), end = end(gtf_transcripts)),\n",
    "                    gene_name = mcols(gtf_transcripts)$gene_name)\n",
    "\n",
    "# View \n",
    "head(gr_genes)"
   ]
  },
  {
   "cell_type": "code",
   "execution_count": null,
   "id": "10c8c0c8-3247-4a60-994d-aff418c11451",
   "metadata": {},
   "outputs": [],
   "source": [
    "# Loop through each file in the files list\n",
    "for (file in files) {\n",
    "  # Read the gzipped file\n",
    "  regions <- read.table(gzfile(file), header = FALSE, stringsAsFactors = FALSE)\n",
    "  \n",
    "  # Create GRanges object for regions\n",
    "  gr_regions <- GRanges(seqnames = regions$V1,  \n",
    "                        ranges = IRanges(start = regions$V2, end = regions$V3))  \n",
    "  \n",
    "  # Find overlaps between regions and gene annotations\n",
    "  overlaps <- findOverlaps(gr_regions, gr_genes)\n",
    "  \n",
    "  # Create a new column for gene names in the regions data frame\n",
    "  regions$gene_name <- NA \n",
    "  regions$gene_name[queryHits(overlaps)] <- gr_genes$gene_name[subjectHits(overlaps)]\n",
    "\n",
    "  # Do not save columns where gene names are NA\n",
    "  regions <- regions %>% filter(!is.na(gene_name))\n",
    "  \n",
    "  # Create a sample basename for saving the results\n",
    "  sample_basename <- sub(\"\\\\..*$\", \"\", basename(file))\n",
    "  \n",
    "  # Save the annotated regions to a CSV file\n",
    "  output_directory <- \"wgbs/08_cytosine_reports/\"\n",
    "  write.csv(regions, file = paste0(output_directory, sample_basename, \"_annotated_regions.csv\"), row.names = FALSE)\n",
    "\n",
    "  # Print progress\n",
    "  cat(sprintf(\"Regions have been assigned for %s...\\n\", sample_basename))\n",
    "}"
   ]
  },
  {
   "cell_type": "markdown",
   "id": "cd0c9098-207b-461e-86c0-f2b30fee8614",
   "metadata": {},
   "source": [
    "## Calculate Percent Methylation Per Gene"
   ]
  },
  {
   "cell_type": "code",
   "execution_count": null,
   "id": "991b85b3-0448-469c-bdec-46b0848ae55b",
   "metadata": {},
   "outputs": [],
   "source": [
    "# Load data\n",
    "files <- list.files(path = \"wgbs/08_cytosine_reports\", \n",
    "                    pattern = \"\\\\.csv$\", \n",
    "                    full.names = TRUE)\n",
    "\n",
    "# View the list of files\n",
    "print(files)"
   ]
  },
  {
   "cell_type": "code",
   "execution_count": null,
   "id": "f6fdeefd-701a-408d-a22c-8d99967c483f",
   "metadata": {},
   "outputs": [],
   "source": [
    "# Loop through each file\n",
    "for (file in files) {\n",
    "  # Read the CSV file\n",
    "  data <- read.csv(file, stringsAsFactors = FALSE)\n",
    "  \n",
    "  # Aggregate counts by gene_name\n",
    "  aggregated_data <- data %>%\n",
    "    group_by(gene_name) %>%\n",
    "    summarise(\n",
    "      methylated_cytosines = sum(V5, na.rm = TRUE),\n",
    "      unmethylated_cytosines = sum(V6, na.rm = TRUE),\n",
    "      .groups = 'drop'  # This ensures that the grouping is dropped after summarising\n",
    "    ) %>%\n",
    "    mutate(\n",
    "      percent_methylated = (methylated_cytosines / (methylated_cytosines + unmethylated_cytosines)) * 100\n",
    "    )\n",
    "    \n",
    "  # Specify the output directory\n",
    "  output_directory <- \"wgbs/08_cytosine_reports/\"\n",
    "  \n",
    "  # Extract the first part of the basename before the first underscore\n",
    "  base_name <- tools::file_path_sans_ext(basename(file))\n",
    "  first_part <- strsplit(base_name, \"_\")[[1]][1]\n",
    "  \n",
    "  # Save the aggregated data to a CSV file in the specified directory\n",
    "  write.csv(aggregated_data, file = paste0(output_directory, first_part, \"_percent_methylated.csv\"), row.names = FALSE)\n",
    "}"
   ]
  },
  {
   "cell_type": "markdown",
   "id": "acf3342e-f611-4604-9fe3-1089695c6bcc",
   "metadata": {},
   "source": [
    "## Create Percent Methylation Table Comparable to TPM Table"
   ]
  },
  {
   "cell_type": "code",
   "execution_count": null,
   "id": "1fcab8e4-e7ce-43e7-8cc4-f944aa111107",
   "metadata": {},
   "outputs": [],
   "source": [
    "# Load data\n",
    "files <- list.files(path = \"wgbs/08_cytosine_reports\", \n",
    "                    pattern = \"FA\\\\d+_percent_methylated\\\\.csv\", \n",
    "                    full.names = TRUE)\n",
    "\n",
    "# View the list of files\n",
    "print(files)"
   ]
  },
  {
   "cell_type": "code",
   "execution_count": null,
   "id": "0dbc2a96-dadb-483c-bee1-5f0bcbb80ab3",
   "metadata": {},
   "outputs": [],
   "source": [
    "# Initialize an empty data frame\n",
    "df <- data.frame()\n",
    "\n",
    "# Loop through each CSV file\n",
    "for (file in files) {\n",
    "  # Read the CSV file\n",
    "  data <- read.csv(file)\n",
    "     \n",
    "  # Delete unnecessary files\n",
    "  data$methylated_cytosines <- NULL\n",
    "  data$unmethylated_cytosines <- NULL\n",
    "    \n",
    "  # Extract sample names from the file names\n",
    "  sample_name <- gsub(\".*?(FA\\\\d+)_percent_methylated\\\\.csv\", \"\\\\1\", file)\n",
    "\n",
    "  # Rename percent_methylated to sample name\n",
    "  colnames(data)[colnames(data) == \"percent_methylated\"] <- sample_name\n",
    "    \n",
    "  # Merge the current data frame with the main data frame\n",
    "  if (nrow(df) == 0) {\n",
    "    df <- data  \n",
    "  } else {\n",
    "    df <- merge(df, data, by = \"gene_name\", all = TRUE) \n",
    "  }\n",
    "}\n",
    "\n",
    "# View\n",
    "head(df)"
   ]
  },
  {
   "cell_type": "code",
   "execution_count": null,
   "id": "c5998c10-85e0-49e1-bb07-da1e9b134519",
   "metadata": {},
   "outputs": [],
   "source": [
    "# Assign gene names as row names to match formatting of RNA-seq TPM counts\n",
    "rownames(df) <- df$gene_name\n",
    "df$gene_name <- NULL\n",
    "\n",
    "# View\n",
    "head(df)"
   ]
  },
  {
   "cell_type": "code",
   "execution_count": null,
   "id": "6aa76080-43da-4c1a-99d2-7306391a3182",
   "metadata": {},
   "outputs": [],
   "source": [
    "# Save percent methylation data to a CSV\n",
    "write.csv(df, file = \"WGBS_Percent_Methylation_Values.csv\", row.names = TRUE)"
   ]
  },
  {
   "cell_type": "markdown",
   "id": "cf3e6a42-9311-484c-8c07-a7fdfeae1dc4",
   "metadata": {},
   "source": [
    "# Integrate Data Frames"
   ]
  },
  {
   "cell_type": "code",
   "execution_count": null,
   "id": "94033a8e-c996-414b-b27d-3e28c520f517",
   "metadata": {},
   "outputs": [],
   "source": [
    "# Load RNA-seq data\n",
    "rnaseq <- read.csv(\"RNAseq_TPM_Values.csv\")\n",
    "\n",
    "# Assign row names\n",
    "rownames(rnaseq) <- rnaseq$X\n",
    "rnaseq$X <- NULL\n",
    "\n",
    "# View\n",
    "head(rnaseq)"
   ]
  },
  {
   "cell_type": "code",
   "execution_count": null,
   "id": "603076d1-4ea9-4fec-8c08-8f5871a65342",
   "metadata": {},
   "outputs": [],
   "source": [
    "# Load WGBS data\n",
    "wgbs <- read.csv(\"WGBS_Percent_Methylation_Values.csv\")\n",
    "\n",
    "# Assign row names\n",
    "rownames(wgbs) <- wgbs$X\n",
    "wgbs$X <- NULL\n",
    "\n",
    "# View\n",
    "head(wgbs)"
   ]
  },
  {
   "cell_type": "code",
   "execution_count": null,
   "id": "a9e41cce-6b45-49a5-86ab-b4c17a29d40c",
   "metadata": {},
   "outputs": [],
   "source": [
    "# Sample mapping from WGBS to RNA-seq\n",
    "sample_map <- c(\n",
    "  \"G1_1_1_4\" = \"FA114\",\n",
    "  \"G1_1_1_5\" = \"FA115\",\n",
    "  \"G1_1_1_6\" = \"FA116\",\n",
    "  \"G1_1_1_7\" = \"FA117\",\n",
    "  \"G1_1_2_4\" = \"FA124\",\n",
    "  \"G1_1_2_5\" = \"FA125\",\n",
    "  \"G1_1_2_6\" = \"FA126\",\n",
    "  \"G2_2_6_5\" = \"FA265\",\n",
    "  \"G2_2_6_6\" = \"FA266\",\n",
    "  \"G2_2_7_10\" = \"FA2710\",\n",
    "  \"G2_2_7_11\" = \"FA2711\",\n",
    "  \"G2_2_7_7\" = \"FA277\"\n",
    ")"
   ]
  },
  {
   "cell_type": "code",
   "execution_count": null,
   "id": "87fda1eb-690e-4ee5-a821-5f85d8053e45",
   "metadata": {},
   "outputs": [],
   "source": [
    "# Create a new row with the column names\n",
    "new_row <- as.data.frame(t(colnames(rnaseq)))\n",
    "\n",
    "# Set the column names for the new row\n",
    "colnames(new_row) <- colnames(rnaseq)\n",
    "\n",
    "# Add the new row to the top of the dataframe\n",
    "rnaseq <- rbind(new_row, rnaseq)\n",
    "\n",
    "# View\n",
    "head(rnaseq)"
   ]
  },
  {
   "cell_type": "code",
   "execution_count": null,
   "id": "909e0139-1f0e-4830-97b5-2e731032be31",
   "metadata": {},
   "outputs": [],
   "source": [
    "# Match the RNA-seq column names to the sample map (visually confirm mapping of names)\n",
    "colnames(rnaseq) <- sample_map[colnames(rnaseq)]\n",
    "\n",
    "# View\n",
    "head(rnaseq)"
   ]
  },
  {
   "cell_type": "code",
   "execution_count": null,
   "id": "86771f34-046d-42d8-b385-c15297c19402",
   "metadata": {},
   "outputs": [],
   "source": [
    "# Remove row containing original sample names\n",
    "rnaseq <- rnaseq[rownames(rnaseq) != \"1\", ]\n",
    "\n",
    "# Remove columns where NA is the column name\n",
    "rnaseq <- rnaseq[, !is.na(colnames(rnaseq))]\n",
    "\n",
    "# View\n",
    "head(rnaseq)"
   ]
  },
  {
   "cell_type": "code",
   "execution_count": null,
   "id": "5ff98283-8dfc-470a-8b4c-9842f66f88bf",
   "metadata": {},
   "outputs": [],
   "source": [
    "# Determine length of each dataframe\n",
    "print(length(rownames(rnaseq)))\n",
    "print(length(rownames(wgbs)))"
   ]
  },
  {
   "cell_type": "code",
   "execution_count": null,
   "id": "3e282aac-56ad-4e5d-af22-ee3384961380",
   "metadata": {},
   "outputs": [],
   "source": [
    "# Keep only the rows overlapping between rnaseq and wgbs\n",
    "wgbs <- wgbs[rownames(wgbs) %in% rownames(rnaseq), ]\n",
    "\n",
    "# Confirm length\n",
    "print(length(rownames(wgbs)))"
   ]
  },
  {
   "cell_type": "code",
   "execution_count": null,
   "id": "1895b2ac-0f55-4b31-ba1b-a7749a3731fd",
   "metadata": {},
   "outputs": [],
   "source": [
    "# Keep only the rows overlapping between rnaseq and wgbs\n",
    "rnaseq <- rnaseq[rownames(rnaseq) %in% rownames(wgbs), ]\n",
    "\n",
    "# Confirm length\n",
    "print(length(rownames(rnaseq)))"
   ]
  },
  {
   "cell_type": "code",
   "execution_count": null,
   "id": "d83e832d-16c0-47bd-9c0e-f7a0893f053c",
   "metadata": {},
   "outputs": [],
   "source": [
    "# Confirm that all row names match to ensure paired data\n",
    "print(length(rownames(rnaseq)))\n",
    "print(length(rownames(wgbs)))\n",
    "\n",
    "print(all(rownames(rnaseq) %in% rownames(wgbs)))\n",
    "print(all(rownames(wgbs) %in% rownames(rnaseq)))"
   ]
  },
  {
   "cell_type": "code",
   "execution_count": null,
   "id": "b7e1febf-fafe-4e4a-8fca-fe703a09de0e",
   "metadata": {},
   "outputs": [],
   "source": [
    "# View both dataframes\n",
    "head(rnaseq)\n",
    "head(wgbs)"
   ]
  },
  {
   "cell_type": "code",
   "execution_count": null,
   "id": "b17b804b-0a64-4431-87db-a9b2afdd389c",
   "metadata": {},
   "outputs": [],
   "source": [
    "# Merge datasets\n",
    "merged_data <- rnaseq %>%\n",
    "  rownames_to_column(var = \"Gene\") %>%\n",
    "  inner_join(wgbs %>% rownames_to_column(var = \"Gene\"), by = \"Gene\")\n",
    "\n",
    "# View\n",
    "head(merged_data)"
   ]
  },
  {
   "cell_type": "code",
   "execution_count": null,
   "id": "9cf7686e-ed06-4a07-84fd-090c12c98180",
   "metadata": {},
   "outputs": [],
   "source": [
    "# Convert columns containing RNA-seq data to numeric and log2 transform to normalize\n",
    "merged_data <- merged_data %>%\n",
    "  filter(if_all(ends_with(\".x\"), ~ as.numeric(.) >= 0)) %>%\n",
    "  mutate(across(ends_with(\".x\"), ~ log2(as.numeric(.))))\n",
    "\n",
    "# Reformat\n",
    "rownames(merged_data) <- merged_data$Gene\n",
    "merged_data$Gene <- NULL\n",
    "\n",
    "# View\n",
    "head(merged_data)"
   ]
  },
  {
   "cell_type": "markdown",
   "id": "948ea10c-a157-47fa-a297-c768aade449a",
   "metadata": {},
   "source": [
    "# Calculate Correlations"
   ]
  },
  {
   "cell_type": "code",
   "execution_count": null,
   "id": "a0a19040-fa28-404e-8150-4389be4cc79c",
   "metadata": {},
   "outputs": [],
   "source": [
    "# Create a named vector for the mapping with updated group name\n",
    "mapping <- c(\n",
    "  FA114 = \"Control\",\n",
    "  FA115 = \"Control\",\n",
    "  FA116 = \"Control\",\n",
    "  FA117 = \"Control\",\n",
    "  FA124 = \"Control\",\n",
    "  FA125 = \"Control\",\n",
    "  FA126 = \"Control\",\n",
    "  FA265 = \"FAE\",\n",
    "  FA266 = \"FAE\",\n",
    "  FA2710 = \"FAE\",\n",
    "  FA2711 = \"FAE\",\n",
    "  FA277 = \"FAE\"\n",
    ")"
   ]
  },
  {
   "cell_type": "code",
   "execution_count": null,
   "id": "0eb59570-0776-4ff1-a1c6-fe7d965a523b",
   "metadata": {},
   "outputs": [],
   "source": [
    "# Create a data frame for the mapping\n",
    "group_info <- data.frame(Sample = names(mapping), Group = mapping, stringsAsFactors = FALSE)\n",
    "\n",
    "# View\n",
    "print(group_info)"
   ]
  },
  {
   "cell_type": "code",
   "execution_count": null,
   "id": "0f7faf0e-712b-47b3-8dce-434a17b50f18",
   "metadata": {},
   "outputs": [],
   "source": [
    "# Convert row names to a column in merged_data\n",
    "merged_data <- cbind(Gene = rownames(merged_data), merged_data)\n",
    "\n",
    "# Reshape the data to long format for easier manipulation\n",
    "long_data <- merged_data %>%\n",
    "  pivot_longer(cols = -Gene, names_to = c(\"Sample\", \"Type\"), names_sep = \"\\\\.\", values_to = \"Value\") %>%\n",
    "  left_join(group_info, by = \"Sample\") %>%\n",
    "  filter(!is.na(Group))\n",
    "\n",
    "# View\n",
    "head(long_data)\n",
    "length(unique(long_data$Gene))\n",
    "unique(long_data$Sample)\n",
    "unique(long_data$Type)\n",
    "unique(long_data$Group)"
   ]
  },
  {
   "cell_type": "code",
   "execution_count": null,
   "id": "1010f22a-aa83-44a3-8f7b-a70fb287c1f8",
   "metadata": {},
   "outputs": [],
   "source": [
    "# Calculate Spearman correlation coefficients and their significance for each gene by group\n",
    "correlation_results <- long_data %>%\n",
    "  filter(Type %in% c(\"x\", \"y\")) %>%\n",
    "  pivot_wider(names_from = Type, values_from = Value, names_prefix = \"Type_\") %>%\n",
    "  group_by(Gene, Group) %>%\n",
    "  summarise(\n",
    "    correlation = ifelse(\n",
    "      sd(Type_x, na.rm = TRUE) > 0 & sd(Type_y, na.rm = TRUE) > 0,\n",
    "      cor(Type_x, Type_y, method = \"spearman\", use = \"complete.obs\"),\n",
    "      NA\n",
    "    ),\n",
    "    p_value = ifelse(\n",
    "      sd(Type_x, na.rm = TRUE) > 0 & sd(Type_y, na.rm = TRUE) > 0,\n",
    "      cor.test(Type_x, Type_y, method = \"spearman\", use = \"complete.obs\")$p.value,\n",
    "      NA\n",
    "    ),\n",
    "    .groups = 'drop'\n",
    "  ) %>%\n",
    "  pivot_wider(names_from = Group, values_from = c(correlation, p_value), names_prefix = \"Correlation_\")  \n",
    "\n",
    "# View\n",
    "head(correlation_results)"
   ]
  },
  {
   "cell_type": "code",
   "execution_count": null,
   "id": "58633e85-9a29-419b-a617-fad1650b631f",
   "metadata": {},
   "outputs": [],
   "source": [
    "# Save the correlation results to a CSV file\n",
    "write.csv(correlation_results, file = \"spearman_correlation_results.csv\", row.names = FALSE)"
   ]
  },
  {
   "cell_type": "code",
   "execution_count": null,
   "id": "0316d709-b9ad-4e16-bc66-26d882f95c18",
   "metadata": {},
   "outputs": [],
   "source": [
    "# See significant correlations\n",
    "significant_results <- correlation_results %>%\n",
    "  filter(\n",
    "    p_value_Correlation_Control < 0.05 | \n",
    "    p_value_Correlation_FAE < 0.05\n",
    "  )\n",
    "\n",
    "# View\n",
    "head(significant_results)\n",
    "print(length(significant_results$Gene))"
   ]
  },
  {
   "cell_type": "code",
   "execution_count": null,
   "id": "795ef7b1-3358-4c18-b1ae-a75d9958e350",
   "metadata": {},
   "outputs": [],
   "source": [
    "# Save the correlation results to a CSV file\n",
    "write.csv(correlation_results, file = \"spearman_correlation_significant_results.csv\", row.names = FALSE)"
   ]
  },
  {
   "cell_type": "markdown",
   "id": "c6c06fca-125a-4e10-9f74-6d19854f2d8a",
   "metadata": {},
   "source": [
    "# Visualize Correlations"
   ]
  },
  {
   "cell_type": "markdown",
   "id": "e00bcb1e-5ac3-4587-a6a9-3ea0c2878f4a",
   "metadata": {},
   "source": [
    "## Load Data"
   ]
  },
  {
   "cell_type": "code",
   "execution_count": null,
   "id": "3739c559-72f2-4e26-b2a5-0c6994df3e43",
   "metadata": {},
   "outputs": [],
   "source": [
    "# Load data\n",
    "degs <- read.csv(\"rnaseq/05_DEGs/faexcess_vs_control_genes.csv\", header = TRUE)\n",
    "\n",
    "# View\n",
    "head(degs)"
   ]
  },
  {
   "cell_type": "code",
   "execution_count": null,
   "id": "1eaa2b0c-7b8b-4ed5-990e-6cdf418b7b4b",
   "metadata": {},
   "outputs": [],
   "source": [
    "# Load data\n",
    "dmrs <- read_excel(\"wgbs/08_cytosine_reports/DMRs/DMRs_annotated.xlsx\")\n",
    "\n",
    "# View\n",
    "head(dmrs)"
   ]
  },
  {
   "cell_type": "markdown",
   "id": "0da2a2b4-07ab-4878-9292-ee22e033bd5f",
   "metadata": {},
   "source": [
    "## Significant DEGs Only"
   ]
  },
  {
   "cell_type": "code",
   "execution_count": null,
   "id": "5db352ff-2c47-42a6-b47f-afe8bf4caeb3",
   "metadata": {},
   "outputs": [],
   "source": [
    "# Subset to significant DEGs only\n",
    "significant_DEGs <- degs[degs$adj.P.Val < 0.05, ]\n",
    "\n",
    "# View\n",
    "head(significant_DEGs)\n",
    "length(significant_DEGs$external_gene_name)"
   ]
  },
  {
   "cell_type": "code",
   "execution_count": null,
   "id": "6fd71337-97c4-4b6f-bcbd-6a592b88ee5e",
   "metadata": {},
   "outputs": [],
   "source": [
    "# Subset long data to have only significant DEGs\n",
    "long_data_sigDEGs <- long_data[long_data$Gene %in% significant_DEGs$external_gene_name, ]\n",
    "\n",
    "# View the first few rows of the new object\n",
    "head(long_data_sigDEGs)\n",
    "length(unique(long_data_sigDEGs$Gene))\n",
    "unique(long_data_sigDEGs$Sample)\n",
    "unique(long_data_sigDEGs$Type)\n",
    "unique(long_data_sigDEGs$Group)"
   ]
  },
  {
   "cell_type": "code",
   "execution_count": null,
   "id": "2be6b3b2-f0cc-4032-beef-8b0f4a1e3b4a",
   "metadata": {},
   "outputs": [],
   "source": [
    "# Prepare the data for plotting\n",
    "plot_data <- long_data_sigDEGs %>%\n",
    "  filter(Type %in% c(\"x\", \"y\")) %>%\n",
    "  pivot_wider(names_from = Type, values_from = Value, names_prefix = \"Type_\") %>%\n",
    "  filter(!is.na(Type_x) & !is.na(Type_y)) "
   ]
  },
  {
   "cell_type": "code",
   "execution_count": null,
   "id": "37f425fe-dde3-46dc-beb5-5ba840eb3eea",
   "metadata": {},
   "outputs": [],
   "source": [
    "# Initalize PDF\n",
    "pdf(\"scatter_plot_RNAseq_vs_WGBS_significant_DEGs.pdf\", width = 16, height = 12)\n",
    "\n",
    "# Create a combined scatter plot\n",
    "p <- ggplot(plot_data, aes(x = Type_y, y = Type_x, color = Group)) +\n",
    "  geom_point(alpha = 0.7) +  \n",
    "  labs(title = \"Scatter Plot of RNA-seq TPMs vs. WGBS Percent Methylation\",\n",
    "       x = \"WGBS Percent Methylation\",\n",
    "       y = \"RNA-seq TPMs\") +\n",
    "  scale_color_manual(values = c(\"Control\" = \"blue\", \"FAE\" = \"red\")) +\n",
    "  theme_minimal() +\n",
    "  theme(legend.title = element_blank())\n",
    "\n",
    "# View \n",
    "print(p)\n",
    "\n",
    "# Close the PDF device\n",
    "dev.off()"
   ]
  },
  {
   "cell_type": "markdown",
   "id": "717837d8-dbb5-4771-9a2a-68037e0b9813",
   "metadata": {},
   "source": [
    "## Significant DEGs Positively Correlated Only"
   ]
  },
  {
   "cell_type": "code",
   "execution_count": null,
   "id": "6aa96054-2ca4-4a64-a71e-3b31383cfa70",
   "metadata": {},
   "outputs": [],
   "source": [
    "# Subset to significant DEGs only\n",
    "significant_DEGs <- degs[degs$adj.P.Val < 0.05, ]\n",
    "\n",
    "# View\n",
    "head(significant_DEGs)\n",
    "length(significant_DEGs$external_gene_name)"
   ]
  },
  {
   "cell_type": "code",
   "execution_count": null,
   "id": "6eea0302-6ccd-471a-97da-d0f41404f922",
   "metadata": {},
   "outputs": [],
   "source": [
    "# Subset for positive correlations only\n",
    "positive_correlations <- correlation_results[correlation_results$Correlation_Control > 0 & \n",
    "                                            correlation_results$Correlation_FAE > 0, ]\n",
    "\n",
    "# View the subsetted results\n",
    "head(positive_correlations)"
   ]
  },
  {
   "cell_type": "code",
   "execution_count": null,
   "id": "97cb35f1-1834-4ac1-8696-30d23caf3cdf",
   "metadata": {},
   "outputs": [],
   "source": [
    "# Subset significant_DEGs for only positively correlated ones\n",
    "significant_DEGs <- significant_DEGs[significant_DEGs$external_gene_name %in% positive_correlations$Gene, ]\n",
    "\n",
    "# View\n",
    "head(significant_DEGs)\n",
    "length(significant_DEGs$external_gene_name)"
   ]
  },
  {
   "cell_type": "code",
   "execution_count": null,
   "id": "b8f66a5b-a223-4514-a5a7-61fc2b813d33",
   "metadata": {},
   "outputs": [],
   "source": [
    "# Subset long data to have only significant DEGs\n",
    "long_data_sigDEGs <- long_data[long_data$Gene %in% significant_DEGs$external_gene_name, ]\n",
    "\n",
    "# View the first few rows of the new object\n",
    "head(long_data_sigDEGs)\n",
    "length(unique(long_data_sigDEGs$Gene))\n",
    "unique(long_data_sigDEGs$Sample)\n",
    "unique(long_data_sigDEGs$Type)\n",
    "unique(long_data_sigDEGs$Group)"
   ]
  },
  {
   "cell_type": "code",
   "execution_count": null,
   "id": "7213b5f8-b1d6-4638-aa8b-c85762a844f3",
   "metadata": {},
   "outputs": [],
   "source": [
    "# Prepare the data for plotting\n",
    "plot_data <- long_data_sigDEGs %>%\n",
    "  filter(Type %in% c(\"x\", \"y\")) %>%\n",
    "  pivot_wider(names_from = Type, values_from = Value, names_prefix = \"Type_\") %>%\n",
    "  filter(!is.na(Type_x) & !is.na(Type_y)) "
   ]
  },
  {
   "cell_type": "code",
   "execution_count": null,
   "id": "021dadce-2bae-476d-b4ee-27f269d381b3",
   "metadata": {},
   "outputs": [],
   "source": [
    "# Initalize PDF\n",
    "pdf(\"scatter_plot_RNAseq_vs_WGBS_significant_positively_correlated_DEGs.pdf\", width = 16, height = 12)\n",
    "\n",
    "# Create a combined scatter plot\n",
    "p <- ggplot(plot_data, aes(x = Type_y, y = Type_x, color = Group)) +\n",
    "  geom_point(alpha = 0.7) +  \n",
    "  labs(title = \"Scatter Plot of RNA-seq TPMs vs. WGBS Percent Methylation\",\n",
    "       x = \"WGBS Percent Methylation\",\n",
    "       y = \"RNA-seq TPMs\") +\n",
    "  scale_color_manual(values = c(\"Control\" = \"blue\", \"FAE\" = \"red\")) +\n",
    "  theme_minimal() +\n",
    "  theme(legend.title = element_blank())\n",
    "\n",
    "# View \n",
    "print(p)\n",
    "\n",
    "# Close the PDF device\n",
    "dev.off()"
   ]
  },
  {
   "cell_type": "markdown",
   "id": "9601e8ef-12ca-4d18-9351-9aa06ac8d220",
   "metadata": {},
   "source": [
    "## Significant DEGs Negatively Correlated Only"
   ]
  },
  {
   "cell_type": "code",
   "execution_count": null,
   "id": "5fea9919-582c-4146-93ec-fd437e2c9777",
   "metadata": {},
   "outputs": [],
   "source": [
    "# Subset to significant DEGs only\n",
    "significant_DEGs <- degs[degs$adj.P.Val < 0.05, ]\n",
    "\n",
    "# View\n",
    "head(significant_DEGs)\n",
    "length(significant_DEGs$external_gene_name)"
   ]
  },
  {
   "cell_type": "code",
   "execution_count": null,
   "id": "685ac296-0459-4c1a-b925-2c0d47cea7a5",
   "metadata": {},
   "outputs": [],
   "source": [
    "# Subset for negative correlations only\n",
    "negative_correlations <- correlation_results[correlation_results$Correlation_Control < 0 & \n",
    "                                            correlation_results$Correlation_FAE < 0, ]\n",
    "\n",
    "# View the subsetted results\n",
    "head(negative_correlations)"
   ]
  },
  {
   "cell_type": "code",
   "execution_count": null,
   "id": "9e619897-ea23-4d4a-a44c-e3b7c215ff91",
   "metadata": {},
   "outputs": [],
   "source": [
    "# Subset significant_DEGs for only negatively correlated ones\n",
    "significant_DEGs <- significant_DEGs[significant_DEGs$external_gene_name %in% negative_correlations$Gene, ]\n",
    "\n",
    "# View\n",
    "head(significant_DEGs)\n",
    "length(significant_DEGs$external_gene_name)"
   ]
  },
  {
   "cell_type": "code",
   "execution_count": null,
   "id": "2c06e763-7446-41d6-94ef-821a26c98ba7",
   "metadata": {},
   "outputs": [],
   "source": [
    "# Subset long data to have only significant DEGs\n",
    "long_data_sigDEGs <- long_data[long_data$Gene %in% significant_DEGs$external_gene_name, ]\n",
    "\n",
    "# View the first few rows of the new object\n",
    "head(long_data_sigDEGs)\n",
    "length(unique(long_data_sigDEGs$Gene))\n",
    "unique(long_data_sigDEGs$Sample)\n",
    "unique(long_data_sigDEGs$Type)\n",
    "unique(long_data_sigDEGs$Group)"
   ]
  },
  {
   "cell_type": "code",
   "execution_count": null,
   "id": "9d56078a-1237-45eb-bfa5-40358caac19f",
   "metadata": {},
   "outputs": [],
   "source": [
    "# Prepare the data for plotting\n",
    "plot_data <- long_data_sigDEGs %>%\n",
    "  filter(Type %in% c(\"x\", \"y\")) %>%\n",
    "  pivot_wider(names_from = Type, values_from = Value, names_prefix = \"Type_\") %>%\n",
    "  filter(!is.na(Type_x) & !is.na(Type_y)) "
   ]
  },
  {
   "cell_type": "code",
   "execution_count": null,
   "id": "095f7106-ac0c-480b-a019-70f34dbaeea9",
   "metadata": {},
   "outputs": [],
   "source": [
    "# Initalize PDF\n",
    "pdf(\"scatter_plot_RNAseq_vs_WGBS_significant_negatively_correlated_DEGs.pdf\", width = 16, height = 12)\n",
    "\n",
    "# Create a combined scatter plot\n",
    "p <- ggplot(plot_data, aes(x = Type_y, y = Type_x, color = Group)) +\n",
    "  geom_point(alpha = 0.7) +  \n",
    "  labs(title = \"Scatter Plot of RNA-seq TPMs vs. WGBS Percent Methylation\",\n",
    "       x = \"WGBS Percent Methylation\",\n",
    "       y = \"RNA-seq TPMs\") +\n",
    "  scale_color_manual(values = c(\"Control\" = \"blue\", \"FAE\" = \"red\")) +\n",
    "  theme_minimal() +\n",
    "  theme(legend.title = element_blank())\n",
    "\n",
    "# View \n",
    "print(p)\n",
    "\n",
    "# Close the PDF device\n",
    "dev.off()"
   ]
  },
  {
   "cell_type": "markdown",
   "id": "66b88f9b-3d26-4b8f-a942-a07d1fa69680",
   "metadata": {},
   "source": [
    "## Significant Upregulated DEGs Only"
   ]
  },
  {
   "cell_type": "code",
   "execution_count": null,
   "id": "635665bd-b2e7-4d3a-8266-01c95d5b2991",
   "metadata": {},
   "outputs": [],
   "source": [
    "# Subset to significant DEGs only\n",
    "significant__upregulated_DEGs <- degs[degs$adj.P.Val < 0.05 & degs$logFC > 0, ]\n",
    "\n",
    "# View\n",
    "head(significant__upregulated_DEGs)\n",
    "length(significant__upregulated_DEGs$external_gene_name)"
   ]
  },
  {
   "cell_type": "code",
   "execution_count": null,
   "id": "c2e37a25-7f7a-4959-b45d-d69296b17c45",
   "metadata": {},
   "outputs": [],
   "source": [
    "# Subset long data to have only significantly upregulated DEGs\n",
    "long_data_sigUpDEGs <- long_data[long_data$Gene %in% significant__upregulated_DEGs$external_gene_name, ]\n",
    "\n",
    "# View the first few rows of the new object\n",
    "head(long_data_sigUpDEGs)\n",
    "length(unique(long_data_sigUpDEGs$Gene))\n",
    "unique(long_data_sigUpDEGs$Sample)\n",
    "unique(long_data_sigUpDEGs$Type)\n",
    "unique(long_data_sigUpDEGs$Group)"
   ]
  },
  {
   "cell_type": "code",
   "execution_count": null,
   "id": "fcf10a3b-f401-4186-9f7a-ed3b14c7afd7",
   "metadata": {},
   "outputs": [],
   "source": [
    "# Prepare the data for plotting\n",
    "plot_data <- long_data_sigUpDEGs %>%\n",
    "  filter(Type %in% c(\"x\", \"y\")) %>%\n",
    "  pivot_wider(names_from = Type, values_from = Value, names_prefix = \"Type_\") %>%\n",
    "  filter(!is.na(Type_x) & !is.na(Type_y)) "
   ]
  },
  {
   "cell_type": "code",
   "execution_count": null,
   "id": "5451af7f-c765-4755-b17a-e062af25c08c",
   "metadata": {},
   "outputs": [],
   "source": [
    "# Initalize PDF\n",
    "pdf(\"scatter_plot_RNAseq_vs_WGBS_significant_upregulated_DEGs.pdf\", width = 16, height = 12)\n",
    "\n",
    "# Create a combined scatter plot\n",
    "p <- ggplot(plot_data, aes(x = Type_y, y = Type_x, color = Group)) +\n",
    "  geom_point(alpha = 0.7) +  \n",
    "  labs(title = \"Scatter Plot of RNA-seq TPMs vs. WGBS Percent Methylation\",\n",
    "       x = \"WGBS Percent Methylation\",\n",
    "       y = \"RNA-seq TPMs\") +\n",
    "  scale_color_manual(values = c(\"Control\" = \"blue\", \"FAE\" = \"red\")) +\n",
    "  theme_minimal() +\n",
    "  theme(legend.title = element_blank())\n",
    "\n",
    "# View \n",
    "print(p)\n",
    "\n",
    "# Close the PDF device\n",
    "dev.off()"
   ]
  },
  {
   "cell_type": "markdown",
   "id": "02f4331d-5b86-429a-8a98-0153855d470f",
   "metadata": {},
   "source": [
    "## Significant Downregulated DEGs Only"
   ]
  },
  {
   "cell_type": "code",
   "execution_count": null,
   "id": "c0430330-176a-453c-bcdd-c2a672d7855c",
   "metadata": {},
   "outputs": [],
   "source": [
    "# Subset to significant downregulated DEGs only\n",
    "significant_downregulated_DEGs <- degs[degs$adj.P.Val < 0.05 & degs$logFC < 0, ]\n",
    "\n",
    "# View\n",
    "head(significant_downregulated_DEGs)\n",
    "length(significant_downregulated_DEGs$external_gene_name)"
   ]
  },
  {
   "cell_type": "code",
   "execution_count": null,
   "id": "82822723-a973-4985-8699-85319b27deed",
   "metadata": {},
   "outputs": [],
   "source": [
    "# Subset long data to have only significantly downregulated DEGs\n",
    "long_data_sigDownDEGs <- long_data[long_data$Gene %in% significant_downregulated_DEGs$external_gene_name, ]\n",
    "\n",
    "# View the first few rows of the new object\n",
    "head(long_data_sigDownDEGs)\n",
    "length(unique(long_data_sigDownDEGs$Gene))\n",
    "unique(long_data_sigDownDEGs$Sample)\n",
    "unique(long_data_sigDownDEGs$Type)\n",
    "unique(long_data_sigDownDEGs$Group)"
   ]
  },
  {
   "cell_type": "code",
   "execution_count": null,
   "id": "e1368022-bf18-4b5d-8424-4bfd2b089691",
   "metadata": {},
   "outputs": [],
   "source": [
    "# Prepare the data for plotting\n",
    "plot_data <- long_data_sigDownDEGs %>%\n",
    "  filter(Type %in% c(\"x\", \"y\")) %>%\n",
    "  pivot_wider(names_from = Type, values_from = Value, names_prefix = \"Type_\") %>%\n",
    "  filter(!is.na(Type_x) & !is.na(Type_y)) "
   ]
  },
  {
   "cell_type": "code",
   "execution_count": null,
   "id": "020d4e02-7914-4f84-aeba-6c7451ca0d71",
   "metadata": {},
   "outputs": [],
   "source": [
    "# Initalize PDF\n",
    "pdf(\"scatter_plot_RNAseq_vs_WGBS_significant_downregulated_DEGs.pdf\", width = 16, height = 12)\n",
    "\n",
    "# Create a combined scatter plot\n",
    "p <- ggplot(plot_data, aes(x = Type_y, y = Type_x, color = Group)) +\n",
    "  geom_point(alpha = 0.7) +  \n",
    "  labs(title = \"Scatter Plot of RNA-seq TPMs vs. WGBS Percent Methylation\",\n",
    "       x = \"WGBS Percent Methylation\",\n",
    "       y = \"RNA-seq TPMs\") +\n",
    "  scale_color_manual(values = c(\"Control\" = \"blue\", \"FAE\" = \"red\")) +\n",
    "  theme_minimal() +\n",
    "  theme(legend.title = element_blank())\n",
    "\n",
    "# View \n",
    "print(p)\n",
    "\n",
    "# Close the PDF device\n",
    "dev.off()"
   ]
  },
  {
   "cell_type": "markdown",
   "id": "c9f4a0e7-778b-44d2-9fe6-184a426cb844",
   "metadata": {},
   "source": [
    "## Overlapping Significant DEGs and DMRs"
   ]
  },
  {
   "cell_type": "code",
   "execution_count": null,
   "id": "5788d751-4394-484a-8d0e-8348765e2049",
   "metadata": {},
   "outputs": [],
   "source": [
    "# Subset to significant DEGs only\n",
    "significant_DEGs <- degs[degs$adj.P.Val < 0.05, ]\n",
    "\n",
    "# View\n",
    "head(significant_DEGs)\n",
    "length(significant_DEGs$external_gene_name)"
   ]
  },
  {
   "cell_type": "code",
   "execution_count": null,
   "id": "266c3463-d7d7-4610-bf90-721f1b397606",
   "metadata": {},
   "outputs": [],
   "source": [
    "# Subset to significant DMRs only\n",
    "significant_DMRs <- dmrs[dmrs$p.value < 0.05, ]\n",
    "\n",
    "# View\n",
    "head(significant_DMRs)\n",
    "length(significant_DMRs$geneSymbol)"
   ]
  },
  {
   "cell_type": "code",
   "execution_count": null,
   "id": "7768c4cf-2029-4606-a232-4386aed885ec",
   "metadata": {},
   "outputs": [],
   "source": [
    "# Subset significant_DEGs for ones found in significant DMRs\n",
    "significant_DEGs <- significant_DEGs[significant_DEGs$external_gene_name %in% dmrs$geneSymbol, ]\n",
    "\n",
    "# View\n",
    "head(significant_DEGs)\n",
    "length(significant_DEGs$external_gene_name)\n",
    "\n",
    "# See overlapping genes\n",
    "print(unique(significant_DEGs$external_gene_name))"
   ]
  },
  {
   "cell_type": "code",
   "execution_count": null,
   "id": "09a76d2f-f8e8-4ea9-b8a1-dcac35653246",
   "metadata": {},
   "outputs": [],
   "source": [
    "# Subset long data to have only significant DEGs\n",
    "long_data_sigDEGs <- long_data[long_data$Gene %in% significant_DEGs$external_gene_name, ]\n",
    "\n",
    "# View the first few rows of the new object\n",
    "head(long_data_sigDEGs)\n",
    "length(unique(long_data_sigDEGs$Gene))\n",
    "unique(long_data_sigDEGs$Sample)\n",
    "unique(long_data_sigDEGs$Type)\n",
    "unique(long_data_sigDEGs$Group)"
   ]
  },
  {
   "cell_type": "code",
   "execution_count": null,
   "id": "addef949-1822-4a4c-b04a-9835c2c52bd3",
   "metadata": {},
   "outputs": [],
   "source": [
    "# Prepare the data for plotting\n",
    "plot_data <- long_data_sigDEGs %>%\n",
    "  filter(Type %in% c(\"x\", \"y\")) %>%\n",
    "  pivot_wider(names_from = Type, values_from = Value, names_prefix = \"Type_\") %>%\n",
    "  filter(!is.na(Type_x) & !is.na(Type_y)) "
   ]
  },
  {
   "cell_type": "code",
   "execution_count": null,
   "id": "25e7d52b-50f4-49e6-8596-463673c56c8e",
   "metadata": {},
   "outputs": [],
   "source": [
    "# Initialize PDF\n",
    "pdf(\"scatter_plot_RNAseq_vs_WGBS_overlapping_DEGs_and_DMRs_labeled.pdf\", width = 20, height = 12)\n",
    "\n",
    "# Create a combined scatter plot\n",
    "p <- ggplot(plot_data, aes(x = Type_y, y = Type_x, color = Group)) +\n",
    "  geom_point(alpha = 0.7) +  \n",
    "  geom_text(aes(label = Gene), vjust = -1, size = 2.5) +  \n",
    "  labs(title = \"Scatter Plot of RNA-seq TPMs vs. WGBS Percent Methylation\",\n",
    "       x = \"WGBS Percent Methylation\",\n",
    "       y = \"RNA-seq TPMs\") +\n",
    "  scale_color_manual(values = c(\"Control\" = \"blue\", \"FAE\" = \"red\")) +\n",
    "  theme_minimal() +\n",
    "  theme(legend.title = element_blank())\n",
    "\n",
    "# View \n",
    "print(p)\n",
    "\n",
    "# Close the PDF device\n",
    "dev.off()"
   ]
  },
  {
   "cell_type": "code",
   "execution_count": null,
   "id": "7661a96e-7449-4d06-930b-5f937c874890",
   "metadata": {},
   "outputs": [],
   "source": [
    "# Initialize PDF\n",
    "pdf(\"scatter_plot_RNAseq_vs_WGBS_overlapping_DEGs_and_DMRs.pdf\", width = 8, height = 6)\n",
    "\n",
    "# Create a combined scatter plot\n",
    "p <- ggplot(plot_data, aes(x = Type_y, y = Type_x, color = Group)) +\n",
    "  geom_point(alpha = 0.7) +  \n",
    "  labs(title = \"Scatter Plot of RNA-seq TPMs vs. WGBS Percent Methylation\",\n",
    "       x = \"WGBS Percent Methylation\",\n",
    "       y = \"RNA-seq TPMs\") +\n",
    "  scale_color_manual(values = c(\"Control\" = \"blue\", \"FAE\" = \"red\")) +\n",
    "  theme_minimal() +\n",
    "  theme(legend.title = element_blank())\n",
    "\n",
    "# View \n",
    "print(p)\n",
    "\n",
    "# Close the PDF device\n",
    "dev.off()"
   ]
  },
  {
   "cell_type": "markdown",
   "id": "57317313-996a-4e8c-915a-e95614d462d3",
   "metadata": {},
   "source": [
    "# Assess Significance of DEG and DMR Overlap"
   ]
  },
  {
   "cell_type": "code",
   "execution_count": null,
   "id": "1aa07664-fbf3-4900-9441-0519990bf373",
   "metadata": {},
   "outputs": [],
   "source": [
    "# Load data\n",
    "degs <- read.csv(\"rnaseq/05_DEGs/faexcess_vs_control_genes.csv\", header = TRUE)\n",
    "\n",
    "# Subset to significant DEGs only\n",
    "degs <- degs[degs$adj.P.Val < 0.05, ]\n",
    "\n",
    "# View\n",
    "head(degs)"
   ]
  },
  {
   "cell_type": "code",
   "execution_count": null,
   "id": "c396c6ba-4c52-44d2-a82c-08102e16b7d5",
   "metadata": {},
   "outputs": [],
   "source": [
    "# Load data\n",
    "dmrs <- read_excel(\"wgbs/08_cytosine_reports/DMRs/DMRs_annotated.xlsx\")\n",
    "\n",
    "# Subset to significant DMRs only\n",
    "dmrs <- dmrs[dmrs$p.value < 0.05, ]\n",
    "\n",
    "# View\n",
    "head(dmrs)"
   ]
  },
  {
   "cell_type": "markdown",
   "id": "3c5bd15c-81d2-4afc-99c1-631a265ad611",
   "metadata": {},
   "source": [
    "## Make Contingency Table for Fisher's Exact Test"
   ]
  },
  {
   "cell_type": "code",
   "execution_count": null,
   "id": "d8ea3fbb-85a8-4240-b9a1-cce96932de1a",
   "metadata": {},
   "outputs": [],
   "source": [
    "# Overlap\n",
    "overlap_count <- length(intersect(degs$external_gene_name, dmrs$geneSymbol))"
   ]
  },
  {
   "cell_type": "code",
   "execution_count": null,
   "id": "b70b8ed4-c7eb-488e-a08c-f6fcc283473a",
   "metadata": {},
   "outputs": [],
   "source": [
    "# DEGs not in DMRs\n",
    "b <- length(setdiff(degs$external_gene_name, dmrs$geneSymbol))"
   ]
  },
  {
   "cell_type": "code",
   "execution_count": null,
   "id": "283bd781-0932-4844-80fb-50e53187a374",
   "metadata": {},
   "outputs": [],
   "source": [
    "# DMRs not in DEGs\n",
    "c <- length(setdiff(dmrs$geneSymbol, degs$external_gene_name))"
   ]
  },
  {
   "cell_type": "code",
   "execution_count": null,
   "id": "15fb7f0a-432f-4368-8d87-81645d3e6f61",
   "metadata": {},
   "outputs": [],
   "source": [
    "# Total genes\n",
    "total_genes <- length(unique(c(degs$external_gene_name, dmrs$geneSymbol)))\n",
    "d <- total_genes - (overlap_count + b + c)"
   ]
  },
  {
   "cell_type": "code",
   "execution_count": null,
   "id": "4aa381c0-2624-4954-bb4b-10a87b2d355e",
   "metadata": {},
   "outputs": [],
   "source": [
    "# Create the contingency table\n",
    "contingency_table <- matrix(c(overlap_count, b, c, d), nrow = 2)\n",
    "colnames(contingency_table) <- c(\"In DMRs\", \"Not in DMRs\")\n",
    "rownames(contingency_table) <- c(\"Overlap\", \"No Overlap\")\n",
    "\n",
    "# View\n",
    "print(contingency_table)"
   ]
  },
  {
   "cell_type": "code",
   "execution_count": null,
   "id": "ee098ad2-b006-42f5-9ffc-d0ed32c96732",
   "metadata": {},
   "outputs": [],
   "source": [
    "# Perform Fisher's Exact Test\n",
    "fisher_result <- fisher.test(contingency_table)\n",
    "\n",
    "# View\n",
    "print(fisher_result)"
   ]
  },
  {
   "cell_type": "markdown",
   "id": "00593afb-5776-4fcb-af82-64530aa9a5bc",
   "metadata": {},
   "source": [
    "## Assess Significance of Correlations"
   ]
  },
  {
   "cell_type": "code",
   "execution_count": null,
   "id": "5822575f-9ab3-4042-8f3c-ebf25c4e3347",
   "metadata": {},
   "outputs": [],
   "source": [
    "# Load data\n",
    "correlation_results <- read.csv(\"spearman_correlation_results.csv\")\n",
    "\n",
    "# View\n",
    "head(correlation_results)"
   ]
  },
  {
   "cell_type": "code",
   "execution_count": null,
   "id": "4edfea98-9393-4f2f-8d10-aede4a10da7e",
   "metadata": {},
   "outputs": [],
   "source": [
    "# Identify significant correlations for each condition\n",
    "control_total <- correlation_results[correlation_results$p_value_Correlation_Control < 0.05, ]\n",
    "control_only <- correlation_results[correlation_results$p_value_Correlation_Control < 0.05 & correlation_results$p_value_Correlation_FAE >= 0.05, ]\n",
    "FAE_total <- correlation_results[correlation_results$p_value_Correlation_FAE < 0.05, ]\n",
    "FAE_only <- correlation_results[correlation_results$p_value_Correlation_FAE < 0.05 & correlation_results$p_value_Correlation_Control >= 0.05, ]\n",
    "both <- correlation_results[correlation_results$p_value_Correlation_Control < 0.05 & correlation_results$p_value_Correlation_FAE < 0.05, ]\n",
    "either <- correlation_results[correlation_results$p_value_Correlation_Control < 0.05 | correlation_results$p_value_Correlation_FAE < 0.05, ]\n",
    "\n",
    "# Identify significant positive correlations for each condition\n",
    "control_positive <- control_total[control_total$correlation_Correlation_Control > 0, ]\n",
    "FAE_positive <- FAE_total[FAE_total$correlation_Correlation_FAE > 0, ]\n",
    "\n",
    "# Identify significant negative correlations for each condition\n",
    "control_negative <- control_total[control_total$correlation_Correlation_Control < 0, ]\n",
    "FAE_negative <- FAE_total[FAE_total$correlation_Correlation_FAE < 0, ]\n",
    "\n",
    "# Print the number of significant genes for each condition\n",
    "print(paste(\"Number of significant genes in Control (total):\", length(control_total$Gene)))\n",
    "print(paste(\"Number of significant genes in Control (only):\", length(control_only$Gene)))\n",
    "print(paste(\"Number of significant genes in FAE (total):\", length(FAE_total$Gene)))\n",
    "print(paste(\"Number of significant genes in FAE (only):\", length(FAE_only$Gene)))\n",
    "print(paste(\"Number of significant genes in both conditions:\", length(both$Gene)))\n",
    "print(paste(\"Number of significant genes in either condition:\", length(either$Gene)))\n",
    "\n",
    "# Print the number of significant positive and negative genes for each condition\n",
    "print(paste(\"Number of significant positive correlations in Control:\", length(control_positive$Gene)))  # Significant positive correlations in Control\n",
    "print(paste(\"Number of significant negative correlations in Control:\", length(control_negative$Gene)))  # Significant negative correlations in Control\n",
    "print(paste(\"Number of significant positive correlations in FAE:\", length(FAE_positive$Gene)))      # Significant positive correlations in FAE\n",
    "print(paste(\"Number of significant negative correlations in FAE:\", length(FAE_negative$Gene)))      # Significant negative correlations in FAE"
   ]
  },
  {
   "cell_type": "code",
   "execution_count": null,
   "id": "cad62776-b8c4-407f-893c-479e2c043f6f",
   "metadata": {},
   "outputs": [],
   "source": [
    "# List of genes to check\n",
    "genes_to_check <- c(\"Naa20\", \"Med10\", \"Epb41l4a\", \"Katnal2\", \"D3Ertd751e\", \n",
    "                     \"Ccdc93\", \"Itga6\", \"Tacr3\", \"Cald1\", \"Ccl17\", \n",
    "                     \"Atp2c1\", \"Asprv1\", \"Kcnk10\", \"Fau\", \"Egr1\", \n",
    "                     \"Mest\", \"Fbh1\", \"Syt10\", \"Urm1\", \"Arrdc3\")\n",
    "\n",
    "# Check if these genes are in the either category\n",
    "genes_in_either <- genes_to_check[genes_to_check %in% either$Gene]\n",
    "\n",
    "# Print the genes that are found in the either category\n",
    "print(genes_in_either)"
   ]
  },
  {
   "cell_type": "markdown",
   "id": "8171920e-c598-49dd-b164-7787b3deea79",
   "metadata": {},
   "source": [
    "# Test Correlation Significance with Chi-Square Test"
   ]
  },
  {
   "cell_type": "code",
   "execution_count": 64,
   "id": "c2431ab5-d4ab-4161-9793-1e487ce58272",
   "metadata": {},
   "outputs": [
    {
     "name": "stdout",
     "output_type": "stream",
     "text": [
      "[1] \"Contingency Table:\"\n"
     ]
    },
    {
     "data": {
      "text/html": [
       "<table class=\"dataframe\">\n",
       "<caption>A matrix: 3 × 2 of type dbl</caption>\n",
       "<thead>\n",
       "\t<tr><th></th><th scope=col>Control</th><th scope=col>FAE</th></tr>\n",
       "</thead>\n",
       "<tbody>\n",
       "\t<tr><th scope=row>Significant Positive Correlations</th><td>238</td><td>110</td></tr>\n",
       "\t<tr><th scope=row>Significant Negative Correlations</th><td>345</td><td>178</td></tr>\n",
       "\t<tr><th scope=row>Unique Significant Correlations</th><td>553</td><td>256</td></tr>\n",
       "</tbody>\n",
       "</table>\n"
      ],
      "text/latex": [
       "A matrix: 3 × 2 of type dbl\n",
       "\\begin{tabular}{r|ll}\n",
       "  & Control & FAE\\\\\n",
       "\\hline\n",
       "\tSignificant Positive Correlations & 238 & 110\\\\\n",
       "\tSignificant Negative Correlations & 345 & 178\\\\\n",
       "\tUnique Significant Correlations & 553 & 256\\\\\n",
       "\\end{tabular}\n"
      ],
      "text/markdown": [
       "\n",
       "A matrix: 3 × 2 of type dbl\n",
       "\n",
       "| <!--/--> | Control | FAE |\n",
       "|---|---|---|\n",
       "| Significant Positive Correlations | 238 | 110 |\n",
       "| Significant Negative Correlations | 345 | 178 |\n",
       "| Unique Significant Correlations | 553 | 256 |\n",
       "\n"
      ],
      "text/plain": [
       "                                  Control FAE\n",
       "Significant Positive Correlations 238     110\n",
       "Significant Negative Correlations 345     178\n",
       "Unique Significant Correlations   553     256"
      ]
     },
     "metadata": {},
     "output_type": "display_data"
    },
    {
     "name": "stdout",
     "output_type": "stream",
     "text": [
      "[1] \"Chi-Square Test Results:\"\n",
      "\n",
      "\tPearson's Chi-squared test\n",
      "\n",
      "data:  correlation_data\n",
      "X-squared = 0.94835, df = 2, p-value = 0.6224\n",
      "\n"
     ]
    }
   ],
   "source": [
    "# Create the contingency table\n",
    "correlation_data <- matrix(c(238, 110, \n",
    "                              345, 178, \n",
    "                              553, 256), \n",
    "                            nrow = 3, \n",
    "                            byrow = TRUE)\n",
    "\n",
    "# Assign row and column names\n",
    "rownames(correlation_data) <- c(\"Significant Positive Correlations\", \n",
    "                                 \"Significant Negative Correlations\", \n",
    "                                 \"Unique Significant Correlations\")\n",
    "colnames(correlation_data) <- c(\"Control\", \"FAE\")\n",
    "\n",
    "# Print the contingency table\n",
    "print(\"Contingency Table:\")\n",
    "head(correlation_data)\n",
    "\n",
    "# Perform the Chi-Square test\n",
    "chi_square_test <- chisq.test(correlation_data)\n",
    "\n",
    "# Print the results of the Chi-Square test\n",
    "print(\"Chi-Square Test Results:\")\n",
    "print(chi_square_test)"
   ]
  },
  {
   "cell_type": "code",
   "execution_count": 65,
   "id": "3a8dc0c7-ebe7-4f8d-9dfd-18d04f4fe43d",
   "metadata": {},
   "outputs": [
    {
     "name": "stdout",
     "output_type": "stream",
     "text": [
      "[1] \"Fisher's Exact Test Results:\"\n",
      "\n",
      "\tFisher's Exact Test for Count Data\n",
      "\n",
      "data:  correlation_data\n",
      "p-value = 0.6276\n",
      "alternative hypothesis: two.sided\n",
      "\n"
     ]
    }
   ],
   "source": [
    "# Perform Fisher's Exact Test\n",
    "fisher_test <- fisher.test(correlation_data)\n",
    "\n",
    "# Print the results of Fisher's Exact Test\n",
    "print(\"Fisher's Exact Test Results:\")\n",
    "print(fisher_test)"
   ]
  },
  {
   "cell_type": "markdown",
   "id": "9bb00f0c-87ef-4d37-a73a-5c92105ddd0a",
   "metadata": {},
   "source": [
    "# Add Information to Correlations Output"
   ]
  },
  {
   "cell_type": "code",
   "execution_count": null,
   "id": "e10987cb-0323-4d12-91fe-c01aa0cecaf5",
   "metadata": {},
   "outputs": [],
   "source": [
    "# Load data\n",
    "correlation_results <- read.csv(\"spearman_correlation_results.csv\")\n",
    "\n",
    "# View\n",
    "head(correlation_results)"
   ]
  },
  {
   "cell_type": "code",
   "execution_count": null,
   "id": "5cd2de8b-5291-4d95-93e1-5c09b24ad890",
   "metadata": {},
   "outputs": [],
   "source": [
    "# Add distanceToTSS\n",
    "distance_vector <- setNames(dmrs$distanceToTSS, dmrs$geneSymbol)\n",
    "correlation_results$DMRdistanceToTSS <- distance_vector[correlation_results$Gene]\n",
    "\n",
    "# Add gene annotation\n",
    "annotation_vector <- setNames(dmrs$annotation, dmrs$geneSymbol)\n",
    "correlation_results$WGBS_annotation <- annotation_vector[correlation_results$Gene]\n",
    "\n",
    "# Add gene description\n",
    "gene_vector <- setNames(dmrs$gene, dmrs$geneSymbol)\n",
    "correlation_results$gene_description <- gene_vector[correlation_results$Gene]\n",
    "\n",
    "# Add methylation direction\n",
    "methdir <- setNames(dmrs$direction, dmrs$geneSymbol)\n",
    "correlation_results$Methylation_Direction <- methdir[correlation_results$Gene]\n",
    "\n",
    "# Add p-value\n",
    "dmr_pval <- setNames(dmrs$p.value, dmrs$geneSymbol)\n",
    "correlation_results$DMR_PVal <- dmr_pval[correlation_results$Gene]\n",
    "\n",
    "# View\n",
    "head(correlation_results)"
   ]
  },
  {
   "cell_type": "code",
   "execution_count": null,
   "id": "7a02e803-100f-4f3c-89aa-4d4e3fd09d36",
   "metadata": {},
   "outputs": [],
   "source": [
    "# Reload data to annotate all logFC regardless of significance\n",
    "degs <- read.csv(\"rnaseq/05_DEGs/faexcess_vs_control_genes.csv\", header = TRUE)\n",
    "\n",
    "# Add RNA-seq Log-fold change\n",
    "logfc_vector <- setNames(degs$logFC, degs$external_gene_name)\n",
    "correlation_results$RNAseq_LogFC <- logfc_vector[correlation_results$Gene]\n",
    "\n",
    "# Add RNA-seq p-value\n",
    "deg_pval <- setNames(degs$adj.P.Val, degs$external_gene_name)\n",
    "correlation_results$RNAseq_PVal <- deg_pval[correlation_results$Gene]\n",
    "\n",
    "# View\n",
    "head(correlation_results)"
   ]
  },
  {
   "cell_type": "code",
   "execution_count": null,
   "id": "5d83fa9c-d4c6-4cd0-8e4c-c3fc0465f645",
   "metadata": {},
   "outputs": [],
   "source": [
    "# Save the correlation results to a CSV file\n",
    "write.csv(correlation_results, file = \"spearman_correlation_results.csv\", row.names = FALSE)"
   ]
  },
  {
   "cell_type": "markdown",
   "id": "ec2d52a3-65cc-4f12-afac-81287a7d5fa2",
   "metadata": {},
   "source": [
    "# Compare Enrichment Terms for DEGs and DMRs"
   ]
  },
  {
   "cell_type": "code",
   "execution_count": 5,
   "id": "f0aadcb5-5c3e-4cb2-ba21-c66600ee2403",
   "metadata": {},
   "outputs": [
    {
     "data": {
      "text/html": [
       "<table class=\"dataframe\">\n",
       "<caption>A tibble: 6 × 21</caption>\n",
       "<thead>\n",
       "\t<tr><th scope=col>chr</th><th scope=col>start</th><th scope=col>end</th><th scope=col>width</th><th scope=col>CpGs</th><th scope=col>betaCoefficient</th><th scope=col>statistic</th><th scope=col>p.value</th><th scope=col>q.value</th><th scope=col>direction</th><th scope=col>⋯</th><th scope=col>CpG.Island</th><th scope=col>CpG.Shore</th><th scope=col>CpG.Shelf</th><th scope=col>Open.Sea</th><th scope=col>annotation</th><th scope=col>geneId</th><th scope=col>distanceToTSS</th><th scope=col>ENSEMBL</th><th scope=col>geneSymbol</th><th scope=col>gene</th></tr>\n",
       "\t<tr><th scope=col>&lt;chr&gt;</th><th scope=col>&lt;dbl&gt;</th><th scope=col>&lt;dbl&gt;</th><th scope=col>&lt;dbl&gt;</th><th scope=col>&lt;dbl&gt;</th><th scope=col>&lt;dbl&gt;</th><th scope=col>&lt;dbl&gt;</th><th scope=col>&lt;dbl&gt;</th><th scope=col>&lt;dbl&gt;</th><th scope=col>&lt;chr&gt;</th><th scope=col>⋯</th><th scope=col>&lt;chr&gt;</th><th scope=col>&lt;chr&gt;</th><th scope=col>&lt;chr&gt;</th><th scope=col>&lt;chr&gt;</th><th scope=col>&lt;chr&gt;</th><th scope=col>&lt;chr&gt;</th><th scope=col>&lt;dbl&gt;</th><th scope=col>&lt;chr&gt;</th><th scope=col>&lt;chr&gt;</th><th scope=col>&lt;chr&gt;</th></tr>\n",
       "</thead>\n",
       "<tbody>\n",
       "\t<tr><td>chr2 </td><td> 87525906</td><td> 87526271</td><td>366</td><td>27</td><td>-0.7075803</td><td>-8.439746</td><td>0.0001484955</td><td>0.8146332</td><td>Hypomethylated </td><td>⋯</td><td>Yes</td><td>Yes</td><td>No</td><td>No </td><td>Exon             </td><td>110511</td><td>  -5525</td><td>ENSMUSG00000061520</td><td>Or5w22 </td><td>olfactory receptor family 5 subfamily W member 22    </td></tr>\n",
       "\t<tr><td>chr5 </td><td>131236777</td><td>131237235</td><td>459</td><td> 9</td><td> 0.6906494</td><td> 7.767359</td><td>0.0004611176</td><td>0.8146332</td><td>Hypermethylated</td><td>⋯</td><td>No </td><td>No </td><td>No</td><td>Yes</td><td>Intron           </td><td>212996</td><td>  71262</td><td>ENSMUSG00000034040</td><td>Galnt17</td><td>polypeptide N-acetylgalactosaminyltransferase 17     </td></tr>\n",
       "\t<tr><td>chr7 </td><td> 92448940</td><td> 92449667</td><td>728</td><td> 8</td><td> 0.6094742</td><td> 7.635594</td><td>0.0005392732</td><td>0.8146332</td><td>Hypermethylated</td><td>⋯</td><td>No </td><td>No </td><td>No</td><td>Yes</td><td>3' UTR           </td><td>23859 </td><td>1971709</td><td>ENSMUSG00000052572</td><td>Dlg2   </td><td>discs large MAGUK scaffold protein 2                 </td></tr>\n",
       "\t<tr><td>chr4 </td><td> 24077950</td><td> 24078197</td><td>248</td><td> 5</td><td> 0.7599784</td><td> 7.631384</td><td>0.0005392732</td><td>0.8146332</td><td>Hypermethylated</td><td>⋯</td><td>No </td><td>No </td><td>No</td><td>Yes</td><td>Distal Intergenic</td><td>212377</td><td>-418254</td><td>ENSMUSG00000045751</td><td>Mms22l </td><td>MMS22-like, DNA repair protein                       </td></tr>\n",
       "\t<tr><td>chr9 </td><td>118085608</td><td>118085943</td><td>336</td><td> 7</td><td> 0.8877527</td><td> 7.520019</td><td>0.0006017976</td><td>0.8146332</td><td>Hypermethylated</td><td>⋯</td><td>No </td><td>No </td><td>No</td><td>Yes</td><td>Intron           </td><td>67899 </td><td>  64234</td><td>ENSMUSG00000039163</td><td>Cmc1   </td><td>COX assembly mitochondrial protein 1                 </td></tr>\n",
       "\t<tr><td>chr17</td><td> 74424279</td><td> 74424751</td><td>473</td><td>13</td><td>-0.6255215</td><td>-7.467470</td><td>0.0006799531</td><td>0.8146332</td><td>Hypomethylated </td><td>⋯</td><td>No </td><td>No </td><td>No</td><td>Yes</td><td>Downstream       </td><td>210148</td><td>  14453</td><td>ENSMUSG00000024069</td><td>Slc30a6</td><td>solute carrier family 30 (zinc transporter), member 6</td></tr>\n",
       "</tbody>\n",
       "</table>\n"
      ],
      "text/latex": [
       "A tibble: 6 × 21\n",
       "\\begin{tabular}{lllllllllllllllllllll}\n",
       " chr & start & end & width & CpGs & betaCoefficient & statistic & p.value & q.value & direction & ⋯ & CpG.Island & CpG.Shore & CpG.Shelf & Open.Sea & annotation & geneId & distanceToTSS & ENSEMBL & geneSymbol & gene\\\\\n",
       " <chr> & <dbl> & <dbl> & <dbl> & <dbl> & <dbl> & <dbl> & <dbl> & <dbl> & <chr> & ⋯ & <chr> & <chr> & <chr> & <chr> & <chr> & <chr> & <dbl> & <chr> & <chr> & <chr>\\\\\n",
       "\\hline\n",
       "\t chr2  &  87525906 &  87526271 & 366 & 27 & -0.7075803 & -8.439746 & 0.0001484955 & 0.8146332 & Hypomethylated  & ⋯ & Yes & Yes & No & No  & Exon              & 110511 &   -5525 & ENSMUSG00000061520 & Or5w22  & olfactory receptor family 5 subfamily W member 22    \\\\\n",
       "\t chr5  & 131236777 & 131237235 & 459 &  9 &  0.6906494 &  7.767359 & 0.0004611176 & 0.8146332 & Hypermethylated & ⋯ & No  & No  & No & Yes & Intron            & 212996 &   71262 & ENSMUSG00000034040 & Galnt17 & polypeptide N-acetylgalactosaminyltransferase 17     \\\\\n",
       "\t chr7  &  92448940 &  92449667 & 728 &  8 &  0.6094742 &  7.635594 & 0.0005392732 & 0.8146332 & Hypermethylated & ⋯ & No  & No  & No & Yes & 3' UTR            & 23859  & 1971709 & ENSMUSG00000052572 & Dlg2    & discs large MAGUK scaffold protein 2                 \\\\\n",
       "\t chr4  &  24077950 &  24078197 & 248 &  5 &  0.7599784 &  7.631384 & 0.0005392732 & 0.8146332 & Hypermethylated & ⋯ & No  & No  & No & Yes & Distal Intergenic & 212377 & -418254 & ENSMUSG00000045751 & Mms22l  & MMS22-like, DNA repair protein                       \\\\\n",
       "\t chr9  & 118085608 & 118085943 & 336 &  7 &  0.8877527 &  7.520019 & 0.0006017976 & 0.8146332 & Hypermethylated & ⋯ & No  & No  & No & Yes & Intron            & 67899  &   64234 & ENSMUSG00000039163 & Cmc1    & COX assembly mitochondrial protein 1                 \\\\\n",
       "\t chr17 &  74424279 &  74424751 & 473 & 13 & -0.6255215 & -7.467470 & 0.0006799531 & 0.8146332 & Hypomethylated  & ⋯ & No  & No  & No & Yes & Downstream        & 210148 &   14453 & ENSMUSG00000024069 & Slc30a6 & solute carrier family 30 (zinc transporter), member 6\\\\\n",
       "\\end{tabular}\n"
      ],
      "text/markdown": [
       "\n",
       "A tibble: 6 × 21\n",
       "\n",
       "| chr &lt;chr&gt; | start &lt;dbl&gt; | end &lt;dbl&gt; | width &lt;dbl&gt; | CpGs &lt;dbl&gt; | betaCoefficient &lt;dbl&gt; | statistic &lt;dbl&gt; | p.value &lt;dbl&gt; | q.value &lt;dbl&gt; | direction &lt;chr&gt; | ⋯ ⋯ | CpG.Island &lt;chr&gt; | CpG.Shore &lt;chr&gt; | CpG.Shelf &lt;chr&gt; | Open.Sea &lt;chr&gt; | annotation &lt;chr&gt; | geneId &lt;chr&gt; | distanceToTSS &lt;dbl&gt; | ENSEMBL &lt;chr&gt; | geneSymbol &lt;chr&gt; | gene &lt;chr&gt; |\n",
       "|---|---|---|---|---|---|---|---|---|---|---|---|---|---|---|---|---|---|---|---|---|\n",
       "| chr2  |  87525906 |  87526271 | 366 | 27 | -0.7075803 | -8.439746 | 0.0001484955 | 0.8146332 | Hypomethylated  | ⋯ | Yes | Yes | No | No  | Exon              | 110511 |   -5525 | ENSMUSG00000061520 | Or5w22  | olfactory receptor family 5 subfamily W member 22     |\n",
       "| chr5  | 131236777 | 131237235 | 459 |  9 |  0.6906494 |  7.767359 | 0.0004611176 | 0.8146332 | Hypermethylated | ⋯ | No  | No  | No | Yes | Intron            | 212996 |   71262 | ENSMUSG00000034040 | Galnt17 | polypeptide N-acetylgalactosaminyltransferase 17      |\n",
       "| chr7  |  92448940 |  92449667 | 728 |  8 |  0.6094742 |  7.635594 | 0.0005392732 | 0.8146332 | Hypermethylated | ⋯ | No  | No  | No | Yes | 3' UTR            | 23859  | 1971709 | ENSMUSG00000052572 | Dlg2    | discs large MAGUK scaffold protein 2                  |\n",
       "| chr4  |  24077950 |  24078197 | 248 |  5 |  0.7599784 |  7.631384 | 0.0005392732 | 0.8146332 | Hypermethylated | ⋯ | No  | No  | No | Yes | Distal Intergenic | 212377 | -418254 | ENSMUSG00000045751 | Mms22l  | MMS22-like, DNA repair protein                        |\n",
       "| chr9  | 118085608 | 118085943 | 336 |  7 |  0.8877527 |  7.520019 | 0.0006017976 | 0.8146332 | Hypermethylated | ⋯ | No  | No  | No | Yes | Intron            | 67899  |   64234 | ENSMUSG00000039163 | Cmc1    | COX assembly mitochondrial protein 1                  |\n",
       "| chr17 |  74424279 |  74424751 | 473 | 13 | -0.6255215 | -7.467470 | 0.0006799531 | 0.8146332 | Hypomethylated  | ⋯ | No  | No  | No | Yes | Downstream        | 210148 |   14453 | ENSMUSG00000024069 | Slc30a6 | solute carrier family 30 (zinc transporter), member 6 |\n",
       "\n"
      ],
      "text/plain": [
       "  chr   start     end       width CpGs betaCoefficient statistic p.value     \n",
       "1 chr2   87525906  87526271 366   27   -0.7075803      -8.439746 0.0001484955\n",
       "2 chr5  131236777 131237235 459    9    0.6906494       7.767359 0.0004611176\n",
       "3 chr7   92448940  92449667 728    8    0.6094742       7.635594 0.0005392732\n",
       "4 chr4   24077950  24078197 248    5    0.7599784       7.631384 0.0005392732\n",
       "5 chr9  118085608 118085943 336    7    0.8877527       7.520019 0.0006017976\n",
       "6 chr17  74424279  74424751 473   13   -0.6255215      -7.467470 0.0006799531\n",
       "  q.value   direction       ⋯ CpG.Island CpG.Shore CpG.Shelf Open.Sea\n",
       "1 0.8146332 Hypomethylated  ⋯ Yes        Yes       No        No      \n",
       "2 0.8146332 Hypermethylated ⋯ No         No        No        Yes     \n",
       "3 0.8146332 Hypermethylated ⋯ No         No        No        Yes     \n",
       "4 0.8146332 Hypermethylated ⋯ No         No        No        Yes     \n",
       "5 0.8146332 Hypermethylated ⋯ No         No        No        Yes     \n",
       "6 0.8146332 Hypomethylated  ⋯ No         No        No        Yes     \n",
       "  annotation        geneId distanceToTSS ENSEMBL            geneSymbol\n",
       "1 Exon              110511   -5525       ENSMUSG00000061520 Or5w22    \n",
       "2 Intron            212996   71262       ENSMUSG00000034040 Galnt17   \n",
       "3 3' UTR            23859  1971709       ENSMUSG00000052572 Dlg2      \n",
       "4 Distal Intergenic 212377 -418254       ENSMUSG00000045751 Mms22l    \n",
       "5 Intron            67899    64234       ENSMUSG00000039163 Cmc1      \n",
       "6 Downstream        210148   14453       ENSMUSG00000024069 Slc30a6   \n",
       "  gene                                                 \n",
       "1 olfactory receptor family 5 subfamily W member 22    \n",
       "2 polypeptide N-acetylgalactosaminyltransferase 17     \n",
       "3 discs large MAGUK scaffold protein 2                 \n",
       "4 MMS22-like, DNA repair protein                       \n",
       "5 COX assembly mitochondrial protein 1                 \n",
       "6 solute carrier family 30 (zinc transporter), member 6"
      ]
     },
     "metadata": {},
     "output_type": "display_data"
    }
   ],
   "source": [
    "# Load data\n",
    "dmrs <- read_excel(\"wgbs/08_cytosine_reports/DMRs/DMRs_annotated.xlsx\")\n",
    "\n",
    "# Subset to significant DMRs only\n",
    "dmrs <- dmrs[dmrs$p.value < 0.05, ]\n",
    "\n",
    "# View\n",
    "head(dmrs)"
   ]
  },
  {
   "cell_type": "code",
   "execution_count": 6,
   "id": "b8be0b4e-6460-43f9-b410-aa5c0bfaa71e",
   "metadata": {},
   "outputs": [
    {
     "name": "stdout",
     "output_type": "stream",
     "text": [
      "Uploading data to Enrichr... Done.\n",
      "  Querying GO_Biological_Process_2023... Done.\n",
      "  Querying GO_Cellular_Component_2023... Done.\n",
      "  Querying GO_Molecular_Function_2023... Done.\n",
      "  Querying KEGG_2019_Mouse... Done.\n",
      "  Querying Panther_2016... Done.\n",
      "  Querying Reactome_2016... Done.\n",
      "  Querying RNA-Seq_Disease_Gene_and_Drug_Signatures_from_GEO... Done.\n",
      "Parsing results... Done.\n",
      "Enrichr results saved: wgbs/08_cytosine_reports/DMRs/DMR_enrichr_results.xlsx"
     ]
    }
   ],
   "source": [
    "# Perform the enrichR analysis on the gene list\n",
    "enrichr_results <- enrichr(dmrs$geneSymbol, c(\"GO_Biological_Process_2023\",\n",
    "                                                    \"GO_Cellular_Component_2023\",\n",
    "                                                    \"GO_Molecular_Function_2023\",\n",
    "                                                    \"KEGG_2019_Mouse\",\n",
    "                                                    \"Panther_2016\",\n",
    "                                                    \"Reactome_2016\",\n",
    "                                                    \"RNA-Seq_Disease_Gene_and_Drug_Signatures_from_GEO\"))\n",
    "\n",
    "# Create a new Excel workbook for the current file\n",
    "wb <- createWorkbook()\n",
    "\n",
    "# Loop through each table in enrichr_results and save it as a separate sheet in the Excel workbook\n",
    "for (i in seq_along(enrichr_results)) {\n",
    "  # Extract the data frame from the list\n",
    "  enrichr_df <- enrichr_results[[i]]\n",
    "  \n",
    "  # Define the original sheet name\n",
    "  original_sheet_name <- names(enrichr_results)[i]\n",
    "  \n",
    "  # Modify the sheet name if it's specifically \"RNA-Seq_Disease_Gene_and_Drug_Signatures_from_GEO\"\n",
    "  sheet_name <- if (original_sheet_name == \"RNA-Seq_Disease_Gene_and_Drug_Signatures_from_GEO\") {\n",
    "    \"RNAseq_DiseaseGene_DrugSigs_GEO\"\n",
    "  } else {\n",
    "    original_sheet_name\n",
    "  }\n",
    "  \n",
    "  # Add the data frame as a new sheet in the Excel workbook\n",
    "  addWorksheet(wb, sheet_name)\n",
    "  writeData(wb, sheet = sheet_name, x = enrichr_df)\n",
    "}\n",
    "\n",
    "# Define the output Excel filename based on the input file name\n",
    "output_filename <- paste0(\"wgbs/08_cytosine_reports/DMRs/DMR_enrichr_results.xlsx\")\n",
    "\n",
    "# Save the Excel workbook for this file\n",
    "saveWorkbook(wb, output_filename, overwrite = TRUE)\n",
    "\n",
    "# Print message indicating successful save\n",
    "cat(\"Enrichr results saved: wgbs/08_cytosine_reports/DMRs/DMR_enrichr_results.xlsx\")"
   ]
  },
  {
   "cell_type": "code",
   "execution_count": 24,
   "id": "5354ec42-4d5a-45f9-91a3-aee7c62a0d06",
   "metadata": {},
   "outputs": [
    {
     "name": "stdout",
     "output_type": "stream",
     "text": [
      "[1] \"wgbs/08_cytosine_reports/DMRs/DMR_enrichr_results.xlsx\"       \n",
      "[2] \"rnaseq/05_DEGs/control_vs_faexcess_genes_enrichr_results.xlsx\"\n"
     ]
    }
   ],
   "source": [
    "# Read in EnrichR data\n",
    "files <- c(\"wgbs/08_cytosine_reports/DMRs/DMR_enrichr_results.xlsx\", \"rnaseq/05_DEGs/control_vs_faexcess_genes_enrichr_results.xlsx\")\n",
    "\n",
    "# View\n",
    "print(files)"
   ]
  },
  {
   "cell_type": "code",
   "execution_count": 25,
   "id": "23ea7c7d-7c1e-481e-a54d-eaaebf0af28a",
   "metadata": {},
   "outputs": [],
   "source": [
    "# List of GO databases\n",
    "databases <- c(\"GO_Biological_Process_2023\", \"GO_Cellular_Component_2023\", \"GO_Molecular_Function_2023\",\n",
    "               \"KEGG_2019_Mouse\", \"Panther_2016\", \"Reactome_2016\", \"RNAseq_DiseaseGene_DrugSigs_GEO\")"
   ]
  },
  {
   "cell_type": "code",
   "execution_count": 36,
   "id": "8464de37-be71-46e9-8a78-fee11af4baa2",
   "metadata": {},
   "outputs": [
    {
     "data": {
      "text/html": [
       "<table class=\"dataframe\">\n",
       "<caption>A data.frame: 6 × 11</caption>\n",
       "<thead>\n",
       "\t<tr><th></th><th scope=col>Term</th><th scope=col>Overlap</th><th scope=col>P.value</th><th scope=col>Adjusted.P.value</th><th scope=col>Old.P.value</th><th scope=col>Old.Adjusted.P.value</th><th scope=col>Odds.Ratio</th><th scope=col>Combined.Score</th><th scope=col>Genes</th><th scope=col>Sample_Name</th><th scope=col>Database</th></tr>\n",
       "\t<tr><th></th><th scope=col>&lt;chr&gt;</th><th scope=col>&lt;chr&gt;</th><th scope=col>&lt;dbl&gt;</th><th scope=col>&lt;dbl&gt;</th><th scope=col>&lt;dbl&gt;</th><th scope=col>&lt;dbl&gt;</th><th scope=col>&lt;dbl&gt;</th><th scope=col>&lt;dbl&gt;</th><th scope=col>&lt;chr&gt;</th><th scope=col>&lt;chr&gt;</th><th scope=col>&lt;chr&gt;</th></tr>\n",
       "</thead>\n",
       "<tbody>\n",
       "\t<tr><th scope=row>1</th><td>Neuron Development (GO:0048666)                                            </td><td>18/150</td><td>4.335769e-05</td><td>0.04692262</td><td>0</td><td>0</td><td>3.242935</td><td>32.57861</td><td>ROBO2;APP;NTRK2;TENM2;TENM3;PBX3;DTNBP1;BICDL1;PTPRM;ETV1;HMGB1;HS6ST1;POU4F1;PBX1;ADCYAP1;BLOC1S5;NPY;TMEM108       </td><td>DMRs</td><td>GO_Biological_Process_2023</td></tr>\n",
       "\t<tr><th scope=row>2</th><td>Actin Cytoskeleton Reorganization (GO:0031532)                             </td><td>10/53 </td><td>4.943108e-05</td><td>0.04692262</td><td>0</td><td>0</td><td>5.501480</td><td>54.54680</td><td>FGF7;RAP2A;SIPA1L1;THSD7B;AUTS2;S1PR1;DTNBP1;TNIK;ATP2C1;FGF10                                                       </td><td>DMRs</td><td>GO_Biological_Process_2023</td></tr>\n",
       "\t<tr><th scope=row>3</th><td>Regulation Of Potassium Ion Transmembrane Transporter Activity (GO:1901016)</td><td>7/26  </td><td>6.253209e-05</td><td>0.04692262</td><td>0</td><td>0</td><td>8.694192</td><td>84.15831</td><td>KCNG1;KCNE1;NETO1;KCNS1;AKAP9;STK39;CACNA1D                                                                          </td><td>DMRs</td><td>GO_Biological_Process_2023</td></tr>\n",
       "\t<tr><th scope=row>4</th><td>Glutamate Receptor Signaling Pathway (GO:0007215)                          </td><td>8/35  </td><td>6.720032e-05</td><td>0.04692262</td><td>0</td><td>0</td><td>6.997854</td><td>67.23421</td><td>GRIN2A;GRM7;GNAQ;GRM8;GRIK3;PTK2B;GRIK1;GRIN2B                                                                       </td><td>DMRs</td><td>GO_Biological_Process_2023</td></tr>\n",
       "\t<tr><th scope=row>5</th><td>Regulation Of Neuron Projection Development (GO:0010975)                   </td><td>19/174</td><td>9.827547e-05</td><td>0.05489668</td><td>0</td><td>0</td><td>2.915274</td><td>26.90138</td><td>FZD1;EPHA4;MYLIP;NTRK2;TENM3;BDNF;NTRK3;ULK4;PTPRO;MBOAT1;SIPA1L1;PTK2B;SPOCK1;ITGA6;PRKD1;ROR2;SERPINI1;LRRC4C;EPHA3</td><td>DMRs</td><td>GO_Biological_Process_2023</td></tr>\n",
       "\t<tr><th scope=row>6</th><td>Negative Regulation Of Response To Stimulus (GO:0048585)                   </td><td>9/52  </td><td>2.340946e-04</td><td>0.10269912</td><td>0</td><td>0</td><td>4.945220</td><td>41.34097</td><td>EPHA4;COL3A1;DDAH1;IGFBP3;VPS13C;KLF4;SIRT1;ADRA2A;MAP2K5                                                            </td><td>DMRs</td><td>GO_Biological_Process_2023</td></tr>\n",
       "</tbody>\n",
       "</table>\n"
      ],
      "text/latex": [
       "A data.frame: 6 × 11\n",
       "\\begin{tabular}{r|lllllllllll}\n",
       "  & Term & Overlap & P.value & Adjusted.P.value & Old.P.value & Old.Adjusted.P.value & Odds.Ratio & Combined.Score & Genes & Sample\\_Name & Database\\\\\n",
       "  & <chr> & <chr> & <dbl> & <dbl> & <dbl> & <dbl> & <dbl> & <dbl> & <chr> & <chr> & <chr>\\\\\n",
       "\\hline\n",
       "\t1 & Neuron Development (GO:0048666)                                             & 18/150 & 4.335769e-05 & 0.04692262 & 0 & 0 & 3.242935 & 32.57861 & ROBO2;APP;NTRK2;TENM2;TENM3;PBX3;DTNBP1;BICDL1;PTPRM;ETV1;HMGB1;HS6ST1;POU4F1;PBX1;ADCYAP1;BLOC1S5;NPY;TMEM108        & DMRs & GO\\_Biological\\_Process\\_2023\\\\\n",
       "\t2 & Actin Cytoskeleton Reorganization (GO:0031532)                              & 10/53  & 4.943108e-05 & 0.04692262 & 0 & 0 & 5.501480 & 54.54680 & FGF7;RAP2A;SIPA1L1;THSD7B;AUTS2;S1PR1;DTNBP1;TNIK;ATP2C1;FGF10                                                        & DMRs & GO\\_Biological\\_Process\\_2023\\\\\n",
       "\t3 & Regulation Of Potassium Ion Transmembrane Transporter Activity (GO:1901016) & 7/26   & 6.253209e-05 & 0.04692262 & 0 & 0 & 8.694192 & 84.15831 & KCNG1;KCNE1;NETO1;KCNS1;AKAP9;STK39;CACNA1D                                                                           & DMRs & GO\\_Biological\\_Process\\_2023\\\\\n",
       "\t4 & Glutamate Receptor Signaling Pathway (GO:0007215)                           & 8/35   & 6.720032e-05 & 0.04692262 & 0 & 0 & 6.997854 & 67.23421 & GRIN2A;GRM7;GNAQ;GRM8;GRIK3;PTK2B;GRIK1;GRIN2B                                                                        & DMRs & GO\\_Biological\\_Process\\_2023\\\\\n",
       "\t5 & Regulation Of Neuron Projection Development (GO:0010975)                    & 19/174 & 9.827547e-05 & 0.05489668 & 0 & 0 & 2.915274 & 26.90138 & FZD1;EPHA4;MYLIP;NTRK2;TENM3;BDNF;NTRK3;ULK4;PTPRO;MBOAT1;SIPA1L1;PTK2B;SPOCK1;ITGA6;PRKD1;ROR2;SERPINI1;LRRC4C;EPHA3 & DMRs & GO\\_Biological\\_Process\\_2023\\\\\n",
       "\t6 & Negative Regulation Of Response To Stimulus (GO:0048585)                    & 9/52   & 2.340946e-04 & 0.10269912 & 0 & 0 & 4.945220 & 41.34097 & EPHA4;COL3A1;DDAH1;IGFBP3;VPS13C;KLF4;SIRT1;ADRA2A;MAP2K5                                                             & DMRs & GO\\_Biological\\_Process\\_2023\\\\\n",
       "\\end{tabular}\n"
      ],
      "text/markdown": [
       "\n",
       "A data.frame: 6 × 11\n",
       "\n",
       "| <!--/--> | Term &lt;chr&gt; | Overlap &lt;chr&gt; | P.value &lt;dbl&gt; | Adjusted.P.value &lt;dbl&gt; | Old.P.value &lt;dbl&gt; | Old.Adjusted.P.value &lt;dbl&gt; | Odds.Ratio &lt;dbl&gt; | Combined.Score &lt;dbl&gt; | Genes &lt;chr&gt; | Sample_Name &lt;chr&gt; | Database &lt;chr&gt; |\n",
       "|---|---|---|---|---|---|---|---|---|---|---|---|\n",
       "| 1 | Neuron Development (GO:0048666)                                             | 18/150 | 4.335769e-05 | 0.04692262 | 0 | 0 | 3.242935 | 32.57861 | ROBO2;APP;NTRK2;TENM2;TENM3;PBX3;DTNBP1;BICDL1;PTPRM;ETV1;HMGB1;HS6ST1;POU4F1;PBX1;ADCYAP1;BLOC1S5;NPY;TMEM108        | DMRs | GO_Biological_Process_2023 |\n",
       "| 2 | Actin Cytoskeleton Reorganization (GO:0031532)                              | 10/53  | 4.943108e-05 | 0.04692262 | 0 | 0 | 5.501480 | 54.54680 | FGF7;RAP2A;SIPA1L1;THSD7B;AUTS2;S1PR1;DTNBP1;TNIK;ATP2C1;FGF10                                                        | DMRs | GO_Biological_Process_2023 |\n",
       "| 3 | Regulation Of Potassium Ion Transmembrane Transporter Activity (GO:1901016) | 7/26   | 6.253209e-05 | 0.04692262 | 0 | 0 | 8.694192 | 84.15831 | KCNG1;KCNE1;NETO1;KCNS1;AKAP9;STK39;CACNA1D                                                                           | DMRs | GO_Biological_Process_2023 |\n",
       "| 4 | Glutamate Receptor Signaling Pathway (GO:0007215)                           | 8/35   | 6.720032e-05 | 0.04692262 | 0 | 0 | 6.997854 | 67.23421 | GRIN2A;GRM7;GNAQ;GRM8;GRIK3;PTK2B;GRIK1;GRIN2B                                                                        | DMRs | GO_Biological_Process_2023 |\n",
       "| 5 | Regulation Of Neuron Projection Development (GO:0010975)                    | 19/174 | 9.827547e-05 | 0.05489668 | 0 | 0 | 2.915274 | 26.90138 | FZD1;EPHA4;MYLIP;NTRK2;TENM3;BDNF;NTRK3;ULK4;PTPRO;MBOAT1;SIPA1L1;PTK2B;SPOCK1;ITGA6;PRKD1;ROR2;SERPINI1;LRRC4C;EPHA3 | DMRs | GO_Biological_Process_2023 |\n",
       "| 6 | Negative Regulation Of Response To Stimulus (GO:0048585)                    | 9/52   | 2.340946e-04 | 0.10269912 | 0 | 0 | 4.945220 | 41.34097 | EPHA4;COL3A1;DDAH1;IGFBP3;VPS13C;KLF4;SIRT1;ADRA2A;MAP2K5                                                             | DMRs | GO_Biological_Process_2023 |\n",
       "\n"
      ],
      "text/plain": [
       "  Term                                                                       \n",
       "1 Neuron Development (GO:0048666)                                            \n",
       "2 Actin Cytoskeleton Reorganization (GO:0031532)                             \n",
       "3 Regulation Of Potassium Ion Transmembrane Transporter Activity (GO:1901016)\n",
       "4 Glutamate Receptor Signaling Pathway (GO:0007215)                          \n",
       "5 Regulation Of Neuron Projection Development (GO:0010975)                   \n",
       "6 Negative Regulation Of Response To Stimulus (GO:0048585)                   \n",
       "  Overlap P.value      Adjusted.P.value Old.P.value Old.Adjusted.P.value\n",
       "1 18/150  4.335769e-05 0.04692262       0           0                   \n",
       "2 10/53   4.943108e-05 0.04692262       0           0                   \n",
       "3 7/26    6.253209e-05 0.04692262       0           0                   \n",
       "4 8/35    6.720032e-05 0.04692262       0           0                   \n",
       "5 19/174  9.827547e-05 0.05489668       0           0                   \n",
       "6 9/52    2.340946e-04 0.10269912       0           0                   \n",
       "  Odds.Ratio Combined.Score\n",
       "1 3.242935   32.57861      \n",
       "2 5.501480   54.54680      \n",
       "3 8.694192   84.15831      \n",
       "4 6.997854   67.23421      \n",
       "5 2.915274   26.90138      \n",
       "6 4.945220   41.34097      \n",
       "  Genes                                                                                                                \n",
       "1 ROBO2;APP;NTRK2;TENM2;TENM3;PBX3;DTNBP1;BICDL1;PTPRM;ETV1;HMGB1;HS6ST1;POU4F1;PBX1;ADCYAP1;BLOC1S5;NPY;TMEM108       \n",
       "2 FGF7;RAP2A;SIPA1L1;THSD7B;AUTS2;S1PR1;DTNBP1;TNIK;ATP2C1;FGF10                                                       \n",
       "3 KCNG1;KCNE1;NETO1;KCNS1;AKAP9;STK39;CACNA1D                                                                          \n",
       "4 GRIN2A;GRM7;GNAQ;GRM8;GRIK3;PTK2B;GRIK1;GRIN2B                                                                       \n",
       "5 FZD1;EPHA4;MYLIP;NTRK2;TENM3;BDNF;NTRK3;ULK4;PTPRO;MBOAT1;SIPA1L1;PTK2B;SPOCK1;ITGA6;PRKD1;ROR2;SERPINI1;LRRC4C;EPHA3\n",
       "6 EPHA4;COL3A1;DDAH1;IGFBP3;VPS13C;KLF4;SIRT1;ADRA2A;MAP2K5                                                            \n",
       "  Sample_Name Database                  \n",
       "1 DMRs        GO_Biological_Process_2023\n",
       "2 DMRs        GO_Biological_Process_2023\n",
       "3 DMRs        GO_Biological_Process_2023\n",
       "4 DMRs        GO_Biological_Process_2023\n",
       "5 DMRs        GO_Biological_Process_2023\n",
       "6 DMRs        GO_Biological_Process_2023"
      ]
     },
     "metadata": {},
     "output_type": "display_data"
    }
   ],
   "source": [
    "# Initialize an empty dataframe\n",
    "all_data <- data.frame()\n",
    "\n",
    "# Iterate over each file and read in the corresponding Excel sheets\n",
    "for (file in files) {\n",
    "  # Determine the sample name based on the file name\n",
    "  if (grepl(\"DMR_enrichr_results.xlsx\", file)) {\n",
    "    sample_name <- \"DMRs\"\n",
    "  } else if (grepl(\"control_vs_faexcess_genes_enrichr_results.xlsx\", file)) {\n",
    "    sample_name <- \"DEGs\"\n",
    "  } else {\n",
    "    next  \n",
    "  }\n",
    "  \n",
    "  # Read in all sheets from the Excel file\n",
    "  sheets <- excel_sheets(file)\n",
    "  \n",
    "  for (database in databases) {\n",
    "    # Check if the database sheet exists in the current file\n",
    "    if (database %in% sheets) {\n",
    "      # Read the data from the specific sheet\n",
    "      data <- read_excel(file, sheet = database)\n",
    "      \n",
    "      # Add the Sample_Name and Database columns\n",
    "      data <- data %>%\n",
    "        mutate(Sample_Name = sample_name, Database = database)\n",
    "      \n",
    "      # Combine the data into the master dataframe\n",
    "      all_data <- bind_rows(all_data, data)\n",
    "    }\n",
    "  }\n",
    "}\n",
    "\n",
    "# View \n",
    "head(all_data)"
   ]
  },
  {
   "cell_type": "code",
   "execution_count": 37,
   "id": "53343f37-c170-4336-934e-88db3dc778f9",
   "metadata": {},
   "outputs": [
    {
     "data": {
      "text/html": [
       "<table class=\"dataframe\">\n",
       "<caption>A data.frame: 6 × 11</caption>\n",
       "<thead>\n",
       "\t<tr><th></th><th scope=col>Term</th><th scope=col>Overlap</th><th scope=col>P.value</th><th scope=col>Adjusted.P.value</th><th scope=col>Old.P.value</th><th scope=col>Old.Adjusted.P.value</th><th scope=col>Odds.Ratio</th><th scope=col>Combined.Score</th><th scope=col>Genes</th><th scope=col>Sample_Name</th><th scope=col>Database</th></tr>\n",
       "\t<tr><th></th><th scope=col>&lt;chr&gt;</th><th scope=col>&lt;chr&gt;</th><th scope=col>&lt;dbl&gt;</th><th scope=col>&lt;dbl&gt;</th><th scope=col>&lt;dbl&gt;</th><th scope=col>&lt;dbl&gt;</th><th scope=col>&lt;dbl&gt;</th><th scope=col>&lt;dbl&gt;</th><th scope=col>&lt;chr&gt;</th><th scope=col>&lt;chr&gt;</th><th scope=col>&lt;chr&gt;</th></tr>\n",
       "</thead>\n",
       "<tbody>\n",
       "\t<tr><th scope=row>1</th><td>Neuron Development (GO:0048666)                                            </td><td>18/150</td><td>4.335769e-05</td><td>0.0469226249</td><td>0</td><td>0</td><td>3.242935</td><td>32.57861</td><td>ROBO2;APP;NTRK2;TENM2;TENM3;PBX3;DTNBP1;BICDL1;PTPRM;ETV1;HMGB1;HS6ST1;POU4F1;PBX1;ADCYAP1;BLOC1S5;NPY;TMEM108               </td><td>DMRs</td><td>GO_Biological_Process_2023</td></tr>\n",
       "\t<tr><th scope=row>2</th><td>Actin Cytoskeleton Reorganization (GO:0031532)                             </td><td>10/53 </td><td>4.943108e-05</td><td>0.0469226249</td><td>0</td><td>0</td><td>5.501480</td><td>54.54680</td><td>FGF7;RAP2A;SIPA1L1;THSD7B;AUTS2;S1PR1;DTNBP1;TNIK;ATP2C1;FGF10                                                               </td><td>DMRs</td><td>GO_Biological_Process_2023</td></tr>\n",
       "\t<tr><th scope=row>3</th><td>Regulation Of Potassium Ion Transmembrane Transporter Activity (GO:1901016)</td><td>7/26  </td><td>6.253209e-05</td><td>0.0469226249</td><td>0</td><td>0</td><td>8.694192</td><td>84.15831</td><td>KCNG1;KCNE1;NETO1;KCNS1;AKAP9;STK39;CACNA1D                                                                                  </td><td>DMRs</td><td>GO_Biological_Process_2023</td></tr>\n",
       "\t<tr><th scope=row>4</th><td>Glutamate Receptor Signaling Pathway (GO:0007215)                          </td><td>8/35  </td><td>6.720032e-05</td><td>0.0469226249</td><td>0</td><td>0</td><td>6.997854</td><td>67.23421</td><td>GRIN2A;GRM7;GNAQ;GRM8;GRIK3;PTK2B;GRIK1;GRIN2B                                                                               </td><td>DMRs</td><td>GO_Biological_Process_2023</td></tr>\n",
       "\t<tr><th scope=row>5</th><td>Postsynaptic Density (GO:0014069)                                          </td><td>20/151</td><td>3.704816e-06</td><td>0.0009150897</td><td>0</td><td>0</td><td>3.640046</td><td>45.52197</td><td>NSF;GRIA1;NTRK2;GRIK3;DTNBP1;GRIK1;SHISA9;GRIN2B;SHISA6;GRIN2A;GAP43;DLG2;SIPA1L1;NETO1;TMEM108;PTK2B;SPOCK1;RPL38;FYN;CACNG2</td><td>DMRs</td><td>GO_Cellular_Component_2023</td></tr>\n",
       "\t<tr><th scope=row>6</th><td>Asymmetric Synapse (GO:0032279)                                            </td><td>18/133</td><td>8.268768e-06</td><td>0.0010211928</td><td>0</td><td>0</td><td>3.725647</td><td>43.60134</td><td>NSF;GRIA1;NTRK2;DTNBP1;SHISA9;GRIN2B;SHISA6;GRIN2A;GAP43;DLG2;SIPA1L1;GRM7;NETO1;TMEM108;PTK2B;SPOCK1;RPL38;FYN              </td><td>DMRs</td><td>GO_Cellular_Component_2023</td></tr>\n",
       "</tbody>\n",
       "</table>\n"
      ],
      "text/latex": [
       "A data.frame: 6 × 11\n",
       "\\begin{tabular}{r|lllllllllll}\n",
       "  & Term & Overlap & P.value & Adjusted.P.value & Old.P.value & Old.Adjusted.P.value & Odds.Ratio & Combined.Score & Genes & Sample\\_Name & Database\\\\\n",
       "  & <chr> & <chr> & <dbl> & <dbl> & <dbl> & <dbl> & <dbl> & <dbl> & <chr> & <chr> & <chr>\\\\\n",
       "\\hline\n",
       "\t1 & Neuron Development (GO:0048666)                                             & 18/150 & 4.335769e-05 & 0.0469226249 & 0 & 0 & 3.242935 & 32.57861 & ROBO2;APP;NTRK2;TENM2;TENM3;PBX3;DTNBP1;BICDL1;PTPRM;ETV1;HMGB1;HS6ST1;POU4F1;PBX1;ADCYAP1;BLOC1S5;NPY;TMEM108                & DMRs & GO\\_Biological\\_Process\\_2023\\\\\n",
       "\t2 & Actin Cytoskeleton Reorganization (GO:0031532)                              & 10/53  & 4.943108e-05 & 0.0469226249 & 0 & 0 & 5.501480 & 54.54680 & FGF7;RAP2A;SIPA1L1;THSD7B;AUTS2;S1PR1;DTNBP1;TNIK;ATP2C1;FGF10                                                                & DMRs & GO\\_Biological\\_Process\\_2023\\\\\n",
       "\t3 & Regulation Of Potassium Ion Transmembrane Transporter Activity (GO:1901016) & 7/26   & 6.253209e-05 & 0.0469226249 & 0 & 0 & 8.694192 & 84.15831 & KCNG1;KCNE1;NETO1;KCNS1;AKAP9;STK39;CACNA1D                                                                                   & DMRs & GO\\_Biological\\_Process\\_2023\\\\\n",
       "\t4 & Glutamate Receptor Signaling Pathway (GO:0007215)                           & 8/35   & 6.720032e-05 & 0.0469226249 & 0 & 0 & 6.997854 & 67.23421 & GRIN2A;GRM7;GNAQ;GRM8;GRIK3;PTK2B;GRIK1;GRIN2B                                                                                & DMRs & GO\\_Biological\\_Process\\_2023\\\\\n",
       "\t5 & Postsynaptic Density (GO:0014069)                                           & 20/151 & 3.704816e-06 & 0.0009150897 & 0 & 0 & 3.640046 & 45.52197 & NSF;GRIA1;NTRK2;GRIK3;DTNBP1;GRIK1;SHISA9;GRIN2B;SHISA6;GRIN2A;GAP43;DLG2;SIPA1L1;NETO1;TMEM108;PTK2B;SPOCK1;RPL38;FYN;CACNG2 & DMRs & GO\\_Cellular\\_Component\\_2023\\\\\n",
       "\t6 & Asymmetric Synapse (GO:0032279)                                             & 18/133 & 8.268768e-06 & 0.0010211928 & 0 & 0 & 3.725647 & 43.60134 & NSF;GRIA1;NTRK2;DTNBP1;SHISA9;GRIN2B;SHISA6;GRIN2A;GAP43;DLG2;SIPA1L1;GRM7;NETO1;TMEM108;PTK2B;SPOCK1;RPL38;FYN               & DMRs & GO\\_Cellular\\_Component\\_2023\\\\\n",
       "\\end{tabular}\n"
      ],
      "text/markdown": [
       "\n",
       "A data.frame: 6 × 11\n",
       "\n",
       "| <!--/--> | Term &lt;chr&gt; | Overlap &lt;chr&gt; | P.value &lt;dbl&gt; | Adjusted.P.value &lt;dbl&gt; | Old.P.value &lt;dbl&gt; | Old.Adjusted.P.value &lt;dbl&gt; | Odds.Ratio &lt;dbl&gt; | Combined.Score &lt;dbl&gt; | Genes &lt;chr&gt; | Sample_Name &lt;chr&gt; | Database &lt;chr&gt; |\n",
       "|---|---|---|---|---|---|---|---|---|---|---|---|\n",
       "| 1 | Neuron Development (GO:0048666)                                             | 18/150 | 4.335769e-05 | 0.0469226249 | 0 | 0 | 3.242935 | 32.57861 | ROBO2;APP;NTRK2;TENM2;TENM3;PBX3;DTNBP1;BICDL1;PTPRM;ETV1;HMGB1;HS6ST1;POU4F1;PBX1;ADCYAP1;BLOC1S5;NPY;TMEM108                | DMRs | GO_Biological_Process_2023 |\n",
       "| 2 | Actin Cytoskeleton Reorganization (GO:0031532)                              | 10/53  | 4.943108e-05 | 0.0469226249 | 0 | 0 | 5.501480 | 54.54680 | FGF7;RAP2A;SIPA1L1;THSD7B;AUTS2;S1PR1;DTNBP1;TNIK;ATP2C1;FGF10                                                                | DMRs | GO_Biological_Process_2023 |\n",
       "| 3 | Regulation Of Potassium Ion Transmembrane Transporter Activity (GO:1901016) | 7/26   | 6.253209e-05 | 0.0469226249 | 0 | 0 | 8.694192 | 84.15831 | KCNG1;KCNE1;NETO1;KCNS1;AKAP9;STK39;CACNA1D                                                                                   | DMRs | GO_Biological_Process_2023 |\n",
       "| 4 | Glutamate Receptor Signaling Pathway (GO:0007215)                           | 8/35   | 6.720032e-05 | 0.0469226249 | 0 | 0 | 6.997854 | 67.23421 | GRIN2A;GRM7;GNAQ;GRM8;GRIK3;PTK2B;GRIK1;GRIN2B                                                                                | DMRs | GO_Biological_Process_2023 |\n",
       "| 5 | Postsynaptic Density (GO:0014069)                                           | 20/151 | 3.704816e-06 | 0.0009150897 | 0 | 0 | 3.640046 | 45.52197 | NSF;GRIA1;NTRK2;GRIK3;DTNBP1;GRIK1;SHISA9;GRIN2B;SHISA6;GRIN2A;GAP43;DLG2;SIPA1L1;NETO1;TMEM108;PTK2B;SPOCK1;RPL38;FYN;CACNG2 | DMRs | GO_Cellular_Component_2023 |\n",
       "| 6 | Asymmetric Synapse (GO:0032279)                                             | 18/133 | 8.268768e-06 | 0.0010211928 | 0 | 0 | 3.725647 | 43.60134 | NSF;GRIA1;NTRK2;DTNBP1;SHISA9;GRIN2B;SHISA6;GRIN2A;GAP43;DLG2;SIPA1L1;GRM7;NETO1;TMEM108;PTK2B;SPOCK1;RPL38;FYN               | DMRs | GO_Cellular_Component_2023 |\n",
       "\n"
      ],
      "text/plain": [
       "  Term                                                                       \n",
       "1 Neuron Development (GO:0048666)                                            \n",
       "2 Actin Cytoskeleton Reorganization (GO:0031532)                             \n",
       "3 Regulation Of Potassium Ion Transmembrane Transporter Activity (GO:1901016)\n",
       "4 Glutamate Receptor Signaling Pathway (GO:0007215)                          \n",
       "5 Postsynaptic Density (GO:0014069)                                          \n",
       "6 Asymmetric Synapse (GO:0032279)                                            \n",
       "  Overlap P.value      Adjusted.P.value Old.P.value Old.Adjusted.P.value\n",
       "1 18/150  4.335769e-05 0.0469226249     0           0                   \n",
       "2 10/53   4.943108e-05 0.0469226249     0           0                   \n",
       "3 7/26    6.253209e-05 0.0469226249     0           0                   \n",
       "4 8/35    6.720032e-05 0.0469226249     0           0                   \n",
       "5 20/151  3.704816e-06 0.0009150897     0           0                   \n",
       "6 18/133  8.268768e-06 0.0010211928     0           0                   \n",
       "  Odds.Ratio Combined.Score\n",
       "1 3.242935   32.57861      \n",
       "2 5.501480   54.54680      \n",
       "3 8.694192   84.15831      \n",
       "4 6.997854   67.23421      \n",
       "5 3.640046   45.52197      \n",
       "6 3.725647   43.60134      \n",
       "  Genes                                                                                                                        \n",
       "1 ROBO2;APP;NTRK2;TENM2;TENM3;PBX3;DTNBP1;BICDL1;PTPRM;ETV1;HMGB1;HS6ST1;POU4F1;PBX1;ADCYAP1;BLOC1S5;NPY;TMEM108               \n",
       "2 FGF7;RAP2A;SIPA1L1;THSD7B;AUTS2;S1PR1;DTNBP1;TNIK;ATP2C1;FGF10                                                               \n",
       "3 KCNG1;KCNE1;NETO1;KCNS1;AKAP9;STK39;CACNA1D                                                                                  \n",
       "4 GRIN2A;GRM7;GNAQ;GRM8;GRIK3;PTK2B;GRIK1;GRIN2B                                                                               \n",
       "5 NSF;GRIA1;NTRK2;GRIK3;DTNBP1;GRIK1;SHISA9;GRIN2B;SHISA6;GRIN2A;GAP43;DLG2;SIPA1L1;NETO1;TMEM108;PTK2B;SPOCK1;RPL38;FYN;CACNG2\n",
       "6 NSF;GRIA1;NTRK2;DTNBP1;SHISA9;GRIN2B;SHISA6;GRIN2A;GAP43;DLG2;SIPA1L1;GRM7;NETO1;TMEM108;PTK2B;SPOCK1;RPL38;FYN              \n",
       "  Sample_Name Database                  \n",
       "1 DMRs        GO_Biological_Process_2023\n",
       "2 DMRs        GO_Biological_Process_2023\n",
       "3 DMRs        GO_Biological_Process_2023\n",
       "4 DMRs        GO_Biological_Process_2023\n",
       "5 DMRs        GO_Cellular_Component_2023\n",
       "6 DMRs        GO_Cellular_Component_2023"
      ]
     },
     "metadata": {},
     "output_type": "display_data"
    }
   ],
   "source": [
    "# Filter out rows where the Adjusted.P.value is less than 0.05\n",
    "all_data <- all_data %>%\n",
    "  filter(Adjusted.P.value <= 0.05)\n",
    "\n",
    "# View\n",
    "head(all_data)"
   ]
  },
  {
   "cell_type": "code",
   "execution_count": 38,
   "id": "3ff2252e-444c-4428-857e-5cccfbece6e2",
   "metadata": {},
   "outputs": [
    {
     "name": "stdout",
     "output_type": "stream",
     "text": [
      "\u001b[90m# A tibble: 7 × 3\u001b[39m\n",
      "  Database                        Total_Terms Unique_Terms\n",
      "  \u001b[3m\u001b[90m<chr>\u001b[39m\u001b[23m                                 \u001b[3m\u001b[90m<int>\u001b[39m\u001b[23m        \u001b[3m\u001b[90m<int>\u001b[39m\u001b[23m\n",
      "\u001b[90m1\u001b[39m GO_Biological_Process_2023               44           44\n",
      "\u001b[90m2\u001b[39m GO_Cellular_Component_2023               55           54\n",
      "\u001b[90m3\u001b[39m GO_Molecular_Function_2023               10           10\n",
      "\u001b[90m4\u001b[39m KEGG_2019_Mouse                          12           12\n",
      "\u001b[90m5\u001b[39m Panther_2016                              7            7\n",
      "\u001b[90m6\u001b[39m RNAseq_DiseaseGene_DrugSigs_GEO         875          842\n",
      "\u001b[90m7\u001b[39m Reactome_2016                           223          223\n"
     ]
    }
   ],
   "source": [
    "# Count the number of total terms and unique terms for each database\n",
    "database_term_counts <- all_data %>%\n",
    "  group_by(Database) %>%\n",
    "  summarise(\n",
    "    Total_Terms = n(),\n",
    "    Unique_Terms = n_distinct(Term)\n",
    "  )\n",
    "\n",
    "# Print the table\n",
    "print(database_term_counts)"
   ]
  },
  {
   "cell_type": "code",
   "execution_count": 54,
   "id": "081a4b98-1989-497e-b081-0d131d35ffcc",
   "metadata": {},
   "outputs": [
    {
     "data": {
      "text/html": [
       "<table class=\"dataframe\">\n",
       "<caption>A data.frame: 6 × 11</caption>\n",
       "<thead>\n",
       "\t<tr><th></th><th scope=col>Term</th><th scope=col>Overlap</th><th scope=col>P.value</th><th scope=col>Adjusted.P.value</th><th scope=col>Old.P.value</th><th scope=col>Old.Adjusted.P.value</th><th scope=col>Odds.Ratio</th><th scope=col>Combined.Score</th><th scope=col>Genes</th><th scope=col>Sample_Name</th><th scope=col>Database</th></tr>\n",
       "\t<tr><th></th><th scope=col>&lt;chr&gt;</th><th scope=col>&lt;chr&gt;</th><th scope=col>&lt;dbl&gt;</th><th scope=col>&lt;dbl&gt;</th><th scope=col>&lt;dbl&gt;</th><th scope=col>&lt;dbl&gt;</th><th scope=col>&lt;dbl&gt;</th><th scope=col>&lt;dbl&gt;</th><th scope=col>&lt;chr&gt;</th><th scope=col>&lt;chr&gt;</th><th scope=col>&lt;chr&gt;</th></tr>\n",
       "</thead>\n",
       "<tbody>\n",
       "\t<tr><th scope=row>1</th><td>Neuron Development (GO:0048666)                                            </td><td>18/150</td><td>4.335769e-05</td><td>0.0469226249</td><td>0</td><td>0</td><td>3.242935</td><td>32.57861</td><td>ROBO2;APP;NTRK2;TENM2;TENM3;PBX3;DTNBP1;BICDL1;PTPRM;ETV1;HMGB1;HS6ST1;POU4F1;PBX1;ADCYAP1;BLOC1S5;NPY;TMEM108               </td><td>DMRs</td><td>GO_Biological_Process_2023</td></tr>\n",
       "\t<tr><th scope=row>2</th><td>Actin Cytoskeleton Reorganization (GO:0031532)                             </td><td>10/53 </td><td>4.943108e-05</td><td>0.0469226249</td><td>0</td><td>0</td><td>5.501480</td><td>54.54680</td><td>FGF7;RAP2A;SIPA1L1;THSD7B;AUTS2;S1PR1;DTNBP1;TNIK;ATP2C1;FGF10                                                               </td><td>DMRs</td><td>GO_Biological_Process_2023</td></tr>\n",
       "\t<tr><th scope=row>3</th><td>Regulation Of Potassium Ion Transmembrane Transporter Activity (GO:1901016)</td><td>7/26  </td><td>6.253209e-05</td><td>0.0469226249</td><td>0</td><td>0</td><td>8.694192</td><td>84.15831</td><td>KCNG1;KCNE1;NETO1;KCNS1;AKAP9;STK39;CACNA1D                                                                                  </td><td>DMRs</td><td>GO_Biological_Process_2023</td></tr>\n",
       "\t<tr><th scope=row>4</th><td>Glutamate Receptor Signaling Pathway (GO:0007215)                          </td><td>8/35  </td><td>6.720032e-05</td><td>0.0469226249</td><td>0</td><td>0</td><td>6.997854</td><td>67.23421</td><td>GRIN2A;GRM7;GNAQ;GRM8;GRIK3;PTK2B;GRIK1;GRIN2B                                                                               </td><td>DMRs</td><td>GO_Biological_Process_2023</td></tr>\n",
       "\t<tr><th scope=row>5</th><td>Postsynaptic Density (GO:0014069)                                          </td><td>20/151</td><td>3.704816e-06</td><td>0.0009150897</td><td>0</td><td>0</td><td>3.640046</td><td>45.52197</td><td>NSF;GRIA1;NTRK2;GRIK3;DTNBP1;GRIK1;SHISA9;GRIN2B;SHISA6;GRIN2A;GAP43;DLG2;SIPA1L1;NETO1;TMEM108;PTK2B;SPOCK1;RPL38;FYN;CACNG2</td><td>DMRs</td><td>GO_Cellular_Component_2023</td></tr>\n",
       "\t<tr><th scope=row>6</th><td>Asymmetric Synapse (GO:0032279)                                            </td><td>18/133</td><td>8.268768e-06</td><td>0.0010211928</td><td>0</td><td>0</td><td>3.725647</td><td>43.60134</td><td>NSF;GRIA1;NTRK2;DTNBP1;SHISA9;GRIN2B;SHISA6;GRIN2A;GAP43;DLG2;SIPA1L1;GRM7;NETO1;TMEM108;PTK2B;SPOCK1;RPL38;FYN              </td><td>DMRs</td><td>GO_Cellular_Component_2023</td></tr>\n",
       "</tbody>\n",
       "</table>\n"
      ],
      "text/latex": [
       "A data.frame: 6 × 11\n",
       "\\begin{tabular}{r|lllllllllll}\n",
       "  & Term & Overlap & P.value & Adjusted.P.value & Old.P.value & Old.Adjusted.P.value & Odds.Ratio & Combined.Score & Genes & Sample\\_Name & Database\\\\\n",
       "  & <chr> & <chr> & <dbl> & <dbl> & <dbl> & <dbl> & <dbl> & <dbl> & <chr> & <chr> & <chr>\\\\\n",
       "\\hline\n",
       "\t1 & Neuron Development (GO:0048666)                                             & 18/150 & 4.335769e-05 & 0.0469226249 & 0 & 0 & 3.242935 & 32.57861 & ROBO2;APP;NTRK2;TENM2;TENM3;PBX3;DTNBP1;BICDL1;PTPRM;ETV1;HMGB1;HS6ST1;POU4F1;PBX1;ADCYAP1;BLOC1S5;NPY;TMEM108                & DMRs & GO\\_Biological\\_Process\\_2023\\\\\n",
       "\t2 & Actin Cytoskeleton Reorganization (GO:0031532)                              & 10/53  & 4.943108e-05 & 0.0469226249 & 0 & 0 & 5.501480 & 54.54680 & FGF7;RAP2A;SIPA1L1;THSD7B;AUTS2;S1PR1;DTNBP1;TNIK;ATP2C1;FGF10                                                                & DMRs & GO\\_Biological\\_Process\\_2023\\\\\n",
       "\t3 & Regulation Of Potassium Ion Transmembrane Transporter Activity (GO:1901016) & 7/26   & 6.253209e-05 & 0.0469226249 & 0 & 0 & 8.694192 & 84.15831 & KCNG1;KCNE1;NETO1;KCNS1;AKAP9;STK39;CACNA1D                                                                                   & DMRs & GO\\_Biological\\_Process\\_2023\\\\\n",
       "\t4 & Glutamate Receptor Signaling Pathway (GO:0007215)                           & 8/35   & 6.720032e-05 & 0.0469226249 & 0 & 0 & 6.997854 & 67.23421 & GRIN2A;GRM7;GNAQ;GRM8;GRIK3;PTK2B;GRIK1;GRIN2B                                                                                & DMRs & GO\\_Biological\\_Process\\_2023\\\\\n",
       "\t5 & Postsynaptic Density (GO:0014069)                                           & 20/151 & 3.704816e-06 & 0.0009150897 & 0 & 0 & 3.640046 & 45.52197 & NSF;GRIA1;NTRK2;GRIK3;DTNBP1;GRIK1;SHISA9;GRIN2B;SHISA6;GRIN2A;GAP43;DLG2;SIPA1L1;NETO1;TMEM108;PTK2B;SPOCK1;RPL38;FYN;CACNG2 & DMRs & GO\\_Cellular\\_Component\\_2023\\\\\n",
       "\t6 & Asymmetric Synapse (GO:0032279)                                             & 18/133 & 8.268768e-06 & 0.0010211928 & 0 & 0 & 3.725647 & 43.60134 & NSF;GRIA1;NTRK2;DTNBP1;SHISA9;GRIN2B;SHISA6;GRIN2A;GAP43;DLG2;SIPA1L1;GRM7;NETO1;TMEM108;PTK2B;SPOCK1;RPL38;FYN               & DMRs & GO\\_Cellular\\_Component\\_2023\\\\\n",
       "\\end{tabular}\n"
      ],
      "text/markdown": [
       "\n",
       "A data.frame: 6 × 11\n",
       "\n",
       "| <!--/--> | Term &lt;chr&gt; | Overlap &lt;chr&gt; | P.value &lt;dbl&gt; | Adjusted.P.value &lt;dbl&gt; | Old.P.value &lt;dbl&gt; | Old.Adjusted.P.value &lt;dbl&gt; | Odds.Ratio &lt;dbl&gt; | Combined.Score &lt;dbl&gt; | Genes &lt;chr&gt; | Sample_Name &lt;chr&gt; | Database &lt;chr&gt; |\n",
       "|---|---|---|---|---|---|---|---|---|---|---|---|\n",
       "| 1 | Neuron Development (GO:0048666)                                             | 18/150 | 4.335769e-05 | 0.0469226249 | 0 | 0 | 3.242935 | 32.57861 | ROBO2;APP;NTRK2;TENM2;TENM3;PBX3;DTNBP1;BICDL1;PTPRM;ETV1;HMGB1;HS6ST1;POU4F1;PBX1;ADCYAP1;BLOC1S5;NPY;TMEM108                | DMRs | GO_Biological_Process_2023 |\n",
       "| 2 | Actin Cytoskeleton Reorganization (GO:0031532)                              | 10/53  | 4.943108e-05 | 0.0469226249 | 0 | 0 | 5.501480 | 54.54680 | FGF7;RAP2A;SIPA1L1;THSD7B;AUTS2;S1PR1;DTNBP1;TNIK;ATP2C1;FGF10                                                                | DMRs | GO_Biological_Process_2023 |\n",
       "| 3 | Regulation Of Potassium Ion Transmembrane Transporter Activity (GO:1901016) | 7/26   | 6.253209e-05 | 0.0469226249 | 0 | 0 | 8.694192 | 84.15831 | KCNG1;KCNE1;NETO1;KCNS1;AKAP9;STK39;CACNA1D                                                                                   | DMRs | GO_Biological_Process_2023 |\n",
       "| 4 | Glutamate Receptor Signaling Pathway (GO:0007215)                           | 8/35   | 6.720032e-05 | 0.0469226249 | 0 | 0 | 6.997854 | 67.23421 | GRIN2A;GRM7;GNAQ;GRM8;GRIK3;PTK2B;GRIK1;GRIN2B                                                                                | DMRs | GO_Biological_Process_2023 |\n",
       "| 5 | Postsynaptic Density (GO:0014069)                                           | 20/151 | 3.704816e-06 | 0.0009150897 | 0 | 0 | 3.640046 | 45.52197 | NSF;GRIA1;NTRK2;GRIK3;DTNBP1;GRIK1;SHISA9;GRIN2B;SHISA6;GRIN2A;GAP43;DLG2;SIPA1L1;NETO1;TMEM108;PTK2B;SPOCK1;RPL38;FYN;CACNG2 | DMRs | GO_Cellular_Component_2023 |\n",
       "| 6 | Asymmetric Synapse (GO:0032279)                                             | 18/133 | 8.268768e-06 | 0.0010211928 | 0 | 0 | 3.725647 | 43.60134 | NSF;GRIA1;NTRK2;DTNBP1;SHISA9;GRIN2B;SHISA6;GRIN2A;GAP43;DLG2;SIPA1L1;GRM7;NETO1;TMEM108;PTK2B;SPOCK1;RPL38;FYN               | DMRs | GO_Cellular_Component_2023 |\n",
       "\n"
      ],
      "text/plain": [
       "  Term                                                                       \n",
       "1 Neuron Development (GO:0048666)                                            \n",
       "2 Actin Cytoskeleton Reorganization (GO:0031532)                             \n",
       "3 Regulation Of Potassium Ion Transmembrane Transporter Activity (GO:1901016)\n",
       "4 Glutamate Receptor Signaling Pathway (GO:0007215)                          \n",
       "5 Postsynaptic Density (GO:0014069)                                          \n",
       "6 Asymmetric Synapse (GO:0032279)                                            \n",
       "  Overlap P.value      Adjusted.P.value Old.P.value Old.Adjusted.P.value\n",
       "1 18/150  4.335769e-05 0.0469226249     0           0                   \n",
       "2 10/53   4.943108e-05 0.0469226249     0           0                   \n",
       "3 7/26    6.253209e-05 0.0469226249     0           0                   \n",
       "4 8/35    6.720032e-05 0.0469226249     0           0                   \n",
       "5 20/151  3.704816e-06 0.0009150897     0           0                   \n",
       "6 18/133  8.268768e-06 0.0010211928     0           0                   \n",
       "  Odds.Ratio Combined.Score\n",
       "1 3.242935   32.57861      \n",
       "2 5.501480   54.54680      \n",
       "3 8.694192   84.15831      \n",
       "4 6.997854   67.23421      \n",
       "5 3.640046   45.52197      \n",
       "6 3.725647   43.60134      \n",
       "  Genes                                                                                                                        \n",
       "1 ROBO2;APP;NTRK2;TENM2;TENM3;PBX3;DTNBP1;BICDL1;PTPRM;ETV1;HMGB1;HS6ST1;POU4F1;PBX1;ADCYAP1;BLOC1S5;NPY;TMEM108               \n",
       "2 FGF7;RAP2A;SIPA1L1;THSD7B;AUTS2;S1PR1;DTNBP1;TNIK;ATP2C1;FGF10                                                               \n",
       "3 KCNG1;KCNE1;NETO1;KCNS1;AKAP9;STK39;CACNA1D                                                                                  \n",
       "4 GRIN2A;GRM7;GNAQ;GRM8;GRIK3;PTK2B;GRIK1;GRIN2B                                                                               \n",
       "5 NSF;GRIA1;NTRK2;GRIK3;DTNBP1;GRIK1;SHISA9;GRIN2B;SHISA6;GRIN2A;GAP43;DLG2;SIPA1L1;NETO1;TMEM108;PTK2B;SPOCK1;RPL38;FYN;CACNG2\n",
       "6 NSF;GRIA1;NTRK2;DTNBP1;SHISA9;GRIN2B;SHISA6;GRIN2A;GAP43;DLG2;SIPA1L1;GRM7;NETO1;TMEM108;PTK2B;SPOCK1;RPL38;FYN              \n",
       "  Sample_Name Database                  \n",
       "1 DMRs        GO_Biological_Process_2023\n",
       "2 DMRs        GO_Biological_Process_2023\n",
       "3 DMRs        GO_Biological_Process_2023\n",
       "4 DMRs        GO_Biological_Process_2023\n",
       "5 DMRs        GO_Cellular_Component_2023\n",
       "6 DMRs        GO_Cellular_Component_2023"
      ]
     },
     "metadata": {},
     "output_type": "display_data"
    }
   ],
   "source": [
    "# Subset the data frame to only DMRs\n",
    "DMRs <- all_data[all_data$Sample_Name == \"DMRs\", ]\n",
    "\n",
    "# View\n",
    "head(DMRs)"
   ]
  },
  {
   "cell_type": "code",
   "execution_count": 55,
   "id": "ebe4bbe9-6d35-4127-841e-94b5ad876a46",
   "metadata": {},
   "outputs": [
    {
     "name": "stdout",
     "output_type": "stream",
     "text": [
      "\u001b[90m# A tibble: 6 × 3\u001b[39m\n",
      "  Database                        Total_Terms Unique_Terms\n",
      "  \u001b[3m\u001b[90m<chr>\u001b[39m\u001b[23m                                 \u001b[3m\u001b[90m<int>\u001b[39m\u001b[23m        \u001b[3m\u001b[90m<int>\u001b[39m\u001b[23m\n",
      "\u001b[90m1\u001b[39m GO_Biological_Process_2023                4            4\n",
      "\u001b[90m2\u001b[39m GO_Cellular_Component_2023               13           13\n",
      "\u001b[90m3\u001b[39m KEGG_2019_Mouse                           3            3\n",
      "\u001b[90m4\u001b[39m Panther_2016                              7            7\n",
      "\u001b[90m5\u001b[39m RNAseq_DiseaseGene_DrugSigs_GEO         147          147\n",
      "\u001b[90m6\u001b[39m Reactome_2016                            62           62\n"
     ]
    }
   ],
   "source": [
    "# Count the number of total terms and unique terms for each database\n",
    "database_term_counts <- DMRs %>%\n",
    "  group_by(Database) %>%\n",
    "  summarise(\n",
    "    Total_Terms = n(),\n",
    "    Unique_Terms = n_distinct(Term)\n",
    "  )\n",
    "\n",
    "# Print the table\n",
    "print(database_term_counts)"
   ]
  },
  {
   "cell_type": "code",
   "execution_count": 56,
   "id": "656cd7a6-6d8c-42f2-9e3c-91983c0b8933",
   "metadata": {},
   "outputs": [
    {
     "data": {
      "text/html": [
       "<table class=\"dataframe\">\n",
       "<caption>A data.frame: 6 × 11</caption>\n",
       "<thead>\n",
       "\t<tr><th></th><th scope=col>Term</th><th scope=col>Overlap</th><th scope=col>P.value</th><th scope=col>Adjusted.P.value</th><th scope=col>Old.P.value</th><th scope=col>Old.Adjusted.P.value</th><th scope=col>Odds.Ratio</th><th scope=col>Combined.Score</th><th scope=col>Genes</th><th scope=col>Sample_Name</th><th scope=col>Database</th></tr>\n",
       "\t<tr><th></th><th scope=col>&lt;chr&gt;</th><th scope=col>&lt;chr&gt;</th><th scope=col>&lt;dbl&gt;</th><th scope=col>&lt;dbl&gt;</th><th scope=col>&lt;dbl&gt;</th><th scope=col>&lt;dbl&gt;</th><th scope=col>&lt;dbl&gt;</th><th scope=col>&lt;dbl&gt;</th><th scope=col>&lt;chr&gt;</th><th scope=col>&lt;chr&gt;</th><th scope=col>&lt;chr&gt;</th></tr>\n",
       "</thead>\n",
       "<tbody>\n",
       "\t<tr><th scope=row>237</th><td>Cytoplasmic Translation (GO:0002181)           </td><td>44/93 </td><td>2.015845e-35</td><td>5.225072e-32</td><td>0</td><td>0</td><td>21.116417</td><td>1686.9787</td><td>RPL30;RPL32;RPL34;RPLP1;RPL12;RPLP0;RPL11;RPL10A;RPS15;RPS14;RPS16;RPS15A;RPL18A;RPS19;RPS18;RPL36;RPL14;RPS3;RPL35;RPL13;RPL15;RPL18;RPS27A;RPL39;RPL17;RPS13;RWDD1;RPS9;RPL41;RPS7;RPL22;RPS6;RPL35A;RPS25;EIF3M;RPL27A;RPL37A;RPL27;RPS20;RPL26;FAU;RPS21;RPS24;RPS23                                                                                                             </td><td>DEGs</td><td>GO_Biological_Process_2023</td></tr>\n",
       "\t<tr><th scope=row>238</th><td>Translation (GO:0006412)                       </td><td>60/234</td><td>3.934749e-30</td><td>5.099435e-27</td><td>0</td><td>0</td><td> 8.217813</td><td> 556.4093</td><td>RPL30;RPL32;RPL34;RPLP1;RPLP0;RPL10A;RPS15;MRPL41;EEF1B2;RPS14;MRPL2;RPS16;MRPL1;RPL18A;RPS19;RPS18;RPL36;RPL35;RPL39;CHCHD1;RPS13;MRPS28;RPS9;MRPS24;RPS7;RPL22;RPS6;MRPS18C;TUFM;EEF1A1;RPL37A;RPL27;RPL26;RPL12;RPL11;SRBD1;MRPL12;MRPL57;MRPL11;MRPL20;RPS15A;RPL14;RPS3;RPL13;RPL15;RPL18;RPS27A;RPL17;RWDD1;RPL41;NDUFA7;RPL35A;MRPL22;RPS25;RPL27A;RPS20;FAU;RPS21;RPS24;RPS23</td><td>DEGs</td><td>GO_Biological_Process_2023</td></tr>\n",
       "\t<tr><th scope=row>239</th><td>Macromolecule Biosynthetic Process (GO:0009059)</td><td>52/183</td><td>1.331542e-28</td><td>1.150452e-25</td><td>0</td><td>0</td><td> 9.386996</td><td> 602.5142</td><td>RPL30;RPL32;RPL34;RPLP1;RPLP0;RPL10A;EEF1B2;RPS15;MRPL41;RPS14;RPS16;RPL18A;RPS19;RPS18;RPL36;RPL35;RPL39;RPS13;RPS9;RPS7;RPL22;RPS6;MRPS18C;TUFM;EEF1A1;RPL37A;RPL27;RPL26;RPL12;RPL11;SRBD1;MRPL12;MRPL11;RPS15A;TERT;POLD1;RPL14;RPS3;RPL13;RPL15;RPL18;RPS27A;RPL17;RPL41;RPL35A;RPS25;RPL27A;RPS20;FAU;RPS21;RPS24;RPS23                                                        </td><td>DEGs</td><td>GO_Biological_Process_2023</td></tr>\n",
       "\t<tr><th scope=row>240</th><td>Peptide Biosynthetic Process (GO:0043043)      </td><td>48/158</td><td>6.106997e-28</td><td>3.957334e-25</td><td>0</td><td>0</td><td>10.279388</td><td> 644.1367</td><td>RPL30;RPL32;RPL34;RPLP1;RPL12;RPLP0;RPL11;SRBD1;RPL10A;MRPL12;MRPL11;RPS15;MRPL41;RPS14;RPS16;RPS15A;RPL18A;RPS19;RPS18;RPL36;RPL14;RPS3;RPL35;RPL13;RPL15;RPL18;RPS27A;RPL39;RPL17;RPS13;RPS9;RPL41;RPS7;RPL22;RPS6;RPL35A;MRPS18C;EEF1A1;RPS25;RPL27A;RPL37A;RPL27;RPS20;RPL26;FAU;RPS21;RPS24;RPS23                                                                               </td><td>DEGs</td><td>GO_Biological_Process_2023</td></tr>\n",
       "\t<tr><th scope=row>241</th><td>Gene Expression (GO:0010467)                   </td><td>53/296</td><td>5.066564e-19</td><td>2.626507e-16</td><td>0</td><td>0</td><td> 5.133799</td><td> 216.2687</td><td>RPL30;RPL32;RPL34;RPLP1;RPLP0;RPL10A;RPS15;MRPL41;RBM3;RPS14;HHEX;RPS16;RPL18A;RPS19;RPS18;MAGOH;RPL36;RPL35;RPL39;RPS13;DDX17;RPS9;RPS7;RPL22;RPS6;MRPS18C;EEF1A1;RPL37A;RPL27;RPL26;RPL12;RPL11;SRBD1;MRPL12;MRPL11;RPS15A;RPL14;RPS3;RPL13;RPL15;RPL18;RPS27A;RPL17;RPL41;RPL35A;RPS25;RPL27A;HNRNPA2B1;RPS20;FAU;RPS21;RPS24;RPS23                                               </td><td>DEGs</td><td>GO_Biological_Process_2023</td></tr>\n",
       "\t<tr><th scope=row>242</th><td>Aerobic Electron Transport Chain (GO:0019646)  </td><td>18/68 </td><td>3.291575e-10</td><td>1.421960e-07</td><td>0</td><td>0</td><td> 8.202673</td><td> 179.1011</td><td>NDUFB9;COX7B;NDUFA7;NDUFB6;NDUFA5;NDUFA4;COX4I1;NDUFB4;NDUFB1;UQCR10;COX6A1;COX6C;COX6A2;UQCRH;NDUFS7;UQCRQ;NDUFS4;NDUFV2                                                                                                                                                                                                                                                            </td><td>DEGs</td><td>GO_Biological_Process_2023</td></tr>\n",
       "</tbody>\n",
       "</table>\n"
      ],
      "text/latex": [
       "A data.frame: 6 × 11\n",
       "\\begin{tabular}{r|lllllllllll}\n",
       "  & Term & Overlap & P.value & Adjusted.P.value & Old.P.value & Old.Adjusted.P.value & Odds.Ratio & Combined.Score & Genes & Sample\\_Name & Database\\\\\n",
       "  & <chr> & <chr> & <dbl> & <dbl> & <dbl> & <dbl> & <dbl> & <dbl> & <chr> & <chr> & <chr>\\\\\n",
       "\\hline\n",
       "\t237 & Cytoplasmic Translation (GO:0002181)            & 44/93  & 2.015845e-35 & 5.225072e-32 & 0 & 0 & 21.116417 & 1686.9787 & RPL30;RPL32;RPL34;RPLP1;RPL12;RPLP0;RPL11;RPL10A;RPS15;RPS14;RPS16;RPS15A;RPL18A;RPS19;RPS18;RPL36;RPL14;RPS3;RPL35;RPL13;RPL15;RPL18;RPS27A;RPL39;RPL17;RPS13;RWDD1;RPS9;RPL41;RPS7;RPL22;RPS6;RPL35A;RPS25;EIF3M;RPL27A;RPL37A;RPL27;RPS20;RPL26;FAU;RPS21;RPS24;RPS23                                                                                                              & DEGs & GO\\_Biological\\_Process\\_2023\\\\\n",
       "\t238 & Translation (GO:0006412)                        & 60/234 & 3.934749e-30 & 5.099435e-27 & 0 & 0 &  8.217813 &  556.4093 & RPL30;RPL32;RPL34;RPLP1;RPLP0;RPL10A;RPS15;MRPL41;EEF1B2;RPS14;MRPL2;RPS16;MRPL1;RPL18A;RPS19;RPS18;RPL36;RPL35;RPL39;CHCHD1;RPS13;MRPS28;RPS9;MRPS24;RPS7;RPL22;RPS6;MRPS18C;TUFM;EEF1A1;RPL37A;RPL27;RPL26;RPL12;RPL11;SRBD1;MRPL12;MRPL57;MRPL11;MRPL20;RPS15A;RPL14;RPS3;RPL13;RPL15;RPL18;RPS27A;RPL17;RWDD1;RPL41;NDUFA7;RPL35A;MRPL22;RPS25;RPL27A;RPS20;FAU;RPS21;RPS24;RPS23 & DEGs & GO\\_Biological\\_Process\\_2023\\\\\n",
       "\t239 & Macromolecule Biosynthetic Process (GO:0009059) & 52/183 & 1.331542e-28 & 1.150452e-25 & 0 & 0 &  9.386996 &  602.5142 & RPL30;RPL32;RPL34;RPLP1;RPLP0;RPL10A;EEF1B2;RPS15;MRPL41;RPS14;RPS16;RPL18A;RPS19;RPS18;RPL36;RPL35;RPL39;RPS13;RPS9;RPS7;RPL22;RPS6;MRPS18C;TUFM;EEF1A1;RPL37A;RPL27;RPL26;RPL12;RPL11;SRBD1;MRPL12;MRPL11;RPS15A;TERT;POLD1;RPL14;RPS3;RPL13;RPL15;RPL18;RPS27A;RPL17;RPL41;RPL35A;RPS25;RPL27A;RPS20;FAU;RPS21;RPS24;RPS23                                                         & DEGs & GO\\_Biological\\_Process\\_2023\\\\\n",
       "\t240 & Peptide Biosynthetic Process (GO:0043043)       & 48/158 & 6.106997e-28 & 3.957334e-25 & 0 & 0 & 10.279388 &  644.1367 & RPL30;RPL32;RPL34;RPLP1;RPL12;RPLP0;RPL11;SRBD1;RPL10A;MRPL12;MRPL11;RPS15;MRPL41;RPS14;RPS16;RPS15A;RPL18A;RPS19;RPS18;RPL36;RPL14;RPS3;RPL35;RPL13;RPL15;RPL18;RPS27A;RPL39;RPL17;RPS13;RPS9;RPL41;RPS7;RPL22;RPS6;RPL35A;MRPS18C;EEF1A1;RPS25;RPL27A;RPL37A;RPL27;RPS20;RPL26;FAU;RPS21;RPS24;RPS23                                                                                & DEGs & GO\\_Biological\\_Process\\_2023\\\\\n",
       "\t241 & Gene Expression (GO:0010467)                    & 53/296 & 5.066564e-19 & 2.626507e-16 & 0 & 0 &  5.133799 &  216.2687 & RPL30;RPL32;RPL34;RPLP1;RPLP0;RPL10A;RPS15;MRPL41;RBM3;RPS14;HHEX;RPS16;RPL18A;RPS19;RPS18;MAGOH;RPL36;RPL35;RPL39;RPS13;DDX17;RPS9;RPS7;RPL22;RPS6;MRPS18C;EEF1A1;RPL37A;RPL27;RPL26;RPL12;RPL11;SRBD1;MRPL12;MRPL11;RPS15A;RPL14;RPS3;RPL13;RPL15;RPL18;RPS27A;RPL17;RPL41;RPL35A;RPS25;RPL27A;HNRNPA2B1;RPS20;FAU;RPS21;RPS24;RPS23                                                & DEGs & GO\\_Biological\\_Process\\_2023\\\\\n",
       "\t242 & Aerobic Electron Transport Chain (GO:0019646)   & 18/68  & 3.291575e-10 & 1.421960e-07 & 0 & 0 &  8.202673 &  179.1011 & NDUFB9;COX7B;NDUFA7;NDUFB6;NDUFA5;NDUFA4;COX4I1;NDUFB4;NDUFB1;UQCR10;COX6A1;COX6C;COX6A2;UQCRH;NDUFS7;UQCRQ;NDUFS4;NDUFV2                                                                                                                                                                                                                                                             & DEGs & GO\\_Biological\\_Process\\_2023\\\\\n",
       "\\end{tabular}\n"
      ],
      "text/markdown": [
       "\n",
       "A data.frame: 6 × 11\n",
       "\n",
       "| <!--/--> | Term &lt;chr&gt; | Overlap &lt;chr&gt; | P.value &lt;dbl&gt; | Adjusted.P.value &lt;dbl&gt; | Old.P.value &lt;dbl&gt; | Old.Adjusted.P.value &lt;dbl&gt; | Odds.Ratio &lt;dbl&gt; | Combined.Score &lt;dbl&gt; | Genes &lt;chr&gt; | Sample_Name &lt;chr&gt; | Database &lt;chr&gt; |\n",
       "|---|---|---|---|---|---|---|---|---|---|---|---|\n",
       "| 237 | Cytoplasmic Translation (GO:0002181)            | 44/93  | 2.015845e-35 | 5.225072e-32 | 0 | 0 | 21.116417 | 1686.9787 | RPL30;RPL32;RPL34;RPLP1;RPL12;RPLP0;RPL11;RPL10A;RPS15;RPS14;RPS16;RPS15A;RPL18A;RPS19;RPS18;RPL36;RPL14;RPS3;RPL35;RPL13;RPL15;RPL18;RPS27A;RPL39;RPL17;RPS13;RWDD1;RPS9;RPL41;RPS7;RPL22;RPS6;RPL35A;RPS25;EIF3M;RPL27A;RPL37A;RPL27;RPS20;RPL26;FAU;RPS21;RPS24;RPS23                                                                                                              | DEGs | GO_Biological_Process_2023 |\n",
       "| 238 | Translation (GO:0006412)                        | 60/234 | 3.934749e-30 | 5.099435e-27 | 0 | 0 |  8.217813 |  556.4093 | RPL30;RPL32;RPL34;RPLP1;RPLP0;RPL10A;RPS15;MRPL41;EEF1B2;RPS14;MRPL2;RPS16;MRPL1;RPL18A;RPS19;RPS18;RPL36;RPL35;RPL39;CHCHD1;RPS13;MRPS28;RPS9;MRPS24;RPS7;RPL22;RPS6;MRPS18C;TUFM;EEF1A1;RPL37A;RPL27;RPL26;RPL12;RPL11;SRBD1;MRPL12;MRPL57;MRPL11;MRPL20;RPS15A;RPL14;RPS3;RPL13;RPL15;RPL18;RPS27A;RPL17;RWDD1;RPL41;NDUFA7;RPL35A;MRPL22;RPS25;RPL27A;RPS20;FAU;RPS21;RPS24;RPS23 | DEGs | GO_Biological_Process_2023 |\n",
       "| 239 | Macromolecule Biosynthetic Process (GO:0009059) | 52/183 | 1.331542e-28 | 1.150452e-25 | 0 | 0 |  9.386996 |  602.5142 | RPL30;RPL32;RPL34;RPLP1;RPLP0;RPL10A;EEF1B2;RPS15;MRPL41;RPS14;RPS16;RPL18A;RPS19;RPS18;RPL36;RPL35;RPL39;RPS13;RPS9;RPS7;RPL22;RPS6;MRPS18C;TUFM;EEF1A1;RPL37A;RPL27;RPL26;RPL12;RPL11;SRBD1;MRPL12;MRPL11;RPS15A;TERT;POLD1;RPL14;RPS3;RPL13;RPL15;RPL18;RPS27A;RPL17;RPL41;RPL35A;RPS25;RPL27A;RPS20;FAU;RPS21;RPS24;RPS23                                                         | DEGs | GO_Biological_Process_2023 |\n",
       "| 240 | Peptide Biosynthetic Process (GO:0043043)       | 48/158 | 6.106997e-28 | 3.957334e-25 | 0 | 0 | 10.279388 |  644.1367 | RPL30;RPL32;RPL34;RPLP1;RPL12;RPLP0;RPL11;SRBD1;RPL10A;MRPL12;MRPL11;RPS15;MRPL41;RPS14;RPS16;RPS15A;RPL18A;RPS19;RPS18;RPL36;RPL14;RPS3;RPL35;RPL13;RPL15;RPL18;RPS27A;RPL39;RPL17;RPS13;RPS9;RPL41;RPS7;RPL22;RPS6;RPL35A;MRPS18C;EEF1A1;RPS25;RPL27A;RPL37A;RPL27;RPS20;RPL26;FAU;RPS21;RPS24;RPS23                                                                                | DEGs | GO_Biological_Process_2023 |\n",
       "| 241 | Gene Expression (GO:0010467)                    | 53/296 | 5.066564e-19 | 2.626507e-16 | 0 | 0 |  5.133799 |  216.2687 | RPL30;RPL32;RPL34;RPLP1;RPLP0;RPL10A;RPS15;MRPL41;RBM3;RPS14;HHEX;RPS16;RPL18A;RPS19;RPS18;MAGOH;RPL36;RPL35;RPL39;RPS13;DDX17;RPS9;RPS7;RPL22;RPS6;MRPS18C;EEF1A1;RPL37A;RPL27;RPL26;RPL12;RPL11;SRBD1;MRPL12;MRPL11;RPS15A;RPL14;RPS3;RPL13;RPL15;RPL18;RPS27A;RPL17;RPL41;RPL35A;RPS25;RPL27A;HNRNPA2B1;RPS20;FAU;RPS21;RPS24;RPS23                                                | DEGs | GO_Biological_Process_2023 |\n",
       "| 242 | Aerobic Electron Transport Chain (GO:0019646)   | 18/68  | 3.291575e-10 | 1.421960e-07 | 0 | 0 |  8.202673 |  179.1011 | NDUFB9;COX7B;NDUFA7;NDUFB6;NDUFA5;NDUFA4;COX4I1;NDUFB4;NDUFB1;UQCR10;COX6A1;COX6C;COX6A2;UQCRH;NDUFS7;UQCRQ;NDUFS4;NDUFV2                                                                                                                                                                                                                                                             | DEGs | GO_Biological_Process_2023 |\n",
       "\n"
      ],
      "text/plain": [
       "    Term                                            Overlap P.value     \n",
       "237 Cytoplasmic Translation (GO:0002181)            44/93   2.015845e-35\n",
       "238 Translation (GO:0006412)                        60/234  3.934749e-30\n",
       "239 Macromolecule Biosynthetic Process (GO:0009059) 52/183  1.331542e-28\n",
       "240 Peptide Biosynthetic Process (GO:0043043)       48/158  6.106997e-28\n",
       "241 Gene Expression (GO:0010467)                    53/296  5.066564e-19\n",
       "242 Aerobic Electron Transport Chain (GO:0019646)   18/68   3.291575e-10\n",
       "    Adjusted.P.value Old.P.value Old.Adjusted.P.value Odds.Ratio Combined.Score\n",
       "237 5.225072e-32     0           0                    21.116417  1686.9787     \n",
       "238 5.099435e-27     0           0                     8.217813   556.4093     \n",
       "239 1.150452e-25     0           0                     9.386996   602.5142     \n",
       "240 3.957334e-25     0           0                    10.279388   644.1367     \n",
       "241 2.626507e-16     0           0                     5.133799   216.2687     \n",
       "242 1.421960e-07     0           0                     8.202673   179.1011     \n",
       "    Genes                                                                                                                                                                                                                                                                                                                                                                                \n",
       "237 RPL30;RPL32;RPL34;RPLP1;RPL12;RPLP0;RPL11;RPL10A;RPS15;RPS14;RPS16;RPS15A;RPL18A;RPS19;RPS18;RPL36;RPL14;RPS3;RPL35;RPL13;RPL15;RPL18;RPS27A;RPL39;RPL17;RPS13;RWDD1;RPS9;RPL41;RPS7;RPL22;RPS6;RPL35A;RPS25;EIF3M;RPL27A;RPL37A;RPL27;RPS20;RPL26;FAU;RPS21;RPS24;RPS23                                                                                                             \n",
       "238 RPL30;RPL32;RPL34;RPLP1;RPLP0;RPL10A;RPS15;MRPL41;EEF1B2;RPS14;MRPL2;RPS16;MRPL1;RPL18A;RPS19;RPS18;RPL36;RPL35;RPL39;CHCHD1;RPS13;MRPS28;RPS9;MRPS24;RPS7;RPL22;RPS6;MRPS18C;TUFM;EEF1A1;RPL37A;RPL27;RPL26;RPL12;RPL11;SRBD1;MRPL12;MRPL57;MRPL11;MRPL20;RPS15A;RPL14;RPS3;RPL13;RPL15;RPL18;RPS27A;RPL17;RWDD1;RPL41;NDUFA7;RPL35A;MRPL22;RPS25;RPL27A;RPS20;FAU;RPS21;RPS24;RPS23\n",
       "239 RPL30;RPL32;RPL34;RPLP1;RPLP0;RPL10A;EEF1B2;RPS15;MRPL41;RPS14;RPS16;RPL18A;RPS19;RPS18;RPL36;RPL35;RPL39;RPS13;RPS9;RPS7;RPL22;RPS6;MRPS18C;TUFM;EEF1A1;RPL37A;RPL27;RPL26;RPL12;RPL11;SRBD1;MRPL12;MRPL11;RPS15A;TERT;POLD1;RPL14;RPS3;RPL13;RPL15;RPL18;RPS27A;RPL17;RPL41;RPL35A;RPS25;RPL27A;RPS20;FAU;RPS21;RPS24;RPS23                                                        \n",
       "240 RPL30;RPL32;RPL34;RPLP1;RPL12;RPLP0;RPL11;SRBD1;RPL10A;MRPL12;MRPL11;RPS15;MRPL41;RPS14;RPS16;RPS15A;RPL18A;RPS19;RPS18;RPL36;RPL14;RPS3;RPL35;RPL13;RPL15;RPL18;RPS27A;RPL39;RPL17;RPS13;RPS9;RPL41;RPS7;RPL22;RPS6;RPL35A;MRPS18C;EEF1A1;RPS25;RPL27A;RPL37A;RPL27;RPS20;RPL26;FAU;RPS21;RPS24;RPS23                                                                               \n",
       "241 RPL30;RPL32;RPL34;RPLP1;RPLP0;RPL10A;RPS15;MRPL41;RBM3;RPS14;HHEX;RPS16;RPL18A;RPS19;RPS18;MAGOH;RPL36;RPL35;RPL39;RPS13;DDX17;RPS9;RPS7;RPL22;RPS6;MRPS18C;EEF1A1;RPL37A;RPL27;RPL26;RPL12;RPL11;SRBD1;MRPL12;MRPL11;RPS15A;RPL14;RPS3;RPL13;RPL15;RPL18;RPS27A;RPL17;RPL41;RPL35A;RPS25;RPL27A;HNRNPA2B1;RPS20;FAU;RPS21;RPS24;RPS23                                               \n",
       "242 NDUFB9;COX7B;NDUFA7;NDUFB6;NDUFA5;NDUFA4;COX4I1;NDUFB4;NDUFB1;UQCR10;COX6A1;COX6C;COX6A2;UQCRH;NDUFS7;UQCRQ;NDUFS4;NDUFV2                                                                                                                                                                                                                                                            \n",
       "    Sample_Name Database                  \n",
       "237 DEGs        GO_Biological_Process_2023\n",
       "238 DEGs        GO_Biological_Process_2023\n",
       "239 DEGs        GO_Biological_Process_2023\n",
       "240 DEGs        GO_Biological_Process_2023\n",
       "241 DEGs        GO_Biological_Process_2023\n",
       "242 DEGs        GO_Biological_Process_2023"
      ]
     },
     "metadata": {},
     "output_type": "display_data"
    }
   ],
   "source": [
    "# Subset the data frame to only DEGs\n",
    "DEGs <- all_data[all_data$Sample_Name == \"DEGs\", ]\n",
    "\n",
    "# View\n",
    "head(DEGs)"
   ]
  },
  {
   "cell_type": "code",
   "execution_count": 57,
   "id": "d3f8dc18-7481-4ecf-bf55-d95c9d4b4ed7",
   "metadata": {},
   "outputs": [
    {
     "name": "stdout",
     "output_type": "stream",
     "text": [
      "\u001b[90m# A tibble: 6 × 3\u001b[39m\n",
      "  Database                        Total_Terms Unique_Terms\n",
      "  \u001b[3m\u001b[90m<chr>\u001b[39m\u001b[23m                                 \u001b[3m\u001b[90m<int>\u001b[39m\u001b[23m        \u001b[3m\u001b[90m<int>\u001b[39m\u001b[23m\n",
      "\u001b[90m1\u001b[39m GO_Biological_Process_2023               40           40\n",
      "\u001b[90m2\u001b[39m GO_Cellular_Component_2023               42           42\n",
      "\u001b[90m3\u001b[39m GO_Molecular_Function_2023               10           10\n",
      "\u001b[90m4\u001b[39m KEGG_2019_Mouse                           9            9\n",
      "\u001b[90m5\u001b[39m RNAseq_DiseaseGene_DrugSigs_GEO         728          728\n",
      "\u001b[90m6\u001b[39m Reactome_2016                           161          161\n"
     ]
    }
   ],
   "source": [
    "# Count the number of total terms and unique terms for each database\n",
    "database_term_counts <- DEGs %>%\n",
    "  group_by(Database) %>%\n",
    "  summarise(\n",
    "    Total_Terms = n(),\n",
    "    Unique_Terms = n_distinct(Term)\n",
    "  )\n",
    "\n",
    "# Print the table\n",
    "print(database_term_counts)"
   ]
  },
  {
   "cell_type": "code",
   "execution_count": 62,
   "id": "a2a7f386-5dfb-46b5-b1dd-f5a6c84a9757",
   "metadata": {},
   "outputs": [
    {
     "data": {
      "text/html": [
       "<table class=\"dataframe\">\n",
       "<caption>A data.frame: 6 × 11</caption>\n",
       "<thead>\n",
       "\t<tr><th></th><th scope=col>Term</th><th scope=col>Overlap</th><th scope=col>P.value</th><th scope=col>Adjusted.P.value</th><th scope=col>Old.P.value</th><th scope=col>Old.Adjusted.P.value</th><th scope=col>Odds.Ratio</th><th scope=col>Combined.Score</th><th scope=col>Genes</th><th scope=col>Sample_Name</th><th scope=col>Database</th></tr>\n",
       "\t<tr><th></th><th scope=col>&lt;chr&gt;</th><th scope=col>&lt;chr&gt;</th><th scope=col>&lt;dbl&gt;</th><th scope=col>&lt;dbl&gt;</th><th scope=col>&lt;dbl&gt;</th><th scope=col>&lt;dbl&gt;</th><th scope=col>&lt;dbl&gt;</th><th scope=col>&lt;dbl&gt;</th><th scope=col>&lt;chr&gt;</th><th scope=col>&lt;chr&gt;</th><th scope=col>&lt;chr&gt;</th></tr>\n",
       "</thead>\n",
       "<tbody>\n",
       "\t<tr><th scope=row>6</th><td>Asymmetric Synapse (GO:0032279)                   </td><td>18/133</td><td>8.268768e-06</td><td>1.021193e-03</td><td>0</td><td>0</td><td>3.725647</td><td> 43.60134</td><td>NSF;GRIA1;NTRK2;DTNBP1;SHISA9;GRIN2B;SHISA6;GRIN2A;GAP43;DLG2;SIPA1L1;GRM7;NETO1;TMEM108;PTK2B;SPOCK1;RPL38;FYN                                                                                                                                                                                                                                                                       </td><td>DMRs</td><td>GO_Cellular_Component_2023     </td></tr>\n",
       "\t<tr><th scope=row>95</th><td>ZNF2 NPC Knockdown GSE54112 down                  </td><td>62/496</td><td>4.242785e-15</td><td>9.199772e-13</td><td>0</td><td>0</td><td>3.537837</td><td>117.07962</td><td>ROBO2;SPON1;ATP8A1;RPLP1;CELF2;CELF4;SLC6A1;RND3;ELAVL2;AKAP12;SALL1;KIF5C;PSD3;PDE4B;RPL38;MAGI1;EBF2;GFRA1;PPP4R3B;ZEB1;DDAH1;SETBP1;RASA4;AKAP9;TMEM106B;TERF2IP;TRIB2;XPR1;ASTN1;ASAH1;CAMK2D;TNKS;ITPR2;FIGN;PIK3R1;SLIT1;SPOCK1;MEST;NTRK2;CADM1;AUTS2;GOLM1;SORT1;PBX3;FN1;LSAMP;SMAD9;SORBS1;MEIS2;PBX1;WDR11;COL3A1;MEIS1;CDK6;NFIA;NBEA;PTPRA;NOVA1;KLHDC8A;GNAQ;TCF4;ADGRL3</td><td>DMRs</td><td>RNAseq_DiseaseGene_DrugSigs_GEO</td></tr>\n",
       "\t<tr><th scope=row>99</th><td>Ezh2 Embryonic cerebellum Knockout GSE80222 up    </td><td>53/496</td><td>1.842375e-10</td><td>2.396930e-08</td><td>0</td><td>0</td><td>2.926622</td><td> 65.59963</td><td>APP;ZFP521;TENM3;ATP8A1;RPLP1;CELF4;GRIK3;TTC28;SALL1;TRIM28;TRIM2;KHSRP;TLE3;RBFOX1;DST;PRKCE;GFRA1;FRMD4B;AXIN2;NAV2;TMEFF1;MAF;SETBP1;CDH13;PDE1C;ZFP703;SHOX2;AGAP1;PIK3R1;ATP1A1;APCDD1;ABLIM1;ERBB4;SLIT1;MEST;FZD1;TMEM132C;LINGO1;GOLM1;PTCH1;PBX3;GRIN2B;POU4F1;MEIS2;NELL2;MEIS1;LHX2;NOVA1;EIF3H;CTNNB1;FAT3;FAT4;SSBP3                                                    </td><td>DMRs</td><td>RNAseq_DiseaseGene_DrugSigs_GEO</td></tr>\n",
       "\t<tr><th scope=row>113</th><td>Nova1 Brain - Cortex Knockout GSE69711 up         </td><td>47/495</td><td>8.124164e-08</td><td>4.227815e-06</td><td>0</td><td>0</td><td>2.545716</td><td> 41.56094</td><td>ROBO2;TENM2;ATP8A1;TNKS;CTTNBP2;DOCK9;PIK3R1;SLC7A11;TTC28;AKAP12;TRIM28;CALD1;ERBB4;TRIM2;NOCT;PAPOLA;MEST;CDK5RAP2;ZFP462;SOX5;NTRK2;EPHA4;SLC38A1;AGTPBP1;DST;ATRNL1;NTRK3;ARRDC3;FN1;FRMD4A;FRMD4B;MEIS2;PBX1;COL3A1;NBEA;MPPED1;KITL;HNRNPH1;AKAP9;EXOC4;G2E3;CTNNB1;FAT3;TCF4;FAT4;EPHA3;XPR1                                                                                   </td><td>DMRs</td><td>RNAseq_DiseaseGene_DrugSigs_GEO</td></tr>\n",
       "\t<tr><th scope=row>114</th><td>Olig2 Brain tumor conditional Knockout GSE71493 up</td><td>47/495</td><td>8.124164e-08</td><td>4.227815e-06</td><td>0</td><td>0</td><td>2.545716</td><td> 41.56094</td><td>CLIC5;ATP8A1;TNFAIP6;EPAS1;RPLP1;ITPR1;SLC6A1;NR3C1;CAMKK2;SALL1;SIPA1L1;KIF5C;CALD1;TRIM2;PSD3;TSPAN5;NRCAM;MEST;CDK5RAP2;FZD1;BCHE;NTRK2;DST;GOLM1;SORT1;PTCH1;SORCS1;ETV1;OLIG1;GRIN2B;SORCS2;DUSP6;ETV5;NELL2;ZEB1;DLG2;NFIA;DDAH1;ADAM12;ALDH1A1;TMEM106B;SPATS2L;CTNNB1;ITGA6;LRRN1;TCF4;RAPGEF4                                                                                </td><td>DMRs</td><td>RNAseq_DiseaseGene_DrugSigs_GEO</td></tr>\n",
       "\t<tr><th scope=row>130</th><td>Casz1 Heart Knockout GSE55394 up                  </td><td>43/497</td><td>3.417367e-06</td><td>1.058570e-04</td><td>0</td><td>0</td><td>2.285699</td><td> 28.76927</td><td>HCN4;SPON1;NRP2;TENM3;TNKS;SHOX2;ITPR1;LPL;CACNA1D;HMGB1;RBPJ;HS6ST1;PCDH18;CALD1;TBX20;PAPOLA;BEND4;CORIN;ZFP462;FZD1;TLE3;CADM1;SPHKAP;MMD;SORT1;PTCH1;FN1;PAWR;FRMD4B;TBX5;PBX1;COL3A1;DIAPH3;DDAH1;KITL;HNRNPH1;CTNNB1;ITGA6;SIK1;BCAT1;SSBP3;ADGRL2;XPR1                                                                                                                         </td><td>DMRs</td><td>RNAseq_DiseaseGene_DrugSigs_GEO</td></tr>\n",
       "</tbody>\n",
       "</table>\n"
      ],
      "text/latex": [
       "A data.frame: 6 × 11\n",
       "\\begin{tabular}{r|lllllllllll}\n",
       "  & Term & Overlap & P.value & Adjusted.P.value & Old.P.value & Old.Adjusted.P.value & Odds.Ratio & Combined.Score & Genes & Sample\\_Name & Database\\\\\n",
       "  & <chr> & <chr> & <dbl> & <dbl> & <dbl> & <dbl> & <dbl> & <dbl> & <chr> & <chr> & <chr>\\\\\n",
       "\\hline\n",
       "\t6 & Asymmetric Synapse (GO:0032279)                    & 18/133 & 8.268768e-06 & 1.021193e-03 & 0 & 0 & 3.725647 &  43.60134 & NSF;GRIA1;NTRK2;DTNBP1;SHISA9;GRIN2B;SHISA6;GRIN2A;GAP43;DLG2;SIPA1L1;GRM7;NETO1;TMEM108;PTK2B;SPOCK1;RPL38;FYN                                                                                                                                                                                                                                                                        & DMRs & GO\\_Cellular\\_Component\\_2023     \\\\\n",
       "\t95 & ZNF2 NPC Knockdown GSE54112 down                   & 62/496 & 4.242785e-15 & 9.199772e-13 & 0 & 0 & 3.537837 & 117.07962 & ROBO2;SPON1;ATP8A1;RPLP1;CELF2;CELF4;SLC6A1;RND3;ELAVL2;AKAP12;SALL1;KIF5C;PSD3;PDE4B;RPL38;MAGI1;EBF2;GFRA1;PPP4R3B;ZEB1;DDAH1;SETBP1;RASA4;AKAP9;TMEM106B;TERF2IP;TRIB2;XPR1;ASTN1;ASAH1;CAMK2D;TNKS;ITPR2;FIGN;PIK3R1;SLIT1;SPOCK1;MEST;NTRK2;CADM1;AUTS2;GOLM1;SORT1;PBX3;FN1;LSAMP;SMAD9;SORBS1;MEIS2;PBX1;WDR11;COL3A1;MEIS1;CDK6;NFIA;NBEA;PTPRA;NOVA1;KLHDC8A;GNAQ;TCF4;ADGRL3 & DMRs & RNAseq\\_DiseaseGene\\_DrugSigs\\_GEO\\\\\n",
       "\t99 & Ezh2 Embryonic cerebellum Knockout GSE80222 up     & 53/496 & 1.842375e-10 & 2.396930e-08 & 0 & 0 & 2.926622 &  65.59963 & APP;ZFP521;TENM3;ATP8A1;RPLP1;CELF4;GRIK3;TTC28;SALL1;TRIM28;TRIM2;KHSRP;TLE3;RBFOX1;DST;PRKCE;GFRA1;FRMD4B;AXIN2;NAV2;TMEFF1;MAF;SETBP1;CDH13;PDE1C;ZFP703;SHOX2;AGAP1;PIK3R1;ATP1A1;APCDD1;ABLIM1;ERBB4;SLIT1;MEST;FZD1;TMEM132C;LINGO1;GOLM1;PTCH1;PBX3;GRIN2B;POU4F1;MEIS2;NELL2;MEIS1;LHX2;NOVA1;EIF3H;CTNNB1;FAT3;FAT4;SSBP3                                                     & DMRs & RNAseq\\_DiseaseGene\\_DrugSigs\\_GEO\\\\\n",
       "\t113 & Nova1 Brain - Cortex Knockout GSE69711 up          & 47/495 & 8.124164e-08 & 4.227815e-06 & 0 & 0 & 2.545716 &  41.56094 & ROBO2;TENM2;ATP8A1;TNKS;CTTNBP2;DOCK9;PIK3R1;SLC7A11;TTC28;AKAP12;TRIM28;CALD1;ERBB4;TRIM2;NOCT;PAPOLA;MEST;CDK5RAP2;ZFP462;SOX5;NTRK2;EPHA4;SLC38A1;AGTPBP1;DST;ATRNL1;NTRK3;ARRDC3;FN1;FRMD4A;FRMD4B;MEIS2;PBX1;COL3A1;NBEA;MPPED1;KITL;HNRNPH1;AKAP9;EXOC4;G2E3;CTNNB1;FAT3;TCF4;FAT4;EPHA3;XPR1                                                                                    & DMRs & RNAseq\\_DiseaseGene\\_DrugSigs\\_GEO\\\\\n",
       "\t114 & Olig2 Brain tumor conditional Knockout GSE71493 up & 47/495 & 8.124164e-08 & 4.227815e-06 & 0 & 0 & 2.545716 &  41.56094 & CLIC5;ATP8A1;TNFAIP6;EPAS1;RPLP1;ITPR1;SLC6A1;NR3C1;CAMKK2;SALL1;SIPA1L1;KIF5C;CALD1;TRIM2;PSD3;TSPAN5;NRCAM;MEST;CDK5RAP2;FZD1;BCHE;NTRK2;DST;GOLM1;SORT1;PTCH1;SORCS1;ETV1;OLIG1;GRIN2B;SORCS2;DUSP6;ETV5;NELL2;ZEB1;DLG2;NFIA;DDAH1;ADAM12;ALDH1A1;TMEM106B;SPATS2L;CTNNB1;ITGA6;LRRN1;TCF4;RAPGEF4                                                                                 & DMRs & RNAseq\\_DiseaseGene\\_DrugSigs\\_GEO\\\\\n",
       "\t130 & Casz1 Heart Knockout GSE55394 up                   & 43/497 & 3.417367e-06 & 1.058570e-04 & 0 & 0 & 2.285699 &  28.76927 & HCN4;SPON1;NRP2;TENM3;TNKS;SHOX2;ITPR1;LPL;CACNA1D;HMGB1;RBPJ;HS6ST1;PCDH18;CALD1;TBX20;PAPOLA;BEND4;CORIN;ZFP462;FZD1;TLE3;CADM1;SPHKAP;MMD;SORT1;PTCH1;FN1;PAWR;FRMD4B;TBX5;PBX1;COL3A1;DIAPH3;DDAH1;KITL;HNRNPH1;CTNNB1;ITGA6;SIK1;BCAT1;SSBP3;ADGRL2;XPR1                                                                                                                          & DMRs & RNAseq\\_DiseaseGene\\_DrugSigs\\_GEO\\\\\n",
       "\\end{tabular}\n"
      ],
      "text/markdown": [
       "\n",
       "A data.frame: 6 × 11\n",
       "\n",
       "| <!--/--> | Term &lt;chr&gt; | Overlap &lt;chr&gt; | P.value &lt;dbl&gt; | Adjusted.P.value &lt;dbl&gt; | Old.P.value &lt;dbl&gt; | Old.Adjusted.P.value &lt;dbl&gt; | Odds.Ratio &lt;dbl&gt; | Combined.Score &lt;dbl&gt; | Genes &lt;chr&gt; | Sample_Name &lt;chr&gt; | Database &lt;chr&gt; |\n",
       "|---|---|---|---|---|---|---|---|---|---|---|---|\n",
       "| 6 | Asymmetric Synapse (GO:0032279)                    | 18/133 | 8.268768e-06 | 1.021193e-03 | 0 | 0 | 3.725647 |  43.60134 | NSF;GRIA1;NTRK2;DTNBP1;SHISA9;GRIN2B;SHISA6;GRIN2A;GAP43;DLG2;SIPA1L1;GRM7;NETO1;TMEM108;PTK2B;SPOCK1;RPL38;FYN                                                                                                                                                                                                                                                                        | DMRs | GO_Cellular_Component_2023      |\n",
       "| 95 | ZNF2 NPC Knockdown GSE54112 down                   | 62/496 | 4.242785e-15 | 9.199772e-13 | 0 | 0 | 3.537837 | 117.07962 | ROBO2;SPON1;ATP8A1;RPLP1;CELF2;CELF4;SLC6A1;RND3;ELAVL2;AKAP12;SALL1;KIF5C;PSD3;PDE4B;RPL38;MAGI1;EBF2;GFRA1;PPP4R3B;ZEB1;DDAH1;SETBP1;RASA4;AKAP9;TMEM106B;TERF2IP;TRIB2;XPR1;ASTN1;ASAH1;CAMK2D;TNKS;ITPR2;FIGN;PIK3R1;SLIT1;SPOCK1;MEST;NTRK2;CADM1;AUTS2;GOLM1;SORT1;PBX3;FN1;LSAMP;SMAD9;SORBS1;MEIS2;PBX1;WDR11;COL3A1;MEIS1;CDK6;NFIA;NBEA;PTPRA;NOVA1;KLHDC8A;GNAQ;TCF4;ADGRL3 | DMRs | RNAseq_DiseaseGene_DrugSigs_GEO |\n",
       "| 99 | Ezh2 Embryonic cerebellum Knockout GSE80222 up     | 53/496 | 1.842375e-10 | 2.396930e-08 | 0 | 0 | 2.926622 |  65.59963 | APP;ZFP521;TENM3;ATP8A1;RPLP1;CELF4;GRIK3;TTC28;SALL1;TRIM28;TRIM2;KHSRP;TLE3;RBFOX1;DST;PRKCE;GFRA1;FRMD4B;AXIN2;NAV2;TMEFF1;MAF;SETBP1;CDH13;PDE1C;ZFP703;SHOX2;AGAP1;PIK3R1;ATP1A1;APCDD1;ABLIM1;ERBB4;SLIT1;MEST;FZD1;TMEM132C;LINGO1;GOLM1;PTCH1;PBX3;GRIN2B;POU4F1;MEIS2;NELL2;MEIS1;LHX2;NOVA1;EIF3H;CTNNB1;FAT3;FAT4;SSBP3                                                     | DMRs | RNAseq_DiseaseGene_DrugSigs_GEO |\n",
       "| 113 | Nova1 Brain - Cortex Knockout GSE69711 up          | 47/495 | 8.124164e-08 | 4.227815e-06 | 0 | 0 | 2.545716 |  41.56094 | ROBO2;TENM2;ATP8A1;TNKS;CTTNBP2;DOCK9;PIK3R1;SLC7A11;TTC28;AKAP12;TRIM28;CALD1;ERBB4;TRIM2;NOCT;PAPOLA;MEST;CDK5RAP2;ZFP462;SOX5;NTRK2;EPHA4;SLC38A1;AGTPBP1;DST;ATRNL1;NTRK3;ARRDC3;FN1;FRMD4A;FRMD4B;MEIS2;PBX1;COL3A1;NBEA;MPPED1;KITL;HNRNPH1;AKAP9;EXOC4;G2E3;CTNNB1;FAT3;TCF4;FAT4;EPHA3;XPR1                                                                                    | DMRs | RNAseq_DiseaseGene_DrugSigs_GEO |\n",
       "| 114 | Olig2 Brain tumor conditional Knockout GSE71493 up | 47/495 | 8.124164e-08 | 4.227815e-06 | 0 | 0 | 2.545716 |  41.56094 | CLIC5;ATP8A1;TNFAIP6;EPAS1;RPLP1;ITPR1;SLC6A1;NR3C1;CAMKK2;SALL1;SIPA1L1;KIF5C;CALD1;TRIM2;PSD3;TSPAN5;NRCAM;MEST;CDK5RAP2;FZD1;BCHE;NTRK2;DST;GOLM1;SORT1;PTCH1;SORCS1;ETV1;OLIG1;GRIN2B;SORCS2;DUSP6;ETV5;NELL2;ZEB1;DLG2;NFIA;DDAH1;ADAM12;ALDH1A1;TMEM106B;SPATS2L;CTNNB1;ITGA6;LRRN1;TCF4;RAPGEF4                                                                                 | DMRs | RNAseq_DiseaseGene_DrugSigs_GEO |\n",
       "| 130 | Casz1 Heart Knockout GSE55394 up                   | 43/497 | 3.417367e-06 | 1.058570e-04 | 0 | 0 | 2.285699 |  28.76927 | HCN4;SPON1;NRP2;TENM3;TNKS;SHOX2;ITPR1;LPL;CACNA1D;HMGB1;RBPJ;HS6ST1;PCDH18;CALD1;TBX20;PAPOLA;BEND4;CORIN;ZFP462;FZD1;TLE3;CADM1;SPHKAP;MMD;SORT1;PTCH1;FN1;PAWR;FRMD4B;TBX5;PBX1;COL3A1;DIAPH3;DDAH1;KITL;HNRNPH1;CTNNB1;ITGA6;SIK1;BCAT1;SSBP3;ADGRL2;XPR1                                                                                                                          | DMRs | RNAseq_DiseaseGene_DrugSigs_GEO |\n",
       "\n"
      ],
      "text/plain": [
       "    Term                                               Overlap P.value     \n",
       "6   Asymmetric Synapse (GO:0032279)                    18/133  8.268768e-06\n",
       "95  ZNF2 NPC Knockdown GSE54112 down                   62/496  4.242785e-15\n",
       "99  Ezh2 Embryonic cerebellum Knockout GSE80222 up     53/496  1.842375e-10\n",
       "113 Nova1 Brain - Cortex Knockout GSE69711 up          47/495  8.124164e-08\n",
       "114 Olig2 Brain tumor conditional Knockout GSE71493 up 47/495  8.124164e-08\n",
       "130 Casz1 Heart Knockout GSE55394 up                   43/497  3.417367e-06\n",
       "    Adjusted.P.value Old.P.value Old.Adjusted.P.value Odds.Ratio Combined.Score\n",
       "6   1.021193e-03     0           0                    3.725647    43.60134     \n",
       "95  9.199772e-13     0           0                    3.537837   117.07962     \n",
       "99  2.396930e-08     0           0                    2.926622    65.59963     \n",
       "113 4.227815e-06     0           0                    2.545716    41.56094     \n",
       "114 4.227815e-06     0           0                    2.545716    41.56094     \n",
       "130 1.058570e-04     0           0                    2.285699    28.76927     \n",
       "    Genes                                                                                                                                                                                                                                                                                                                                                                                 \n",
       "6   NSF;GRIA1;NTRK2;DTNBP1;SHISA9;GRIN2B;SHISA6;GRIN2A;GAP43;DLG2;SIPA1L1;GRM7;NETO1;TMEM108;PTK2B;SPOCK1;RPL38;FYN                                                                                                                                                                                                                                                                       \n",
       "95  ROBO2;SPON1;ATP8A1;RPLP1;CELF2;CELF4;SLC6A1;RND3;ELAVL2;AKAP12;SALL1;KIF5C;PSD3;PDE4B;RPL38;MAGI1;EBF2;GFRA1;PPP4R3B;ZEB1;DDAH1;SETBP1;RASA4;AKAP9;TMEM106B;TERF2IP;TRIB2;XPR1;ASTN1;ASAH1;CAMK2D;TNKS;ITPR2;FIGN;PIK3R1;SLIT1;SPOCK1;MEST;NTRK2;CADM1;AUTS2;GOLM1;SORT1;PBX3;FN1;LSAMP;SMAD9;SORBS1;MEIS2;PBX1;WDR11;COL3A1;MEIS1;CDK6;NFIA;NBEA;PTPRA;NOVA1;KLHDC8A;GNAQ;TCF4;ADGRL3\n",
       "99  APP;ZFP521;TENM3;ATP8A1;RPLP1;CELF4;GRIK3;TTC28;SALL1;TRIM28;TRIM2;KHSRP;TLE3;RBFOX1;DST;PRKCE;GFRA1;FRMD4B;AXIN2;NAV2;TMEFF1;MAF;SETBP1;CDH13;PDE1C;ZFP703;SHOX2;AGAP1;PIK3R1;ATP1A1;APCDD1;ABLIM1;ERBB4;SLIT1;MEST;FZD1;TMEM132C;LINGO1;GOLM1;PTCH1;PBX3;GRIN2B;POU4F1;MEIS2;NELL2;MEIS1;LHX2;NOVA1;EIF3H;CTNNB1;FAT3;FAT4;SSBP3                                                    \n",
       "113 ROBO2;TENM2;ATP8A1;TNKS;CTTNBP2;DOCK9;PIK3R1;SLC7A11;TTC28;AKAP12;TRIM28;CALD1;ERBB4;TRIM2;NOCT;PAPOLA;MEST;CDK5RAP2;ZFP462;SOX5;NTRK2;EPHA4;SLC38A1;AGTPBP1;DST;ATRNL1;NTRK3;ARRDC3;FN1;FRMD4A;FRMD4B;MEIS2;PBX1;COL3A1;NBEA;MPPED1;KITL;HNRNPH1;AKAP9;EXOC4;G2E3;CTNNB1;FAT3;TCF4;FAT4;EPHA3;XPR1                                                                                   \n",
       "114 CLIC5;ATP8A1;TNFAIP6;EPAS1;RPLP1;ITPR1;SLC6A1;NR3C1;CAMKK2;SALL1;SIPA1L1;KIF5C;CALD1;TRIM2;PSD3;TSPAN5;NRCAM;MEST;CDK5RAP2;FZD1;BCHE;NTRK2;DST;GOLM1;SORT1;PTCH1;SORCS1;ETV1;OLIG1;GRIN2B;SORCS2;DUSP6;ETV5;NELL2;ZEB1;DLG2;NFIA;DDAH1;ADAM12;ALDH1A1;TMEM106B;SPATS2L;CTNNB1;ITGA6;LRRN1;TCF4;RAPGEF4                                                                                \n",
       "130 HCN4;SPON1;NRP2;TENM3;TNKS;SHOX2;ITPR1;LPL;CACNA1D;HMGB1;RBPJ;HS6ST1;PCDH18;CALD1;TBX20;PAPOLA;BEND4;CORIN;ZFP462;FZD1;TLE3;CADM1;SPHKAP;MMD;SORT1;PTCH1;FN1;PAWR;FRMD4B;TBX5;PBX1;COL3A1;DIAPH3;DDAH1;KITL;HNRNPH1;CTNNB1;ITGA6;SIK1;BCAT1;SSBP3;ADGRL2;XPR1                                                                                                                         \n",
       "    Sample_Name Database                       \n",
       "6   DMRs        GO_Cellular_Component_2023     \n",
       "95  DMRs        RNAseq_DiseaseGene_DrugSigs_GEO\n",
       "99  DMRs        RNAseq_DiseaseGene_DrugSigs_GEO\n",
       "113 DMRs        RNAseq_DiseaseGene_DrugSigs_GEO\n",
       "114 DMRs        RNAseq_DiseaseGene_DrugSigs_GEO\n",
       "130 DMRs        RNAseq_DiseaseGene_DrugSigs_GEO"
      ]
     },
     "metadata": {},
     "output_type": "display_data"
    },
    {
     "name": "stdout",
     "output_type": "stream",
     "text": [
      "[1] 34\n"
     ]
    }
   ],
   "source": [
    "# Extract the Term columns\n",
    "dmr_terms <- DMRs$Term\n",
    "deg_terms <- DEGs$Term\n",
    "\n",
    "# Find overlapping terms\n",
    "overlapping_terms <- intersect(dmr_terms, deg_terms)\n",
    "\n",
    "# Get full rows from DMRs for overlapping terms\n",
    "overlapping_dmrs <- DMRs[DMRs$Term %in% overlapping_terms, ]\n",
    "\n",
    "# Print the results\n",
    "head(overlapping_dmrs)\n",
    "print(length(overlapping_dmrs$Term))"
   ]
  },
  {
   "cell_type": "code",
   "execution_count": 63,
   "id": "b8278fbe-69fd-4a39-b034-4c97f4dc2dbf",
   "metadata": {},
   "outputs": [
    {
     "name": "stdout",
     "output_type": "stream",
     "text": [
      "\u001b[90m# A tibble: 2 × 3\u001b[39m\n",
      "  Database                        Total_Terms Unique_Terms\n",
      "  \u001b[3m\u001b[90m<chr>\u001b[39m\u001b[23m                                 \u001b[3m\u001b[90m<int>\u001b[39m\u001b[23m        \u001b[3m\u001b[90m<int>\u001b[39m\u001b[23m\n",
      "\u001b[90m1\u001b[39m GO_Cellular_Component_2023                1            1\n",
      "\u001b[90m2\u001b[39m RNAseq_DiseaseGene_DrugSigs_GEO          33           33\n"
     ]
    }
   ],
   "source": [
    "# Count the number of total terms and unique terms for each database\n",
    "database_term_counts <- overlapping_dmrs %>%\n",
    "  group_by(Database) %>%\n",
    "  summarise(\n",
    "    Total_Terms = n(),\n",
    "    Unique_Terms = n_distinct(Term)\n",
    "  )\n",
    "\n",
    "# Print the table\n",
    "print(database_term_counts)"
   ]
  }
 ],
 "metadata": {
  "kernelspec": {
   "display_name": "R",
   "language": "R",
   "name": "ir"
  },
  "language_info": {
   "codemirror_mode": "r",
   "file_extension": ".r",
   "mimetype": "text/x-r-source",
   "name": "R",
   "pygments_lexer": "r",
   "version": "4.3.2"
  }
 },
 "nbformat": 4,
 "nbformat_minor": 5
}
