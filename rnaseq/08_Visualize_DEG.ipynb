{
 "cells": [
  {
   "cell_type": "markdown",
   "id": "6721ccee-b531-4172-bb35-571710318eb8",
   "metadata": {},
   "source": [
    "## Set Library Path"
   ]
  },
  {
   "cell_type": "code",
   "execution_count": 20,
   "id": "6e6712a7-d937-481c-aaf2-34fa228c0578",
   "metadata": {},
   "outputs": [],
   "source": [
    ".libPaths(\"/share/korflab/home/viki/anaconda3/jupyter_nb_R4.3/lib/R/library\")"
   ]
  },
  {
   "cell_type": "markdown",
   "id": "cd7016e2-ac3c-49ae-9163-546a58e13248",
   "metadata": {},
   "source": [
    "## Load Libraries"
   ]
  },
  {
   "cell_type": "code",
   "execution_count": 3,
   "id": "fc038cdf-da38-432e-85f0-418643b8bb03",
   "metadata": {},
   "outputs": [],
   "source": [
    "library(VennDiagram)\n",
    "library(UpSetR)\n",
    "library(openxlsx)\n",
    "library(readxl)\n",
    "library(dplyr)\n",
    "library(glue)\n",
    "library(ggplot2)\n",
    "library(viridis)\n",
    "library(ggrepel)"
   ]
  },
  {
   "cell_type": "markdown",
   "id": "e1829853-8467-40f6-9b3d-8b6c7806fd19",
   "metadata": {},
   "source": [
    "## Visualize DEG Analysis"
   ]
  },
  {
   "cell_type": "markdown",
   "id": "22ccd64d-eef6-450e-b318-14538c136132",
   "metadata": {},
   "source": [
    "### Read in Data"
   ]
  },
  {
   "cell_type": "code",
   "execution_count": 24,
   "id": "acc5005d-5bc1-4586-9a1a-cabb54209453",
   "metadata": {},
   "outputs": [
    {
     "name": "stdout",
     "output_type": "stream",
     "text": [
      "[1] \"05_DEGs/control_male_vs_control_female_genes.csv\"   \n",
      "[2] \"05_DEGs/faexcess_female_vs_control_female_genes.csv\"\n",
      "[3] \"05_DEGs/faexcess_female_vs_control_male_genes.csv\"  \n",
      "[4] \"05_DEGs/faexcess_male_vs_control_female_genes.csv\"  \n",
      "[5] \"05_DEGs/faexcess_male_vs_control_male_genes.csv\"    \n",
      "[6] \"05_DEGs/faexcess_male_vs_faexcess_female_genes.csv\" \n",
      "[7] \"05_DEGs/faexcess_vs_control_genes.csv\"              \n"
     ]
    }
   ],
   "source": [
    "# List all DEG files\n",
    "files <- list.files(path = \"05_DEGs\", pattern = \"\\\\_genes.csv$\", full.names = TRUE)\n",
    "\n",
    "# View\n",
    "print(files)"
   ]
  },
  {
   "cell_type": "code",
   "execution_count": 25,
   "id": "33b38c7c-2dcf-4efb-93ec-572a41c6af51",
   "metadata": {},
   "outputs": [
    {
     "name": "stdout",
     "output_type": "stream",
     "text": [
      "File: control_male_vs_control_female_genes.csv - Number of significant DEGs: 0 \n",
      "File: faexcess_female_vs_control_female_genes.csv - Number of significant DEGs: 161 \n",
      "File: faexcess_female_vs_control_male_genes.csv - Number of significant DEGs: 0 \n",
      "File: faexcess_male_vs_control_female_genes.csv - Number of significant DEGs: 0 \n",
      "File: faexcess_male_vs_control_male_genes.csv - Number of significant DEGs: 0 \n",
      "File: faexcess_male_vs_faexcess_female_genes.csv - Number of significant DEGs: 0 \n",
      "File: faexcess_vs_control_genes.csv - Number of significant DEGs: 646 \n",
      "\n",
      "Files with significant DEGs:\n",
      "[1] \"05_DEGs/faexcess_female_vs_control_female_genes.csv\"\n",
      "[2] \"05_DEGs/faexcess_vs_control_genes.csv\"              \n"
     ]
    }
   ],
   "source": [
    "# Filter to significant DEGs only\n",
    "\n",
    "# Initialize a vector to store files with significant DEGs\n",
    "significant_DEGs_files <- c()\n",
    "\n",
    "# Loop through each file\n",
    "for (file in files) {\n",
    "  # Read the CSV file\n",
    "  data <- read.csv(file)\n",
    "  \n",
    "  # Filter for significant DEGs\n",
    "  significant_DEGs <- data[data$adj.P.Val < 0.05, ]\n",
    "  \n",
    "  # Print the file name and number of significant DEGs\n",
    "  cat(\"File:\", basename(file), \"- Number of significant DEGs:\", nrow(significant_DEGs), \"\\n\")\n",
    "  \n",
    "  # Check if there are significant DEGs\n",
    "  if (nrow(significant_DEGs) > 0) {\n",
    "    significant_DEGs_files <- c(significant_DEGs_files, file)\n",
    "  }\n",
    "}\n",
    "\n",
    "# Overwrite to reflect only significant DEGs\n",
    "files <- significant_DEGs_files\n",
    "\n",
    "# View files with significant DEGs\n",
    "cat(\"\\nFiles with significant DEGs:\\n\")\n",
    "print(files)"
   ]
  },
  {
   "cell_type": "markdown",
   "id": "046ec0c2-225a-4eef-a850-f5c1a9ffd9c5",
   "metadata": {},
   "source": [
    "### Make Volcano Plot"
   ]
  },
  {
   "cell_type": "code",
   "execution_count": 26,
   "id": "63b6746f-beba-496c-bd74-6cddffaa9073",
   "metadata": {},
   "outputs": [],
   "source": [
    "create_volcano_plot <- function(file) {\n",
    "  # Read the CSV file\n",
    "  data <- read.csv(file)\n",
    "  \n",
    "  # Create a new column for significance\n",
    "  data$Significant <- ifelse(data$adj.P.Val < 0.05 & abs(data$logFC) > 1, \"Yes\", \"No\")\n",
    "  \n",
    "  # Create a new column for color coding based on logFC\n",
    "  data$Color <- ifelse(data$logFC > 1, \"Upregulated\", \n",
    "                       ifelse(data$logFC < -1, \"Downregulated\", \"Not Significant\"))\n",
    "  \n",
    "  # Get the top 10 upregulated and downregulated genes\n",
    "  top_upregulated <- data %>%\n",
    "    arrange(desc(logFC)) %>%\n",
    "    head(10)\n",
    "  \n",
    "  top_downregulated <- data %>%\n",
    "    arrange(logFC) %>%\n",
    "    head(10)\n",
    "\n",
    "  # Print the number of genes in each category\n",
    "  print(paste(\"Number of upregulated genes:\", nrow(top_upregulated)))\n",
    "  print(paste(\"Number of downregulated genes:\", nrow(top_downregulated)))\n",
    "  \n",
    "  # Print the minimum and maximum values for upregulated genes\n",
    "  print(paste(\"Upregulated genes - Min -log10(adj.P.Val):\", min(-log10(top_upregulated$adj.P.Val), na.rm = TRUE)))\n",
    "  print(paste(\"Upregulated genes - Max -log10(adj.P.Val):\", max(-log10(top_upregulated$adj.P.Val), na.rm = TRUE)))\n",
    "  print(paste(\"Upregulated genes - Min logFC:\", min(top_upregulated$logFC, na.rm = TRUE)))\n",
    "  print(paste(\"Upregulated genes - Max logFC:\", max(top_upregulated$logFC, na.rm = TRUE)))\n",
    "  \n",
    "  # Print the minimum and maximum values for downregulated genes\n",
    "  print(paste(\"Downregulated genes - Min -log10(adj.P.Val):\", min(-log10(top_downregulated$adj.P.Val), na.rm = TRUE)))\n",
    "  print(paste(\"Downregulated genes - Max -log10(adj.P.Val):\", max(-log10(top_downregulated$adj.P.Val), na.rm = TRUE)))\n",
    "  print(paste(\"Downregulated genes - Min logFC:\", min(top_downregulated$logFC, na.rm = TRUE)))\n",
    "  print(paste(\"Downregulated genes - Max logFC:\", max(top_downregulated$logFC, na.rm = TRUE)))\n",
    "    \n",
    "  # Combine the top genes for labeling\n",
    "  top_genes <- rbind(top_upregulated, top_downregulated)\n",
    "  \n",
    "  # Initialize PDF\n",
    "  filename <- gsub(\"\\\\.csv$\", \"\", basename(file))\n",
    "  pdf(file = paste0(\"05_DEGs/volcano_plot_\", filename, \".pdf\"), width = 8, height = 6)\n",
    "  \n",
    "  # Create a new column for color coding based on logFC\n",
    "  data$Color <- factor(ifelse(data$logFC > 1, \"Upregulated\", \n",
    "                               ifelse(data$logFC < -1, \"Downregulated\", \"Not Significant\")),\n",
    "                       levels = c(\"Downregulated\", \"Not Significant\", \"Upregulated\"))\n",
    "  \n",
    "  # Calculate the limits for the axes\n",
    "  x_min <- -4.1\n",
    "  x_max <- 4.1\n",
    "  y_min <- 0 \n",
    "  y_max <- 2.1\n",
    "  \n",
    "  # Function to format the filename into a title\n",
    "  format_title <- function(filename) {\n",
    "    if (grepl(\"faexcess_female_vs_control_female_genes\", filename)) {\n",
    "      return(\"Control Female vs. FAE Female\")\n",
    "    } else if (grepl(\"faexcess_genes_vs_control\", filename)) {\n",
    "      return(\"Control vs. FAE\")\n",
    "    } else {\n",
    "      return(filename) \n",
    "    }\n",
    "  }\n",
    "  \n",
    "  # Generate the volcano plot\n",
    "  p <- ggplot(data, aes(x = logFC, y = -log10(adj.P.Val), color = Color)) +\n",
    "    geom_point() +  \n",
    "    scale_color_manual(\n",
    "      values = c(\"Downregulated\" = \"blue\", \"Not Significant\" = \"grey\", \"Upregulated\" = \"red\"),\n",
    "      labels = c(\"Downregulated\", \"Not Significant\", \"Upregulated\"),\n",
    "      guide = guide_legend(override.aes = list(size = 4)) \n",
    "    ) +\n",
    "    labs(title = paste(\"Volcano Plot for\", format_title(filename)),\n",
    "         x = \"Log2 Fold Change\",\n",
    "         y = \"-Log10 Adjusted P-Value\") +\n",
    "    scale_x_continuous(limits = c(x_min, x_max), expand = expansion(mult = c(0.05, 0.05))) +  \n",
    "    scale_y_continuous(limits = c(y_min, y_max), expand = expansion(mult = c(0.05, 0.05))) +  \n",
    "    theme_minimal() +\n",
    "    theme(legend.position = \"top\", \n",
    "          plot.title = element_text(hjust = 0.5)) + \n",
    "    geom_label_repel(data = top_genes, aes(label = external_gene_name), \n",
    "                     size = 3, \n",
    "                     box.padding = 0.5, \n",
    "                     point.padding = 0.5, \n",
    "                     segment.color = 'grey50', \n",
    "                     show.legend = FALSE)\n",
    "  # Print the plot\n",
    "  print(p)\n",
    "  \n",
    "  # Close the PDF device\n",
    "  dev.off()\n",
    "}"
   ]
  },
  {
   "cell_type": "code",
   "execution_count": 27,
   "id": "acc8aae0-1ccb-414b-a250-20acb1395fe4",
   "metadata": {},
   "outputs": [
    {
     "name": "stdout",
     "output_type": "stream",
     "text": [
      "[1] \"Number of upregulated genes: 10\"\n",
      "[1] \"Number of downregulated genes: 10\"\n",
      "[1] \"Upregulated genes - Min -log10(adj.P.Val): 0.212024619420637\"\n",
      "[1] \"Upregulated genes - Max -log10(adj.P.Val): 1.36245130940759\"\n",
      "[1] \"Upregulated genes - Min logFC: 2.62372110891518\"\n",
      "[1] \"Upregulated genes - Max logFC: 3.89415298079131\"\n",
      "[1] \"Downregulated genes - Min -log10(adj.P.Val): 0.374533189227352\"\n",
      "[1] \"Downregulated genes - Max -log10(adj.P.Val): 1.40939172112212\"\n",
      "[1] \"Downregulated genes - Min logFC: -3.03571890391901\"\n",
      "[1] \"Downregulated genes - Max logFC: -1.93073337714869\"\n",
      "[1] \"Number of upregulated genes: 10\"\n",
      "[1] \"Number of downregulated genes: 10\"\n",
      "[1] \"Upregulated genes - Min -log10(adj.P.Val): 0.284839616640349\"\n",
      "[1] \"Upregulated genes - Max -log10(adj.P.Val): 1.80175834797695\"\n",
      "[1] \"Upregulated genes - Min logFC: 1.55765267943444\"\n",
      "[1] \"Upregulated genes - Max logFC: 3.150621640697\"\n",
      "[1] \"Downregulated genes - Min -log10(adj.P.Val): 0.575468855580139\"\n",
      "[1] \"Downregulated genes - Max -log10(adj.P.Val): 1.81834126372131\"\n",
      "[1] \"Downregulated genes - Min logFC: -2.7873592722087\"\n",
      "[1] \"Downregulated genes - Max logFC: -1.59572986564279\"\n"
     ]
    }
   ],
   "source": [
    "# Create volcano plots\n",
    "for (file in files) {\n",
    "  create_volcano_plot(file)\n",
    "}"
   ]
  },
  {
   "cell_type": "markdown",
   "id": "4fe18324-91fe-445b-a811-446d81752f63",
   "metadata": {},
   "source": [
    "### Separate Upregulated and Downregulated Genes"
   ]
  },
  {
   "cell_type": "code",
   "execution_count": 28,
   "id": "cf99273a-3864-426a-92df-08f9a24f3e22",
   "metadata": {},
   "outputs": [],
   "source": [
    "# Save upregulated and downregulated gene lists\n",
    "for (file in files) {\n",
    "  # Extract the base filename without extension\n",
    "  filename <- tools::file_path_sans_ext(basename(file))\n",
    "  \n",
    "  # Split the filename into parts based on '_vs_'\n",
    "  split_name <- unlist(strsplit(filename, \"_vs_\"))\n",
    "  \n",
    "  # Handle different naming conventions and assign group1 and group2\n",
    "  if (length(split_name) == 2) {\n",
    "    # Case for filename \"control_female_vs_faexcess_female\"\n",
    "    group1 <- tolower(split_name[1])  \n",
    "    group2 <- tolower(gsub(\"_genes\", \"\", split_name[2]))  \n",
    "  } else if (length(split_name) == 1) {\n",
    "    # Case for filename \"control_vs_faexcess\"\n",
    "    group1 <- tolower(split_name[1])\n",
    "    group2 <- \"faexcess\"\n",
    "  }\n",
    "\n",
    "  # Read the current file\n",
    "  df <- read.csv(file)\n",
    "\n",
    "  # Filter to only significant DEGs\n",
    "  df <- df[df$adj.P.Val < 0.05, ]\n",
    "\n",
    "  # Filter for only upregulated genes\n",
    "  upregulated_genes <- df[df$logFC > 0, \"external_gene_name\"]\n",
    "\n",
    "  # Filter for only downregulated genes\n",
    "  downregulated_genes <- df[df$logFC < 0, \"external_gene_name\"]\n",
    "\n",
    "  # Write the upregulated genes to a file in the output directory\n",
    "  upregulated_file <- file.path(paste0(\"05_DEGs/\", group1, \"_vs_\", group2, \"_upregulated.txt\"))\n",
    "  write.table(upregulated_genes, file = upregulated_file, row.names = FALSE, col.names = FALSE, quote = FALSE)\n",
    "\n",
    "  # Write the downregulated genes to a file in the output directory\n",
    "  downregulated_file <- file.path(paste0(\"05_DEGs/\", group1, \"_vs_\", group2, \"_downregulated.txt\"))\n",
    "  write.table(downregulated_genes, file = downregulated_file, row.names = FALSE, col.names = FALSE, quote = FALSE)\n",
    "}"
   ]
  },
  {
   "cell_type": "code",
   "execution_count": 29,
   "id": "f5195de0-d0ea-44a6-ac03-f6ce6281f87b",
   "metadata": {},
   "outputs": [
    {
     "name": "stdout",
     "output_type": "stream",
     "text": [
      "[1] \"05_DEGs/faexcess_female_vs_control_female_downregulated.txt\"\n",
      "[2] \"05_DEGs/faexcess_female_vs_control_female_upregulated.txt\"  \n",
      "[3] \"05_DEGs/faexcess_vs_control_downregulated.txt\"              \n",
      "[4] \"05_DEGs/faexcess_vs_control_upregulated.txt\"                \n"
     ]
    }
   ],
   "source": [
    "# Read in gene list files\n",
    "files <- list.files(path = \"05_DEGs\", pattern = \"_(upregulated|downregulated)\\\\.txt$\", full.names = TRUE)\n",
    "\n",
    "# Print the list of files\n",
    "print(files)"
   ]
  },
  {
   "cell_type": "markdown",
   "id": "92e9fbb4-bfef-4360-befa-0d4274cdbe88",
   "metadata": {},
   "source": [
    "### Make Venn Diagram"
   ]
  },
  {
   "cell_type": "code",
   "execution_count": 30,
   "id": "26a77e9d-997d-40a3-8b62-75112761639f",
   "metadata": {},
   "outputs": [
    {
     "data": {
      "text/html": [
       "<strong>png:</strong> 2"
      ],
      "text/latex": [
       "\\textbf{png:} 2"
      ],
      "text/markdown": [
       "**png:** 2"
      ],
      "text/plain": [
       "png \n",
       "  2 "
      ]
     },
     "metadata": {},
     "output_type": "display_data"
    }
   ],
   "source": [
    "# Initialize a list to store gene sets\n",
    "gene_list <- list()\n",
    "\n",
    "# Create a named vector for custom labels\n",
    "label_mapping <- c(\n",
    "  \"faexcess_vs_control_downregulated\" = \"Control vs. FAE Downregulated\",\n",
    "  \"faexcess_vs_control_upregulated\" = \"Control vs. FAE Upregulated\",\n",
    "  \"faexcess_female_vs_control_female_downregulated\" = \"Control Female vs. FAE Female Downregulated\",\n",
    "  \"faexcess_female_vs_control_female_upregulated\" = \"Control Female vs. FAE Female Upregulated\"\n",
    ")\n",
    "\n",
    "# Loop through each file and read the gene names\n",
    "for (file in files) {\n",
    "  # Read the gene names from the file\n",
    "  gene_names <- read.table(file, stringsAsFactors = FALSE)$V1  # Assuming gene names are in the first column\n",
    "  \n",
    "  # Use the filename (without path and extension) as the list name\n",
    "  list_name <- tools::file_path_sans_ext(basename(file))\n",
    "  \n",
    "  # Store the gene names in the list\n",
    "  gene_list[[list_name]] <- gene_names\n",
    "}\n",
    "\n",
    "pdf(\"05_DEGs/venn_diagram_of_DEGs.pdf\", width = 12, height = 12)\n",
    "\n",
    "# Create the Venn diagram\n",
    "venn.plot <- venn.diagram(\n",
    "  x = gene_list,\n",
    "  category.names = label_mapping[names(gene_list)],  # Use the custom labels for category names\n",
    "  filename = NULL,  # Set to NULL to plot directly to the R graphics device\n",
    "  output = TRUE,\n",
    "  fill = rainbow(length(gene_list)),  # Use a rainbow color palette for different bubbles\n",
    "  alpha = 0.5,\n",
    "  cat.cex = 1,  # Adjust the size of the category labels\n",
    "  cex = 1.5,\n",
    "  cat.pos = c(0, 0, 0, 0),  # Adjust positions for each label\n",
    "  cat.dist = c(0.1, 0.1, 0.1, 0.1),  # Adjust distances for each label\n",
    "  main = \"Significant Differentially Expressed Genes\",\n",
    "  main.cex = 1.5\n",
    ")\n",
    "\n",
    "# Plot the Venn diagram\n",
    "grid.draw(venn.plot)\n",
    "\n",
    "# Close the PDF \n",
    "dev.off()"
   ]
  },
  {
   "cell_type": "markdown",
   "id": "d4d87cbf-6317-49e9-bf4b-55486c874a80",
   "metadata": {},
   "source": [
    "### Make Upset Plot"
   ]
  },
  {
   "cell_type": "code",
   "execution_count": 31,
   "id": "8eff8677-b735-4c34-981d-96f4553c6235",
   "metadata": {},
   "outputs": [
    {
     "data": {
      "text/html": [
       "<strong>png:</strong> 2"
      ],
      "text/latex": [
       "\\textbf{png:} 2"
      ],
      "text/markdown": [
       "**png:** 2"
      ],
      "text/plain": [
       "png \n",
       "  2 "
      ]
     },
     "metadata": {},
     "output_type": "display_data"
    }
   ],
   "source": [
    "# Initialize a list to store gene sets\n",
    "gene_list <- list()\n",
    "\n",
    "# Create a named vector for custom labels\n",
    "label_mapping <- c(\n",
    "  \"faexcess_vs_control_downregulated\" = \"Control vs. FAE Downregulated\",\n",
    "  \"faexcess_vs_control_upregulated\" = \"Control vs. FAE Upregulated\",\n",
    "  \"faexcess_female_vs_control_female_downregulated\" = \"Control Female vs. FAE Female Downregulated\",\n",
    "  \"faexcess_female_vs_control_female_upregulated\" = \"Control Female vs. FAE Female Upregulated\"\n",
    ")\n",
    "\n",
    "# Loop through each file and read the gene names\n",
    "for (file in files) {\n",
    "  # Read the gene names from the file\n",
    "  gene_names <- read.table(file, stringsAsFactors = FALSE)$V1  # Assuming gene names are in the first column\n",
    "  \n",
    "  # Use the filename (without path and extension) as the list name\n",
    "  list_name <- tools::file_path_sans_ext(basename(file))\n",
    "  \n",
    "  # Store the gene names in the list\n",
    "  gene_list[[list_name]] <- gene_names\n",
    "}\n",
    "\n",
    "# Convert the gene list to a data frame suitable for UpSetR\n",
    "gene_df <- data.frame(\n",
    "  Gene = unlist(gene_list),\n",
    "  Group = rep(names(gene_list), times = sapply(gene_list, length))\n",
    ")\n",
    "\n",
    "# Create a binary presence-absence matrix for UpSetR\n",
    "gene_matrix <- as.data.frame.matrix(table(gene_df))\n",
    "\n",
    "# Rename the columns of the binary matrix using the label mapping\n",
    "colnames(gene_matrix) <- label_mapping[names(gene_matrix)]\n",
    "\n",
    "pdf(\"05_DEGs/upset_plot_of_DEGs.pdf\", width = 11, height = 6)\n",
    "\n",
    "# Create the UpSet plot\n",
    "p <- upset(gene_matrix, sets = colnames(gene_matrix), keep.order = TRUE,\n",
    "      main.bar.color = \"steelblue\", \n",
    "      sets.bar.color = \"darkgreen\",\n",
    "      order.by = \"freq\", \n",
    "      text.scale = 1.5)\n",
    "\n",
    "print(p)\n",
    "\n",
    "dev.off()"
   ]
  },
  {
   "cell_type": "markdown",
   "id": "22c2c444-6565-44c3-a7e4-2e7f2fd20160",
   "metadata": {},
   "source": [
    "### Store Gene Lists"
   ]
  },
  {
   "cell_type": "code",
   "execution_count": 12,
   "id": "c6c02028-3bd1-4a54-ac05-6d98a0187ee9",
   "metadata": {},
   "outputs": [],
   "source": [
    "# Initialize a list to store gene sets\n",
    "gene_lists <- list()\n",
    "\n",
    "# Loop through each file and read the gene names\n",
    "for (file in files) {\n",
    "  # Read the gene names from the file\n",
    "  gene_names <- read.table(file, stringsAsFactors = FALSE)$V1  # Assuming gene names are in the first column\n",
    "  \n",
    "  # Use the filename (without path and extension) as the list name\n",
    "  list_name <- tools::file_path_sans_ext(basename(file))\n",
    "  \n",
    "  # Store the gene names in the list\n",
    "  gene_lists[[list_name]] <- gene_names\n",
    "}\n",
    "\n",
    "# Create a data frame to hold the results\n",
    "max_length <- max(sapply(gene_lists, length))  # Find the maximum length of gene lists\n",
    "\n",
    "# Initialize a data frame with NA values\n",
    "gene_df <- data.frame(matrix(NA, nrow = max_length, ncol = length(gene_lists)))\n",
    "\n",
    "# Set the column names to the condition names\n",
    "colnames(gene_df) <- label_mapping[names(gene_lists)]\n",
    "\n",
    "# Fill the data frame with gene names\n",
    "for (i in seq_along(gene_lists)) {\n",
    "  gene_df[1:length(gene_lists[[i]]), i] <- gene_lists[[i]]\n",
    "}\n",
    "\n",
    "# Calculate intersections and store them in a new data frame\n",
    "intersection_list <- list()\n",
    "gene_names <- names(gene_lists)\n",
    "\n",
    "# Loop through all combinations of gene lists to find intersections\n",
    "for (i in 1:(length(gene_names) - 1)) {\n",
    "  for (j in (i + 1):length(gene_names)) {\n",
    "    # Get the corresponding labels for the two gene lists\n",
    "    label1 <- label_mapping[gene_names[i]]\n",
    "    label2 <- label_mapping[gene_names[j]]\n",
    "    \n",
    "    # Create the intersection name using the labels, replacing \"intersect\" with \"and\"\n",
    "    intersection_name <- paste(label1, \"and\", label2, sep = \" \")\n",
    "    \n",
    "    # Calculate the intersection\n",
    "    intersection_result <- intersect(gene_lists[[i]], gene_lists[[j]])\n",
    "    \n",
    "    # Store the intersection result\n",
    "    intersection_list[[intersection_name]] <- intersection_result\n",
    "  }\n",
    "}\n",
    "\n",
    "# Create a data frame for intersections\n",
    "intersection_df <- data.frame(matrix(NA, nrow = max_length, ncol = length(intersection_list)))\n",
    "colnames(intersection_df) <- names(intersection_list)\n",
    "\n",
    "# Fill the intersection data frame with gene names or NA if empty\n",
    "for (i in seq_along(intersection_list)) {\n",
    "  if (length(intersection_list[[i]]) == 0) {\n",
    "    intersection_df[, i] <- NA  \n",
    "  } else {\n",
    "    intersection_df[1:length(intersection_list[[i]]), i] <- intersection_list[[i]]\n",
    "  }\n",
    "}\n",
    "\n",
    "# Combine the original gene data frame with the intersection data frame\n",
    "combined_df <- cbind(gene_df, intersection_df)\n",
    "\n",
    "# Save the combined data frame as an Excel file using openxlsx\n",
    "write.xlsx(combined_df, file = \"05_DEGs/upset_plot_DEGS.xlsx\", rowNames = FALSE)"
   ]
  },
  {
   "cell_type": "markdown",
   "id": "2ddd55e0-d45d-4682-9a22-ee5ed77bba40",
   "metadata": {},
   "source": [
    "## Visualize DEG GO Analysis"
   ]
  },
  {
   "cell_type": "markdown",
   "id": "c1f25dde-bc12-4cfa-a52c-3819607cc695",
   "metadata": {},
   "source": [
    "### Read in Data"
   ]
  },
  {
   "cell_type": "code",
   "execution_count": 13,
   "id": "08c41bd7-ea1d-4ffd-919a-ea12baf89577",
   "metadata": {},
   "outputs": [],
   "source": [
    "# List of GO databases\n",
    "databases <- c(\"GO_Biological_Process_2023\", \"GO_Cellular_Component_2023\", \"GO_Molecular_Function_2023\",\n",
    "               \"KEGG_2019_Mouse\", \"Panther_2016\", \"Reactome_2016\", \"RNAseq_DiseaseGene_DrugSigs_GEO\")"
   ]
  },
  {
   "cell_type": "code",
   "execution_count": 14,
   "id": "fad58293-1ae6-474b-85fd-d22564842d04",
   "metadata": {},
   "outputs": [
    {
     "data": {
      "text/html": [
       "<table class=\"dataframe\">\n",
       "<caption>A data.frame: 6 × 5</caption>\n",
       "<thead>\n",
       "\t<tr><th></th><th scope=col>Term</th><th scope=col>Adjusted.P.value</th><th scope=col>Odds.Ratio</th><th scope=col>Module</th><th scope=col>Database</th></tr>\n",
       "\t<tr><th></th><th scope=col>&lt;chr&gt;</th><th scope=col>&lt;dbl&gt;</th><th scope=col>&lt;dbl&gt;</th><th scope=col>&lt;chr&gt;</th><th scope=col>&lt;chr&gt;</th></tr>\n",
       "</thead>\n",
       "<tbody>\n",
       "\t<tr><th scope=row>1</th><td>Cytoplasmic Translation (GO:0002181)           </td><td>7.026021e-19</td><td>35.738009</td><td>Control Female vs. FAE Female</td><td>GO_Biological_Process_2023</td></tr>\n",
       "\t<tr><th scope=row>2</th><td>Translation (GO:0006412)                       </td><td>6.226612e-15</td><td>14.652980</td><td>Control Female vs. FAE Female</td><td>GO_Biological_Process_2023</td></tr>\n",
       "\t<tr><th scope=row>3</th><td>Macromolecule Biosynthetic Process (GO:0009059)</td><td>6.226612e-15</td><td>17.122221</td><td>Control Female vs. FAE Female</td><td>GO_Biological_Process_2023</td></tr>\n",
       "\t<tr><th scope=row>4</th><td>Peptide Biosynthetic Process (GO:0043043)      </td><td>6.226612e-15</td><td>18.963421</td><td>Control Female vs. FAE Female</td><td>GO_Biological_Process_2023</td></tr>\n",
       "\t<tr><th scope=row>5</th><td>Gene Expression (GO:0010467)                   </td><td>5.033018e-11</td><td>10.053962</td><td>Control Female vs. FAE Female</td><td>GO_Biological_Process_2023</td></tr>\n",
       "\t<tr><th scope=row>6</th><td>rRNA Processing (GO:0006364)                   </td><td>2.180118e-03</td><td> 9.547872</td><td>Control Female vs. FAE Female</td><td>GO_Biological_Process_2023</td></tr>\n",
       "</tbody>\n",
       "</table>\n"
      ],
      "text/latex": [
       "A data.frame: 6 × 5\n",
       "\\begin{tabular}{r|lllll}\n",
       "  & Term & Adjusted.P.value & Odds.Ratio & Module & Database\\\\\n",
       "  & <chr> & <dbl> & <dbl> & <chr> & <chr>\\\\\n",
       "\\hline\n",
       "\t1 & Cytoplasmic Translation (GO:0002181)            & 7.026021e-19 & 35.738009 & Control Female vs. FAE Female & GO\\_Biological\\_Process\\_2023\\\\\n",
       "\t2 & Translation (GO:0006412)                        & 6.226612e-15 & 14.652980 & Control Female vs. FAE Female & GO\\_Biological\\_Process\\_2023\\\\\n",
       "\t3 & Macromolecule Biosynthetic Process (GO:0009059) & 6.226612e-15 & 17.122221 & Control Female vs. FAE Female & GO\\_Biological\\_Process\\_2023\\\\\n",
       "\t4 & Peptide Biosynthetic Process (GO:0043043)       & 6.226612e-15 & 18.963421 & Control Female vs. FAE Female & GO\\_Biological\\_Process\\_2023\\\\\n",
       "\t5 & Gene Expression (GO:0010467)                    & 5.033018e-11 & 10.053962 & Control Female vs. FAE Female & GO\\_Biological\\_Process\\_2023\\\\\n",
       "\t6 & rRNA Processing (GO:0006364)                    & 2.180118e-03 &  9.547872 & Control Female vs. FAE Female & GO\\_Biological\\_Process\\_2023\\\\\n",
       "\\end{tabular}\n"
      ],
      "text/markdown": [
       "\n",
       "A data.frame: 6 × 5\n",
       "\n",
       "| <!--/--> | Term &lt;chr&gt; | Adjusted.P.value &lt;dbl&gt; | Odds.Ratio &lt;dbl&gt; | Module &lt;chr&gt; | Database &lt;chr&gt; |\n",
       "|---|---|---|---|---|---|\n",
       "| 1 | Cytoplasmic Translation (GO:0002181)            | 7.026021e-19 | 35.738009 | Control Female vs. FAE Female | GO_Biological_Process_2023 |\n",
       "| 2 | Translation (GO:0006412)                        | 6.226612e-15 | 14.652980 | Control Female vs. FAE Female | GO_Biological_Process_2023 |\n",
       "| 3 | Macromolecule Biosynthetic Process (GO:0009059) | 6.226612e-15 | 17.122221 | Control Female vs. FAE Female | GO_Biological_Process_2023 |\n",
       "| 4 | Peptide Biosynthetic Process (GO:0043043)       | 6.226612e-15 | 18.963421 | Control Female vs. FAE Female | GO_Biological_Process_2023 |\n",
       "| 5 | Gene Expression (GO:0010467)                    | 5.033018e-11 | 10.053962 | Control Female vs. FAE Female | GO_Biological_Process_2023 |\n",
       "| 6 | rRNA Processing (GO:0006364)                    | 2.180118e-03 |  9.547872 | Control Female vs. FAE Female | GO_Biological_Process_2023 |\n",
       "\n"
      ],
      "text/plain": [
       "  Term                                            Adjusted.P.value Odds.Ratio\n",
       "1 Cytoplasmic Translation (GO:0002181)            7.026021e-19     35.738009 \n",
       "2 Translation (GO:0006412)                        6.226612e-15     14.652980 \n",
       "3 Macromolecule Biosynthetic Process (GO:0009059) 6.226612e-15     17.122221 \n",
       "4 Peptide Biosynthetic Process (GO:0043043)       6.226612e-15     18.963421 \n",
       "5 Gene Expression (GO:0010467)                    5.033018e-11     10.053962 \n",
       "6 rRNA Processing (GO:0006364)                    2.180118e-03      9.547872 \n",
       "  Module                        Database                  \n",
       "1 Control Female vs. FAE Female GO_Biological_Process_2023\n",
       "2 Control Female vs. FAE Female GO_Biological_Process_2023\n",
       "3 Control Female vs. FAE Female GO_Biological_Process_2023\n",
       "4 Control Female vs. FAE Female GO_Biological_Process_2023\n",
       "5 Control Female vs. FAE Female GO_Biological_Process_2023\n",
       "6 Control Female vs. FAE Female GO_Biological_Process_2023"
      ]
     },
     "metadata": {},
     "output_type": "display_data"
    }
   ],
   "source": [
    "# Store GO data into a data frame\n",
    "\n",
    "# Create a named vector for custom labels\n",
    "label_mapping <- c(\n",
    "  \"faexcess_vs_control\" = \"Control vs. FAE\",\n",
    "  \"faexcess_female_vs_control_female\" = \"Control Female vs. FAE Female\"\n",
    ")\n",
    "\n",
    "# Initialize an empty dataframe\n",
    "all_data <- data.frame()\n",
    "\n",
    "# Specify the directory containing the files\n",
    "directory <- \"05_DEGs\"\n",
    "\n",
    "# List all files in the directory that match the pattern\n",
    "file_list <- list.files(path = directory, pattern = \"_enrichr_results\\\\.xlsx$\", full.names = TRUE)\n",
    "\n",
    "# Iterate over each file and read in the corresponding Excel sheets\n",
    "for (file_path in file_list) {\n",
    "  # Extract the comparison name from the file name\n",
    "  comparison <- tools::file_path_sans_ext(basename(file_path))\n",
    "  \n",
    "  # Get the names of the sheets in the Excel file\n",
    "  databases <- excel_sheets(file_path)\n",
    "  \n",
    "  for (database in databases) {\n",
    "    try({\n",
    "      # Read the data from the Excel file\n",
    "      df <- read_excel(file_path, sheet = database)\n",
    "      \n",
    "      if (nrow(df) == 0) {\n",
    "        next  # Skip to the next database if no data\n",
    "      }\n",
    "      \n",
    "      # Select the required columns and add module (comparison) and database information\n",
    "      df <- df %>%\n",
    "        select(Term, Adjusted.P.value, Odds.Ratio) %>%\n",
    "        mutate(Module = comparison, Database = database)  # Keep the original comparison name\n",
    "      \n",
    "      # Append to the dataframe\n",
    "      all_data <- bind_rows(all_data, df)\n",
    "      \n",
    "    }, silent = TRUE)\n",
    "  }\n",
    "}\n",
    "\n",
    "# Check if any data was read\n",
    "if (nrow(all_data) == 0) {\n",
    "  stop(\"No data read from any of the Excel files.\")\n",
    "}\n",
    "\n",
    "# Replace the Module names with corresponding labels from label_mapping\n",
    "all_data$Module <- gsub(\"_genes_enrichr_results$\", \"\", all_data$Module)\n",
    "all_data$Module <- ifelse(all_data$Module %in% names(label_mapping), \n",
    "                           label_mapping[all_data$Module], \n",
    "                           all_data$Module) \n",
    "\n",
    "# Display the combined dataframe\n",
    "head(all_data)"
   ]
  },
  {
   "cell_type": "code",
   "execution_count": 15,
   "id": "f933081f-2fee-4ace-9610-8b8973c81355",
   "metadata": {},
   "outputs": [
    {
     "data": {
      "text/html": [
       "<table class=\"dataframe\">\n",
       "<caption>A data.frame: 6 × 5</caption>\n",
       "<thead>\n",
       "\t<tr><th></th><th scope=col>Term</th><th scope=col>Adjusted.P.value</th><th scope=col>Odds.Ratio</th><th scope=col>Module</th><th scope=col>Database</th></tr>\n",
       "\t<tr><th></th><th scope=col>&lt;chr&gt;</th><th scope=col>&lt;dbl&gt;</th><th scope=col>&lt;dbl&gt;</th><th scope=col>&lt;chr&gt;</th><th scope=col>&lt;chr&gt;</th></tr>\n",
       "</thead>\n",
       "<tbody>\n",
       "\t<tr><th scope=row>1</th><td>Cytoplasmic Translation (GO:0002181)           </td><td>7.026021e-19</td><td>35.738009</td><td>Control Female vs. FAE Female</td><td>GO_Biological_Process_2023</td></tr>\n",
       "\t<tr><th scope=row>2</th><td>Translation (GO:0006412)                       </td><td>6.226612e-15</td><td>14.652980</td><td>Control Female vs. FAE Female</td><td>GO_Biological_Process_2023</td></tr>\n",
       "\t<tr><th scope=row>3</th><td>Macromolecule Biosynthetic Process (GO:0009059)</td><td>6.226612e-15</td><td>17.122221</td><td>Control Female vs. FAE Female</td><td>GO_Biological_Process_2023</td></tr>\n",
       "\t<tr><th scope=row>4</th><td>Peptide Biosynthetic Process (GO:0043043)      </td><td>6.226612e-15</td><td>18.963421</td><td>Control Female vs. FAE Female</td><td>GO_Biological_Process_2023</td></tr>\n",
       "\t<tr><th scope=row>5</th><td>Gene Expression (GO:0010467)                   </td><td>5.033018e-11</td><td>10.053962</td><td>Control Female vs. FAE Female</td><td>GO_Biological_Process_2023</td></tr>\n",
       "\t<tr><th scope=row>6</th><td>rRNA Processing (GO:0006364)                   </td><td>2.180118e-03</td><td> 9.547872</td><td>Control Female vs. FAE Female</td><td>GO_Biological_Process_2023</td></tr>\n",
       "</tbody>\n",
       "</table>\n"
      ],
      "text/latex": [
       "A data.frame: 6 × 5\n",
       "\\begin{tabular}{r|lllll}\n",
       "  & Term & Adjusted.P.value & Odds.Ratio & Module & Database\\\\\n",
       "  & <chr> & <dbl> & <dbl> & <chr> & <chr>\\\\\n",
       "\\hline\n",
       "\t1 & Cytoplasmic Translation (GO:0002181)            & 7.026021e-19 & 35.738009 & Control Female vs. FAE Female & GO\\_Biological\\_Process\\_2023\\\\\n",
       "\t2 & Translation (GO:0006412)                        & 6.226612e-15 & 14.652980 & Control Female vs. FAE Female & GO\\_Biological\\_Process\\_2023\\\\\n",
       "\t3 & Macromolecule Biosynthetic Process (GO:0009059) & 6.226612e-15 & 17.122221 & Control Female vs. FAE Female & GO\\_Biological\\_Process\\_2023\\\\\n",
       "\t4 & Peptide Biosynthetic Process (GO:0043043)       & 6.226612e-15 & 18.963421 & Control Female vs. FAE Female & GO\\_Biological\\_Process\\_2023\\\\\n",
       "\t5 & Gene Expression (GO:0010467)                    & 5.033018e-11 & 10.053962 & Control Female vs. FAE Female & GO\\_Biological\\_Process\\_2023\\\\\n",
       "\t6 & rRNA Processing (GO:0006364)                    & 2.180118e-03 &  9.547872 & Control Female vs. FAE Female & GO\\_Biological\\_Process\\_2023\\\\\n",
       "\\end{tabular}\n"
      ],
      "text/markdown": [
       "\n",
       "A data.frame: 6 × 5\n",
       "\n",
       "| <!--/--> | Term &lt;chr&gt; | Adjusted.P.value &lt;dbl&gt; | Odds.Ratio &lt;dbl&gt; | Module &lt;chr&gt; | Database &lt;chr&gt; |\n",
       "|---|---|---|---|---|---|\n",
       "| 1 | Cytoplasmic Translation (GO:0002181)            | 7.026021e-19 | 35.738009 | Control Female vs. FAE Female | GO_Biological_Process_2023 |\n",
       "| 2 | Translation (GO:0006412)                        | 6.226612e-15 | 14.652980 | Control Female vs. FAE Female | GO_Biological_Process_2023 |\n",
       "| 3 | Macromolecule Biosynthetic Process (GO:0009059) | 6.226612e-15 | 17.122221 | Control Female vs. FAE Female | GO_Biological_Process_2023 |\n",
       "| 4 | Peptide Biosynthetic Process (GO:0043043)       | 6.226612e-15 | 18.963421 | Control Female vs. FAE Female | GO_Biological_Process_2023 |\n",
       "| 5 | Gene Expression (GO:0010467)                    | 5.033018e-11 | 10.053962 | Control Female vs. FAE Female | GO_Biological_Process_2023 |\n",
       "| 6 | rRNA Processing (GO:0006364)                    | 2.180118e-03 |  9.547872 | Control Female vs. FAE Female | GO_Biological_Process_2023 |\n",
       "\n"
      ],
      "text/plain": [
       "  Term                                            Adjusted.P.value Odds.Ratio\n",
       "1 Cytoplasmic Translation (GO:0002181)            7.026021e-19     35.738009 \n",
       "2 Translation (GO:0006412)                        6.226612e-15     14.652980 \n",
       "3 Macromolecule Biosynthetic Process (GO:0009059) 6.226612e-15     17.122221 \n",
       "4 Peptide Biosynthetic Process (GO:0043043)       6.226612e-15     18.963421 \n",
       "5 Gene Expression (GO:0010467)                    5.033018e-11     10.053962 \n",
       "6 rRNA Processing (GO:0006364)                    2.180118e-03      9.547872 \n",
       "  Module                        Database                  \n",
       "1 Control Female vs. FAE Female GO_Biological_Process_2023\n",
       "2 Control Female vs. FAE Female GO_Biological_Process_2023\n",
       "3 Control Female vs. FAE Female GO_Biological_Process_2023\n",
       "4 Control Female vs. FAE Female GO_Biological_Process_2023\n",
       "5 Control Female vs. FAE Female GO_Biological_Process_2023\n",
       "6 Control Female vs. FAE Female GO_Biological_Process_2023"
      ]
     },
     "metadata": {},
     "output_type": "display_data"
    }
   ],
   "source": [
    "# Filter out rows where the Adjusted.P.value is less than 0.05\n",
    "all_data <- all_data %>%\n",
    "  filter(Adjusted.P.value <= 0.05)\n",
    "\n",
    "# Display the filtered dataframe\n",
    "head(all_data)"
   ]
  },
  {
   "cell_type": "code",
   "execution_count": 16,
   "id": "b0192548-42f6-450b-95f8-d74289230640",
   "metadata": {},
   "outputs": [
    {
     "name": "stdout",
     "output_type": "stream",
     "text": [
      "\u001b[90m# A tibble: 6 × 3\u001b[39m\n",
      "  Database                        Total_Terms Unique_Terms\n",
      "  \u001b[3m\u001b[90m<chr>\u001b[39m\u001b[23m                                 \u001b[3m\u001b[90m<int>\u001b[39m\u001b[23m        \u001b[3m\u001b[90m<int>\u001b[39m\u001b[23m\n",
      "\u001b[90m1\u001b[39m GO_Biological_Process_2023               49           38\n",
      "\u001b[90m2\u001b[39m GO_Cellular_Component_2023               52           37\n",
      "\u001b[90m3\u001b[39m GO_Molecular_Function_2023               14           11\n",
      "\u001b[90m4\u001b[39m KEGG_2019_Mouse                          10            9\n",
      "\u001b[90m5\u001b[39m RNAseq_DiseaseGene_DrugSigs_GEO        \u001b[4m1\u001b[24m208          690\n",
      "\u001b[90m6\u001b[39m Reactome_2016                           105           65\n"
     ]
    }
   ],
   "source": [
    "# Count the number of total terms and unique terms for each database\n",
    "database_term_counts <- all_data %>%\n",
    "  group_by(Database) %>%\n",
    "  summarise(\n",
    "    Total_Terms = n(),\n",
    "    Unique_Terms = n_distinct(Term)\n",
    "  )\n",
    "\n",
    "# Print the table\n",
    "print(database_term_counts)"
   ]
  },
  {
   "cell_type": "markdown",
   "id": "b01992cf-8141-4e22-a592-f3bed15fc1d0",
   "metadata": {},
   "source": [
    "### Plot Top 25 Dot Plots"
   ]
  },
  {
   "cell_type": "code",
   "execution_count": 17,
   "id": "1e2c5159-3c8a-44b0-a951-ac08bb1f208a",
   "metadata": {},
   "outputs": [
    {
     "data": {
      "text/html": [
       "<table class=\"dataframe\">\n",
       "<caption>A data.frame: 6 × 5</caption>\n",
       "<thead>\n",
       "\t<tr><th></th><th scope=col>Term</th><th scope=col>Adjusted.P.value</th><th scope=col>Odds.Ratio</th><th scope=col>Module</th><th scope=col>Database</th></tr>\n",
       "\t<tr><th></th><th scope=col>&lt;chr&gt;</th><th scope=col>&lt;dbl&gt;</th><th scope=col>&lt;dbl&gt;</th><th scope=col>&lt;chr&gt;</th><th scope=col>&lt;chr&gt;</th></tr>\n",
       "</thead>\n",
       "<tbody>\n",
       "\t<tr><th scope=row>1</th><td>Cytoplasmic Translation (GO:0002181)           </td><td>7.026021e-19</td><td>35.738009</td><td>Control Female vs. FAE Female</td><td>GO_Biological_Process_2023</td></tr>\n",
       "\t<tr><th scope=row>2</th><td>Translation (GO:0006412)                       </td><td>6.226612e-15</td><td>14.652980</td><td>Control Female vs. FAE Female</td><td>GO_Biological_Process_2023</td></tr>\n",
       "\t<tr><th scope=row>3</th><td>Macromolecule Biosynthetic Process (GO:0009059)</td><td>6.226612e-15</td><td>17.122221</td><td>Control Female vs. FAE Female</td><td>GO_Biological_Process_2023</td></tr>\n",
       "\t<tr><th scope=row>4</th><td>Peptide Biosynthetic Process (GO:0043043)      </td><td>6.226612e-15</td><td>18.963421</td><td>Control Female vs. FAE Female</td><td>GO_Biological_Process_2023</td></tr>\n",
       "\t<tr><th scope=row>5</th><td>Gene Expression (GO:0010467)                   </td><td>5.033018e-11</td><td>10.053962</td><td>Control Female vs. FAE Female</td><td>GO_Biological_Process_2023</td></tr>\n",
       "\t<tr><th scope=row>6</th><td>rRNA Processing (GO:0006364)                   </td><td>2.180118e-03</td><td> 9.547872</td><td>Control Female vs. FAE Female</td><td>GO_Biological_Process_2023</td></tr>\n",
       "</tbody>\n",
       "</table>\n"
      ],
      "text/latex": [
       "A data.frame: 6 × 5\n",
       "\\begin{tabular}{r|lllll}\n",
       "  & Term & Adjusted.P.value & Odds.Ratio & Module & Database\\\\\n",
       "  & <chr> & <dbl> & <dbl> & <chr> & <chr>\\\\\n",
       "\\hline\n",
       "\t1 & Cytoplasmic Translation (GO:0002181)            & 7.026021e-19 & 35.738009 & Control Female vs. FAE Female & GO\\_Biological\\_Process\\_2023\\\\\n",
       "\t2 & Translation (GO:0006412)                        & 6.226612e-15 & 14.652980 & Control Female vs. FAE Female & GO\\_Biological\\_Process\\_2023\\\\\n",
       "\t3 & Macromolecule Biosynthetic Process (GO:0009059) & 6.226612e-15 & 17.122221 & Control Female vs. FAE Female & GO\\_Biological\\_Process\\_2023\\\\\n",
       "\t4 & Peptide Biosynthetic Process (GO:0043043)       & 6.226612e-15 & 18.963421 & Control Female vs. FAE Female & GO\\_Biological\\_Process\\_2023\\\\\n",
       "\t5 & Gene Expression (GO:0010467)                    & 5.033018e-11 & 10.053962 & Control Female vs. FAE Female & GO\\_Biological\\_Process\\_2023\\\\\n",
       "\t6 & rRNA Processing (GO:0006364)                    & 2.180118e-03 &  9.547872 & Control Female vs. FAE Female & GO\\_Biological\\_Process\\_2023\\\\\n",
       "\\end{tabular}\n"
      ],
      "text/markdown": [
       "\n",
       "A data.frame: 6 × 5\n",
       "\n",
       "| <!--/--> | Term &lt;chr&gt; | Adjusted.P.value &lt;dbl&gt; | Odds.Ratio &lt;dbl&gt; | Module &lt;chr&gt; | Database &lt;chr&gt; |\n",
       "|---|---|---|---|---|---|\n",
       "| 1 | Cytoplasmic Translation (GO:0002181)            | 7.026021e-19 | 35.738009 | Control Female vs. FAE Female | GO_Biological_Process_2023 |\n",
       "| 2 | Translation (GO:0006412)                        | 6.226612e-15 | 14.652980 | Control Female vs. FAE Female | GO_Biological_Process_2023 |\n",
       "| 3 | Macromolecule Biosynthetic Process (GO:0009059) | 6.226612e-15 | 17.122221 | Control Female vs. FAE Female | GO_Biological_Process_2023 |\n",
       "| 4 | Peptide Biosynthetic Process (GO:0043043)       | 6.226612e-15 | 18.963421 | Control Female vs. FAE Female | GO_Biological_Process_2023 |\n",
       "| 5 | Gene Expression (GO:0010467)                    | 5.033018e-11 | 10.053962 | Control Female vs. FAE Female | GO_Biological_Process_2023 |\n",
       "| 6 | rRNA Processing (GO:0006364)                    | 2.180118e-03 |  9.547872 | Control Female vs. FAE Female | GO_Biological_Process_2023 |\n",
       "\n"
      ],
      "text/plain": [
       "  Term                                            Adjusted.P.value Odds.Ratio\n",
       "1 Cytoplasmic Translation (GO:0002181)            7.026021e-19     35.738009 \n",
       "2 Translation (GO:0006412)                        6.226612e-15     14.652980 \n",
       "3 Macromolecule Biosynthetic Process (GO:0009059) 6.226612e-15     17.122221 \n",
       "4 Peptide Biosynthetic Process (GO:0043043)       6.226612e-15     18.963421 \n",
       "5 Gene Expression (GO:0010467)                    5.033018e-11     10.053962 \n",
       "6 rRNA Processing (GO:0006364)                    2.180118e-03      9.547872 \n",
       "  Module                        Database                  \n",
       "1 Control Female vs. FAE Female GO_Biological_Process_2023\n",
       "2 Control Female vs. FAE Female GO_Biological_Process_2023\n",
       "3 Control Female vs. FAE Female GO_Biological_Process_2023\n",
       "4 Control Female vs. FAE Female GO_Biological_Process_2023\n",
       "5 Control Female vs. FAE Female GO_Biological_Process_2023\n",
       "6 Control Female vs. FAE Female GO_Biological_Process_2023"
      ]
     },
     "metadata": {},
     "output_type": "display_data"
    }
   ],
   "source": [
    "# Calculate the number of modules each term appears in for each database\n",
    "term_module_counts <- all_data %>%\n",
    "  group_by(Database, Term) %>%\n",
    "  summarise(ModuleCount = n_distinct(Module), .groups = 'drop')\n",
    "\n",
    "# Rank the terms within each database by the number of modules they appear in\n",
    "ranked_terms <- term_module_counts %>%\n",
    "  arrange(Database, desc(ModuleCount)) %>%\n",
    "  group_by(Database) %>%\n",
    "  slice_head(n = 25) %>%\n",
    "  ungroup()\n",
    "\n",
    "# Merge with the original data to filter the top 25 terms per database\n",
    "filtered_data_top_25 <- all_data %>%\n",
    "  semi_join(ranked_terms, by = c(\"Database\", \"Term\"))\n",
    "\n",
    "# Print the filtered data\n",
    "head(filtered_data_top_25)"
   ]
  },
  {
   "cell_type": "code",
   "execution_count": 18,
   "id": "e926b751-a975-41d6-a100-3d6c064f9093",
   "metadata": {},
   "outputs": [
    {
     "name": "stdout",
     "output_type": "stream",
     "text": [
      "\u001b[90m# A tibble: 6 × 3\u001b[39m\n",
      "  Database                        Total_Terms Unique_Terms\n",
      "  \u001b[3m\u001b[90m<chr>\u001b[39m\u001b[23m                                 \u001b[3m\u001b[90m<int>\u001b[39m\u001b[23m        \u001b[3m\u001b[90m<int>\u001b[39m\u001b[23m\n",
      "\u001b[90m1\u001b[39m GO_Biological_Process_2023               36           25\n",
      "\u001b[90m2\u001b[39m GO_Cellular_Component_2023               40           25\n",
      "\u001b[90m3\u001b[39m GO_Molecular_Function_2023               14           11\n",
      "\u001b[90m4\u001b[39m KEGG_2019_Mouse                          10            9\n",
      "\u001b[90m5\u001b[39m RNAseq_DiseaseGene_DrugSigs_GEO          50           25\n",
      "\u001b[90m6\u001b[39m Reactome_2016                            50           25\n"
     ]
    }
   ],
   "source": [
    "# Count the number of total terms and unique terms for each database\n",
    "filtered_database_term_counts <- filtered_data_top_25 %>%\n",
    "  group_by(Database) %>%\n",
    "  summarise(\n",
    "    Total_Terms = n(),\n",
    "    Unique_Terms = n_distinct(Term)\n",
    "  )\n",
    "\n",
    "# Print the table\n",
    "print(filtered_database_term_counts)"
   ]
  },
  {
   "cell_type": "code",
   "execution_count": 19,
   "id": "e62d804d-9f41-4165-9b18-47467c472a5f",
   "metadata": {},
   "outputs": [],
   "source": [
    "# Create plots for each database\n",
    "for (database in unique(filtered_data_top_25$Database)) {\n",
    "  database_filtered_data <- filtered_data_top_25 %>%\n",
    "    filter(Database == database)\n",
    "  \n",
    "  if (nrow(database_filtered_data) > 0) {\n",
    "    dot_plot <- ggplot(database_filtered_data, aes(x = Module, y = Term, size = Odds.Ratio, fill = Adjusted.P.value)) +\n",
    "      geom_point(shape = 21) +\n",
    "      scale_fill_viridis() +\n",
    "      xlab('') + ylab('') +\n",
    "      labs(\n",
    "        title = 'Top GO Terms Associated with Significant DEGs',\n",
    "        subtitle = glue('{database}')\n",
    "      ) +\n",
    "      theme(\n",
    "        panel.background = element_rect(fill = \"white\", color = NA),\n",
    "        panel.grid.major = element_blank(),\n",
    "        panel.grid.minor = element_blank(),\n",
    "        panel.border = element_blank(),\n",
    "        axis.line = element_line(color = \"black\"),\n",
    "        plot.background = element_rect(fill = \"white\", color = NA),\n",
    "        axis.text.x = element_text(angle = 90, hjust = 1)\n",
    "      )\n",
    "    \n",
    "    # Save the dot plot with the database name in the filename\n",
    "    ggsave(filename = glue(\"05_DEGs/top_25_dot_plot_{database}.pdf\"), plot = dot_plot, height = 10, width = 15)\n",
    "  } else {\n",
    "    cat(glue(\"No data available for {database}. Skipping...\\n\"))\n",
    "  }\n",
    "}"
   ]
  }
 ],
 "metadata": {
  "kernelspec": {
   "display_name": "R",
   "language": "R",
   "name": "ir"
  },
  "language_info": {
   "codemirror_mode": "r",
   "file_extension": ".r",
   "mimetype": "text/x-r-source",
   "name": "R",
   "pygments_lexer": "r",
   "version": "4.3.2"
  }
 },
 "nbformat": 4,
 "nbformat_minor": 5
}
