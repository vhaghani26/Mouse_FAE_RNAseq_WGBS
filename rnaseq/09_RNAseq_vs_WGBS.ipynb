{
 "cells": [
  {
   "cell_type": "markdown",
   "id": "73091d0d-8c4d-49b0-b4dc-2c9f12239880",
   "metadata": {},
   "source": [
    "## Set Library Path"
   ]
  },
  {
   "cell_type": "code",
   "execution_count": 1,
   "id": "06fb5f4e-dac3-445d-885b-6640b00f8511",
   "metadata": {},
   "outputs": [],
   "source": [
    ".libPaths(\"/share/korflab/home/viki/anaconda3/jupyter_nb_R4.3/lib/R/library\")"
   ]
  },
  {
   "cell_type": "markdown",
   "id": "e5c41afd-eb60-4dc9-ab96-423fda483040",
   "metadata": {},
   "source": [
    "## Load Libraries"
   ]
  },
  {
   "cell_type": "code",
   "execution_count": 3,
   "id": "c8ab7029-2370-463d-a600-cf8c4cb17faf",
   "metadata": {},
   "outputs": [],
   "source": [
    "library(openxlsx)\n",
    "library(readxl)\n",
    "library(dplyr)\n",
    "library(glue)"
   ]
  },
  {
   "cell_type": "markdown",
   "id": "e9d1d503-7859-4d65-a1da-9cb3e854b828",
   "metadata": {},
   "source": [
    "## Read in Data"
   ]
  },
  {
   "cell_type": "code",
   "execution_count": 4,
   "id": "8d96d8f7-18bf-4909-9d4d-a6e8eaee76d4",
   "metadata": {},
   "outputs": [
    {
     "data": {
      "text/html": [
       "<table class=\"dataframe\">\n",
       "<caption>A data.frame: 6 × 10</caption>\n",
       "<thead>\n",
       "\t<tr><th></th><th scope=col>gene_names</th><th scope=col>external_gene_name</th><th scope=col>X</th><th scope=col>logFC</th><th scope=col>AveExpr</th><th scope=col>t</th><th scope=col>P.Value</th><th scope=col>adj.P.Val</th><th scope=col>B</th><th scope=col>entrez_gene_id</th></tr>\n",
       "\t<tr><th></th><th scope=col>&lt;chr&gt;</th><th scope=col>&lt;chr&gt;</th><th scope=col>&lt;chr&gt;</th><th scope=col>&lt;dbl&gt;</th><th scope=col>&lt;dbl&gt;</th><th scope=col>&lt;dbl&gt;</th><th scope=col>&lt;dbl&gt;</th><th scope=col>&lt;dbl&gt;</th><th scope=col>&lt;dbl&gt;</th><th scope=col>&lt;int&gt;</th></tr>\n",
       "</thead>\n",
       "<tbody>\n",
       "\t<tr><th scope=row>6</th><td>ENSMUSG00000000056</td><td>Narf </td><td>ENSMUSG00000000056</td><td> 0.5745014</td><td> 6.264568</td><td> 5.302825</td><td>4.478946e-05</td><td>0.01708118</td><td> 2.2039706</td><td> 67608</td></tr>\n",
       "\t<tr><th scope=row>15</th><td>ENSMUSG00000000127</td><td>Fer  </td><td>ENSMUSG00000000127</td><td> 0.6462261</td><td> 3.584868</td><td> 3.784648</td><td>1.309626e-03</td><td>0.04343030</td><td>-0.8852651</td><td> 14158</td></tr>\n",
       "\t<tr><th scope=row>37</th><td>ENSMUSG00000000295</td><td>Hddc2</td><td>ENSMUSG00000000295</td><td>-0.7434656</td><td> 6.007363</td><td>-5.565035</td><td>2.549262e-05</td><td>0.01708118</td><td> 2.7449370</td><td> 69692</td></tr>\n",
       "\t<tr><th scope=row>68</th><td>ENSMUSG00000000555</td><td>Itga5</td><td>ENSMUSG00000000555</td><td> 0.9858357</td><td> 2.035853</td><td> 4.689121</td><td>1.721743e-04</td><td>0.02023809</td><td> 0.8528376</td><td> 16402</td></tr>\n",
       "\t<tr><th scope=row>75</th><td>ENSMUSG00000000581</td><td>C1d  </td><td>ENSMUSG00000000581</td><td>-0.5972541</td><td> 8.032868</td><td>-4.401301</td><td>3.271859e-04</td><td>0.02651970</td><td> 0.2916874</td><td> 57316</td></tr>\n",
       "\t<tr><th scope=row>90</th><td>ENSMUSG00000000740</td><td>Rpl13</td><td>ENSMUSG00000000740</td><td>-0.4829455</td><td>10.772814</td><td>-4.353117</td><td>3.644852e-04</td><td>0.02763054</td><td> 0.1959312</td><td>270106</td></tr>\n",
       "</tbody>\n",
       "</table>\n"
      ],
      "text/latex": [
       "A data.frame: 6 × 10\n",
       "\\begin{tabular}{r|llllllllll}\n",
       "  & gene\\_names & external\\_gene\\_name & X & logFC & AveExpr & t & P.Value & adj.P.Val & B & entrez\\_gene\\_id\\\\\n",
       "  & <chr> & <chr> & <chr> & <dbl> & <dbl> & <dbl> & <dbl> & <dbl> & <dbl> & <int>\\\\\n",
       "\\hline\n",
       "\t6 & ENSMUSG00000000056 & Narf  & ENSMUSG00000000056 &  0.5745014 &  6.264568 &  5.302825 & 4.478946e-05 & 0.01708118 &  2.2039706 &  67608\\\\\n",
       "\t15 & ENSMUSG00000000127 & Fer   & ENSMUSG00000000127 &  0.6462261 &  3.584868 &  3.784648 & 1.309626e-03 & 0.04343030 & -0.8852651 &  14158\\\\\n",
       "\t37 & ENSMUSG00000000295 & Hddc2 & ENSMUSG00000000295 & -0.7434656 &  6.007363 & -5.565035 & 2.549262e-05 & 0.01708118 &  2.7449370 &  69692\\\\\n",
       "\t68 & ENSMUSG00000000555 & Itga5 & ENSMUSG00000000555 &  0.9858357 &  2.035853 &  4.689121 & 1.721743e-04 & 0.02023809 &  0.8528376 &  16402\\\\\n",
       "\t75 & ENSMUSG00000000581 & C1d   & ENSMUSG00000000581 & -0.5972541 &  8.032868 & -4.401301 & 3.271859e-04 & 0.02651970 &  0.2916874 &  57316\\\\\n",
       "\t90 & ENSMUSG00000000740 & Rpl13 & ENSMUSG00000000740 & -0.4829455 & 10.772814 & -4.353117 & 3.644852e-04 & 0.02763054 &  0.1959312 & 270106\\\\\n",
       "\\end{tabular}\n"
      ],
      "text/markdown": [
       "\n",
       "A data.frame: 6 × 10\n",
       "\n",
       "| <!--/--> | gene_names &lt;chr&gt; | external_gene_name &lt;chr&gt; | X &lt;chr&gt; | logFC &lt;dbl&gt; | AveExpr &lt;dbl&gt; | t &lt;dbl&gt; | P.Value &lt;dbl&gt; | adj.P.Val &lt;dbl&gt; | B &lt;dbl&gt; | entrez_gene_id &lt;int&gt; |\n",
       "|---|---|---|---|---|---|---|---|---|---|---|\n",
       "| 6 | ENSMUSG00000000056 | Narf  | ENSMUSG00000000056 |  0.5745014 |  6.264568 |  5.302825 | 4.478946e-05 | 0.01708118 |  2.2039706 |  67608 |\n",
       "| 15 | ENSMUSG00000000127 | Fer   | ENSMUSG00000000127 |  0.6462261 |  3.584868 |  3.784648 | 1.309626e-03 | 0.04343030 | -0.8852651 |  14158 |\n",
       "| 37 | ENSMUSG00000000295 | Hddc2 | ENSMUSG00000000295 | -0.7434656 |  6.007363 | -5.565035 | 2.549262e-05 | 0.01708118 |  2.7449370 |  69692 |\n",
       "| 68 | ENSMUSG00000000555 | Itga5 | ENSMUSG00000000555 |  0.9858357 |  2.035853 |  4.689121 | 1.721743e-04 | 0.02023809 |  0.8528376 |  16402 |\n",
       "| 75 | ENSMUSG00000000581 | C1d   | ENSMUSG00000000581 | -0.5972541 |  8.032868 | -4.401301 | 3.271859e-04 | 0.02651970 |  0.2916874 |  57316 |\n",
       "| 90 | ENSMUSG00000000740 | Rpl13 | ENSMUSG00000000740 | -0.4829455 | 10.772814 | -4.353117 | 3.644852e-04 | 0.02763054 |  0.1959312 | 270106 |\n",
       "\n"
      ],
      "text/plain": [
       "   gene_names         external_gene_name X                  logFC     \n",
       "6  ENSMUSG00000000056 Narf               ENSMUSG00000000056  0.5745014\n",
       "15 ENSMUSG00000000127 Fer                ENSMUSG00000000127  0.6462261\n",
       "37 ENSMUSG00000000295 Hddc2              ENSMUSG00000000295 -0.7434656\n",
       "68 ENSMUSG00000000555 Itga5              ENSMUSG00000000555  0.9858357\n",
       "75 ENSMUSG00000000581 C1d                ENSMUSG00000000581 -0.5972541\n",
       "90 ENSMUSG00000000740 Rpl13              ENSMUSG00000000740 -0.4829455\n",
       "   AveExpr   t         P.Value      adj.P.Val  B          entrez_gene_id\n",
       "6   6.264568  5.302825 4.478946e-05 0.01708118  2.2039706  67608        \n",
       "15  3.584868  3.784648 1.309626e-03 0.04343030 -0.8852651  14158        \n",
       "37  6.007363 -5.565035 2.549262e-05 0.01708118  2.7449370  69692        \n",
       "68  2.035853  4.689121 1.721743e-04 0.02023809  0.8528376  16402        \n",
       "75  8.032868 -4.401301 3.271859e-04 0.02651970  0.2916874  57316        \n",
       "90 10.772814 -4.353117 3.644852e-04 0.02763054  0.1959312 270106        "
      ]
     },
     "metadata": {},
     "output_type": "display_data"
    }
   ],
   "source": [
    "# Read in RNA-seq data\n",
    "rnaseq <- read.csv(\"05_DEGs/faexcess_vs_control_genes.csv\") \n",
    "\n",
    "# Filter to significant genes only\n",
    "rnaseq <- rnaseq[rnaseq$adj.P.Val < 0.05, ]\n",
    "\n",
    "# View\n",
    "head(rnaseq)"
   ]
  },
  {
   "cell_type": "code",
   "execution_count": 5,
   "id": "6b0e1434-db6d-4412-9251-07b832db8257",
   "metadata": {},
   "outputs": [
    {
     "data": {
      "text/html": [
       "<table class=\"dataframe\">\n",
       "<caption>A tibble: 6 × 21</caption>\n",
       "<thead>\n",
       "\t<tr><th scope=col>chr</th><th scope=col>start</th><th scope=col>end</th><th scope=col>width</th><th scope=col>CpGs</th><th scope=col>betaCoefficient</th><th scope=col>statistic</th><th scope=col>p.value</th><th scope=col>q.value</th><th scope=col>direction</th><th scope=col>⋯</th><th scope=col>CpG.Island</th><th scope=col>CpG.Shore</th><th scope=col>CpG.Shelf</th><th scope=col>Open.Sea</th><th scope=col>annotation</th><th scope=col>geneId</th><th scope=col>distanceToTSS</th><th scope=col>ENSEMBL</th><th scope=col>geneSymbol</th><th scope=col>gene</th></tr>\n",
       "\t<tr><th scope=col>&lt;chr&gt;</th><th scope=col>&lt;dbl&gt;</th><th scope=col>&lt;dbl&gt;</th><th scope=col>&lt;dbl&gt;</th><th scope=col>&lt;dbl&gt;</th><th scope=col>&lt;dbl&gt;</th><th scope=col>&lt;dbl&gt;</th><th scope=col>&lt;dbl&gt;</th><th scope=col>&lt;dbl&gt;</th><th scope=col>&lt;chr&gt;</th><th scope=col>⋯</th><th scope=col>&lt;chr&gt;</th><th scope=col>&lt;chr&gt;</th><th scope=col>&lt;chr&gt;</th><th scope=col>&lt;chr&gt;</th><th scope=col>&lt;chr&gt;</th><th scope=col>&lt;chr&gt;</th><th scope=col>&lt;dbl&gt;</th><th scope=col>&lt;chr&gt;</th><th scope=col>&lt;chr&gt;</th><th scope=col>&lt;chr&gt;</th></tr>\n",
       "</thead>\n",
       "<tbody>\n",
       "\t<tr><td>chr2 </td><td> 87525906</td><td> 87526271</td><td>366</td><td>27</td><td>-0.7075803</td><td>-8.439746</td><td>0.0001484955</td><td>0.8146332</td><td>Hypomethylated </td><td>⋯</td><td>Yes</td><td>Yes</td><td>No</td><td>No </td><td>Exon             </td><td>110511</td><td>  -5525</td><td>ENSMUSG00000061520</td><td>Or5w22 </td><td>olfactory receptor family 5 subfamily W member 22    </td></tr>\n",
       "\t<tr><td>chr5 </td><td>131236777</td><td>131237235</td><td>459</td><td> 9</td><td> 0.6906494</td><td> 7.767359</td><td>0.0004611176</td><td>0.8146332</td><td>Hypermethylated</td><td>⋯</td><td>No </td><td>No </td><td>No</td><td>Yes</td><td>Intron           </td><td>212996</td><td>  71262</td><td>ENSMUSG00000034040</td><td>Galnt17</td><td>polypeptide N-acetylgalactosaminyltransferase 17     </td></tr>\n",
       "\t<tr><td>chr7 </td><td> 92448940</td><td> 92449667</td><td>728</td><td> 8</td><td> 0.6094742</td><td> 7.635594</td><td>0.0005392732</td><td>0.8146332</td><td>Hypermethylated</td><td>⋯</td><td>No </td><td>No </td><td>No</td><td>Yes</td><td>3' UTR           </td><td>23859 </td><td>1971709</td><td>ENSMUSG00000052572</td><td>Dlg2   </td><td>discs large MAGUK scaffold protein 2                 </td></tr>\n",
       "\t<tr><td>chr4 </td><td> 24077950</td><td> 24078197</td><td>248</td><td> 5</td><td> 0.7599784</td><td> 7.631384</td><td>0.0005392732</td><td>0.8146332</td><td>Hypermethylated</td><td>⋯</td><td>No </td><td>No </td><td>No</td><td>Yes</td><td>Distal Intergenic</td><td>212377</td><td>-418254</td><td>ENSMUSG00000045751</td><td>Mms22l </td><td>MMS22-like, DNA repair protein                       </td></tr>\n",
       "\t<tr><td>chr9 </td><td>118085608</td><td>118085943</td><td>336</td><td> 7</td><td> 0.8877527</td><td> 7.520019</td><td>0.0006017976</td><td>0.8146332</td><td>Hypermethylated</td><td>⋯</td><td>No </td><td>No </td><td>No</td><td>Yes</td><td>Intron           </td><td>67899 </td><td>  64234</td><td>ENSMUSG00000039163</td><td>Cmc1   </td><td>COX assembly mitochondrial protein 1                 </td></tr>\n",
       "\t<tr><td>chr17</td><td> 74424279</td><td> 74424751</td><td>473</td><td>13</td><td>-0.6255215</td><td>-7.467470</td><td>0.0006799531</td><td>0.8146332</td><td>Hypomethylated </td><td>⋯</td><td>No </td><td>No </td><td>No</td><td>Yes</td><td>Downstream       </td><td>210148</td><td>  14453</td><td>ENSMUSG00000024069</td><td>Slc30a6</td><td>solute carrier family 30 (zinc transporter), member 6</td></tr>\n",
       "</tbody>\n",
       "</table>\n"
      ],
      "text/latex": [
       "A tibble: 6 × 21\n",
       "\\begin{tabular}{lllllllllllllllllllll}\n",
       " chr & start & end & width & CpGs & betaCoefficient & statistic & p.value & q.value & direction & ⋯ & CpG.Island & CpG.Shore & CpG.Shelf & Open.Sea & annotation & geneId & distanceToTSS & ENSEMBL & geneSymbol & gene\\\\\n",
       " <chr> & <dbl> & <dbl> & <dbl> & <dbl> & <dbl> & <dbl> & <dbl> & <dbl> & <chr> & ⋯ & <chr> & <chr> & <chr> & <chr> & <chr> & <chr> & <dbl> & <chr> & <chr> & <chr>\\\\\n",
       "\\hline\n",
       "\t chr2  &  87525906 &  87526271 & 366 & 27 & -0.7075803 & -8.439746 & 0.0001484955 & 0.8146332 & Hypomethylated  & ⋯ & Yes & Yes & No & No  & Exon              & 110511 &   -5525 & ENSMUSG00000061520 & Or5w22  & olfactory receptor family 5 subfamily W member 22    \\\\\n",
       "\t chr5  & 131236777 & 131237235 & 459 &  9 &  0.6906494 &  7.767359 & 0.0004611176 & 0.8146332 & Hypermethylated & ⋯ & No  & No  & No & Yes & Intron            & 212996 &   71262 & ENSMUSG00000034040 & Galnt17 & polypeptide N-acetylgalactosaminyltransferase 17     \\\\\n",
       "\t chr7  &  92448940 &  92449667 & 728 &  8 &  0.6094742 &  7.635594 & 0.0005392732 & 0.8146332 & Hypermethylated & ⋯ & No  & No  & No & Yes & 3' UTR            & 23859  & 1971709 & ENSMUSG00000052572 & Dlg2    & discs large MAGUK scaffold protein 2                 \\\\\n",
       "\t chr4  &  24077950 &  24078197 & 248 &  5 &  0.7599784 &  7.631384 & 0.0005392732 & 0.8146332 & Hypermethylated & ⋯ & No  & No  & No & Yes & Distal Intergenic & 212377 & -418254 & ENSMUSG00000045751 & Mms22l  & MMS22-like, DNA repair protein                       \\\\\n",
       "\t chr9  & 118085608 & 118085943 & 336 &  7 &  0.8877527 &  7.520019 & 0.0006017976 & 0.8146332 & Hypermethylated & ⋯ & No  & No  & No & Yes & Intron            & 67899  &   64234 & ENSMUSG00000039163 & Cmc1    & COX assembly mitochondrial protein 1                 \\\\\n",
       "\t chr17 &  74424279 &  74424751 & 473 & 13 & -0.6255215 & -7.467470 & 0.0006799531 & 0.8146332 & Hypomethylated  & ⋯ & No  & No  & No & Yes & Downstream        & 210148 &   14453 & ENSMUSG00000024069 & Slc30a6 & solute carrier family 30 (zinc transporter), member 6\\\\\n",
       "\\end{tabular}\n"
      ],
      "text/markdown": [
       "\n",
       "A tibble: 6 × 21\n",
       "\n",
       "| chr &lt;chr&gt; | start &lt;dbl&gt; | end &lt;dbl&gt; | width &lt;dbl&gt; | CpGs &lt;dbl&gt; | betaCoefficient &lt;dbl&gt; | statistic &lt;dbl&gt; | p.value &lt;dbl&gt; | q.value &lt;dbl&gt; | direction &lt;chr&gt; | ⋯ ⋯ | CpG.Island &lt;chr&gt; | CpG.Shore &lt;chr&gt; | CpG.Shelf &lt;chr&gt; | Open.Sea &lt;chr&gt; | annotation &lt;chr&gt; | geneId &lt;chr&gt; | distanceToTSS &lt;dbl&gt; | ENSEMBL &lt;chr&gt; | geneSymbol &lt;chr&gt; | gene &lt;chr&gt; |\n",
       "|---|---|---|---|---|---|---|---|---|---|---|---|---|---|---|---|---|---|---|---|---|\n",
       "| chr2  |  87525906 |  87526271 | 366 | 27 | -0.7075803 | -8.439746 | 0.0001484955 | 0.8146332 | Hypomethylated  | ⋯ | Yes | Yes | No | No  | Exon              | 110511 |   -5525 | ENSMUSG00000061520 | Or5w22  | olfactory receptor family 5 subfamily W member 22     |\n",
       "| chr5  | 131236777 | 131237235 | 459 |  9 |  0.6906494 |  7.767359 | 0.0004611176 | 0.8146332 | Hypermethylated | ⋯ | No  | No  | No | Yes | Intron            | 212996 |   71262 | ENSMUSG00000034040 | Galnt17 | polypeptide N-acetylgalactosaminyltransferase 17      |\n",
       "| chr7  |  92448940 |  92449667 | 728 |  8 |  0.6094742 |  7.635594 | 0.0005392732 | 0.8146332 | Hypermethylated | ⋯ | No  | No  | No | Yes | 3' UTR            | 23859  | 1971709 | ENSMUSG00000052572 | Dlg2    | discs large MAGUK scaffold protein 2                  |\n",
       "| chr4  |  24077950 |  24078197 | 248 |  5 |  0.7599784 |  7.631384 | 0.0005392732 | 0.8146332 | Hypermethylated | ⋯ | No  | No  | No | Yes | Distal Intergenic | 212377 | -418254 | ENSMUSG00000045751 | Mms22l  | MMS22-like, DNA repair protein                        |\n",
       "| chr9  | 118085608 | 118085943 | 336 |  7 |  0.8877527 |  7.520019 | 0.0006017976 | 0.8146332 | Hypermethylated | ⋯ | No  | No  | No | Yes | Intron            | 67899  |   64234 | ENSMUSG00000039163 | Cmc1    | COX assembly mitochondrial protein 1                  |\n",
       "| chr17 |  74424279 |  74424751 | 473 | 13 | -0.6255215 | -7.467470 | 0.0006799531 | 0.8146332 | Hypomethylated  | ⋯ | No  | No  | No | Yes | Downstream        | 210148 |   14453 | ENSMUSG00000024069 | Slc30a6 | solute carrier family 30 (zinc transporter), member 6 |\n",
       "\n"
      ],
      "text/plain": [
       "  chr   start     end       width CpGs betaCoefficient statistic p.value     \n",
       "1 chr2   87525906  87526271 366   27   -0.7075803      -8.439746 0.0001484955\n",
       "2 chr5  131236777 131237235 459    9    0.6906494       7.767359 0.0004611176\n",
       "3 chr7   92448940  92449667 728    8    0.6094742       7.635594 0.0005392732\n",
       "4 chr4   24077950  24078197 248    5    0.7599784       7.631384 0.0005392732\n",
       "5 chr9  118085608 118085943 336    7    0.8877527       7.520019 0.0006017976\n",
       "6 chr17  74424279  74424751 473   13   -0.6255215      -7.467470 0.0006799531\n",
       "  q.value   direction       ⋯ CpG.Island CpG.Shore CpG.Shelf Open.Sea\n",
       "1 0.8146332 Hypomethylated  ⋯ Yes        Yes       No        No      \n",
       "2 0.8146332 Hypermethylated ⋯ No         No        No        Yes     \n",
       "3 0.8146332 Hypermethylated ⋯ No         No        No        Yes     \n",
       "4 0.8146332 Hypermethylated ⋯ No         No        No        Yes     \n",
       "5 0.8146332 Hypermethylated ⋯ No         No        No        Yes     \n",
       "6 0.8146332 Hypomethylated  ⋯ No         No        No        Yes     \n",
       "  annotation        geneId distanceToTSS ENSEMBL            geneSymbol\n",
       "1 Exon              110511   -5525       ENSMUSG00000061520 Or5w22    \n",
       "2 Intron            212996   71262       ENSMUSG00000034040 Galnt17   \n",
       "3 3' UTR            23859  1971709       ENSMUSG00000052572 Dlg2      \n",
       "4 Distal Intergenic 212377 -418254       ENSMUSG00000045751 Mms22l    \n",
       "5 Intron            67899    64234       ENSMUSG00000039163 Cmc1      \n",
       "6 Downstream        210148   14453       ENSMUSG00000024069 Slc30a6   \n",
       "  gene                                                 \n",
       "1 olfactory receptor family 5 subfamily W member 22    \n",
       "2 polypeptide N-acetylgalactosaminyltransferase 17     \n",
       "3 discs large MAGUK scaffold protein 2                 \n",
       "4 MMS22-like, DNA repair protein                       \n",
       "5 COX assembly mitochondrial protein 1                 \n",
       "6 solute carrier family 30 (zinc transporter), member 6"
      ]
     },
     "metadata": {},
     "output_type": "display_data"
    }
   ],
   "source": [
    "# Read in WGBS data\n",
    "wgbs <- read_excel(\"/share/lasallelab/Viki/epigenerator/10_DMRichR_SexCombined/DMRs/DMRs_annotated.xlsx\") \n",
    "\n",
    "head(wgbs)"
   ]
  },
  {
   "cell_type": "markdown",
   "id": "dcbd416b-a748-48b7-99be-b7422545cac7",
   "metadata": {},
   "source": [
    "## Find Intersections"
   ]
  },
  {
   "cell_type": "code",
   "execution_count": 6,
   "id": "83d6c23e-5a25-42c1-b8d3-b1c0da6492ec",
   "metadata": {},
   "outputs": [
    {
     "name": "stdout",
     "output_type": "stream",
     "text": [
      "Total number of overlapping genes: 20 \n",
      "Overlapping genes:\n",
      " Naa20, Med10, Epb41l4a, Katnal2, D3Ertd751e, Ccdc93, Itga6, Tacr3, Cald1, Ccl17, Atp2c1, Asprv1, Kcnk10, Fau, Egr1, Mest, Fbh1, Syt10, Urm1, Arrdc3 \n"
     ]
    }
   ],
   "source": [
    "# Find the overlapping genes\n",
    "overlapping_genes <- intersect(rnaseq$external_gene_name, wgbs$geneSymbol)\n",
    "\n",
    "# Get the total number of overlapping genes\n",
    "total_overlapping <- length(overlapping_genes)\n",
    "\n",
    "# Print the results\n",
    "cat(\"Total number of overlapping genes:\", total_overlapping, \"\\n\")\n",
    "cat(\"Overlapping genes:\\n\", paste(overlapping_genes, collapse = \", \"), \"\\n\")"
   ]
  },
  {
   "cell_type": "code",
   "execution_count": 7,
   "id": "670f63bd-c5ea-43ca-9e41-b368e55b9f80",
   "metadata": {},
   "outputs": [],
   "source": [
    "# Create a data frame to store the results\n",
    "results <- data.frame(\n",
    "  Gene_Name = overlapping_genes,\n",
    "  Gene_Function = NA,  # Placeholder for gene functions\n",
    "  RNAseqlogfoldchange = NA,\n",
    "  RNAseqadjpval = NA,\n",
    "  WGBSpercentmeth = NA,\n",
    "  WGBSdirection = NA,\n",
    "  WGBScpgisland = NA,\n",
    "  WGBScpgshelf = NA,\n",
    "  WGBSopensea = NA,\n",
    "  WGBSannot = NA,\n",
    "  stringsAsFactors = FALSE\n",
    ")\n",
    "\n",
    "# Fill in the data frame with corresponding values from rnaseq and wgbs\n",
    "for (gene in overlapping_genes) {\n",
    "  # Get RNA-seq data for the gene\n",
    "  rnaseq_row <- rnaseq[rnaseq$external_gene_name == gene, ]\n",
    "  if (nrow(rnaseq_row) > 0) {\n",
    "    results$RNAseqlogfoldchange[results$Gene_Name == gene] <- rnaseq_row$logFC\n",
    "    results$RNAseqadjpval[results$Gene_Name == gene] <- rnaseq_row$adj.P.Val\n",
    "  }\n",
    "  \n",
    "  # Get WGBS data for the gene\n",
    "  wgbs_row <- wgbs[wgbs$geneSymbol == gene, ]\n",
    "  if (nrow(wgbs_row) > 0) {\n",
    "    results$Gene_Function[results$Gene_Name == gene] <- wgbs_row$gene\n",
    "    results$WGBSpercentmeth[results$Gene_Name == gene] <- wgbs_row$difference\n",
    "    results$WGBSdirection[results$Gene_Name == gene] <- wgbs_row$direction\n",
    "    results$WGBScpgisland[results$Gene_Name == gene] <- wgbs_row$CpG.Island\n",
    "    results$WGBScpgshelf[results$Gene_Name == gene] <- wgbs_row$CpG.Shelf\n",
    "    results$WGBSopensea[results$Gene_Name == gene] <- wgbs_row$Open.Sea\n",
    "    results$WGBSannot[results$Gene_Name == gene] <- wgbs_row$annotation\n",
    "  }\n",
    "}\n",
    "\n",
    "# Write the results to a CSV file\n",
    "write.csv(results, \"overlapping_genes_analysis.csv\", row.names = FALSE)"
   ]
  }
 ],
 "metadata": {
  "kernelspec": {
   "display_name": "R",
   "language": "R",
   "name": "ir"
  },
  "language_info": {
   "codemirror_mode": "r",
   "file_extension": ".r",
   "mimetype": "text/x-r-source",
   "name": "R",
   "pygments_lexer": "r",
   "version": "4.3.2"
  }
 },
 "nbformat": 4,
 "nbformat_minor": 5
}
