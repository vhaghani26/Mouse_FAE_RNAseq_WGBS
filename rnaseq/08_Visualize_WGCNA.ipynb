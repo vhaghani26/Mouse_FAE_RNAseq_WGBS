{
 "cells": [
  {
   "cell_type": "markdown",
   "id": "c2614fc3-0460-4f2f-9740-128cd2c0da3b",
   "metadata": {},
   "source": [
    "## Set Library Path"
   ]
  },
  {
   "cell_type": "code",
   "execution_count": 1,
   "id": "c98e53a3-80bb-45ea-8fa3-0011aa75bdcb",
   "metadata": {},
   "outputs": [],
   "source": [
    ".libPaths(\"/share/korflab/home/viki/anaconda3/jupyter_nb_R4.3/lib/R/library\")"
   ]
  },
  {
   "cell_type": "markdown",
   "id": "f8cd7400-66a7-4ad9-ae24-9b377f4e9605",
   "metadata": {},
   "source": [
    "## Load Libraries"
   ]
  },
  {
   "cell_type": "code",
   "execution_count": 3,
   "id": "9f8cb44d-a3a0-4152-a35b-098e3f4cf126",
   "metadata": {},
   "outputs": [],
   "source": [
    "library(readxl)\n",
    "library(ggplot2)\n",
    "library(viridis)\n",
    "library(dplyr)\n",
    "library(glue)\n",
    "library(tidyr)"
   ]
  },
  {
   "cell_type": "markdown",
   "id": "f4927161-efd5-4153-b9ad-84ecd24f601f",
   "metadata": {},
   "source": [
    "## Set Modules and GO Databases"
   ]
  },
  {
   "cell_type": "code",
   "execution_count": 4,
   "id": "889f7e55-12b0-4ff4-90c4-f39cc9a4e33c",
   "metadata": {},
   "outputs": [
    {
     "name": "stdout",
     "output_type": "stream",
     "text": [
      " [1] \"turquoise\"       \"blue\"            \"brown\"           \"yellow\"         \n",
      " [5] \"green\"           \"red\"             \"black\"           \"pink\"           \n",
      " [9] \"magenta\"         \"purple\"          \"grey\"            \"greenyellow\"    \n",
      "[13] \"tan\"             \"salmon\"          \"cyan\"            \"midnightblue\"   \n",
      "[17] \"lightcyan\"       \"grey60\"          \"lightgreen\"      \"lightyellow\"    \n",
      "[21] \"royalblue\"       \"darkred\"         \"darkgreen\"       \"darkturquoise\"  \n",
      "[25] \"darkgrey\"        \"orange\"          \"darkorange\"      \"white\"          \n",
      "[29] \"skyblue\"         \"saddlebrown\"     \"steelblue\"       \"paleturquoise\"  \n",
      "[33] \"violet\"          \"darkolivegreen\"  \"darkmagenta\"     \"sienna3\"        \n",
      "[37] \"yellowgreen\"     \"skyblue3\"        \"plum1\"           \"orangered4\"     \n",
      "[41] \"mediumpurple3\"   \"lightsteelblue1\" \"lightcyan1\"      \"darkorange2\"    \n",
      "[45] \"floralwhite\"     \"ivory\"          \n"
     ]
    }
   ],
   "source": [
    "# Identify modules\n",
    "module_file <- \"06_WGCNA/gene_module_distribution.csv\"\n",
    "modules <- read.csv(module_file)$Module\n",
    "\n",
    "# View\n",
    "print(modules)"
   ]
  },
  {
   "cell_type": "markdown",
   "id": "8d5e6f71-1d7c-4b55-ac4f-af3ec6d022cf",
   "metadata": {},
   "source": [
    "The module removal was run after viewing the module trait Pearson correlation heatmap to remove modules related to litter effects and sex only, but unrelated to conditional differences and subset to only significant modules."
   ]
  },
  {
   "cell_type": "code",
   "execution_count": 5,
   "id": "496176ee-132b-4743-a6f5-468ea4b6d4f8",
   "metadata": {},
   "outputs": [
    {
     "name": "stdout",
     "output_type": "stream",
     "text": [
      " [1] \"turquoise\"       \"blue\"            \"yellow\"          \"pink\"           \n",
      " [5] \"purple\"          \"greenyellow\"     \"tan\"             \"salmon\"         \n",
      " [9] \"midnightblue\"    \"lightcyan\"       \"grey60\"          \"lightgreen\"     \n",
      "[13] \"darkred\"         \"darkgreen\"       \"darkgrey\"        \"orange\"         \n",
      "[17] \"darkorange\"      \"white\"           \"skyblue\"         \"saddlebrown\"    \n",
      "[21] \"steelblue\"       \"darkolivegreen\"  \"darkmagenta\"     \"sienna3\"        \n",
      "[25] \"yellowgreen\"     \"skyblue3\"        \"plum1\"           \"mediumpurple3\"  \n",
      "[29] \"lightsteelblue1\" \"darkorange2\"     \"floralwhite\"    \n"
     ]
    }
   ],
   "source": [
    "# Modules to remove (modules not significant in any condition)\n",
    "to_remove <- c(\"green\", \"ivory\", \"violet\", \"darkturquoise\", \"brown\", \"lightcyan1\", \"orangered4\", \"paleturquoise\", \"black\", \"magenta\", \"royalblue\", \"lightyellow\", \"red\", \"cyan\", \"grey\")\n",
    "\n",
    "# Remove specified modules\n",
    "modules <- setdiff(modules, to_remove)\n",
    "\n",
    "print(modules)"
   ]
  },
  {
   "cell_type": "code",
   "execution_count": 6,
   "id": "549b7a33-89c6-4662-810e-ceb15cf17377",
   "metadata": {},
   "outputs": [
    {
     "name": "stdout",
     "output_type": "stream",
     "text": [
      " [1] \"turquoise\"       \"blue\"            \"yellow\"          \"pink\"           \n",
      " [5] \"lightcyan\"       \"grey60\"          \"lightgreen\"      \"darkred\"        \n",
      " [9] \"darkgreen\"       \"orange\"          \"darkorange\"      \"white\"          \n",
      "[13] \"skyblue\"         \"saddlebrown\"     \"steelblue\"       \"darkmagenta\"    \n",
      "[17] \"sienna3\"         \"yellowgreen\"     \"skyblue3\"        \"mediumpurple3\"  \n",
      "[21] \"lightsteelblue1\"\n"
     ]
    }
   ],
   "source": [
    "# Modules to remove (modules significant for only litter or sex)\n",
    "to_remove <- c(\"purple\", \"darkgrey\", \"floralwhite\", \"greenyellow\", \"plum1\", \"salmon\", \"darkolivegreen\", \"tan\", \"midnightblue\", \"darkorange2\")\n",
    "\n",
    "# Remove specified modules\n",
    "modules <- setdiff(modules, to_remove)\n",
    "\n",
    "print(modules)"
   ]
  },
  {
   "cell_type": "code",
   "execution_count": 7,
   "id": "c3b1dd1d-c2ae-42ed-9170-60262b680e43",
   "metadata": {},
   "outputs": [],
   "source": [
    "# List of GO databases\n",
    "databases <- c(\"GO_Biological_Process_2023\", \"GO_Cellular_Component_2023\", \"GO_Molecular_Function_2023\",\n",
    "               \"KEGG_2019_Mouse\", \"Panther_2016\", \"Reactome_2016\", \"RNAseq_DiseaseGene_DrugSigs_GEO\")"
   ]
  },
  {
   "cell_type": "markdown",
   "id": "0c4037b8-982d-40da-a796-59758312937b",
   "metadata": {},
   "source": [
    "## Make Dot Plots"
   ]
  },
  {
   "cell_type": "code",
   "execution_count": 8,
   "id": "86d9f081-ba3f-46b0-a048-59a7a2650c99",
   "metadata": {},
   "outputs": [
    {
     "data": {
      "text/html": [
       "<table class=\"dataframe\">\n",
       "<caption>A data.frame: 6 × 5</caption>\n",
       "<thead>\n",
       "\t<tr><th></th><th scope=col>Term</th><th scope=col>Adjusted.P.value</th><th scope=col>Odds.Ratio</th><th scope=col>Module</th><th scope=col>Database</th></tr>\n",
       "\t<tr><th></th><th scope=col>&lt;chr&gt;</th><th scope=col>&lt;dbl&gt;</th><th scope=col>&lt;dbl&gt;</th><th scope=col>&lt;chr&gt;</th><th scope=col>&lt;chr&gt;</th></tr>\n",
       "</thead>\n",
       "<tbody>\n",
       "\t<tr><th scope=row>1</th><td>Translation (GO:0006412)                       </td><td>4.994624e-61</td><td>10.173798</td><td>turquoise</td><td>GO_Biological_Process_2023</td></tr>\n",
       "\t<tr><th scope=row>2</th><td>Cytoplasmic Translation (GO:0002181)           </td><td>6.142810e-49</td><td>40.670984</td><td>turquoise</td><td>GO_Biological_Process_2023</td></tr>\n",
       "\t<tr><th scope=row>3</th><td>Peptide Biosynthetic Process (GO:0043043)      </td><td>7.789750e-39</td><td> 9.471098</td><td>turquoise</td><td>GO_Biological_Process_2023</td></tr>\n",
       "\t<tr><th scope=row>4</th><td>Macromolecule Biosynthetic Process (GO:0009059)</td><td>6.709707e-35</td><td> 7.245637</td><td>turquoise</td><td>GO_Biological_Process_2023</td></tr>\n",
       "\t<tr><th scope=row>5</th><td>Mitochondrial Gene Expression (GO:0140053)     </td><td>2.149675e-32</td><td>13.080014</td><td>turquoise</td><td>GO_Biological_Process_2023</td></tr>\n",
       "\t<tr><th scope=row>6</th><td>Gene Expression (GO:0010467)                   </td><td>1.065766e-31</td><td> 4.558653</td><td>turquoise</td><td>GO_Biological_Process_2023</td></tr>\n",
       "</tbody>\n",
       "</table>\n"
      ],
      "text/latex": [
       "A data.frame: 6 × 5\n",
       "\\begin{tabular}{r|lllll}\n",
       "  & Term & Adjusted.P.value & Odds.Ratio & Module & Database\\\\\n",
       "  & <chr> & <dbl> & <dbl> & <chr> & <chr>\\\\\n",
       "\\hline\n",
       "\t1 & Translation (GO:0006412)                        & 4.994624e-61 & 10.173798 & turquoise & GO\\_Biological\\_Process\\_2023\\\\\n",
       "\t2 & Cytoplasmic Translation (GO:0002181)            & 6.142810e-49 & 40.670984 & turquoise & GO\\_Biological\\_Process\\_2023\\\\\n",
       "\t3 & Peptide Biosynthetic Process (GO:0043043)       & 7.789750e-39 &  9.471098 & turquoise & GO\\_Biological\\_Process\\_2023\\\\\n",
       "\t4 & Macromolecule Biosynthetic Process (GO:0009059) & 6.709707e-35 &  7.245637 & turquoise & GO\\_Biological\\_Process\\_2023\\\\\n",
       "\t5 & Mitochondrial Gene Expression (GO:0140053)      & 2.149675e-32 & 13.080014 & turquoise & GO\\_Biological\\_Process\\_2023\\\\\n",
       "\t6 & Gene Expression (GO:0010467)                    & 1.065766e-31 &  4.558653 & turquoise & GO\\_Biological\\_Process\\_2023\\\\\n",
       "\\end{tabular}\n"
      ],
      "text/markdown": [
       "\n",
       "A data.frame: 6 × 5\n",
       "\n",
       "| <!--/--> | Term &lt;chr&gt; | Adjusted.P.value &lt;dbl&gt; | Odds.Ratio &lt;dbl&gt; | Module &lt;chr&gt; | Database &lt;chr&gt; |\n",
       "|---|---|---|---|---|---|\n",
       "| 1 | Translation (GO:0006412)                        | 4.994624e-61 | 10.173798 | turquoise | GO_Biological_Process_2023 |\n",
       "| 2 | Cytoplasmic Translation (GO:0002181)            | 6.142810e-49 | 40.670984 | turquoise | GO_Biological_Process_2023 |\n",
       "| 3 | Peptide Biosynthetic Process (GO:0043043)       | 7.789750e-39 |  9.471098 | turquoise | GO_Biological_Process_2023 |\n",
       "| 4 | Macromolecule Biosynthetic Process (GO:0009059) | 6.709707e-35 |  7.245637 | turquoise | GO_Biological_Process_2023 |\n",
       "| 5 | Mitochondrial Gene Expression (GO:0140053)      | 2.149675e-32 | 13.080014 | turquoise | GO_Biological_Process_2023 |\n",
       "| 6 | Gene Expression (GO:0010467)                    | 1.065766e-31 |  4.558653 | turquoise | GO_Biological_Process_2023 |\n",
       "\n"
      ],
      "text/plain": [
       "  Term                                            Adjusted.P.value Odds.Ratio\n",
       "1 Translation (GO:0006412)                        4.994624e-61     10.173798 \n",
       "2 Cytoplasmic Translation (GO:0002181)            6.142810e-49     40.670984 \n",
       "3 Peptide Biosynthetic Process (GO:0043043)       7.789750e-39      9.471098 \n",
       "4 Macromolecule Biosynthetic Process (GO:0009059) 6.709707e-35      7.245637 \n",
       "5 Mitochondrial Gene Expression (GO:0140053)      2.149675e-32     13.080014 \n",
       "6 Gene Expression (GO:0010467)                    1.065766e-31      4.558653 \n",
       "  Module    Database                  \n",
       "1 turquoise GO_Biological_Process_2023\n",
       "2 turquoise GO_Biological_Process_2023\n",
       "3 turquoise GO_Biological_Process_2023\n",
       "4 turquoise GO_Biological_Process_2023\n",
       "5 turquoise GO_Biological_Process_2023\n",
       "6 turquoise GO_Biological_Process_2023"
      ]
     },
     "metadata": {},
     "output_type": "display_data"
    }
   ],
   "source": [
    "# Store GO data into data frame\n",
    "\n",
    "# Initialize an empty dataframe\n",
    "all_data <- data.frame()\n",
    "\n",
    "# Iterate over each module and read in the corresponding Excel file\n",
    "for (module in modules) {\n",
    "  file_path <- glue(\"06_WGCNA/{module}_enrichr_results.xlsx\")\n",
    "  \n",
    "  for (database in databases) {\n",
    "    try({\n",
    "      # Read the data from the Excel file\n",
    "      df <- read_excel(file_path, sheet = database)\n",
    "      \n",
    "      if (nrow(df) == 0) {\n",
    "        next  # Skip to the next database if no data\n",
    "      }\n",
    "      \n",
    "      # Select the required columns and add module and database information\n",
    "      df <- df %>%\n",
    "        select(Term, Adjusted.P.value, Odds.Ratio) %>%\n",
    "        mutate(Module = module, Database = database)\n",
    "      \n",
    "      # Append to the dataframe\n",
    "      all_data <- bind_rows(all_data, df)\n",
    "      \n",
    "    }, silent = TRUE)\n",
    "  }\n",
    "}\n",
    "\n",
    "# Check if any data was read\n",
    "if (nrow(all_data) == 0) {\n",
    "  stop(\"No data read from any of the Excel files.\")\n",
    "}\n",
    "\n",
    "# Display the combined dataframe\n",
    "head(all_data)"
   ]
  },
  {
   "cell_type": "code",
   "execution_count": 9,
   "id": "cff00f4b-0102-492d-9e88-060f75245b36",
   "metadata": {},
   "outputs": [
    {
     "data": {
      "text/html": [
       "<table class=\"dataframe\">\n",
       "<caption>A data.frame: 6 × 5</caption>\n",
       "<thead>\n",
       "\t<tr><th></th><th scope=col>Term</th><th scope=col>Adjusted.P.value</th><th scope=col>Odds.Ratio</th><th scope=col>Module</th><th scope=col>Database</th></tr>\n",
       "\t<tr><th></th><th scope=col>&lt;chr&gt;</th><th scope=col>&lt;dbl&gt;</th><th scope=col>&lt;dbl&gt;</th><th scope=col>&lt;chr&gt;</th><th scope=col>&lt;chr&gt;</th></tr>\n",
       "</thead>\n",
       "<tbody>\n",
       "\t<tr><th scope=row>1</th><td>Translation (GO:0006412)                       </td><td>4.994624e-61</td><td>10.173798</td><td>turquoise</td><td>GO_Biological_Process_2023</td></tr>\n",
       "\t<tr><th scope=row>2</th><td>Cytoplasmic Translation (GO:0002181)           </td><td>6.142810e-49</td><td>40.670984</td><td>turquoise</td><td>GO_Biological_Process_2023</td></tr>\n",
       "\t<tr><th scope=row>3</th><td>Peptide Biosynthetic Process (GO:0043043)      </td><td>7.789750e-39</td><td> 9.471098</td><td>turquoise</td><td>GO_Biological_Process_2023</td></tr>\n",
       "\t<tr><th scope=row>4</th><td>Macromolecule Biosynthetic Process (GO:0009059)</td><td>6.709707e-35</td><td> 7.245637</td><td>turquoise</td><td>GO_Biological_Process_2023</td></tr>\n",
       "\t<tr><th scope=row>5</th><td>Mitochondrial Gene Expression (GO:0140053)     </td><td>2.149675e-32</td><td>13.080014</td><td>turquoise</td><td>GO_Biological_Process_2023</td></tr>\n",
       "\t<tr><th scope=row>6</th><td>Gene Expression (GO:0010467)                   </td><td>1.065766e-31</td><td> 4.558653</td><td>turquoise</td><td>GO_Biological_Process_2023</td></tr>\n",
       "</tbody>\n",
       "</table>\n"
      ],
      "text/latex": [
       "A data.frame: 6 × 5\n",
       "\\begin{tabular}{r|lllll}\n",
       "  & Term & Adjusted.P.value & Odds.Ratio & Module & Database\\\\\n",
       "  & <chr> & <dbl> & <dbl> & <chr> & <chr>\\\\\n",
       "\\hline\n",
       "\t1 & Translation (GO:0006412)                        & 4.994624e-61 & 10.173798 & turquoise & GO\\_Biological\\_Process\\_2023\\\\\n",
       "\t2 & Cytoplasmic Translation (GO:0002181)            & 6.142810e-49 & 40.670984 & turquoise & GO\\_Biological\\_Process\\_2023\\\\\n",
       "\t3 & Peptide Biosynthetic Process (GO:0043043)       & 7.789750e-39 &  9.471098 & turquoise & GO\\_Biological\\_Process\\_2023\\\\\n",
       "\t4 & Macromolecule Biosynthetic Process (GO:0009059) & 6.709707e-35 &  7.245637 & turquoise & GO\\_Biological\\_Process\\_2023\\\\\n",
       "\t5 & Mitochondrial Gene Expression (GO:0140053)      & 2.149675e-32 & 13.080014 & turquoise & GO\\_Biological\\_Process\\_2023\\\\\n",
       "\t6 & Gene Expression (GO:0010467)                    & 1.065766e-31 &  4.558653 & turquoise & GO\\_Biological\\_Process\\_2023\\\\\n",
       "\\end{tabular}\n"
      ],
      "text/markdown": [
       "\n",
       "A data.frame: 6 × 5\n",
       "\n",
       "| <!--/--> | Term &lt;chr&gt; | Adjusted.P.value &lt;dbl&gt; | Odds.Ratio &lt;dbl&gt; | Module &lt;chr&gt; | Database &lt;chr&gt; |\n",
       "|---|---|---|---|---|---|\n",
       "| 1 | Translation (GO:0006412)                        | 4.994624e-61 | 10.173798 | turquoise | GO_Biological_Process_2023 |\n",
       "| 2 | Cytoplasmic Translation (GO:0002181)            | 6.142810e-49 | 40.670984 | turquoise | GO_Biological_Process_2023 |\n",
       "| 3 | Peptide Biosynthetic Process (GO:0043043)       | 7.789750e-39 |  9.471098 | turquoise | GO_Biological_Process_2023 |\n",
       "| 4 | Macromolecule Biosynthetic Process (GO:0009059) | 6.709707e-35 |  7.245637 | turquoise | GO_Biological_Process_2023 |\n",
       "| 5 | Mitochondrial Gene Expression (GO:0140053)      | 2.149675e-32 | 13.080014 | turquoise | GO_Biological_Process_2023 |\n",
       "| 6 | Gene Expression (GO:0010467)                    | 1.065766e-31 |  4.558653 | turquoise | GO_Biological_Process_2023 |\n",
       "\n"
      ],
      "text/plain": [
       "  Term                                            Adjusted.P.value Odds.Ratio\n",
       "1 Translation (GO:0006412)                        4.994624e-61     10.173798 \n",
       "2 Cytoplasmic Translation (GO:0002181)            6.142810e-49     40.670984 \n",
       "3 Peptide Biosynthetic Process (GO:0043043)       7.789750e-39      9.471098 \n",
       "4 Macromolecule Biosynthetic Process (GO:0009059) 6.709707e-35      7.245637 \n",
       "5 Mitochondrial Gene Expression (GO:0140053)      2.149675e-32     13.080014 \n",
       "6 Gene Expression (GO:0010467)                    1.065766e-31      4.558653 \n",
       "  Module    Database                  \n",
       "1 turquoise GO_Biological_Process_2023\n",
       "2 turquoise GO_Biological_Process_2023\n",
       "3 turquoise GO_Biological_Process_2023\n",
       "4 turquoise GO_Biological_Process_2023\n",
       "5 turquoise GO_Biological_Process_2023\n",
       "6 turquoise GO_Biological_Process_2023"
      ]
     },
     "metadata": {},
     "output_type": "display_data"
    }
   ],
   "source": [
    "# Filter out rows where the Adjusted.P.value is less than 0.1\n",
    "all_data <- all_data %>%\n",
    "  filter(Adjusted.P.value <= 0.05)\n",
    "\n",
    "# Display the filtered dataframe\n",
    "head(all_data)"
   ]
  },
  {
   "cell_type": "code",
   "execution_count": 10,
   "id": "08e43172-e874-4d22-ba63-97854d5f4bbf",
   "metadata": {},
   "outputs": [
    {
     "name": "stdout",
     "output_type": "stream",
     "text": [
      "\u001b[90m# A tibble: 7 × 3\u001b[39m\n",
      "  Database                        Total_Terms Unique_Terms\n",
      "  \u001b[3m\u001b[90m<chr>\u001b[39m\u001b[23m                                 \u001b[3m\u001b[90m<int>\u001b[39m\u001b[23m        \u001b[3m\u001b[90m<int>\u001b[39m\u001b[23m\n",
      "\u001b[90m1\u001b[39m GO_Biological_Process_2023              266          258\n",
      "\u001b[90m2\u001b[39m GO_Cellular_Component_2023              111          105\n",
      "\u001b[90m3\u001b[39m GO_Molecular_Function_2023               60           55\n",
      "\u001b[90m4\u001b[39m KEGG_2019_Mouse                          53           52\n",
      "\u001b[90m5\u001b[39m Panther_2016                             14           14\n",
      "\u001b[90m6\u001b[39m RNAseq_DiseaseGene_DrugSigs_GEO        \u001b[4m2\u001b[24m273         \u001b[4m1\u001b[24m144\n",
      "\u001b[90m7\u001b[39m Reactome_2016                           473          409\n"
     ]
    }
   ],
   "source": [
    "# Count the number of total terms and unique terms for each database\n",
    "database_term_counts <- all_data %>%\n",
    "  group_by(Database) %>%\n",
    "  summarise(\n",
    "    Total_Terms = n(),\n",
    "    Unique_Terms = n_distinct(Term)\n",
    "  )\n",
    "\n",
    "# Print the table\n",
    "print(database_term_counts)"
   ]
  },
  {
   "cell_type": "code",
   "execution_count": 11,
   "id": "5b081ef4-72ee-413a-a654-0e46a18a5719",
   "metadata": {},
   "outputs": [
    {
     "data": {
      "text/html": [
       "<table class=\"dataframe\">\n",
       "<caption>A data.frame: 6 × 5</caption>\n",
       "<thead>\n",
       "\t<tr><th></th><th scope=col>Term</th><th scope=col>Adjusted.P.value</th><th scope=col>Odds.Ratio</th><th scope=col>Module</th><th scope=col>Database</th></tr>\n",
       "\t<tr><th></th><th scope=col>&lt;chr&gt;</th><th scope=col>&lt;dbl&gt;</th><th scope=col>&lt;dbl&gt;</th><th scope=col>&lt;chr&gt;</th><th scope=col>&lt;chr&gt;</th></tr>\n",
       "</thead>\n",
       "<tbody>\n",
       "\t<tr><th scope=row>1</th><td>Translation (GO:0006412)                     </td><td>4.994624e-61</td><td>10.173798</td><td>turquoise</td><td>GO_Biological_Process_2023</td></tr>\n",
       "\t<tr><th scope=row>2</th><td>Cytoplasmic Translation (GO:0002181)         </td><td>6.142810e-49</td><td>40.670984</td><td>turquoise</td><td>GO_Biological_Process_2023</td></tr>\n",
       "\t<tr><th scope=row>3</th><td>Aerobic Electron Transport Chain (GO:0019646)</td><td>1.080075e-20</td><td>12.504262</td><td>turquoise</td><td>GO_Biological_Process_2023</td></tr>\n",
       "\t<tr><th scope=row>4</th><td>Cellular Respiration (GO:0045333)            </td><td>4.839078e-18</td><td> 8.033591</td><td>turquoise</td><td>GO_Biological_Process_2023</td></tr>\n",
       "\t<tr><th scope=row>5</th><td>Aerobic Respiration (GO:0009060)             </td><td>2.094781e-14</td><td> 9.426521</td><td>turquoise</td><td>GO_Biological_Process_2023</td></tr>\n",
       "\t<tr><th scope=row>6</th><td>ATP Biosynthetic Process (GO:0006754)        </td><td>2.448194e-05</td><td> 8.542220</td><td>turquoise</td><td>GO_Biological_Process_2023</td></tr>\n",
       "</tbody>\n",
       "</table>\n"
      ],
      "text/latex": [
       "A data.frame: 6 × 5\n",
       "\\begin{tabular}{r|lllll}\n",
       "  & Term & Adjusted.P.value & Odds.Ratio & Module & Database\\\\\n",
       "  & <chr> & <dbl> & <dbl> & <chr> & <chr>\\\\\n",
       "\\hline\n",
       "\t1 & Translation (GO:0006412)                      & 4.994624e-61 & 10.173798 & turquoise & GO\\_Biological\\_Process\\_2023\\\\\n",
       "\t2 & Cytoplasmic Translation (GO:0002181)          & 6.142810e-49 & 40.670984 & turquoise & GO\\_Biological\\_Process\\_2023\\\\\n",
       "\t3 & Aerobic Electron Transport Chain (GO:0019646) & 1.080075e-20 & 12.504262 & turquoise & GO\\_Biological\\_Process\\_2023\\\\\n",
       "\t4 & Cellular Respiration (GO:0045333)             & 4.839078e-18 &  8.033591 & turquoise & GO\\_Biological\\_Process\\_2023\\\\\n",
       "\t5 & Aerobic Respiration (GO:0009060)              & 2.094781e-14 &  9.426521 & turquoise & GO\\_Biological\\_Process\\_2023\\\\\n",
       "\t6 & ATP Biosynthetic Process (GO:0006754)         & 2.448194e-05 &  8.542220 & turquoise & GO\\_Biological\\_Process\\_2023\\\\\n",
       "\\end{tabular}\n"
      ],
      "text/markdown": [
       "\n",
       "A data.frame: 6 × 5\n",
       "\n",
       "| <!--/--> | Term &lt;chr&gt; | Adjusted.P.value &lt;dbl&gt; | Odds.Ratio &lt;dbl&gt; | Module &lt;chr&gt; | Database &lt;chr&gt; |\n",
       "|---|---|---|---|---|---|\n",
       "| 1 | Translation (GO:0006412)                      | 4.994624e-61 | 10.173798 | turquoise | GO_Biological_Process_2023 |\n",
       "| 2 | Cytoplasmic Translation (GO:0002181)          | 6.142810e-49 | 40.670984 | turquoise | GO_Biological_Process_2023 |\n",
       "| 3 | Aerobic Electron Transport Chain (GO:0019646) | 1.080075e-20 | 12.504262 | turquoise | GO_Biological_Process_2023 |\n",
       "| 4 | Cellular Respiration (GO:0045333)             | 4.839078e-18 |  8.033591 | turquoise | GO_Biological_Process_2023 |\n",
       "| 5 | Aerobic Respiration (GO:0009060)              | 2.094781e-14 |  9.426521 | turquoise | GO_Biological_Process_2023 |\n",
       "| 6 | ATP Biosynthetic Process (GO:0006754)         | 2.448194e-05 |  8.542220 | turquoise | GO_Biological_Process_2023 |\n",
       "\n"
      ],
      "text/plain": [
       "  Term                                          Adjusted.P.value Odds.Ratio\n",
       "1 Translation (GO:0006412)                      4.994624e-61     10.173798 \n",
       "2 Cytoplasmic Translation (GO:0002181)          6.142810e-49     40.670984 \n",
       "3 Aerobic Electron Transport Chain (GO:0019646) 1.080075e-20     12.504262 \n",
       "4 Cellular Respiration (GO:0045333)             4.839078e-18      8.033591 \n",
       "5 Aerobic Respiration (GO:0009060)              2.094781e-14      9.426521 \n",
       "6 ATP Biosynthetic Process (GO:0006754)         2.448194e-05      8.542220 \n",
       "  Module    Database                  \n",
       "1 turquoise GO_Biological_Process_2023\n",
       "2 turquoise GO_Biological_Process_2023\n",
       "3 turquoise GO_Biological_Process_2023\n",
       "4 turquoise GO_Biological_Process_2023\n",
       "5 turquoise GO_Biological_Process_2023\n",
       "6 turquoise GO_Biological_Process_2023"
      ]
     },
     "metadata": {},
     "output_type": "display_data"
    }
   ],
   "source": [
    "# Calculate the number of modules each term appears in for each database\n",
    "term_module_counts <- all_data %>%\n",
    "  group_by(Database, Term) %>%\n",
    "  summarise(ModuleCount = n_distinct(Module), .groups = 'drop')\n",
    "\n",
    "# Rank the terms within each database by the number of modules they appear in\n",
    "ranked_terms <- term_module_counts %>%\n",
    "  arrange(Database, desc(ModuleCount)) %>%\n",
    "  group_by(Database) %>%\n",
    "  slice_head(n = 25) %>%\n",
    "  ungroup()\n",
    "\n",
    "# Merge with the original data to filter the top 25 terms per database\n",
    "filtered_data_top_25 <- all_data %>%\n",
    "  semi_join(ranked_terms, by = c(\"Database\", \"Term\"))\n",
    "\n",
    "# Print the filtered data\n",
    "head(filtered_data_top_25)"
   ]
  },
  {
   "cell_type": "code",
   "execution_count": 12,
   "id": "8c241512-e021-4567-9c5a-428463eb1907",
   "metadata": {},
   "outputs": [
    {
     "name": "stdout",
     "output_type": "stream",
     "text": [
      "\u001b[90m# A tibble: 7 × 3\u001b[39m\n",
      "  Database                        Total_Terms Unique_Terms\n",
      "  \u001b[3m\u001b[90m<chr>\u001b[39m\u001b[23m                                 \u001b[3m\u001b[90m<int>\u001b[39m\u001b[23m        \u001b[3m\u001b[90m<int>\u001b[39m\u001b[23m\n",
      "\u001b[90m1\u001b[39m GO_Biological_Process_2023               33           25\n",
      "\u001b[90m2\u001b[39m GO_Cellular_Component_2023               31           25\n",
      "\u001b[90m3\u001b[39m GO_Molecular_Function_2023               30           25\n",
      "\u001b[90m4\u001b[39m KEGG_2019_Mouse                          26           25\n",
      "\u001b[90m5\u001b[39m Panther_2016                             14           14\n",
      "\u001b[90m6\u001b[39m RNAseq_DiseaseGene_DrugSigs_GEO         109           25\n",
      "\u001b[90m7\u001b[39m Reactome_2016                            57           25\n"
     ]
    }
   ],
   "source": [
    "# Count the number of total terms and unique terms for each database\n",
    "filtered_database_term_counts <- filtered_data_top_25 %>%\n",
    "  group_by(Database) %>%\n",
    "  summarise(\n",
    "    Total_Terms = n(),\n",
    "    Unique_Terms = n_distinct(Term)\n",
    "  )\n",
    "\n",
    "# Print the table\n",
    "print(filtered_database_term_counts)"
   ]
  },
  {
   "cell_type": "code",
   "execution_count": 13,
   "id": "a463a2ac-47d9-462a-81cb-9c3c14153dbf",
   "metadata": {},
   "outputs": [],
   "source": [
    "# Create plots for each database\n",
    "for (database in unique(filtered_data_top_25$Database)) {\n",
    "  database_filtered_data <- filtered_data_top_25 %>%\n",
    "    filter(Database == database)\n",
    "  \n",
    "  if (nrow(database_filtered_data) > 0) {\n",
    "    dot_plot <- ggplot(database_filtered_data, aes(x = Module, y = Term, size = Odds.Ratio, fill = Adjusted.P.value)) +\n",
    "      geom_point(shape = 21) +\n",
    "      scale_fill_viridis() +\n",
    "      xlab('') + ylab('') +\n",
    "      labs(\n",
    "        title = 'Top Enrichr Terms Across Modules',\n",
    "        subtitle = glue('{database}')\n",
    "      ) +\n",
    "      theme(\n",
    "        panel.background = element_rect(fill = \"white\", color = NA),\n",
    "        panel.grid.major = element_blank(),\n",
    "        panel.grid.minor = element_blank(),\n",
    "        panel.border = element_blank(),\n",
    "        axis.line = element_line(color = \"black\"),\n",
    "        plot.background = element_rect(fill = \"white\", color = NA),\n",
    "        axis.text.x = element_text(angle = 90, hjust = 1)\n",
    "      )\n",
    "    \n",
    "    # Save the dot plot with the database name in the filename\n",
    "    ggsave(filename = glue(\"06_WGCNA/top_25_dot_plot_{database}.pdf\"), plot = dot_plot, height = 7, width = 15)\n",
    "  } else {\n",
    "    cat(glue(\"No data available for {database}. Skipping...\\n\"))\n",
    "  }\n",
    "}"
   ]
  }
 ],
 "metadata": {
  "kernelspec": {
   "display_name": "R",
   "language": "R",
   "name": "ir"
  },
  "language_info": {
   "codemirror_mode": "r",
   "file_extension": ".r",
   "mimetype": "text/x-r-source",
   "name": "R",
   "pygments_lexer": "r",
   "version": "4.3.2"
  }
 },
 "nbformat": 4,
 "nbformat_minor": 5
}
