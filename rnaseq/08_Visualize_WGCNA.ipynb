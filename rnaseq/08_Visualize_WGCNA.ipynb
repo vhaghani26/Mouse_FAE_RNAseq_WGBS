{
 "cells": [
  {
   "cell_type": "markdown",
   "id": "c2614fc3-0460-4f2f-9740-128cd2c0da3b",
   "metadata": {},
   "source": [
    "## Set Library Path"
   ]
  },
  {
   "cell_type": "code",
   "execution_count": 1,
   "id": "c98e53a3-80bb-45ea-8fa3-0011aa75bdcb",
   "metadata": {},
   "outputs": [],
   "source": [
    ".libPaths(\"/share/korflab/home/viki/anaconda3/jupyter_nb_R4.3/lib/R/library\")"
   ]
  },
  {
   "cell_type": "markdown",
   "id": "f8cd7400-66a7-4ad9-ae24-9b377f4e9605",
   "metadata": {},
   "source": [
    "## Load Libraries"
   ]
  },
  {
   "cell_type": "code",
   "execution_count": 3,
   "id": "9f8cb44d-a3a0-4152-a35b-098e3f4cf126",
   "metadata": {},
   "outputs": [],
   "source": [
    "library(readxl)\n",
    "library(ggplot2)\n",
    "library(viridis)\n",
    "library(dplyr)\n",
    "library(glue)\n",
    "library(tidyr)"
   ]
  },
  {
   "cell_type": "markdown",
   "id": "f4927161-efd5-4153-b9ad-84ecd24f601f",
   "metadata": {},
   "source": [
    "## Set Modules and GO Databases"
   ]
  },
  {
   "cell_type": "code",
   "execution_count": 9,
   "id": "889f7e55-12b0-4ff4-90c4-f39cc9a4e33c",
   "metadata": {},
   "outputs": [
    {
     "data": {
      "text/html": [
       "<style>\n",
       ".list-inline {list-style: none; margin:0; padding: 0}\n",
       ".list-inline>li {display: inline-block}\n",
       ".list-inline>li:not(:last-child)::after {content: \"\\00b7\"; padding: 0 .5ex}\n",
       "</style>\n",
       "<ol class=list-inline><li>'Probe'</li><li>'treatment'</li><li>'Module'</li><li>'entrez_gene_id'</li><li>'external_gene_name'</li><li>'greenyellow'</li><li>'white'</li><li>'black'</li><li>'turquoise'</li><li>'plum1'</li><li>'skyblue3'</li><li>'paleturquoise'</li><li>'darkred'</li><li>'lightyellow'</li><li>'orangered4'</li><li>'royalblue'</li><li>'blue'</li><li>'brown'</li><li>'ivory'</li><li>'darkorange'</li><li>'midnightblue'</li><li>'darkgreen'</li><li>'salmon'</li><li>'purple'</li><li>'darkmagenta'</li><li>'grey60'</li><li>'skyblue'</li><li>'orange'</li><li>'darkolivegreen'</li><li>'steelblue'</li><li>'violet'</li><li>'floralwhite'</li><li>'lightgreen'</li><li>'darkturquoise'</li></ol>\n"
      ],
      "text/latex": [
       "\\begin{enumerate*}\n",
       "\\item 'Probe'\n",
       "\\item 'treatment'\n",
       "\\item 'Module'\n",
       "\\item 'entrez\\_gene\\_id'\n",
       "\\item 'external\\_gene\\_name'\n",
       "\\item 'greenyellow'\n",
       "\\item 'white'\n",
       "\\item 'black'\n",
       "\\item 'turquoise'\n",
       "\\item 'plum1'\n",
       "\\item 'skyblue3'\n",
       "\\item 'paleturquoise'\n",
       "\\item 'darkred'\n",
       "\\item 'lightyellow'\n",
       "\\item 'orangered4'\n",
       "\\item 'royalblue'\n",
       "\\item 'blue'\n",
       "\\item 'brown'\n",
       "\\item 'ivory'\n",
       "\\item 'darkorange'\n",
       "\\item 'midnightblue'\n",
       "\\item 'darkgreen'\n",
       "\\item 'salmon'\n",
       "\\item 'purple'\n",
       "\\item 'darkmagenta'\n",
       "\\item 'grey60'\n",
       "\\item 'skyblue'\n",
       "\\item 'orange'\n",
       "\\item 'darkolivegreen'\n",
       "\\item 'steelblue'\n",
       "\\item 'violet'\n",
       "\\item 'floralwhite'\n",
       "\\item 'lightgreen'\n",
       "\\item 'darkturquoise'\n",
       "\\end{enumerate*}\n"
      ],
      "text/markdown": [
       "1. 'Probe'\n",
       "2. 'treatment'\n",
       "3. 'Module'\n",
       "4. 'entrez_gene_id'\n",
       "5. 'external_gene_name'\n",
       "6. 'greenyellow'\n",
       "7. 'white'\n",
       "8. 'black'\n",
       "9. 'turquoise'\n",
       "10. 'plum1'\n",
       "11. 'skyblue3'\n",
       "12. 'paleturquoise'\n",
       "13. 'darkred'\n",
       "14. 'lightyellow'\n",
       "15. 'orangered4'\n",
       "16. 'royalblue'\n",
       "17. 'blue'\n",
       "18. 'brown'\n",
       "19. 'ivory'\n",
       "20. 'darkorange'\n",
       "21. 'midnightblue'\n",
       "22. 'darkgreen'\n",
       "23. 'salmon'\n",
       "24. 'purple'\n",
       "25. 'darkmagenta'\n",
       "26. 'grey60'\n",
       "27. 'skyblue'\n",
       "28. 'orange'\n",
       "29. 'darkolivegreen'\n",
       "30. 'steelblue'\n",
       "31. 'violet'\n",
       "32. 'floralwhite'\n",
       "33. 'lightgreen'\n",
       "34. 'darkturquoise'\n",
       "\n",
       "\n"
      ],
      "text/plain": [
       " [1] \"Probe\"              \"treatment\"          \"Module\"            \n",
       " [4] \"entrez_gene_id\"     \"external_gene_name\" \"greenyellow\"       \n",
       " [7] \"white\"              \"black\"              \"turquoise\"         \n",
       "[10] \"plum1\"              \"skyblue3\"           \"paleturquoise\"     \n",
       "[13] \"darkred\"            \"lightyellow\"        \"orangered4\"        \n",
       "[16] \"royalblue\"          \"blue\"               \"brown\"             \n",
       "[19] \"ivory\"              \"darkorange\"         \"midnightblue\"      \n",
       "[22] \"darkgreen\"          \"salmon\"             \"purple\"            \n",
       "[25] \"darkmagenta\"        \"grey60\"             \"skyblue\"           \n",
       "[28] \"orange\"             \"darkolivegreen\"     \"steelblue\"         \n",
       "[31] \"violet\"             \"floralwhite\"        \"lightgreen\"        \n",
       "[34] \"darkturquoise\"     "
      ]
     },
     "metadata": {},
     "output_type": "display_data"
    }
   ],
   "source": [
    "# Read in data\n",
    "module_membership <- read.table(\"06_WGCNA/filtered_module_membership.txt\", header = TRUE, sep = \"\\t\")\n",
    "\n",
    "# Covnert to df\n",
    "module_membership <- as.data.frame(module_membership)\n",
    "\n",
    "# View\n",
    "colnames(module_membership)"
   ]
  },
  {
   "cell_type": "markdown",
   "id": "8d5e6f71-1d7c-4b55-ac4f-af3ec6d022cf",
   "metadata": {},
   "source": [
    "The module removal was run after viewing the module trait Pearson correlation heatmap to remove modules related to litter effects and sex only, but unrelated to conditional differences and subset to only significant modules."
   ]
  },
  {
   "cell_type": "code",
   "execution_count": 11,
   "id": "496176ee-132b-4743-a6f5-468ea4b6d4f8",
   "metadata": {},
   "outputs": [
    {
     "name": "stdout",
     "output_type": "stream",
     "text": [
      " [1] \"greenyellow\"    \"white\"          \"black\"          \"turquoise\"     \n",
      " [5] \"plum1\"          \"skyblue3\"       \"paleturquoise\"  \"darkred\"       \n",
      " [9] \"lightyellow\"    \"orangered4\"     \"royalblue\"      \"blue\"          \n",
      "[13] \"brown\"          \"ivory\"          \"darkorange\"     \"midnightblue\"  \n",
      "[17] \"darkgreen\"      \"salmon\"         \"purple\"         \"darkmagenta\"   \n",
      "[21] \"grey60\"         \"skyblue\"        \"orange\"         \"darkolivegreen\"\n",
      "[25] \"steelblue\"      \"violet\"         \"floralwhite\"    \"lightgreen\"    \n",
      "[29] \"darkturquoise\" \n"
     ]
    }
   ],
   "source": [
    "# Remove columns that don't correspond to modules\n",
    "module_membership$Probe <- NULL\n",
    "module_membership$treatment <- NULL\n",
    "module_membership$Module <- NULL\n",
    "module_membership$entrez_gene_id <- NULL\n",
    "module_membership$external_gene_name <- NULL\n",
    "\n",
    "# Subset to modules of interest\n",
    "modules <- colnames(module_membership)\n",
    "\n",
    "# View\n",
    "print(modules)"
   ]
  },
  {
   "cell_type": "code",
   "execution_count": 12,
   "id": "c3b1dd1d-c2ae-42ed-9170-60262b680e43",
   "metadata": {},
   "outputs": [],
   "source": [
    "# List of GO databases\n",
    "databases <- c(\"GO_Biological_Process_2023\", \"GO_Cellular_Component_2023\", \"GO_Molecular_Function_2023\",\n",
    "               \"KEGG_2019_Mouse\", \"Panther_2016\", \"Reactome_2016\", \"RNAseq_DiseaseGene_DrugSigs_GEO\")"
   ]
  },
  {
   "cell_type": "markdown",
   "id": "0c4037b8-982d-40da-a796-59758312937b",
   "metadata": {},
   "source": [
    "## Make Dot Plots"
   ]
  },
  {
   "cell_type": "code",
   "execution_count": 13,
   "id": "86d9f081-ba3f-46b0-a048-59a7a2650c99",
   "metadata": {},
   "outputs": [
    {
     "data": {
      "text/html": [
       "<table class=\"dataframe\">\n",
       "<caption>A data.frame: 6 × 5</caption>\n",
       "<thead>\n",
       "\t<tr><th></th><th scope=col>Term</th><th scope=col>Adjusted.P.value</th><th scope=col>Odds.Ratio</th><th scope=col>Module</th><th scope=col>Database</th></tr>\n",
       "\t<tr><th></th><th scope=col>&lt;chr&gt;</th><th scope=col>&lt;dbl&gt;</th><th scope=col>&lt;dbl&gt;</th><th scope=col>&lt;chr&gt;</th><th scope=col>&lt;chr&gt;</th></tr>\n",
       "</thead>\n",
       "<tbody>\n",
       "\t<tr><th scope=row>1</th><td>Cytoplasmic Translation (GO:0002181)           </td><td>8.207676e-07</td><td>8.903484</td><td>greenyellow</td><td>GO_Biological_Process_2023</td></tr>\n",
       "\t<tr><th scope=row>2</th><td>Macromolecule Biosynthetic Process (GO:0009059)</td><td>1.084755e-05</td><td>5.280709</td><td>greenyellow</td><td>GO_Biological_Process_2023</td></tr>\n",
       "\t<tr><th scope=row>3</th><td>Peptide Biosynthetic Process (GO:0043043)      </td><td>2.029099e-05</td><td>5.515487</td><td>greenyellow</td><td>GO_Biological_Process_2023</td></tr>\n",
       "\t<tr><th scope=row>4</th><td>Translation (GO:0006412)                       </td><td>7.317214e-05</td><td>4.241632</td><td>greenyellow</td><td>GO_Biological_Process_2023</td></tr>\n",
       "\t<tr><th scope=row>5</th><td>Gene Expression (GO:0010467)                   </td><td>2.025855e-04</td><td>3.629496</td><td>greenyellow</td><td>GO_Biological_Process_2023</td></tr>\n",
       "\t<tr><th scope=row>6</th><td>Ribosome Biogenesis (GO:0042254)               </td><td>1.115230e-03</td><td>4.565934</td><td>greenyellow</td><td>GO_Biological_Process_2023</td></tr>\n",
       "</tbody>\n",
       "</table>\n"
      ],
      "text/latex": [
       "A data.frame: 6 × 5\n",
       "\\begin{tabular}{r|lllll}\n",
       "  & Term & Adjusted.P.value & Odds.Ratio & Module & Database\\\\\n",
       "  & <chr> & <dbl> & <dbl> & <chr> & <chr>\\\\\n",
       "\\hline\n",
       "\t1 & Cytoplasmic Translation (GO:0002181)            & 8.207676e-07 & 8.903484 & greenyellow & GO\\_Biological\\_Process\\_2023\\\\\n",
       "\t2 & Macromolecule Biosynthetic Process (GO:0009059) & 1.084755e-05 & 5.280709 & greenyellow & GO\\_Biological\\_Process\\_2023\\\\\n",
       "\t3 & Peptide Biosynthetic Process (GO:0043043)       & 2.029099e-05 & 5.515487 & greenyellow & GO\\_Biological\\_Process\\_2023\\\\\n",
       "\t4 & Translation (GO:0006412)                        & 7.317214e-05 & 4.241632 & greenyellow & GO\\_Biological\\_Process\\_2023\\\\\n",
       "\t5 & Gene Expression (GO:0010467)                    & 2.025855e-04 & 3.629496 & greenyellow & GO\\_Biological\\_Process\\_2023\\\\\n",
       "\t6 & Ribosome Biogenesis (GO:0042254)                & 1.115230e-03 & 4.565934 & greenyellow & GO\\_Biological\\_Process\\_2023\\\\\n",
       "\\end{tabular}\n"
      ],
      "text/markdown": [
       "\n",
       "A data.frame: 6 × 5\n",
       "\n",
       "| <!--/--> | Term &lt;chr&gt; | Adjusted.P.value &lt;dbl&gt; | Odds.Ratio &lt;dbl&gt; | Module &lt;chr&gt; | Database &lt;chr&gt; |\n",
       "|---|---|---|---|---|---|\n",
       "| 1 | Cytoplasmic Translation (GO:0002181)            | 8.207676e-07 | 8.903484 | greenyellow | GO_Biological_Process_2023 |\n",
       "| 2 | Macromolecule Biosynthetic Process (GO:0009059) | 1.084755e-05 | 5.280709 | greenyellow | GO_Biological_Process_2023 |\n",
       "| 3 | Peptide Biosynthetic Process (GO:0043043)       | 2.029099e-05 | 5.515487 | greenyellow | GO_Biological_Process_2023 |\n",
       "| 4 | Translation (GO:0006412)                        | 7.317214e-05 | 4.241632 | greenyellow | GO_Biological_Process_2023 |\n",
       "| 5 | Gene Expression (GO:0010467)                    | 2.025855e-04 | 3.629496 | greenyellow | GO_Biological_Process_2023 |\n",
       "| 6 | Ribosome Biogenesis (GO:0042254)                | 1.115230e-03 | 4.565934 | greenyellow | GO_Biological_Process_2023 |\n",
       "\n"
      ],
      "text/plain": [
       "  Term                                            Adjusted.P.value Odds.Ratio\n",
       "1 Cytoplasmic Translation (GO:0002181)            8.207676e-07     8.903484  \n",
       "2 Macromolecule Biosynthetic Process (GO:0009059) 1.084755e-05     5.280709  \n",
       "3 Peptide Biosynthetic Process (GO:0043043)       2.029099e-05     5.515487  \n",
       "4 Translation (GO:0006412)                        7.317214e-05     4.241632  \n",
       "5 Gene Expression (GO:0010467)                    2.025855e-04     3.629496  \n",
       "6 Ribosome Biogenesis (GO:0042254)                1.115230e-03     4.565934  \n",
       "  Module      Database                  \n",
       "1 greenyellow GO_Biological_Process_2023\n",
       "2 greenyellow GO_Biological_Process_2023\n",
       "3 greenyellow GO_Biological_Process_2023\n",
       "4 greenyellow GO_Biological_Process_2023\n",
       "5 greenyellow GO_Biological_Process_2023\n",
       "6 greenyellow GO_Biological_Process_2023"
      ]
     },
     "metadata": {},
     "output_type": "display_data"
    }
   ],
   "source": [
    "# Store GO data into data frame\n",
    "\n",
    "# Initialize an empty dataframe\n",
    "all_data <- data.frame()\n",
    "\n",
    "# Iterate over each module and read in the corresponding Excel file\n",
    "for (module in modules) {\n",
    "  file_path <- glue(\"06_WGCNA/{module}_enrichr_results.xlsx\")\n",
    "  \n",
    "  for (database in databases) {\n",
    "    try({\n",
    "      # Read the data from the Excel file\n",
    "      df <- read_excel(file_path, sheet = database)\n",
    "      \n",
    "      if (nrow(df) == 0) {\n",
    "        next  # Skip to the next database if no data\n",
    "      }\n",
    "      \n",
    "      # Select the required columns and add module and database information\n",
    "      df <- df %>%\n",
    "        select(Term, Adjusted.P.value, Odds.Ratio) %>%\n",
    "        mutate(Module = module, Database = database)\n",
    "      \n",
    "      # Append to the dataframe\n",
    "      all_data <- bind_rows(all_data, df)\n",
    "      \n",
    "    }, silent = TRUE)\n",
    "  }\n",
    "}\n",
    "\n",
    "# Check if any data was read\n",
    "if (nrow(all_data) == 0) {\n",
    "  stop(\"No data read from any of the Excel files.\")\n",
    "}\n",
    "\n",
    "# Display the combined dataframe\n",
    "head(all_data)"
   ]
  },
  {
   "cell_type": "code",
   "execution_count": 14,
   "id": "cff00f4b-0102-492d-9e88-060f75245b36",
   "metadata": {},
   "outputs": [
    {
     "data": {
      "text/html": [
       "<table class=\"dataframe\">\n",
       "<caption>A data.frame: 6 × 5</caption>\n",
       "<thead>\n",
       "\t<tr><th></th><th scope=col>Term</th><th scope=col>Adjusted.P.value</th><th scope=col>Odds.Ratio</th><th scope=col>Module</th><th scope=col>Database</th></tr>\n",
       "\t<tr><th></th><th scope=col>&lt;chr&gt;</th><th scope=col>&lt;dbl&gt;</th><th scope=col>&lt;dbl&gt;</th><th scope=col>&lt;chr&gt;</th><th scope=col>&lt;chr&gt;</th></tr>\n",
       "</thead>\n",
       "<tbody>\n",
       "\t<tr><th scope=row>1</th><td>Cytoplasmic Translation (GO:0002181)           </td><td>8.207676e-07</td><td>8.903484</td><td>greenyellow</td><td>GO_Biological_Process_2023</td></tr>\n",
       "\t<tr><th scope=row>2</th><td>Macromolecule Biosynthetic Process (GO:0009059)</td><td>1.084755e-05</td><td>5.280709</td><td>greenyellow</td><td>GO_Biological_Process_2023</td></tr>\n",
       "\t<tr><th scope=row>3</th><td>Peptide Biosynthetic Process (GO:0043043)      </td><td>2.029099e-05</td><td>5.515487</td><td>greenyellow</td><td>GO_Biological_Process_2023</td></tr>\n",
       "\t<tr><th scope=row>4</th><td>Translation (GO:0006412)                       </td><td>7.317214e-05</td><td>4.241632</td><td>greenyellow</td><td>GO_Biological_Process_2023</td></tr>\n",
       "\t<tr><th scope=row>5</th><td>Gene Expression (GO:0010467)                   </td><td>2.025855e-04</td><td>3.629496</td><td>greenyellow</td><td>GO_Biological_Process_2023</td></tr>\n",
       "\t<tr><th scope=row>6</th><td>Ribosome Biogenesis (GO:0042254)               </td><td>1.115230e-03</td><td>4.565934</td><td>greenyellow</td><td>GO_Biological_Process_2023</td></tr>\n",
       "</tbody>\n",
       "</table>\n"
      ],
      "text/latex": [
       "A data.frame: 6 × 5\n",
       "\\begin{tabular}{r|lllll}\n",
       "  & Term & Adjusted.P.value & Odds.Ratio & Module & Database\\\\\n",
       "  & <chr> & <dbl> & <dbl> & <chr> & <chr>\\\\\n",
       "\\hline\n",
       "\t1 & Cytoplasmic Translation (GO:0002181)            & 8.207676e-07 & 8.903484 & greenyellow & GO\\_Biological\\_Process\\_2023\\\\\n",
       "\t2 & Macromolecule Biosynthetic Process (GO:0009059) & 1.084755e-05 & 5.280709 & greenyellow & GO\\_Biological\\_Process\\_2023\\\\\n",
       "\t3 & Peptide Biosynthetic Process (GO:0043043)       & 2.029099e-05 & 5.515487 & greenyellow & GO\\_Biological\\_Process\\_2023\\\\\n",
       "\t4 & Translation (GO:0006412)                        & 7.317214e-05 & 4.241632 & greenyellow & GO\\_Biological\\_Process\\_2023\\\\\n",
       "\t5 & Gene Expression (GO:0010467)                    & 2.025855e-04 & 3.629496 & greenyellow & GO\\_Biological\\_Process\\_2023\\\\\n",
       "\t6 & Ribosome Biogenesis (GO:0042254)                & 1.115230e-03 & 4.565934 & greenyellow & GO\\_Biological\\_Process\\_2023\\\\\n",
       "\\end{tabular}\n"
      ],
      "text/markdown": [
       "\n",
       "A data.frame: 6 × 5\n",
       "\n",
       "| <!--/--> | Term &lt;chr&gt; | Adjusted.P.value &lt;dbl&gt; | Odds.Ratio &lt;dbl&gt; | Module &lt;chr&gt; | Database &lt;chr&gt; |\n",
       "|---|---|---|---|---|---|\n",
       "| 1 | Cytoplasmic Translation (GO:0002181)            | 8.207676e-07 | 8.903484 | greenyellow | GO_Biological_Process_2023 |\n",
       "| 2 | Macromolecule Biosynthetic Process (GO:0009059) | 1.084755e-05 | 5.280709 | greenyellow | GO_Biological_Process_2023 |\n",
       "| 3 | Peptide Biosynthetic Process (GO:0043043)       | 2.029099e-05 | 5.515487 | greenyellow | GO_Biological_Process_2023 |\n",
       "| 4 | Translation (GO:0006412)                        | 7.317214e-05 | 4.241632 | greenyellow | GO_Biological_Process_2023 |\n",
       "| 5 | Gene Expression (GO:0010467)                    | 2.025855e-04 | 3.629496 | greenyellow | GO_Biological_Process_2023 |\n",
       "| 6 | Ribosome Biogenesis (GO:0042254)                | 1.115230e-03 | 4.565934 | greenyellow | GO_Biological_Process_2023 |\n",
       "\n"
      ],
      "text/plain": [
       "  Term                                            Adjusted.P.value Odds.Ratio\n",
       "1 Cytoplasmic Translation (GO:0002181)            8.207676e-07     8.903484  \n",
       "2 Macromolecule Biosynthetic Process (GO:0009059) 1.084755e-05     5.280709  \n",
       "3 Peptide Biosynthetic Process (GO:0043043)       2.029099e-05     5.515487  \n",
       "4 Translation (GO:0006412)                        7.317214e-05     4.241632  \n",
       "5 Gene Expression (GO:0010467)                    2.025855e-04     3.629496  \n",
       "6 Ribosome Biogenesis (GO:0042254)                1.115230e-03     4.565934  \n",
       "  Module      Database                  \n",
       "1 greenyellow GO_Biological_Process_2023\n",
       "2 greenyellow GO_Biological_Process_2023\n",
       "3 greenyellow GO_Biological_Process_2023\n",
       "4 greenyellow GO_Biological_Process_2023\n",
       "5 greenyellow GO_Biological_Process_2023\n",
       "6 greenyellow GO_Biological_Process_2023"
      ]
     },
     "metadata": {},
     "output_type": "display_data"
    }
   ],
   "source": [
    "# Filter out rows where the Adjusted.P.value is less than 0.1\n",
    "all_data <- all_data %>%\n",
    "  filter(Adjusted.P.value <= 0.05)\n",
    "\n",
    "# Display the filtered dataframe\n",
    "head(all_data)"
   ]
  },
  {
   "cell_type": "code",
   "execution_count": 15,
   "id": "08e43172-e874-4d22-ba63-97854d5f4bbf",
   "metadata": {},
   "outputs": [
    {
     "name": "stdout",
     "output_type": "stream",
     "text": [
      "\u001b[90m# A tibble: 6 × 3\u001b[39m\n",
      "  Database                        Total_Terms Unique_Terms\n",
      "  \u001b[3m\u001b[90m<chr>\u001b[39m\u001b[23m                                 \u001b[3m\u001b[90m<int>\u001b[39m\u001b[23m        \u001b[3m\u001b[90m<int>\u001b[39m\u001b[23m\n",
      "\u001b[90m1\u001b[39m GO_Biological_Process_2023              376          326\n",
      "\u001b[90m2\u001b[39m GO_Cellular_Component_2023              162          119\n",
      "\u001b[90m3\u001b[39m GO_Molecular_Function_2023               86           78\n",
      "\u001b[90m4\u001b[39m KEGG_2019_Mouse                          73           61\n",
      "\u001b[90m5\u001b[39m Panther_2016                             24           23\n",
      "\u001b[90m6\u001b[39m RNAseq_DiseaseGene_DrugSigs_GEO        \u001b[4m3\u001b[24m292         \u001b[4m1\u001b[24m208\n"
     ]
    }
   ],
   "source": [
    "# Count the number of total terms and unique terms for each database\n",
    "database_term_counts <- all_data %>%\n",
    "  group_by(Database) %>%\n",
    "  summarise(\n",
    "    Total_Terms = n(),\n",
    "    Unique_Terms = n_distinct(Term)\n",
    "  )\n",
    "\n",
    "# Print the table\n",
    "print(database_term_counts)"
   ]
  },
  {
   "cell_type": "code",
   "execution_count": 16,
   "id": "5b081ef4-72ee-413a-a654-0e46a18a5719",
   "metadata": {},
   "outputs": [
    {
     "data": {
      "text/html": [
       "<table class=\"dataframe\">\n",
       "<caption>A data.frame: 6 × 5</caption>\n",
       "<thead>\n",
       "\t<tr><th></th><th scope=col>Term</th><th scope=col>Adjusted.P.value</th><th scope=col>Odds.Ratio</th><th scope=col>Module</th><th scope=col>Database</th></tr>\n",
       "\t<tr><th></th><th scope=col>&lt;chr&gt;</th><th scope=col>&lt;dbl&gt;</th><th scope=col>&lt;dbl&gt;</th><th scope=col>&lt;chr&gt;</th><th scope=col>&lt;chr&gt;</th></tr>\n",
       "</thead>\n",
       "<tbody>\n",
       "\t<tr><th scope=row>1</th><td>Cytoplasmic Translation (GO:0002181)           </td><td>8.207676e-07</td><td>8.903484</td><td>greenyellow</td><td>GO_Biological_Process_2023</td></tr>\n",
       "\t<tr><th scope=row>2</th><td>Macromolecule Biosynthetic Process (GO:0009059)</td><td>1.084755e-05</td><td>5.280709</td><td>greenyellow</td><td>GO_Biological_Process_2023</td></tr>\n",
       "\t<tr><th scope=row>3</th><td>Peptide Biosynthetic Process (GO:0043043)      </td><td>2.029099e-05</td><td>5.515487</td><td>greenyellow</td><td>GO_Biological_Process_2023</td></tr>\n",
       "\t<tr><th scope=row>4</th><td>Translation (GO:0006412)                       </td><td>7.317214e-05</td><td>4.241632</td><td>greenyellow</td><td>GO_Biological_Process_2023</td></tr>\n",
       "\t<tr><th scope=row>5</th><td>Gene Expression (GO:0010467)                   </td><td>2.025855e-04</td><td>3.629496</td><td>greenyellow</td><td>GO_Biological_Process_2023</td></tr>\n",
       "\t<tr><th scope=row>6</th><td>Ribosome Biogenesis (GO:0042254)               </td><td>1.115230e-03</td><td>4.565934</td><td>greenyellow</td><td>GO_Biological_Process_2023</td></tr>\n",
       "</tbody>\n",
       "</table>\n"
      ],
      "text/latex": [
       "A data.frame: 6 × 5\n",
       "\\begin{tabular}{r|lllll}\n",
       "  & Term & Adjusted.P.value & Odds.Ratio & Module & Database\\\\\n",
       "  & <chr> & <dbl> & <dbl> & <chr> & <chr>\\\\\n",
       "\\hline\n",
       "\t1 & Cytoplasmic Translation (GO:0002181)            & 8.207676e-07 & 8.903484 & greenyellow & GO\\_Biological\\_Process\\_2023\\\\\n",
       "\t2 & Macromolecule Biosynthetic Process (GO:0009059) & 1.084755e-05 & 5.280709 & greenyellow & GO\\_Biological\\_Process\\_2023\\\\\n",
       "\t3 & Peptide Biosynthetic Process (GO:0043043)       & 2.029099e-05 & 5.515487 & greenyellow & GO\\_Biological\\_Process\\_2023\\\\\n",
       "\t4 & Translation (GO:0006412)                        & 7.317214e-05 & 4.241632 & greenyellow & GO\\_Biological\\_Process\\_2023\\\\\n",
       "\t5 & Gene Expression (GO:0010467)                    & 2.025855e-04 & 3.629496 & greenyellow & GO\\_Biological\\_Process\\_2023\\\\\n",
       "\t6 & Ribosome Biogenesis (GO:0042254)                & 1.115230e-03 & 4.565934 & greenyellow & GO\\_Biological\\_Process\\_2023\\\\\n",
       "\\end{tabular}\n"
      ],
      "text/markdown": [
       "\n",
       "A data.frame: 6 × 5\n",
       "\n",
       "| <!--/--> | Term &lt;chr&gt; | Adjusted.P.value &lt;dbl&gt; | Odds.Ratio &lt;dbl&gt; | Module &lt;chr&gt; | Database &lt;chr&gt; |\n",
       "|---|---|---|---|---|---|\n",
       "| 1 | Cytoplasmic Translation (GO:0002181)            | 8.207676e-07 | 8.903484 | greenyellow | GO_Biological_Process_2023 |\n",
       "| 2 | Macromolecule Biosynthetic Process (GO:0009059) | 1.084755e-05 | 5.280709 | greenyellow | GO_Biological_Process_2023 |\n",
       "| 3 | Peptide Biosynthetic Process (GO:0043043)       | 2.029099e-05 | 5.515487 | greenyellow | GO_Biological_Process_2023 |\n",
       "| 4 | Translation (GO:0006412)                        | 7.317214e-05 | 4.241632 | greenyellow | GO_Biological_Process_2023 |\n",
       "| 5 | Gene Expression (GO:0010467)                    | 2.025855e-04 | 3.629496 | greenyellow | GO_Biological_Process_2023 |\n",
       "| 6 | Ribosome Biogenesis (GO:0042254)                | 1.115230e-03 | 4.565934 | greenyellow | GO_Biological_Process_2023 |\n",
       "\n"
      ],
      "text/plain": [
       "  Term                                            Adjusted.P.value Odds.Ratio\n",
       "1 Cytoplasmic Translation (GO:0002181)            8.207676e-07     8.903484  \n",
       "2 Macromolecule Biosynthetic Process (GO:0009059) 1.084755e-05     5.280709  \n",
       "3 Peptide Biosynthetic Process (GO:0043043)       2.029099e-05     5.515487  \n",
       "4 Translation (GO:0006412)                        7.317214e-05     4.241632  \n",
       "5 Gene Expression (GO:0010467)                    2.025855e-04     3.629496  \n",
       "6 Ribosome Biogenesis (GO:0042254)                1.115230e-03     4.565934  \n",
       "  Module      Database                  \n",
       "1 greenyellow GO_Biological_Process_2023\n",
       "2 greenyellow GO_Biological_Process_2023\n",
       "3 greenyellow GO_Biological_Process_2023\n",
       "4 greenyellow GO_Biological_Process_2023\n",
       "5 greenyellow GO_Biological_Process_2023\n",
       "6 greenyellow GO_Biological_Process_2023"
      ]
     },
     "metadata": {},
     "output_type": "display_data"
    }
   ],
   "source": [
    "# Calculate the number of modules each term appears in for each database\n",
    "term_module_counts <- all_data %>%\n",
    "  group_by(Database, Term) %>%\n",
    "  summarise(ModuleCount = n_distinct(Module), .groups = 'drop')\n",
    "\n",
    "# Rank the terms within each database by the number of modules they appear in\n",
    "ranked_terms <- term_module_counts %>%\n",
    "  arrange(Database, desc(ModuleCount)) %>%\n",
    "  group_by(Database) %>%\n",
    "  slice_head(n = 25) %>%\n",
    "  ungroup()\n",
    "\n",
    "# Merge with the original data to filter the top 25 terms per database\n",
    "filtered_data_top_25 <- all_data %>%\n",
    "  semi_join(ranked_terms, by = c(\"Database\", \"Term\"))\n",
    "\n",
    "# Print the filtered data\n",
    "head(filtered_data_top_25)"
   ]
  },
  {
   "cell_type": "code",
   "execution_count": 17,
   "id": "8c241512-e021-4567-9c5a-428463eb1907",
   "metadata": {},
   "outputs": [
    {
     "name": "stdout",
     "output_type": "stream",
     "text": [
      "\u001b[90m# A tibble: 6 × 3\u001b[39m\n",
      "  Database                        Total_Terms Unique_Terms\n",
      "  \u001b[3m\u001b[90m<chr>\u001b[39m\u001b[23m                                 \u001b[3m\u001b[90m<int>\u001b[39m\u001b[23m        \u001b[3m\u001b[90m<int>\u001b[39m\u001b[23m\n",
      "\u001b[90m1\u001b[39m GO_Biological_Process_2023               61           25\n",
      "\u001b[90m2\u001b[39m GO_Cellular_Component_2023               57           25\n",
      "\u001b[90m3\u001b[39m GO_Molecular_Function_2023               33           25\n",
      "\u001b[90m4\u001b[39m KEGG_2019_Mouse                          37           25\n",
      "\u001b[90m5\u001b[39m Panther_2016                             24           23\n",
      "\u001b[90m6\u001b[39m RNAseq_DiseaseGene_DrugSigs_GEO         138           25\n"
     ]
    }
   ],
   "source": [
    "# Count the number of total terms and unique terms for each database\n",
    "filtered_database_term_counts <- filtered_data_top_25 %>%\n",
    "  group_by(Database) %>%\n",
    "  summarise(\n",
    "    Total_Terms = n(),\n",
    "    Unique_Terms = n_distinct(Term)\n",
    "  )\n",
    "\n",
    "# Print the table\n",
    "print(filtered_database_term_counts)"
   ]
  },
  {
   "cell_type": "code",
   "execution_count": 18,
   "id": "a463a2ac-47d9-462a-81cb-9c3c14153dbf",
   "metadata": {},
   "outputs": [],
   "source": [
    "# Create plots for each database\n",
    "for (database in unique(filtered_data_top_25$Database)) {\n",
    "  database_filtered_data <- filtered_data_top_25 %>%\n",
    "    filter(Database == database)\n",
    "  \n",
    "  if (nrow(database_filtered_data) > 0) {\n",
    "    dot_plot <- ggplot(database_filtered_data, aes(x = Module, y = Term, size = Odds.Ratio, fill = Adjusted.P.value)) +\n",
    "      geom_point(shape = 21) +\n",
    "      scale_fill_viridis() +\n",
    "      xlab('') + ylab('') +\n",
    "      labs(\n",
    "        title = 'Top Enrichr Terms Across Modules',\n",
    "        subtitle = glue('{database}')\n",
    "      ) +\n",
    "      theme(\n",
    "        panel.background = element_rect(fill = \"white\", color = NA),\n",
    "        panel.grid.major = element_blank(),\n",
    "        panel.grid.minor = element_blank(),\n",
    "        panel.border = element_blank(),\n",
    "        axis.line = element_line(color = \"black\"),\n",
    "        plot.background = element_rect(fill = \"white\", color = NA),\n",
    "        axis.text.x = element_text(angle = 90, hjust = 1)\n",
    "      )\n",
    "    \n",
    "    # Save the dot plot with the database name in the filename\n",
    "    ggsave(filename = glue(\"06_WGCNA/top_25_dot_plot_{database}.pdf\"), plot = dot_plot, height = 7, width = 15)\n",
    "  } else {\n",
    "    cat(glue(\"No data available for {database}. Skipping...\\n\"))\n",
    "  }\n",
    "}"
   ]
  }
 ],
 "metadata": {
  "kernelspec": {
   "display_name": "R",
   "language": "R",
   "name": "ir"
  },
  "language_info": {
   "codemirror_mode": "r",
   "file_extension": ".r",
   "mimetype": "text/x-r-source",
   "name": "R",
   "pygments_lexer": "r",
   "version": "4.4.2"
  }
 },
 "nbformat": 4,
 "nbformat_minor": 5
}
