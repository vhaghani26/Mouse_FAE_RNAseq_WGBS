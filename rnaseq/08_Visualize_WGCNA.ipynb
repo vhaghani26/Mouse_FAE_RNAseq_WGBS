{
 "cells": [
  {
   "cell_type": "markdown",
   "id": "c2614fc3-0460-4f2f-9740-128cd2c0da3b",
   "metadata": {},
   "source": [
    "## Set Library Path"
   ]
  },
  {
   "cell_type": "code",
   "execution_count": 1,
   "id": "c98e53a3-80bb-45ea-8fa3-0011aa75bdcb",
   "metadata": {},
   "outputs": [],
   "source": [
    ".libPaths(\"/home/vhaghani/anaconda3/envs/jupyter_nb_R4.4.2/lib/R/library\")"
   ]
  },
  {
   "cell_type": "markdown",
   "id": "f8cd7400-66a7-4ad9-ae24-9b377f4e9605",
   "metadata": {},
   "source": [
    "## Load Libraries"
   ]
  },
  {
   "cell_type": "code",
   "execution_count": 3,
   "id": "9f8cb44d-a3a0-4152-a35b-098e3f4cf126",
   "metadata": {},
   "outputs": [],
   "source": [
    "library(readxl)\n",
    "library(ggplot2)\n",
    "library(viridis)\n",
    "library(dplyr)\n",
    "library(glue)\n",
    "library(tidyr)"
   ]
  },
  {
   "cell_type": "markdown",
   "id": "f4927161-efd5-4153-b9ad-84ecd24f601f",
   "metadata": {},
   "source": [
    "## Set Modules and GO Databases"
   ]
  },
  {
   "cell_type": "code",
   "execution_count": 4,
   "id": "889f7e55-12b0-4ff4-90c4-f39cc9a4e33c",
   "metadata": {},
   "outputs": [
    {
     "data": {
      "text/html": [
       "<style>\n",
       ".list-inline {list-style: none; margin:0; padding: 0}\n",
       ".list-inline>li {display: inline-block}\n",
       ".list-inline>li:not(:last-child)::after {content: \"\\00b7\"; padding: 0 .5ex}\n",
       "</style>\n",
       "<ol class=list-inline><li>'Probe'</li><li>'treatment'</li><li>'Module'</li><li>'entrez_gene_id'</li><li>'external_gene_name'</li><li>'greenyellow'</li><li>'white'</li><li>'black'</li><li>'turquoise'</li><li>'plum1'</li><li>'skyblue3'</li><li>'paleturquoise'</li><li>'darkred'</li><li>'lightyellow'</li><li>'orangered4'</li><li>'royalblue'</li><li>'blue'</li><li>'brown'</li><li>'ivory'</li><li>'darkorange'</li><li>'midnightblue'</li><li>'darkgreen'</li><li>'salmon'</li><li>'purple'</li><li>'darkmagenta'</li><li>'grey60'</li><li>'skyblue'</li><li>'orange'</li><li>'darkolivegreen'</li><li>'steelblue'</li><li>'violet'</li><li>'floralwhite'</li><li>'lightgreen'</li><li>'darkturquoise'</li></ol>\n"
      ],
      "text/latex": [
       "\\begin{enumerate*}\n",
       "\\item 'Probe'\n",
       "\\item 'treatment'\n",
       "\\item 'Module'\n",
       "\\item 'entrez\\_gene\\_id'\n",
       "\\item 'external\\_gene\\_name'\n",
       "\\item 'greenyellow'\n",
       "\\item 'white'\n",
       "\\item 'black'\n",
       "\\item 'turquoise'\n",
       "\\item 'plum1'\n",
       "\\item 'skyblue3'\n",
       "\\item 'paleturquoise'\n",
       "\\item 'darkred'\n",
       "\\item 'lightyellow'\n",
       "\\item 'orangered4'\n",
       "\\item 'royalblue'\n",
       "\\item 'blue'\n",
       "\\item 'brown'\n",
       "\\item 'ivory'\n",
       "\\item 'darkorange'\n",
       "\\item 'midnightblue'\n",
       "\\item 'darkgreen'\n",
       "\\item 'salmon'\n",
       "\\item 'purple'\n",
       "\\item 'darkmagenta'\n",
       "\\item 'grey60'\n",
       "\\item 'skyblue'\n",
       "\\item 'orange'\n",
       "\\item 'darkolivegreen'\n",
       "\\item 'steelblue'\n",
       "\\item 'violet'\n",
       "\\item 'floralwhite'\n",
       "\\item 'lightgreen'\n",
       "\\item 'darkturquoise'\n",
       "\\end{enumerate*}\n"
      ],
      "text/markdown": [
       "1. 'Probe'\n",
       "2. 'treatment'\n",
       "3. 'Module'\n",
       "4. 'entrez_gene_id'\n",
       "5. 'external_gene_name'\n",
       "6. 'greenyellow'\n",
       "7. 'white'\n",
       "8. 'black'\n",
       "9. 'turquoise'\n",
       "10. 'plum1'\n",
       "11. 'skyblue3'\n",
       "12. 'paleturquoise'\n",
       "13. 'darkred'\n",
       "14. 'lightyellow'\n",
       "15. 'orangered4'\n",
       "16. 'royalblue'\n",
       "17. 'blue'\n",
       "18. 'brown'\n",
       "19. 'ivory'\n",
       "20. 'darkorange'\n",
       "21. 'midnightblue'\n",
       "22. 'darkgreen'\n",
       "23. 'salmon'\n",
       "24. 'purple'\n",
       "25. 'darkmagenta'\n",
       "26. 'grey60'\n",
       "27. 'skyblue'\n",
       "28. 'orange'\n",
       "29. 'darkolivegreen'\n",
       "30. 'steelblue'\n",
       "31. 'violet'\n",
       "32. 'floralwhite'\n",
       "33. 'lightgreen'\n",
       "34. 'darkturquoise'\n",
       "\n",
       "\n"
      ],
      "text/plain": [
       " [1] \"Probe\"              \"treatment\"          \"Module\"            \n",
       " [4] \"entrez_gene_id\"     \"external_gene_name\" \"greenyellow\"       \n",
       " [7] \"white\"              \"black\"              \"turquoise\"         \n",
       "[10] \"plum1\"              \"skyblue3\"           \"paleturquoise\"     \n",
       "[13] \"darkred\"            \"lightyellow\"        \"orangered4\"        \n",
       "[16] \"royalblue\"          \"blue\"               \"brown\"             \n",
       "[19] \"ivory\"              \"darkorange\"         \"midnightblue\"      \n",
       "[22] \"darkgreen\"          \"salmon\"             \"purple\"            \n",
       "[25] \"darkmagenta\"        \"grey60\"             \"skyblue\"           \n",
       "[28] \"orange\"             \"darkolivegreen\"     \"steelblue\"         \n",
       "[31] \"violet\"             \"floralwhite\"        \"lightgreen\"        \n",
       "[34] \"darkturquoise\"     "
      ]
     },
     "metadata": {},
     "output_type": "display_data"
    }
   ],
   "source": [
    "# Read in data\n",
    "module_membership <- read.table(\"06_WGCNA/filtered_module_membership.txt\", header = TRUE, sep = \"\\t\")\n",
    "\n",
    "# Covnert to df\n",
    "module_membership <- as.data.frame(module_membership)\n",
    "\n",
    "# View\n",
    "colnames(module_membership)"
   ]
  },
  {
   "cell_type": "markdown",
   "id": "8d5e6f71-1d7c-4b55-ac4f-af3ec6d022cf",
   "metadata": {},
   "source": [
    "The module removal was run after viewing the module trait Pearson correlation heatmap to remove modules related to litter effects and sex only, but unrelated to conditional differences and subset to only significant modules."
   ]
  },
  {
   "cell_type": "code",
   "execution_count": 5,
   "id": "496176ee-132b-4743-a6f5-468ea4b6d4f8",
   "metadata": {},
   "outputs": [
    {
     "name": "stdout",
     "output_type": "stream",
     "text": [
      " [1] \"greenyellow\"    \"white\"          \"black\"          \"turquoise\"     \n",
      " [5] \"plum1\"          \"skyblue3\"       \"paleturquoise\"  \"darkred\"       \n",
      " [9] \"lightyellow\"    \"orangered4\"     \"royalblue\"      \"blue\"          \n",
      "[13] \"brown\"          \"ivory\"          \"darkorange\"     \"midnightblue\"  \n",
      "[17] \"darkgreen\"      \"salmon\"         \"purple\"         \"darkmagenta\"   \n",
      "[21] \"grey60\"         \"skyblue\"        \"orange\"         \"darkolivegreen\"\n",
      "[25] \"steelblue\"      \"violet\"         \"floralwhite\"    \"lightgreen\"    \n",
      "[29] \"darkturquoise\" \n"
     ]
    }
   ],
   "source": [
    "# Remove columns that don't correspond to modules\n",
    "module_membership$Probe <- NULL\n",
    "module_membership$treatment <- NULL\n",
    "module_membership$Module <- NULL\n",
    "module_membership$entrez_gene_id <- NULL\n",
    "module_membership$external_gene_name <- NULL\n",
    "\n",
    "# Subset to modules of interest\n",
    "modules <- colnames(module_membership)\n",
    "\n",
    "# View\n",
    "print(modules)"
   ]
  },
  {
   "cell_type": "markdown",
   "id": "0c4037b8-982d-40da-a796-59758312937b",
   "metadata": {},
   "source": [
    "## Make Dot Plots"
   ]
  },
  {
   "cell_type": "code",
   "execution_count": null,
   "id": "c3b1dd1d-c2ae-42ed-9170-60262b680e43",
   "metadata": {},
   "outputs": [],
   "source": [
    "# List of GO databases\n",
    "databases <- c(\"GO_Biological_Process_2023\", \"GO_Cellular_Component_2023\", \"GO_Molecular_Function_2023\",\n",
    "               \"KEGG_2019_Mouse\", \"Panther_2016\", \"Reactome_2016\", \"RNAseq_DiseaseGene_DrugSigs_GEO\")"
   ]
  },
  {
   "cell_type": "code",
   "execution_count": null,
   "id": "86d9f081-ba3f-46b0-a048-59a7a2650c99",
   "metadata": {},
   "outputs": [],
   "source": [
    "# Store GO data into data frame\n",
    "\n",
    "# Initialize an empty dataframe\n",
    "all_data <- data.frame()\n",
    "\n",
    "# Iterate over each module and read in the corresponding Excel file\n",
    "for (module in modules) {\n",
    "  file_path <- glue(\"06_WGCNA/{module}_enrichr_results.xlsx\")\n",
    "  \n",
    "  for (database in databases) {\n",
    "    try({\n",
    "      # Read the data from the Excel file\n",
    "      df <- read_excel(file_path, sheet = database)\n",
    "      \n",
    "      if (nrow(df) == 0) {\n",
    "        next  # Skip to the next database if no data\n",
    "      }\n",
    "      \n",
    "      # Select the required columns and add module and database information\n",
    "      df <- df %>%\n",
    "        select(Term, Adjusted.P.value, Odds.Ratio) %>%\n",
    "        mutate(Module = module, Database = database)\n",
    "      \n",
    "      # Append to the dataframe\n",
    "      all_data <- bind_rows(all_data, df)\n",
    "      \n",
    "    }, silent = TRUE)\n",
    "  }\n",
    "}\n",
    "\n",
    "# Check if any data was read\n",
    "if (nrow(all_data) == 0) {\n",
    "  stop(\"No data read from any of the Excel files.\")\n",
    "}\n",
    "\n",
    "# Display the combined dataframe\n",
    "head(all_data)"
   ]
  },
  {
   "cell_type": "code",
   "execution_count": null,
   "id": "cff00f4b-0102-492d-9e88-060f75245b36",
   "metadata": {},
   "outputs": [],
   "source": [
    "# Filter out rows where the Adjusted.P.value is less than 0.1\n",
    "all_data <- all_data %>%\n",
    "  filter(Adjusted.P.value <= 0.05)\n",
    "\n",
    "# Display the filtered dataframe\n",
    "head(all_data)"
   ]
  },
  {
   "cell_type": "code",
   "execution_count": null,
   "id": "08e43172-e874-4d22-ba63-97854d5f4bbf",
   "metadata": {},
   "outputs": [],
   "source": [
    "# Count the number of total terms and unique terms for each database\n",
    "database_term_counts <- all_data %>%\n",
    "  group_by(Database) %>%\n",
    "  summarise(\n",
    "    Total_Terms = n(),\n",
    "    Unique_Terms = n_distinct(Term)\n",
    "  )\n",
    "\n",
    "# Print the table\n",
    "print(database_term_counts)"
   ]
  },
  {
   "cell_type": "code",
   "execution_count": null,
   "id": "5b081ef4-72ee-413a-a654-0e46a18a5719",
   "metadata": {},
   "outputs": [],
   "source": [
    "# Calculate the number of modules each term appears in for each database\n",
    "term_module_counts <- all_data %>%\n",
    "  group_by(Database, Term) %>%\n",
    "  summarise(ModuleCount = n_distinct(Module), .groups = 'drop')\n",
    "\n",
    "# Rank the terms within each database by the number of modules they appear in\n",
    "ranked_terms <- term_module_counts %>%\n",
    "  arrange(Database, desc(ModuleCount)) %>%\n",
    "  group_by(Database) %>%\n",
    "  slice_head(n = 25) %>%\n",
    "  ungroup()\n",
    "\n",
    "# Merge with the original data to filter the top 25 terms per database\n",
    "filtered_data_top_25 <- all_data %>%\n",
    "  semi_join(ranked_terms, by = c(\"Database\", \"Term\"))\n",
    "\n",
    "# Print the filtered data\n",
    "head(filtered_data_top_25)"
   ]
  },
  {
   "cell_type": "code",
   "execution_count": null,
   "id": "8c241512-e021-4567-9c5a-428463eb1907",
   "metadata": {},
   "outputs": [],
   "source": [
    "# Count the number of total terms and unique terms for each database\n",
    "filtered_database_term_counts <- filtered_data_top_25 %>%\n",
    "  group_by(Database) %>%\n",
    "  summarise(\n",
    "    Total_Terms = n(),\n",
    "    Unique_Terms = n_distinct(Term)\n",
    "  )\n",
    "\n",
    "# Print the table\n",
    "print(filtered_database_term_counts)"
   ]
  },
  {
   "cell_type": "code",
   "execution_count": null,
   "id": "a463a2ac-47d9-462a-81cb-9c3c14153dbf",
   "metadata": {},
   "outputs": [],
   "source": [
    "# Create plots for each database\n",
    "for (database in unique(filtered_data_top_25$Database)) {\n",
    "  database_filtered_data <- filtered_data_top_25 %>%\n",
    "    filter(Database == database)\n",
    "  \n",
    "  if (nrow(database_filtered_data) > 0) {\n",
    "    dot_plot <- ggplot(database_filtered_data, aes(x = Module, y = Term, size = Odds.Ratio, fill = Adjusted.P.value)) +\n",
    "      geom_point(shape = 21) +\n",
    "      scale_fill_viridis() +\n",
    "      xlab('') + ylab('') +\n",
    "      labs(\n",
    "        title = 'Top Enrichr Terms Across Modules',\n",
    "        subtitle = glue('{database}')\n",
    "      ) +\n",
    "      theme(\n",
    "        panel.background = element_rect(fill = \"white\", color = NA),\n",
    "        panel.grid.major = element_blank(),\n",
    "        panel.grid.minor = element_blank(),\n",
    "        panel.border = element_blank(),\n",
    "        axis.line = element_line(color = \"black\"),\n",
    "        plot.background = element_rect(fill = \"white\", color = NA),\n",
    "        axis.text.x = element_text(angle = 90, hjust = 1)\n",
    "      )\n",
    "    \n",
    "    # Save the dot plot with the database name in the filename\n",
    "    ggsave(filename = glue(\"06_WGCNA/top_25_dot_plot_{database}.pdf\"), plot = dot_plot, height = 7, width = 15)\n",
    "  } else {\n",
    "    cat(glue(\"No data available for {database}. Skipping...\\n\"))\n",
    "  }\n",
    "}"
   ]
  },
  {
   "cell_type": "markdown",
   "id": "d4a8a343-37f9-4dd6-8686-e28069ef19a4",
   "metadata": {},
   "source": [
    "# Combined Dot Plot"
   ]
  },
  {
   "cell_type": "code",
   "execution_count": 6,
   "id": "fcfe2e7b-446f-4e61-bb06-2c8ad7259960",
   "metadata": {},
   "outputs": [],
   "source": [
    "# List of GO databases\n",
    "databases <- c(\"GO_Biological_Process_2023\", \"GO_Cellular_Component_2023\", \"GO_Molecular_Function_2023\",\n",
    "               \"KEGG_2019_Mouse\", \"Reactome_2016\")"
   ]
  },
  {
   "cell_type": "code",
   "execution_count": 7,
   "id": "071ab58b-f827-4aa6-9638-3ebfac1aca10",
   "metadata": {},
   "outputs": [],
   "source": [
    "# Create abbreviation mapping\n",
    "database_abbreviations <- c(\n",
    "  \"GO_Biological_Process_2023\" = \"GO BP\",\n",
    "  \"GO_Cellular_Component_2023\" = \"GO CC\", \n",
    "  \"GO_Molecular_Function_2023\" = \"GO MF\",\n",
    "  \"KEGG_2019_Mouse\" = \"KEGG_Mouse\",\n",
    "  \"Reactome_2016\" = \"REACTOME\"\n",
    ")"
   ]
  },
  {
   "cell_type": "code",
   "execution_count": 8,
   "id": "6ba0fdb6-603b-4911-adcc-c2adaf292b70",
   "metadata": {},
   "outputs": [],
   "source": [
    "# Initialize an empty dataframe for all GO data (overrides previous one to save memory)\n",
    "all_data <- data.frame()"
   ]
  },
  {
   "cell_type": "code",
   "execution_count": 9,
   "id": "8af04a69-a401-4d42-bb2b-94a3f2bc301d",
   "metadata": {},
   "outputs": [
    {
     "data": {
      "text/html": [
       "<table class=\"dataframe\">\n",
       "<caption>A data.frame: 6 × 5</caption>\n",
       "<thead>\n",
       "\t<tr><th></th><th scope=col>Term</th><th scope=col>Adjusted.P.value</th><th scope=col>Odds.Ratio</th><th scope=col>Module</th><th scope=col>Database</th></tr>\n",
       "\t<tr><th></th><th scope=col>&lt;chr&gt;</th><th scope=col>&lt;dbl&gt;</th><th scope=col>&lt;dbl&gt;</th><th scope=col>&lt;chr&gt;</th><th scope=col>&lt;chr&gt;</th></tr>\n",
       "</thead>\n",
       "<tbody>\n",
       "\t<tr><th scope=row>1</th><td>Cytoplasmic Translation (GO:0002181)           </td><td>8.207676e-07</td><td>8.903484</td><td>greenyellow</td><td>GO_Biological_Process_2023</td></tr>\n",
       "\t<tr><th scope=row>2</th><td>Macromolecule Biosynthetic Process (GO:0009059)</td><td>1.084755e-05</td><td>5.280709</td><td>greenyellow</td><td>GO_Biological_Process_2023</td></tr>\n",
       "\t<tr><th scope=row>3</th><td>Peptide Biosynthetic Process (GO:0043043)      </td><td>2.029099e-05</td><td>5.515487</td><td>greenyellow</td><td>GO_Biological_Process_2023</td></tr>\n",
       "\t<tr><th scope=row>4</th><td>Cytosolic Large Ribosomal Subunit (GO:0022625) </td><td>3.021899e-04</td><td>8.847450</td><td>greenyellow</td><td>GO_Cellular_Component_2023</td></tr>\n",
       "\t<tr><th scope=row>5</th><td>Large Ribosomal Subunit (GO:0015934)           </td><td>3.021899e-04</td><td>8.847450</td><td>greenyellow</td><td>GO_Cellular_Component_2023</td></tr>\n",
       "\t<tr><th scope=row>6</th><td>Cytosolic Small Ribosomal Subunit (GO:0022627) </td><td>2.492542e-03</td><td>8.669292</td><td>greenyellow</td><td>GO_Cellular_Component_2023</td></tr>\n",
       "</tbody>\n",
       "</table>\n"
      ],
      "text/latex": [
       "A data.frame: 6 × 5\n",
       "\\begin{tabular}{r|lllll}\n",
       "  & Term & Adjusted.P.value & Odds.Ratio & Module & Database\\\\\n",
       "  & <chr> & <dbl> & <dbl> & <chr> & <chr>\\\\\n",
       "\\hline\n",
       "\t1 & Cytoplasmic Translation (GO:0002181)            & 8.207676e-07 & 8.903484 & greenyellow & GO\\_Biological\\_Process\\_2023\\\\\n",
       "\t2 & Macromolecule Biosynthetic Process (GO:0009059) & 1.084755e-05 & 5.280709 & greenyellow & GO\\_Biological\\_Process\\_2023\\\\\n",
       "\t3 & Peptide Biosynthetic Process (GO:0043043)       & 2.029099e-05 & 5.515487 & greenyellow & GO\\_Biological\\_Process\\_2023\\\\\n",
       "\t4 & Cytosolic Large Ribosomal Subunit (GO:0022625)  & 3.021899e-04 & 8.847450 & greenyellow & GO\\_Cellular\\_Component\\_2023\\\\\n",
       "\t5 & Large Ribosomal Subunit (GO:0015934)            & 3.021899e-04 & 8.847450 & greenyellow & GO\\_Cellular\\_Component\\_2023\\\\\n",
       "\t6 & Cytosolic Small Ribosomal Subunit (GO:0022627)  & 2.492542e-03 & 8.669292 & greenyellow & GO\\_Cellular\\_Component\\_2023\\\\\n",
       "\\end{tabular}\n"
      ],
      "text/markdown": [
       "\n",
       "A data.frame: 6 × 5\n",
       "\n",
       "| <!--/--> | Term &lt;chr&gt; | Adjusted.P.value &lt;dbl&gt; | Odds.Ratio &lt;dbl&gt; | Module &lt;chr&gt; | Database &lt;chr&gt; |\n",
       "|---|---|---|---|---|---|\n",
       "| 1 | Cytoplasmic Translation (GO:0002181)            | 8.207676e-07 | 8.903484 | greenyellow | GO_Biological_Process_2023 |\n",
       "| 2 | Macromolecule Biosynthetic Process (GO:0009059) | 1.084755e-05 | 5.280709 | greenyellow | GO_Biological_Process_2023 |\n",
       "| 3 | Peptide Biosynthetic Process (GO:0043043)       | 2.029099e-05 | 5.515487 | greenyellow | GO_Biological_Process_2023 |\n",
       "| 4 | Cytosolic Large Ribosomal Subunit (GO:0022625)  | 3.021899e-04 | 8.847450 | greenyellow | GO_Cellular_Component_2023 |\n",
       "| 5 | Large Ribosomal Subunit (GO:0015934)            | 3.021899e-04 | 8.847450 | greenyellow | GO_Cellular_Component_2023 |\n",
       "| 6 | Cytosolic Small Ribosomal Subunit (GO:0022627)  | 2.492542e-03 | 8.669292 | greenyellow | GO_Cellular_Component_2023 |\n",
       "\n"
      ],
      "text/plain": [
       "  Term                                            Adjusted.P.value Odds.Ratio\n",
       "1 Cytoplasmic Translation (GO:0002181)            8.207676e-07     8.903484  \n",
       "2 Macromolecule Biosynthetic Process (GO:0009059) 1.084755e-05     5.280709  \n",
       "3 Peptide Biosynthetic Process (GO:0043043)       2.029099e-05     5.515487  \n",
       "4 Cytosolic Large Ribosomal Subunit (GO:0022625)  3.021899e-04     8.847450  \n",
       "5 Large Ribosomal Subunit (GO:0015934)            3.021899e-04     8.847450  \n",
       "6 Cytosolic Small Ribosomal Subunit (GO:0022627)  2.492542e-03     8.669292  \n",
       "  Module      Database                  \n",
       "1 greenyellow GO_Biological_Process_2023\n",
       "2 greenyellow GO_Biological_Process_2023\n",
       "3 greenyellow GO_Biological_Process_2023\n",
       "4 greenyellow GO_Cellular_Component_2023\n",
       "5 greenyellow GO_Cellular_Component_2023\n",
       "6 greenyellow GO_Cellular_Component_2023"
      ]
     },
     "metadata": {},
     "output_type": "display_data"
    }
   ],
   "source": [
    "# Store GO data into data frame\n",
    "\n",
    "# Initialize an empty dataframe\n",
    "all_data <- data.frame()\n",
    "\n",
    "# Iterate over each module and read in the corresponding Excel file\n",
    "for (module in modules) {\n",
    "  file_path <- glue(\"06_WGCNA/{module}_enrichr_results.xlsx\")\n",
    "  \n",
    "  for (database in databases) {\n",
    "    try({\n",
    "      # Read the data from the Excel file\n",
    "      df <- read_excel(file_path, sheet = database)\n",
    "      \n",
    "      if (nrow(df) == 0) {\n",
    "        next  # Skip to the next database if no data\n",
    "      }\n",
    "      \n",
    "      # Select the required columns and add module and database information\n",
    "      df <- df %>%\n",
    "        filter(Adjusted.P.value <= 0.05) %>%\n",
    "        select(Term, Adjusted.P.value, Odds.Ratio) %>%\n",
    "        mutate(Module = module, Database = database) %>%\n",
    "        arrange(Adjusted.P.value) %>%  \n",
    "        slice_head(n = 3) \n",
    "      \n",
    "      # Append to the dataframe\n",
    "      all_data <- bind_rows(all_data, df)\n",
    "      \n",
    "    }, silent = TRUE)\n",
    "  }\n",
    "}\n",
    "\n",
    "# Check if any data was read\n",
    "if (nrow(all_data) == 0) {\n",
    "  stop(\"No data read from any of the Excel files.\")\n",
    "}\n",
    "\n",
    "# Display the combined dataframe\n",
    "head(all_data)"
   ]
  },
  {
   "cell_type": "code",
   "execution_count": 11,
   "id": "06f1849a-3afd-487c-98a3-a3b5b2522ca8",
   "metadata": {},
   "outputs": [],
   "source": [
    "# Generate dot plot - alternative approach\n",
    "if (nrow(all_data) > 0) {\n",
    "  \n",
    "  # Create database abbreviations and assign colors\n",
    "  all_data <- all_data %>%\n",
    "    mutate(\n",
    "      DB_Abbrev = ifelse(Database %in% names(database_abbreviations), \n",
    "                         database_abbreviations[Database], Database),\n",
    "      Module = factor(Module),\n",
    "      # Create simple term label with database\n",
    "      Simple_Term = paste(DB_Abbrev, Term, sep = \": \")\n",
    "    )\n",
    "  \n",
    "  # Create a color mapping for databases\n",
    "  unique_dbs <- unique(all_data$DB_Abbrev)\n",
    "  db_colors <- setNames(RColorBrewer::brewer.pal(max(3, length(unique_dbs)), \"Set3\")[1:length(unique_dbs)], \n",
    "                       unique_dbs)\n",
    "  \n",
    "  # Sort terms by database first, then by term name\n",
    "  all_data <- all_data %>%\n",
    "    arrange(DB_Abbrev, Term)\n",
    "  \n",
    "  # Ensure terms are ordered properly\n",
    "  term_order <- unique(all_data$Simple_Term)\n",
    "  all_data$Simple_Term <- factor(all_data$Simple_Term, levels = term_order)\n",
    "  \n",
    "  dot_plot <- ggplot(all_data, aes(x = Module, y = Simple_Term, size = Odds.Ratio, fill = Adjusted.P.value)) +\n",
    "    geom_point(shape = 21, alpha = 0.8) +\n",
    "    scale_fill_viridis(name = 'Adjusted P-value', direction = -1) +\n",
    "    scale_size_continuous(name = 'Odds Ratio', range = c(1, 8)) +\n",
    "    xlab('') + ylab('') +\n",
    "    labs(title = 'Top Most Significant GO Terms Across Modules') +\n",
    "    theme_minimal() +\n",
    "    theme(\n",
    "      panel.background = element_rect(fill = \"white\", color = NA),\n",
    "      panel.grid.major = element_line(color = \"grey90\"),\n",
    "      panel.grid.minor = element_blank(),\n",
    "      axis.text.x = element_text(angle = 90, hjust = 1, vjust = 0.5),\n",
    "      axis.text.y = element_text(size = 10),\n",
    "      legend.position = \"right\"\n",
    "    )\n",
    "  \n",
    "  # Save the plot\n",
    "  ggsave(filename = \"06_WGCNA/combined_top_terms_dot_plot.pdf\", \n",
    "         plot = dot_plot, height = 17, width = 16)\n",
    "}"
   ]
  },
  {
   "cell_type": "code",
   "execution_count": 12,
   "id": "b10ac448-04ff-4e8c-ac15-6c95cb889626",
   "metadata": {},
   "outputs": [],
   "source": [
    "# Save data\n",
    "write.csv(all_data, \"06_WGCNA/combined_top_terms_dot_plot.csv\", row.names = FALSE)"
   ]
  }
 ],
 "metadata": {
  "kernelspec": {
   "display_name": "R",
   "language": "R",
   "name": "ir"
  },
  "language_info": {
   "codemirror_mode": "r",
   "file_extension": ".r",
   "mimetype": "text/x-r-source",
   "name": "R",
   "pygments_lexer": "r",
   "version": "4.4.2"
  }
 },
 "nbformat": 4,
 "nbformat_minor": 5
}
