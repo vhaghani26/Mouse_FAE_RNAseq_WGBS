{
 "cells": [
  {
   "cell_type": "markdown",
   "id": "cb0d8352",
   "metadata": {},
   "source": [
    "Resources for analysis:\n",
    "\n",
    "* https://ucdavis-bioinformatics-training.github.io/2022-June-RNA-Seq-Analysis/data_analysis/DE_Analysis_mm_with_quizzes_fixed\n",
    "* https://ucdavis-bioinformatics-training.github.io/2022-June-RNA-Seq-Analysis/data_reduction/03-counts_mm\n",
    "* https://github.com/ben-laufer/RNA-seq/blob/main/04-limma-voom.R\n",
    "* https://raw.githubusercontent.com/ucdavis-bioinformatics-training/2020-mRNA_Seq_Workshop/master/data_analysis/enrichment_mm.Rmd"
   ]
  },
  {
   "cell_type": "markdown",
   "id": "c3d00166",
   "metadata": {},
   "source": [
    "## Generate Gene Counts"
   ]
  },
  {
   "cell_type": "markdown",
   "id": "8bc8d32e",
   "metadata": {},
   "source": [
    "To generate gene counts:\n",
    "\n",
    "```\n",
    "for sample in $(cat samples.yml | grep -oP '\\b\\w+\\b'); do\n",
    "    echo ${sample}\n",
    "    cat 03_bam_files/${sample}_ReadsPerGene.out.tab | tail -n +5 | cut -f4 > 05_gene_counts/${sample}.count\n",
    "done\n",
    "```"
   ]
  },
  {
   "cell_type": "markdown",
   "id": "5a99137b",
   "metadata": {},
   "source": [
    "To extract gene IDs (because all of the files are sorted in the exact same order (by gene ID), we can just use the columns from any of the files):\n",
    "\n",
    "```\n",
    "tail -n +5 03_bam_files/G1_1_1_4_ReadsPerGene.out.tab | cut -f1 > 05_gene_counts/geneids.txt\n",
    "```"
   ]
  },
  {
   "cell_type": "markdown",
   "id": "f73ddfe5",
   "metadata": {},
   "source": [
    "Now, we want to combine all of these columns together and put it in a temporary file:\n",
    "\n",
    "```\n",
    "paste 05_gene_counts/geneids.txt 05_gene_counts/*.count > 05_gene_counts/tmp.out\n",
    "```"
   ]
  },
  {
   "cell_type": "markdown",
   "id": "be77ac76",
   "metadata": {},
   "source": [
    "And now, we label the columns with the sample IDs:\n",
    "\n",
    "```\n",
    "cat <(ls 05_gene_counts/*.count | sed 's/05_gene_counts\\///;s/.count$//' | sort | paste -s) 05_gene_counts/tmp.out > 05_gene_counts/gene_counts.txt\n",
    "rm 05_gene_counts/tmp.out\n",
    "```"
   ]
  },
  {
   "cell_type": "markdown",
   "id": "6dbe18a4",
   "metadata": {},
   "source": [
    "## Set Library Path"
   ]
  },
  {
   "cell_type": "code",
   "execution_count": 1,
   "id": "bd38fac2",
   "metadata": {},
   "outputs": [],
   "source": [
    ".libPaths(\"/share/korflab/home/viki/anaconda3/jupyter_nb/lib/R/library\")"
   ]
  },
  {
   "cell_type": "markdown",
   "id": "17153ca2",
   "metadata": {},
   "source": [
    "## Install Packages"
   ]
  },
  {
   "cell_type": "code",
   "execution_count": null,
   "id": "cab9af7b",
   "metadata": {},
   "outputs": [],
   "source": [
    "if (!requireNamespace(\"BiocManager\", quietly = TRUE))\n",
    "    install.packages(\"BiocManager\")\n",
    "BiocManager::install(\"edgeR\")\n",
    "\n",
    "if (!requireNamespace(\"BiocManager\", quietly = TRUE))\n",
    "    install.packages(\"BiocManager\")\n",
    "BiocManager::install(\"rtracklayer\")\n",
    "\n",
    "if (!requireNamespace(\"BiocManager\", quietly = TRUE))\n",
    "    install.packages(\"BiocManager\")\n",
    "BiocManager::install(\"XML\")"
   ]
  },
  {
   "cell_type": "markdown",
   "id": "5a787974",
   "metadata": {},
   "source": [
    "## Load Libraries"
   ]
  },
  {
   "cell_type": "code",
   "execution_count": 3,
   "id": "31f82955",
   "metadata": {},
   "outputs": [],
   "source": [
    "library(edgeR)\n",
    "library(rtracklayer)\n",
    "library(gplots)\n",
    "library(RColorBrewer)\n",
    "library(dplyr)"
   ]
  },
  {
   "cell_type": "markdown",
   "id": "4f43b042",
   "metadata": {},
   "source": [
    "# Sex Combined DEG Analysis"
   ]
  },
  {
   "cell_type": "markdown",
   "id": "a0a90ea0",
   "metadata": {},
   "source": [
    "## Read in Counts and Create DEG List"
   ]
  },
  {
   "cell_type": "code",
   "execution_count": 12,
   "id": "fb159fb0",
   "metadata": {},
   "outputs": [
    {
     "data": {
      "text/html": [
       "<table class=\"dataframe\">\n",
       "<caption>A data.frame: 6 × 16</caption>\n",
       "<thead>\n",
       "\t<tr><th></th><th scope=col>G1_1_1_4</th><th scope=col>G1_1_1_5</th><th scope=col>G1_1_1_6</th><th scope=col>G1_1_1_7</th><th scope=col>G1_1_2_4</th><th scope=col>G1_1_2_5</th><th scope=col>G1_1_2_6</th><th scope=col>G2_2_6_5</th><th scope=col>G2_2_6_6</th><th scope=col>G2_2_6_7</th><th scope=col>G2_2_6_8</th><th scope=col>G2_2_7_10</th><th scope=col>G2_2_7_11</th><th scope=col>G2_2_7_7</th><th scope=col>G2_2_7_8</th><th scope=col>G2_2_7_9</th></tr>\n",
       "\t<tr><th></th><th scope=col>&lt;int&gt;</th><th scope=col>&lt;int&gt;</th><th scope=col>&lt;int&gt;</th><th scope=col>&lt;int&gt;</th><th scope=col>&lt;int&gt;</th><th scope=col>&lt;int&gt;</th><th scope=col>&lt;int&gt;</th><th scope=col>&lt;int&gt;</th><th scope=col>&lt;int&gt;</th><th scope=col>&lt;int&gt;</th><th scope=col>&lt;int&gt;</th><th scope=col>&lt;int&gt;</th><th scope=col>&lt;int&gt;</th><th scope=col>&lt;int&gt;</th><th scope=col>&lt;int&gt;</th><th scope=col>&lt;int&gt;</th></tr>\n",
       "</thead>\n",
       "<tbody>\n",
       "\t<tr><th scope=row>ENSMUSG00000102628</th><td>0</td><td>0</td><td>0</td><td>0</td><td>0</td><td>0</td><td>1</td><td>0</td><td>0</td><td>0</td><td>1</td><td>0</td><td>0</td><td>0</td><td>0</td><td>0</td></tr>\n",
       "\t<tr><th scope=row>ENSMUSG00000100595</th><td>0</td><td>0</td><td>0</td><td>0</td><td>0</td><td>0</td><td>0</td><td>0</td><td>0</td><td>0</td><td>0</td><td>0</td><td>0</td><td>0</td><td>0</td><td>1</td></tr>\n",
       "\t<tr><th scope=row>ENSMUSG00000097426</th><td>0</td><td>0</td><td>0</td><td>0</td><td>0</td><td>0</td><td>0</td><td>0</td><td>0</td><td>0</td><td>0</td><td>0</td><td>0</td><td>0</td><td>0</td><td>0</td></tr>\n",
       "\t<tr><th scope=row>ENSMUSG00000104478</th><td>0</td><td>0</td><td>0</td><td>0</td><td>0</td><td>0</td><td>0</td><td>0</td><td>0</td><td>0</td><td>0</td><td>0</td><td>0</td><td>0</td><td>0</td><td>0</td></tr>\n",
       "\t<tr><th scope=row>ENSMUSG00000104385</th><td>0</td><td>0</td><td>0</td><td>0</td><td>0</td><td>0</td><td>0</td><td>0</td><td>0</td><td>0</td><td>0</td><td>0</td><td>0</td><td>0</td><td>0</td><td>0</td></tr>\n",
       "\t<tr><th scope=row>ENSMUSG00000086053</th><td>0</td><td>0</td><td>0</td><td>0</td><td>1</td><td>0</td><td>0</td><td>0</td><td>0</td><td>2</td><td>0</td><td>1</td><td>2</td><td>1</td><td>0</td><td>0</td></tr>\n",
       "</tbody>\n",
       "</table>\n"
      ],
      "text/latex": [
       "A data.frame: 6 × 16\n",
       "\\begin{tabular}{r|llllllllllllllll}\n",
       "  & G1\\_1\\_1\\_4 & G1\\_1\\_1\\_5 & G1\\_1\\_1\\_6 & G1\\_1\\_1\\_7 & G1\\_1\\_2\\_4 & G1\\_1\\_2\\_5 & G1\\_1\\_2\\_6 & G2\\_2\\_6\\_5 & G2\\_2\\_6\\_6 & G2\\_2\\_6\\_7 & G2\\_2\\_6\\_8 & G2\\_2\\_7\\_10 & G2\\_2\\_7\\_11 & G2\\_2\\_7\\_7 & G2\\_2\\_7\\_8 & G2\\_2\\_7\\_9\\\\\n",
       "  & <int> & <int> & <int> & <int> & <int> & <int> & <int> & <int> & <int> & <int> & <int> & <int> & <int> & <int> & <int> & <int>\\\\\n",
       "\\hline\n",
       "\tENSMUSG00000102628 & 0 & 0 & 0 & 0 & 0 & 0 & 1 & 0 & 0 & 0 & 1 & 0 & 0 & 0 & 0 & 0\\\\\n",
       "\tENSMUSG00000100595 & 0 & 0 & 0 & 0 & 0 & 0 & 0 & 0 & 0 & 0 & 0 & 0 & 0 & 0 & 0 & 1\\\\\n",
       "\tENSMUSG00000097426 & 0 & 0 & 0 & 0 & 0 & 0 & 0 & 0 & 0 & 0 & 0 & 0 & 0 & 0 & 0 & 0\\\\\n",
       "\tENSMUSG00000104478 & 0 & 0 & 0 & 0 & 0 & 0 & 0 & 0 & 0 & 0 & 0 & 0 & 0 & 0 & 0 & 0\\\\\n",
       "\tENSMUSG00000104385 & 0 & 0 & 0 & 0 & 0 & 0 & 0 & 0 & 0 & 0 & 0 & 0 & 0 & 0 & 0 & 0\\\\\n",
       "\tENSMUSG00000086053 & 0 & 0 & 0 & 0 & 1 & 0 & 0 & 0 & 0 & 2 & 0 & 1 & 2 & 1 & 0 & 0\\\\\n",
       "\\end{tabular}\n"
      ],
      "text/markdown": [
       "\n",
       "A data.frame: 6 × 16\n",
       "\n",
       "| <!--/--> | G1_1_1_4 &lt;int&gt; | G1_1_1_5 &lt;int&gt; | G1_1_1_6 &lt;int&gt; | G1_1_1_7 &lt;int&gt; | G1_1_2_4 &lt;int&gt; | G1_1_2_5 &lt;int&gt; | G1_1_2_6 &lt;int&gt; | G2_2_6_5 &lt;int&gt; | G2_2_6_6 &lt;int&gt; | G2_2_6_7 &lt;int&gt; | G2_2_6_8 &lt;int&gt; | G2_2_7_10 &lt;int&gt; | G2_2_7_11 &lt;int&gt; | G2_2_7_7 &lt;int&gt; | G2_2_7_8 &lt;int&gt; | G2_2_7_9 &lt;int&gt; |\n",
       "|---|---|---|---|---|---|---|---|---|---|---|---|---|---|---|---|---|\n",
       "| ENSMUSG00000102628 | 0 | 0 | 0 | 0 | 0 | 0 | 1 | 0 | 0 | 0 | 1 | 0 | 0 | 0 | 0 | 0 |\n",
       "| ENSMUSG00000100595 | 0 | 0 | 0 | 0 | 0 | 0 | 0 | 0 | 0 | 0 | 0 | 0 | 0 | 0 | 0 | 1 |\n",
       "| ENSMUSG00000097426 | 0 | 0 | 0 | 0 | 0 | 0 | 0 | 0 | 0 | 0 | 0 | 0 | 0 | 0 | 0 | 0 |\n",
       "| ENSMUSG00000104478 | 0 | 0 | 0 | 0 | 0 | 0 | 0 | 0 | 0 | 0 | 0 | 0 | 0 | 0 | 0 | 0 |\n",
       "| ENSMUSG00000104385 | 0 | 0 | 0 | 0 | 0 | 0 | 0 | 0 | 0 | 0 | 0 | 0 | 0 | 0 | 0 | 0 |\n",
       "| ENSMUSG00000086053 | 0 | 0 | 0 | 0 | 1 | 0 | 0 | 0 | 0 | 2 | 0 | 1 | 2 | 1 | 0 | 0 |\n",
       "\n"
      ],
      "text/plain": [
       "                   G1_1_1_4 G1_1_1_5 G1_1_1_6 G1_1_1_7 G1_1_2_4 G1_1_2_5\n",
       "ENSMUSG00000102628 0        0        0        0        0        0       \n",
       "ENSMUSG00000100595 0        0        0        0        0        0       \n",
       "ENSMUSG00000097426 0        0        0        0        0        0       \n",
       "ENSMUSG00000104478 0        0        0        0        0        0       \n",
       "ENSMUSG00000104385 0        0        0        0        0        0       \n",
       "ENSMUSG00000086053 0        0        0        0        1        0       \n",
       "                   G1_1_2_6 G2_2_6_5 G2_2_6_6 G2_2_6_7 G2_2_6_8 G2_2_7_10\n",
       "ENSMUSG00000102628 1        0        0        0        1        0        \n",
       "ENSMUSG00000100595 0        0        0        0        0        0        \n",
       "ENSMUSG00000097426 0        0        0        0        0        0        \n",
       "ENSMUSG00000104478 0        0        0        0        0        0        \n",
       "ENSMUSG00000104385 0        0        0        0        0        0        \n",
       "ENSMUSG00000086053 0        0        0        2        0        1        \n",
       "                   G2_2_7_11 G2_2_7_7 G2_2_7_8 G2_2_7_9\n",
       "ENSMUSG00000102628 0         0        0        0       \n",
       "ENSMUSG00000100595 0         0        0        1       \n",
       "ENSMUSG00000097426 0         0        0        0       \n",
       "ENSMUSG00000104478 0         0        0        0       \n",
       "ENSMUSG00000104385 0         0        0        0       \n",
       "ENSMUSG00000086053 2         1        0        0       "
      ]
     },
     "metadata": {},
     "output_type": "display_data"
    }
   ],
   "source": [
    "counts <- read.delim(\"05_gene_counts/gene_counts.txt\", row.names = 1)\n",
    "head(counts)"
   ]
  },
  {
   "cell_type": "code",
   "execution_count": 13,
   "id": "692e7b44",
   "metadata": {},
   "outputs": [],
   "source": [
    "# Create DEG list\n",
    "d0 <- DGEList(counts)"
   ]
  },
  {
   "cell_type": "code",
   "execution_count": 14,
   "id": "f1f7909a",
   "metadata": {},
   "outputs": [
    {
     "data": {
      "text/html": [
       "<style>\n",
       ".list-inline {list-style: none; margin:0; padding: 0}\n",
       ".list-inline>li {display: inline-block}\n",
       ".list-inline>li:not(:last-child)::after {content: \"\\00b7\"; padding: 0 .5ex}\n",
       "</style>\n",
       "<ol class=list-inline><li>1902015</li><li>26</li></ol>\n"
      ],
      "text/latex": [
       "\\begin{enumerate*}\n",
       "\\item 1902015\n",
       "\\item 26\n",
       "\\end{enumerate*}\n"
      ],
      "text/markdown": [
       "1. 1902015\n",
       "2. 26\n",
       "\n",
       "\n"
      ],
      "text/plain": [
       "[1] 1902015      26"
      ]
     },
     "metadata": {},
     "output_type": "display_data"
    },
    {
     "data": {
      "text/html": [
       "<table class=\"dataframe\">\n",
       "<caption>A data.frame: 6 × 26</caption>\n",
       "<thead>\n",
       "\t<tr><th></th><th scope=col>seqid</th><th scope=col>source</th><th scope=col>type</th><th scope=col>start</th><th scope=col>end</th><th scope=col>score</th><th scope=col>strand</th><th scope=col>phase</th><th scope=col>gene_id</th><th scope=col>gene_version</th><th scope=col>⋯</th><th scope=col>transcript_source</th><th scope=col>transcript_biotype</th><th scope=col>tag</th><th scope=col>transcript_support_level</th><th scope=col>exon_number</th><th scope=col>exon_id</th><th scope=col>exon_version</th><th scope=col>ccds_id</th><th scope=col>protein_id</th><th scope=col>protein_version</th></tr>\n",
       "\t<tr><th></th><th scope=col>&lt;fct&gt;</th><th scope=col>&lt;fct&gt;</th><th scope=col>&lt;fct&gt;</th><th scope=col>&lt;int&gt;</th><th scope=col>&lt;int&gt;</th><th scope=col>&lt;dbl&gt;</th><th scope=col>&lt;chr&gt;</th><th scope=col>&lt;int&gt;</th><th scope=col>&lt;chr&gt;</th><th scope=col>&lt;chr&gt;</th><th scope=col>⋯</th><th scope=col>&lt;chr&gt;</th><th scope=col>&lt;chr&gt;</th><th scope=col>&lt;chr&gt;</th><th scope=col>&lt;chr&gt;</th><th scope=col>&lt;chr&gt;</th><th scope=col>&lt;chr&gt;</th><th scope=col>&lt;chr&gt;</th><th scope=col>&lt;chr&gt;</th><th scope=col>&lt;chr&gt;</th><th scope=col>&lt;chr&gt;</th></tr>\n",
       "</thead>\n",
       "<tbody>\n",
       "\t<tr><th scope=row>1</th><td>1</td><td>havana</td><td>gene      </td><td>150956201</td><td>150958296</td><td>NA</td><td>+</td><td>NA</td><td>ENSMUSG00000102628</td><td>2</td><td>⋯</td><td>NA    </td><td>NA                  </td><td>NA   </td><td>NA                                 </td><td>NA</td><td>NA                </td><td>NA</td><td>NA</td><td>NA</td><td>NA</td></tr>\n",
       "\t<tr><th scope=row>2</th><td>1</td><td>havana</td><td>transcript</td><td>150956201</td><td>150958296</td><td>NA</td><td>+</td><td>NA</td><td>ENSMUSG00000102628</td><td>2</td><td>⋯</td><td>havana</td><td>TEC                 </td><td>basic</td><td>NA (assigned to previous version 1)</td><td>NA</td><td>NA                </td><td>NA</td><td>NA</td><td>NA</td><td>NA</td></tr>\n",
       "\t<tr><th scope=row>3</th><td>1</td><td>havana</td><td>exon      </td><td>150956201</td><td>150958296</td><td>NA</td><td>+</td><td>NA</td><td>ENSMUSG00000102628</td><td>2</td><td>⋯</td><td>havana</td><td>TEC                 </td><td>basic</td><td>NA (assigned to previous version 1)</td><td>1 </td><td>ENSMUSE00001342333</td><td>2 </td><td>NA</td><td>NA</td><td>NA</td></tr>\n",
       "\t<tr><th scope=row>4</th><td>1</td><td>havana</td><td>gene      </td><td>150983666</td><td>150984611</td><td>NA</td><td>+</td><td>NA</td><td>ENSMUSG00000100595</td><td>2</td><td>⋯</td><td>NA    </td><td>NA                  </td><td>NA   </td><td>NA                                 </td><td>NA</td><td>NA                </td><td>NA</td><td>NA</td><td>NA</td><td>NA</td></tr>\n",
       "\t<tr><th scope=row>5</th><td>1</td><td>havana</td><td>transcript</td><td>150983666</td><td>150984611</td><td>NA</td><td>+</td><td>NA</td><td>ENSMUSG00000100595</td><td>2</td><td>⋯</td><td>havana</td><td>processed_pseudogene</td><td>basic</td><td>NA (assigned to previous version 1)</td><td>NA</td><td>NA                </td><td>NA</td><td>NA</td><td>NA</td><td>NA</td></tr>\n",
       "\t<tr><th scope=row>6</th><td>1</td><td>havana</td><td>exon      </td><td>150983666</td><td>150984611</td><td>NA</td><td>+</td><td>NA</td><td>ENSMUSG00000100595</td><td>2</td><td>⋯</td><td>havana</td><td>processed_pseudogene</td><td>basic</td><td>NA (assigned to previous version 1)</td><td>1 </td><td>ENSMUSE00001324949</td><td>2 </td><td>NA</td><td>NA</td><td>NA</td></tr>\n",
       "</tbody>\n",
       "</table>\n"
      ],
      "text/latex": [
       "A data.frame: 6 × 26\n",
       "\\begin{tabular}{r|lllllllllllllllllllll}\n",
       "  & seqid & source & type & start & end & score & strand & phase & gene\\_id & gene\\_version & ⋯ & transcript\\_source & transcript\\_biotype & tag & transcript\\_support\\_level & exon\\_number & exon\\_id & exon\\_version & ccds\\_id & protein\\_id & protein\\_version\\\\\n",
       "  & <fct> & <fct> & <fct> & <int> & <int> & <dbl> & <chr> & <int> & <chr> & <chr> & ⋯ & <chr> & <chr> & <chr> & <chr> & <chr> & <chr> & <chr> & <chr> & <chr> & <chr>\\\\\n",
       "\\hline\n",
       "\t1 & 1 & havana & gene       & 150956201 & 150958296 & NA & + & NA & ENSMUSG00000102628 & 2 & ⋯ & NA     & NA                   & NA    & NA                                  & NA & NA                 & NA & NA & NA & NA\\\\\n",
       "\t2 & 1 & havana & transcript & 150956201 & 150958296 & NA & + & NA & ENSMUSG00000102628 & 2 & ⋯ & havana & TEC                  & basic & NA (assigned to previous version 1) & NA & NA                 & NA & NA & NA & NA\\\\\n",
       "\t3 & 1 & havana & exon       & 150956201 & 150958296 & NA & + & NA & ENSMUSG00000102628 & 2 & ⋯ & havana & TEC                  & basic & NA (assigned to previous version 1) & 1  & ENSMUSE00001342333 & 2  & NA & NA & NA\\\\\n",
       "\t4 & 1 & havana & gene       & 150983666 & 150984611 & NA & + & NA & ENSMUSG00000100595 & 2 & ⋯ & NA     & NA                   & NA    & NA                                  & NA & NA                 & NA & NA & NA & NA\\\\\n",
       "\t5 & 1 & havana & transcript & 150983666 & 150984611 & NA & + & NA & ENSMUSG00000100595 & 2 & ⋯ & havana & processed\\_pseudogene & basic & NA (assigned to previous version 1) & NA & NA                 & NA & NA & NA & NA\\\\\n",
       "\t6 & 1 & havana & exon       & 150983666 & 150984611 & NA & + & NA & ENSMUSG00000100595 & 2 & ⋯ & havana & processed\\_pseudogene & basic & NA (assigned to previous version 1) & 1  & ENSMUSE00001324949 & 2  & NA & NA & NA\\\\\n",
       "\\end{tabular}\n"
      ],
      "text/markdown": [
       "\n",
       "A data.frame: 6 × 26\n",
       "\n",
       "| <!--/--> | seqid &lt;fct&gt; | source &lt;fct&gt; | type &lt;fct&gt; | start &lt;int&gt; | end &lt;int&gt; | score &lt;dbl&gt; | strand &lt;chr&gt; | phase &lt;int&gt; | gene_id &lt;chr&gt; | gene_version &lt;chr&gt; | ⋯ ⋯ | transcript_source &lt;chr&gt; | transcript_biotype &lt;chr&gt; | tag &lt;chr&gt; | transcript_support_level &lt;chr&gt; | exon_number &lt;chr&gt; | exon_id &lt;chr&gt; | exon_version &lt;chr&gt; | ccds_id &lt;chr&gt; | protein_id &lt;chr&gt; | protein_version &lt;chr&gt; |\n",
       "|---|---|---|---|---|---|---|---|---|---|---|---|---|---|---|---|---|---|---|---|---|---|\n",
       "| 1 | 1 | havana | gene       | 150956201 | 150958296 | NA | + | NA | ENSMUSG00000102628 | 2 | ⋯ | NA     | NA                   | NA    | NA                                  | NA | NA                 | NA | NA | NA | NA |\n",
       "| 2 | 1 | havana | transcript | 150956201 | 150958296 | NA | + | NA | ENSMUSG00000102628 | 2 | ⋯ | havana | TEC                  | basic | NA (assigned to previous version 1) | NA | NA                 | NA | NA | NA | NA |\n",
       "| 3 | 1 | havana | exon       | 150956201 | 150958296 | NA | + | NA | ENSMUSG00000102628 | 2 | ⋯ | havana | TEC                  | basic | NA (assigned to previous version 1) | 1  | ENSMUSE00001342333 | 2  | NA | NA | NA |\n",
       "| 4 | 1 | havana | gene       | 150983666 | 150984611 | NA | + | NA | ENSMUSG00000100595 | 2 | ⋯ | NA     | NA                   | NA    | NA                                  | NA | NA                 | NA | NA | NA | NA |\n",
       "| 5 | 1 | havana | transcript | 150983666 | 150984611 | NA | + | NA | ENSMUSG00000100595 | 2 | ⋯ | havana | processed_pseudogene | basic | NA (assigned to previous version 1) | NA | NA                 | NA | NA | NA | NA |\n",
       "| 6 | 1 | havana | exon       | 150983666 | 150984611 | NA | + | NA | ENSMUSG00000100595 | 2 | ⋯ | havana | processed_pseudogene | basic | NA (assigned to previous version 1) | 1  | ENSMUSE00001324949 | 2  | NA | NA | NA |\n",
       "\n"
      ],
      "text/plain": [
       "  seqid source type       start     end       score strand phase\n",
       "1 1     havana gene       150956201 150958296 NA    +      NA   \n",
       "2 1     havana transcript 150956201 150958296 NA    +      NA   \n",
       "3 1     havana exon       150956201 150958296 NA    +      NA   \n",
       "4 1     havana gene       150983666 150984611 NA    +      NA   \n",
       "5 1     havana transcript 150983666 150984611 NA    +      NA   \n",
       "6 1     havana exon       150983666 150984611 NA    +      NA   \n",
       "  gene_id            gene_version ⋯ transcript_source transcript_biotype  \n",
       "1 ENSMUSG00000102628 2            ⋯ NA                NA                  \n",
       "2 ENSMUSG00000102628 2            ⋯ havana            TEC                 \n",
       "3 ENSMUSG00000102628 2            ⋯ havana            TEC                 \n",
       "4 ENSMUSG00000100595 2            ⋯ NA                NA                  \n",
       "5 ENSMUSG00000100595 2            ⋯ havana            processed_pseudogene\n",
       "6 ENSMUSG00000100595 2            ⋯ havana            processed_pseudogene\n",
       "  tag   transcript_support_level            exon_number exon_id           \n",
       "1 NA    NA                                  NA          NA                \n",
       "2 basic NA (assigned to previous version 1) NA          NA                \n",
       "3 basic NA (assigned to previous version 1) 1           ENSMUSE00001342333\n",
       "4 NA    NA                                  NA          NA                \n",
       "5 basic NA (assigned to previous version 1) NA          NA                \n",
       "6 basic NA (assigned to previous version 1) 1           ENSMUSE00001324949\n",
       "  exon_version ccds_id protein_id protein_version\n",
       "1 NA           NA      NA         NA             \n",
       "2 NA           NA      NA         NA             \n",
       "3 2            NA      NA         NA             \n",
       "4 NA           NA      NA         NA             \n",
       "5 NA           NA      NA         NA             \n",
       "6 2            NA      NA         NA             "
      ]
     },
     "metadata": {},
     "output_type": "display_data"
    }
   ],
   "source": [
    "# Read in annotation\n",
    "gtf_file <- \"01_raw_data/mmEnsemble107/Mus_musculus_Ensemble_107_new.gtf.gz\"\n",
    "anno <- readGFF(gtf_file)\n",
    "\n",
    "# Display dimensions of annotation\n",
    "dim(anno)\n",
    "\n",
    "# View annotation\n",
    "head(anno)"
   ]
  },
  {
   "cell_type": "code",
   "execution_count": 15,
   "id": "9410ab81-5638-4b79-bacd-5b9109ea0a50",
   "metadata": {},
   "outputs": [
    {
     "name": "stdout",
     "output_type": "stream",
     "text": [
      "          treatment treatment_group dam pup    sex\n",
      "G1_1_1_4    Control               1   1   4 Female\n",
      "G1_1_1_5    Control               1   1   5 Female\n",
      "G1_1_1_6    Control               1   1   6   Male\n",
      "G1_1_1_7    Control               1   1   7   Male\n",
      "G1_1_2_4    Control               1   2   4   Male\n",
      "G1_1_2_5    Control               1   2   5 Female\n",
      "G1_1_2_6    Control               1   2   6 Female\n",
      "G2_2_6_5   FAexcess               2   6   5 Female\n",
      "G2_2_6_6   FAexcess               2   6   6 Female\n",
      "G2_2_6_7   FAexcess               2   6   7 Female\n",
      "G2_2_6_8   FAexcess               2   6   8 Female\n",
      "G2_2_7_10  FAexcess               2   7  10 Female\n",
      "G2_2_7_11  FAexcess               2   7  11   Male\n",
      "G2_2_7_7   FAexcess               2   7   7   Male\n",
      "G2_2_7_8   FAexcess               2   7   8   Male\n",
      "G2_2_7_9   FAexcess               2   7   9 Female\n"
     ]
    }
   ],
   "source": [
    "# Derive experiment metadata from sample names\n",
    "sample_names <- colnames(counts)\n",
    "\n",
    "# Derive experiment metadata\n",
    "metadata <- as.data.frame(do.call(rbind, strsplit(sample_names, '[_]', perl=TRUE)))\n",
    "colnames(metadata) <- c('treatment', 'treatment_group', 'dam', 'pup')\n",
    "\n",
    "# Convert treatment levels\n",
    "metadata <- metadata %>%\n",
    "  mutate(treatment = ifelse(treatment == \"G1\", \"Control\", \n",
    "                            ifelse(treatment == \"G2\", \"FAexcess\", treatment)))\n",
    "\n",
    "# Set row names based on original sample names\n",
    "rownames(metadata) <- sample_names\n",
    "\n",
    "# Add sample sex\n",
    "metadata$sex <- c(\"Female\", \"Female\", \"Male\", \"Male\", \"Male\", \"Female\", \"Female\", \"Female\", \"Female\", \"Female\", \"Female\", \"Female\", \"Male\", \"Male\", \"Male\", \"Female\")\n",
    "\n",
    "# Print the resulting metadata\n",
    "print(metadata)"
   ]
  },
  {
   "cell_type": "code",
   "execution_count": 16,
   "id": "2b1531b2",
   "metadata": {},
   "outputs": [
    {
     "data": {
      "text/plain": [
       "\n",
       " Control FAexcess \n",
       "       7        9 "
      ]
     },
     "metadata": {},
     "output_type": "display_data"
    }
   ],
   "source": [
    "# Create groups\n",
    "metadata$group <- interaction(metadata$treatment)\n",
    "table(metadata$group)"
   ]
  },
  {
   "cell_type": "markdown",
   "id": "77316cd2",
   "metadata": {},
   "source": [
    "## Preprocess and Normalize"
   ]
  },
  {
   "cell_type": "code",
   "execution_count": 17,
   "id": "285aef59",
   "metadata": {},
   "outputs": [
    {
     "data": {
      "text/html": [
       "<table class=\"dataframe\">\n",
       "<caption>A data.frame: 16 × 3</caption>\n",
       "<thead>\n",
       "\t<tr><th></th><th scope=col>group</th><th scope=col>lib.size</th><th scope=col>norm.factors</th></tr>\n",
       "\t<tr><th></th><th scope=col>&lt;fct&gt;</th><th scope=col>&lt;dbl&gt;</th><th scope=col>&lt;dbl&gt;</th></tr>\n",
       "</thead>\n",
       "<tbody>\n",
       "\t<tr><th scope=row>G1_1_1_4</th><td>1</td><td>12300720</td><td>0.9936017</td></tr>\n",
       "\t<tr><th scope=row>G1_1_1_5</th><td>1</td><td>10909151</td><td>0.9836129</td></tr>\n",
       "\t<tr><th scope=row>G1_1_1_6</th><td>1</td><td>13508769</td><td>0.9758412</td></tr>\n",
       "\t<tr><th scope=row>G1_1_1_7</th><td>1</td><td>15557657</td><td>0.9423234</td></tr>\n",
       "\t<tr><th scope=row>G1_1_2_4</th><td>1</td><td> 9354623</td><td>0.9903152</td></tr>\n",
       "\t<tr><th scope=row>G1_1_2_5</th><td>1</td><td>15495778</td><td>0.8499332</td></tr>\n",
       "\t<tr><th scope=row>G1_1_2_6</th><td>1</td><td>13763281</td><td>0.9829010</td></tr>\n",
       "\t<tr><th scope=row>G2_2_6_5</th><td>1</td><td>13304554</td><td>1.0070883</td></tr>\n",
       "\t<tr><th scope=row>G2_2_6_6</th><td>1</td><td> 9568818</td><td>1.0721004</td></tr>\n",
       "\t<tr><th scope=row>G2_2_6_7</th><td>1</td><td>12258238</td><td>1.0625026</td></tr>\n",
       "\t<tr><th scope=row>G2_2_6_8</th><td>1</td><td>13925825</td><td>1.0586937</td></tr>\n",
       "\t<tr><th scope=row>G2_2_7_10</th><td>1</td><td>10819156</td><td>1.0504731</td></tr>\n",
       "\t<tr><th scope=row>G2_2_7_11</th><td>1</td><td> 9230822</td><td>1.0335742</td></tr>\n",
       "\t<tr><th scope=row>G2_2_7_7</th><td>1</td><td>13526719</td><td>1.0022769</td></tr>\n",
       "\t<tr><th scope=row>G2_2_7_8</th><td>1</td><td> 9115576</td><td>0.9784212</td></tr>\n",
       "\t<tr><th scope=row>G2_2_7_9</th><td>1</td><td>10679618</td><td>1.0400946</td></tr>\n",
       "</tbody>\n",
       "</table>\n"
      ],
      "text/latex": [
       "A data.frame: 16 × 3\n",
       "\\begin{tabular}{r|lll}\n",
       "  & group & lib.size & norm.factors\\\\\n",
       "  & <fct> & <dbl> & <dbl>\\\\\n",
       "\\hline\n",
       "\tG1\\_1\\_1\\_4 & 1 & 12300720 & 0.9936017\\\\\n",
       "\tG1\\_1\\_1\\_5 & 1 & 10909151 & 0.9836129\\\\\n",
       "\tG1\\_1\\_1\\_6 & 1 & 13508769 & 0.9758412\\\\\n",
       "\tG1\\_1\\_1\\_7 & 1 & 15557657 & 0.9423234\\\\\n",
       "\tG1\\_1\\_2\\_4 & 1 &  9354623 & 0.9903152\\\\\n",
       "\tG1\\_1\\_2\\_5 & 1 & 15495778 & 0.8499332\\\\\n",
       "\tG1\\_1\\_2\\_6 & 1 & 13763281 & 0.9829010\\\\\n",
       "\tG2\\_2\\_6\\_5 & 1 & 13304554 & 1.0070883\\\\\n",
       "\tG2\\_2\\_6\\_6 & 1 &  9568818 & 1.0721004\\\\\n",
       "\tG2\\_2\\_6\\_7 & 1 & 12258238 & 1.0625026\\\\\n",
       "\tG2\\_2\\_6\\_8 & 1 & 13925825 & 1.0586937\\\\\n",
       "\tG2\\_2\\_7\\_10 & 1 & 10819156 & 1.0504731\\\\\n",
       "\tG2\\_2\\_7\\_11 & 1 &  9230822 & 1.0335742\\\\\n",
       "\tG2\\_2\\_7\\_7 & 1 & 13526719 & 1.0022769\\\\\n",
       "\tG2\\_2\\_7\\_8 & 1 &  9115576 & 0.9784212\\\\\n",
       "\tG2\\_2\\_7\\_9 & 1 & 10679618 & 1.0400946\\\\\n",
       "\\end{tabular}\n"
      ],
      "text/markdown": [
       "\n",
       "A data.frame: 16 × 3\n",
       "\n",
       "| <!--/--> | group &lt;fct&gt; | lib.size &lt;dbl&gt; | norm.factors &lt;dbl&gt; |\n",
       "|---|---|---|---|\n",
       "| G1_1_1_4 | 1 | 12300720 | 0.9936017 |\n",
       "| G1_1_1_5 | 1 | 10909151 | 0.9836129 |\n",
       "| G1_1_1_6 | 1 | 13508769 | 0.9758412 |\n",
       "| G1_1_1_7 | 1 | 15557657 | 0.9423234 |\n",
       "| G1_1_2_4 | 1 |  9354623 | 0.9903152 |\n",
       "| G1_1_2_5 | 1 | 15495778 | 0.8499332 |\n",
       "| G1_1_2_6 | 1 | 13763281 | 0.9829010 |\n",
       "| G2_2_6_5 | 1 | 13304554 | 1.0070883 |\n",
       "| G2_2_6_6 | 1 |  9568818 | 1.0721004 |\n",
       "| G2_2_6_7 | 1 | 12258238 | 1.0625026 |\n",
       "| G2_2_6_8 | 1 | 13925825 | 1.0586937 |\n",
       "| G2_2_7_10 | 1 | 10819156 | 1.0504731 |\n",
       "| G2_2_7_11 | 1 |  9230822 | 1.0335742 |\n",
       "| G2_2_7_7 | 1 | 13526719 | 1.0022769 |\n",
       "| G2_2_7_8 | 1 |  9115576 | 0.9784212 |\n",
       "| G2_2_7_9 | 1 | 10679618 | 1.0400946 |\n",
       "\n"
      ],
      "text/plain": [
       "          group lib.size norm.factors\n",
       "G1_1_1_4  1     12300720 0.9936017   \n",
       "G1_1_1_5  1     10909151 0.9836129   \n",
       "G1_1_1_6  1     13508769 0.9758412   \n",
       "G1_1_1_7  1     15557657 0.9423234   \n",
       "G1_1_2_4  1      9354623 0.9903152   \n",
       "G1_1_2_5  1     15495778 0.8499332   \n",
       "G1_1_2_6  1     13763281 0.9829010   \n",
       "G2_2_6_5  1     13304554 1.0070883   \n",
       "G2_2_6_6  1      9568818 1.0721004   \n",
       "G2_2_6_7  1     12258238 1.0625026   \n",
       "G2_2_6_8  1     13925825 1.0586937   \n",
       "G2_2_7_10 1     10819156 1.0504731   \n",
       "G2_2_7_11 1      9230822 1.0335742   \n",
       "G2_2_7_7  1     13526719 1.0022769   \n",
       "G2_2_7_8  1      9115576 0.9784212   \n",
       "G2_2_7_9  1     10679618 1.0400946   "
      ]
     },
     "metadata": {},
     "output_type": "display_data"
    }
   ],
   "source": [
    "d0 <- calcNormFactors(d0)\n",
    "d0$samples"
   ]
  },
  {
   "cell_type": "markdown",
   "id": "321e22e0",
   "metadata": {},
   "source": [
    "## Filter Genes"
   ]
  },
  {
   "cell_type": "code",
   "execution_count": 18,
   "id": "2ead5157",
   "metadata": {},
   "outputs": [
    {
     "data": {
      "text/html": [
       "<table class=\"dataframe\">\n",
       "<caption>A matrix: 6 × 3 of type dbl</caption>\n",
       "<thead>\n",
       "\t<tr><th></th><th scope=col>groupControl</th><th scope=col>groupFAexcess</th><th scope=col>sexMale</th></tr>\n",
       "</thead>\n",
       "<tbody>\n",
       "\t<tr><th scope=row>1</th><td>1</td><td>0</td><td>0</td></tr>\n",
       "\t<tr><th scope=row>2</th><td>1</td><td>0</td><td>0</td></tr>\n",
       "\t<tr><th scope=row>3</th><td>1</td><td>0</td><td>1</td></tr>\n",
       "\t<tr><th scope=row>4</th><td>1</td><td>0</td><td>1</td></tr>\n",
       "\t<tr><th scope=row>5</th><td>1</td><td>0</td><td>1</td></tr>\n",
       "\t<tr><th scope=row>6</th><td>1</td><td>0</td><td>0</td></tr>\n",
       "</tbody>\n",
       "</table>\n"
      ],
      "text/latex": [
       "A matrix: 6 × 3 of type dbl\n",
       "\\begin{tabular}{r|lll}\n",
       "  & groupControl & groupFAexcess & sexMale\\\\\n",
       "\\hline\n",
       "\t1 & 1 & 0 & 0\\\\\n",
       "\t2 & 1 & 0 & 0\\\\\n",
       "\t3 & 1 & 0 & 1\\\\\n",
       "\t4 & 1 & 0 & 1\\\\\n",
       "\t5 & 1 & 0 & 1\\\\\n",
       "\t6 & 1 & 0 & 0\\\\\n",
       "\\end{tabular}\n"
      ],
      "text/markdown": [
       "\n",
       "A matrix: 6 × 3 of type dbl\n",
       "\n",
       "| <!--/--> | groupControl | groupFAexcess | sexMale |\n",
       "|---|---|---|---|\n",
       "| 1 | 1 | 0 | 0 |\n",
       "| 2 | 1 | 0 | 0 |\n",
       "| 3 | 1 | 0 | 1 |\n",
       "| 4 | 1 | 0 | 1 |\n",
       "| 5 | 1 | 0 | 1 |\n",
       "| 6 | 1 | 0 | 0 |\n",
       "\n"
      ],
      "text/plain": [
       "  groupControl groupFAexcess sexMale\n",
       "1 1            0             0      \n",
       "2 1            0             0      \n",
       "3 1            0             1      \n",
       "4 1            0             1      \n",
       "5 1            0             1      \n",
       "6 1            0             0      "
      ]
     },
     "metadata": {},
     "output_type": "display_data"
    }
   ],
   "source": [
    "# Create design matrix\n",
    "group <- metadata$group\n",
    "sex <- as.factor(metadata$sex)\n",
    "\n",
    "mm <- model.matrix(~0 + group + sex)\n",
    "head(mm)"
   ]
  },
  {
   "cell_type": "code",
   "execution_count": 19,
   "id": "122990aa",
   "metadata": {},
   "outputs": [
    {
     "data": {
      "text/html": [
       "17279"
      ],
      "text/latex": [
       "17279"
      ],
      "text/markdown": [
       "17279"
      ],
      "text/plain": [
       "[1] 17279"
      ]
     },
     "metadata": {},
     "output_type": "display_data"
    }
   ],
   "source": [
    "# Filter genes by expression\n",
    "keep <- filterByExpr(d0, mm)\n",
    "\n",
    "# View number of genes retained\n",
    "sum(keep)"
   ]
  },
  {
   "cell_type": "code",
   "execution_count": 20,
   "id": "f8f778d9",
   "metadata": {},
   "outputs": [],
   "source": [
    "d <- d0[keep,]"
   ]
  },
  {
   "cell_type": "code",
   "execution_count": 21,
   "id": "a9268c15",
   "metadata": {},
   "outputs": [
    {
     "data": {
      "image/png": "[encoded data removed]",
      "text/plain": [
       "plot without title"
      ]
     },
     "metadata": {
      "image/png": {
       "height": 420,
       "width": 420
      }
     },
     "output_type": "display_data"
    }
   ],
   "source": [
    "# Visualize data with multidimensional scaling plot\n",
    "plotMDS(d, col = as.numeric(metadata$group), cex=1)"
   ]
  },
  {
   "cell_type": "code",
   "execution_count": 22,
   "id": "4f31f4bf",
   "metadata": {},
   "outputs": [],
   "source": [
    "# Obtain log-transformed normalized expression data\n",
    "logcpm <- cpm(d, prior.count=2, log=TRUE)\n",
    "write.table(logcpm,\"05_gene_counts/normalized_counts.txt\",sep=\"\\t\",quote=F)"
   ]
  },
  {
   "cell_type": "markdown",
   "id": "b0a4bf6e",
   "metadata": {},
   "source": [
    "## Voom Transform and Calculate Variance Weights"
   ]
  },
  {
   "cell_type": "code",
   "execution_count": 23,
   "id": "734c8109",
   "metadata": {},
   "outputs": [
    {
     "data": {
      "image/png": "[encoded data removed]",
      "text/plain": [
       "Plot with title “voom: Mean-variance trend”"
      ]
     },
     "metadata": {
      "image/png": {
       "height": 420,
       "width": 420
      }
     },
     "output_type": "display_data"
    }
   ],
   "source": [
    "# Voom transformation\n",
    "y <- voom(d, mm, plot = T)"
   ]
  },
  {
   "cell_type": "markdown",
   "id": "09dfec02",
   "metadata": {},
   "source": [
    "## Fit Linear Model in Limma"
   ]
  },
  {
   "cell_type": "code",
   "execution_count": 24,
   "id": "96960423",
   "metadata": {},
   "outputs": [
    {
     "data": {
      "text/html": [
       "<table class=\"dataframe\">\n",
       "<caption>A matrix: 6 × 3 of type dbl</caption>\n",
       "<thead>\n",
       "\t<tr><th></th><th scope=col>groupControl</th><th scope=col>groupFAexcess</th><th scope=col>sexMale</th></tr>\n",
       "</thead>\n",
       "<tbody>\n",
       "\t<tr><th scope=row>ENSMUSG00000051285</th><td> 5.7397673</td><td> 5.7689473</td><td> 0.0009298765</td></tr>\n",
       "\t<tr><th scope=row>ENSMUSG00000103509</th><td>-1.2781395</td><td>-0.5527627</td><td>-0.4714995013</td></tr>\n",
       "\t<tr><th scope=row>ENSMUSG00000097797</th><td> 0.7523235</td><td> 0.3128296</td><td>-0.0396430730</td></tr>\n",
       "\t<tr><th scope=row>ENSMUSG00000026312</th><td> 3.7580010</td><td> 3.9046875</td><td>-0.2368618389</td></tr>\n",
       "\t<tr><th scope=row>ENSMUSG00000039748</th><td> 0.8716317</td><td> 1.0144287</td><td>-0.0144202819</td></tr>\n",
       "\t<tr><th scope=row>ENSMUSG00000057363</th><td> 5.0764878</td><td> 4.5203876</td><td>-0.1853905496</td></tr>\n",
       "</tbody>\n",
       "</table>\n"
      ],
      "text/latex": [
       "A matrix: 6 × 3 of type dbl\n",
       "\\begin{tabular}{r|lll}\n",
       "  & groupControl & groupFAexcess & sexMale\\\\\n",
       "\\hline\n",
       "\tENSMUSG00000051285 &  5.7397673 &  5.7689473 &  0.0009298765\\\\\n",
       "\tENSMUSG00000103509 & -1.2781395 & -0.5527627 & -0.4714995013\\\\\n",
       "\tENSMUSG00000097797 &  0.7523235 &  0.3128296 & -0.0396430730\\\\\n",
       "\tENSMUSG00000026312 &  3.7580010 &  3.9046875 & -0.2368618389\\\\\n",
       "\tENSMUSG00000039748 &  0.8716317 &  1.0144287 & -0.0144202819\\\\\n",
       "\tENSMUSG00000057363 &  5.0764878 &  4.5203876 & -0.1853905496\\\\\n",
       "\\end{tabular}\n"
      ],
      "text/markdown": [
       "\n",
       "A matrix: 6 × 3 of type dbl\n",
       "\n",
       "| <!--/--> | groupControl | groupFAexcess | sexMale |\n",
       "|---|---|---|---|\n",
       "| ENSMUSG00000051285 |  5.7397673 |  5.7689473 |  0.0009298765 |\n",
       "| ENSMUSG00000103509 | -1.2781395 | -0.5527627 | -0.4714995013 |\n",
       "| ENSMUSG00000097797 |  0.7523235 |  0.3128296 | -0.0396430730 |\n",
       "| ENSMUSG00000026312 |  3.7580010 |  3.9046875 | -0.2368618389 |\n",
       "| ENSMUSG00000039748 |  0.8716317 |  1.0144287 | -0.0144202819 |\n",
       "| ENSMUSG00000057363 |  5.0764878 |  4.5203876 | -0.1853905496 |\n",
       "\n"
      ],
      "text/plain": [
       "                   groupControl groupFAexcess sexMale      \n",
       "ENSMUSG00000051285  5.7397673    5.7689473     0.0009298765\n",
       "ENSMUSG00000103509 -1.2781395   -0.5527627    -0.4714995013\n",
       "ENSMUSG00000097797  0.7523235    0.3128296    -0.0396430730\n",
       "ENSMUSG00000026312  3.7580010    3.9046875    -0.2368618389\n",
       "ENSMUSG00000039748  0.8716317    1.0144287    -0.0144202819\n",
       "ENSMUSG00000057363  5.0764878    4.5203876    -0.1853905496"
      ]
     },
     "metadata": {},
     "output_type": "display_data"
    }
   ],
   "source": [
    "# Fit linear model\n",
    "fit <- lmFit(y, mm)\n",
    "\n",
    "head(coef(fit))"
   ]
  },
  {
   "cell_type": "markdown",
   "id": "fe802003-7d9b-4e4b-814e-b7fda79c8373",
   "metadata": {},
   "source": [
    "## DEG Analysis"
   ]
  },
  {
   "cell_type": "code",
   "execution_count": 25,
   "id": "1cd86f3a",
   "metadata": {},
   "outputs": [
    {
     "name": "stdout",
     "output_type": "stream",
     "text": [
      "               Contrasts\n",
      "Levels          groupFAexcess - groupControl\n",
      "  groupControl                            -1\n",
      "  groupFAexcess                            1\n",
      "  sexMale                                  0\n"
     ]
    },
    {
     "data": {
      "text/html": [
       "647"
      ],
      "text/latex": [
       "647"
      ],
      "text/markdown": [
       "647"
      ],
      "text/plain": [
       "[1] 647"
      ]
     },
     "metadata": {},
     "output_type": "display_data"
    },
    {
     "data": {
      "text/html": [
       "<table class=\"dataframe\">\n",
       "<caption>A data.frame: 50 × 6</caption>\n",
       "<thead>\n",
       "\t<tr><th></th><th scope=col>logFC</th><th scope=col>AveExpr</th><th scope=col>t</th><th scope=col>P.Value</th><th scope=col>adj.P.Val</th><th scope=col>B</th></tr>\n",
       "\t<tr><th></th><th scope=col>&lt;dbl&gt;</th><th scope=col>&lt;dbl&gt;</th><th scope=col>&lt;dbl&gt;</th><th scope=col>&lt;dbl&gt;</th><th scope=col>&lt;dbl&gt;</th><th scope=col>&lt;dbl&gt;</th></tr>\n",
       "</thead>\n",
       "<tbody>\n",
       "\t<tr><th scope=row>ENSMUSG00000058886</th><td>-0.5787290</td><td> 7.0085623</td><td>-7.111117</td><td>1.095052e-06</td><td>0.01519353</td><td>5.740680</td></tr>\n",
       "\t<tr><th scope=row>ENSMUSG00000030403</th><td> 0.5813029</td><td> 5.1052222</td><td> 6.668602</td><td>2.610049e-06</td><td>0.01519353</td><td>4.899903</td></tr>\n",
       "\t<tr><th scope=row>ENSMUSG00002075524</th><td>-2.7873593</td><td> 0.1724406</td><td>-6.453413</td><td>4.020050e-06</td><td>0.01519353</td><td>2.856818</td></tr>\n",
       "\t<tr><th scope=row>ENSMUSG00000019763</th><td> 0.7084379</td><td> 3.6195849</td><td> 6.396114</td><td>4.514747e-06</td><td>0.01519353</td><td>4.264275</td></tr>\n",
       "\t<tr><th scope=row>ENSMUSG00000043065</th><td> 1.0115498</td><td> 2.6927432</td><td> 6.365215</td><td>4.807195e-06</td><td>0.01519353</td><td>4.012693</td></tr>\n",
       "\t<tr><th scope=row>ENSMUSG00000027778</th><td> 0.9707882</td><td> 2.4679749</td><td> 6.319534</td><td>5.275837e-06</td><td>0.01519353</td><td>3.872009</td></tr>\n",
       "\t<tr><th scope=row>ENSMUSG00000020267</th><td>-0.6868905</td><td> 9.7193142</td><td>-6.141215</td><td>7.605624e-06</td><td>0.01578489</td><td>3.899605</td></tr>\n",
       "\t<tr><th scope=row>ENSMUSG00000118537</th><td>-0.9412231</td><td> 3.6379626</td><td>-6.097171</td><td>8.330023e-06</td><td>0.01578489</td><td>3.747400</td></tr>\n",
       "\t<tr><th scope=row>ENSMUSG00000028890</th><td>-0.5463247</td><td> 6.6450933</td><td>-6.090276</td><td>8.449693e-06</td><td>0.01578489</td><td>3.798894</td></tr>\n",
       "\t<tr><th scope=row>ENSMUSG00000044534</th><td> 3.1506216</td><td>-1.1354450</td><td> 6.027553</td><td>9.623229e-06</td><td>0.01578489</td><td>1.000080</td></tr>\n",
       "\t<tr><th scope=row>ENSMUSG00000003865</th><td> 1.0607621</td><td> 3.1899634</td><td> 5.970143</td><td>1.084447e-05</td><td>0.01578489</td><td>3.422089</td></tr>\n",
       "\t<tr><th scope=row>ENSMUSG00000027309</th><td> 0.5764886</td><td> 6.1829592</td><td> 5.962172</td><td>1.102622e-05</td><td>0.01578489</td><td>3.545438</td></tr>\n",
       "\t<tr><th scope=row>ENSMUSG00000022820</th><td>-0.6503507</td><td> 7.0560321</td><td>-5.890716</td><td>1.280250e-05</td><td>0.01578489</td><td>3.401449</td></tr>\n",
       "\t<tr><th scope=row>ENSMUSG00000032705</th><td> 0.4958282</td><td> 5.0410920</td><td> 5.859063</td><td>1.368099e-05</td><td>0.01578489</td><td>3.341995</td></tr>\n",
       "\t<tr><th scope=row>ENSMUSG00000072694</th><td>-0.6393636</td><td> 7.2947047</td><td>-5.839942</td><td>1.424152e-05</td><td>0.01578489</td><td>3.299433</td></tr>\n",
       "\t<tr><th scope=row>ENSMUSG00000022769</th><td> 0.6894729</td><td> 3.0899527</td><td> 5.827577</td><td>1.461649e-05</td><td>0.01578489</td><td>3.140131</td></tr>\n",
       "\t<tr><th scope=row>ENSMUSG00000042043</th><td>-0.6192756</td><td> 8.2173799</td><td>-5.789456</td><td>1.583774e-05</td><td>0.01583357</td><td>3.198023</td></tr>\n",
       "\t<tr><th scope=row>ENSMUSG00000031700</th><td> 0.6492395</td><td> 4.7003490</td><td> 5.770194</td><td>1.649425e-05</td><td>0.01583357</td><td>3.163566</td></tr>\n",
       "\t<tr><th scope=row>ENSMUSG00000057841</th><td>-0.7102065</td><td>10.4054509</td><td>-5.640571</td><td>2.170414e-05</td><td>0.01708118</td><td>2.898383</td></tr>\n",
       "\t<tr><th scope=row>ENSMUSG00000025986</th><td> 0.5786158</td><td> 5.7662883</td><td> 5.629157</td><td>2.223730e-05</td><td>0.01708118</td><td>2.877733</td></tr>\n",
       "\t<tr><th scope=row>ENSMUSG00000085028</th><td> 1.2922936</td><td> 0.9664698</td><td> 5.597654</td><td>2.377967e-05</td><td>0.01708118</td><td>1.964997</td></tr>\n",
       "\t<tr><th scope=row>ENSMUSG00000025823</th><td> 0.5929876</td><td> 5.2536494</td><td> 5.581373</td><td>2.461939e-05</td><td>0.01708118</td><td>2.785315</td></tr>\n",
       "\t<tr><th scope=row>ENSMUSG00000045519</th><td>-0.8065172</td><td> 4.8550325</td><td>-5.580984</td><td>2.463981e-05</td><td>0.01708118</td><td>2.786501</td></tr>\n",
       "\t<tr><th scope=row>ENSMUSG00000000295</th><td>-0.7434656</td><td> 6.0073629</td><td>-5.565035</td><td>2.549262e-05</td><td>0.01708118</td><td>2.744937</td></tr>\n",
       "\t<tr><th scope=row>ENSMUSG00000093674</th><td>-0.7025168</td><td>11.1560560</td><td>-5.551210</td><td>2.625637e-05</td><td>0.01708118</td><td>2.717141</td></tr>\n",
       "\t<tr><th scope=row>ENSMUSG00000002014</th><td>-0.5989121</td><td> 7.0441948</td><td>-5.549364</td><td>2.636008e-05</td><td>0.01708118</td><td>2.709513</td></tr>\n",
       "\t<tr><th scope=row>ENSMUSG00000041912</th><td> 0.7128010</td><td> 5.3787515</td><td> 5.512896</td><td>2.849793e-05</td><td>0.01708118</td><td>2.645547</td></tr>\n",
       "\t<tr><th scope=row>ENSMUSG00000030226</th><td>-0.4431190</td><td> 7.5091674</td><td>-5.509946</td><td>2.867850e-05</td><td>0.01708118</td><td>2.628571</td></tr>\n",
       "\t<tr><th scope=row>ENSMUSG00000064061</th><td> 0.5024429</td><td> 6.5991506</td><td> 5.495052</td><td>2.960800e-05</td><td>0.01708118</td><td>2.598916</td></tr>\n",
       "\t<tr><th scope=row>ENSMUSG00000073609</th><td> 0.8616452</td><td> 2.9030456</td><td> 5.486686</td><td>3.014358e-05</td><td>0.01708118</td><td>2.484396</td></tr>\n",
       "\t<tr><th scope=row>ENSMUSG00000010554</th><td> 0.6528394</td><td> 3.7685369</td><td> 5.447021</td><td>3.282146e-05</td><td>0.01708118</td><td>2.497166</td></tr>\n",
       "\t<tr><th scope=row>ENSMUSG00000027009</th><td> 1.0299850</td><td> 2.1201713</td><td> 5.415886</td><td>3.509345e-05</td><td>0.01708118</td><td>2.184899</td></tr>\n",
       "\t<tr><th scope=row>ENSMUSG00000071528</th><td>-0.7713754</td><td> 8.9871430</td><td>-5.389506</td><td>3.714429e-05</td><td>0.01708118</td><td>2.381892</td></tr>\n",
       "\t<tr><th scope=row>ENSMUSG00000027111</th><td> 0.5927170</td><td> 4.6439177</td><td> 5.380576</td><td>3.786601e-05</td><td>0.01708118</td><td>2.382618</td></tr>\n",
       "\t<tr><th scope=row>ENSMUSG00000030579</th><td>-0.7362537</td><td> 3.4966607</td><td>-5.355364</td><td>3.998208e-05</td><td>0.01708118</td><td>2.311659</td></tr>\n",
       "\t<tr><th scope=row>ENSMUSG00000062328</th><td>-0.7368539</td><td>11.2073547</td><td>-5.351178</td><td>4.034492e-05</td><td>0.01708118</td><td>2.306117</td></tr>\n",
       "\t<tr><th scope=row>ENSMUSG00000109588</th><td>-1.9343948</td><td> 0.5620829</td><td>-5.343688</td><td>4.100265e-05</td><td>0.01708118</td><td>1.531065</td></tr>\n",
       "\t<tr><th scope=row>ENSMUSG00000020914</th><td> 0.9409670</td><td> 4.9808558</td><td> 5.302826</td><td>4.478937e-05</td><td>0.01708118</td><td>2.221816</td></tr>\n",
       "\t<tr><th scope=row>ENSMUSG00000000056</th><td> 0.5745014</td><td> 6.2645684</td><td> 5.302825</td><td>4.478946e-05</td><td>0.01708118</td><td>2.203971</td></tr>\n",
       "\t<tr><th scope=row>ENSMUSG00000033940</th><td>-0.5632898</td><td> 8.2571216</td><td>-5.280925</td><td>4.696436e-05</td><td>0.01708118</td><td>2.155859</td></tr>\n",
       "\t<tr><th scope=row>ENSMUSG00000031167</th><td>-0.8615789</td><td> 9.5292796</td><td>-5.274958</td><td>4.757547e-05</td><td>0.01708118</td><td>2.145391</td></tr>\n",
       "\t<tr><th scope=row>ENSMUSG00000020801</th><td>-0.7257058</td><td> 5.6027284</td><td>-5.273267</td><td>4.775011e-05</td><td>0.01708118</td><td>2.148705</td></tr>\n",
       "\t<tr><th scope=row>ENSMUSG00000003546</th><td> 0.4626541</td><td> 4.3009252</td><td> 5.263920</td><td>4.872736e-05</td><td>0.01708118</td><td>2.146679</td></tr>\n",
       "\t<tr><th scope=row>ENSMUSG00000021537</th><td>-0.6611732</td><td> 7.8739699</td><td>-5.263263</td><td>4.879682e-05</td><td>0.01708118</td><td>2.118723</td></tr>\n",
       "\t<tr><th scope=row>ENSMUSG00000032513</th><td> 0.4557096</td><td> 5.0167919</td><td> 5.253226</td><td>4.987072e-05</td><td>0.01708118</td><td>2.117673</td></tr>\n",
       "\t<tr><th scope=row>ENSMUSG00000009927</th><td>-0.6258103</td><td>10.2457747</td><td>-5.225670</td><td>5.294471e-05</td><td>0.01708118</td><td>2.044022</td></tr>\n",
       "\t<tr><th scope=row>ENSMUSG00000024151</th><td> 0.5544929</td><td> 4.7398062</td><td> 5.222243</td><td>5.334039e-05</td><td>0.01708118</td><td>2.058450</td></tr>\n",
       "\t<tr><th scope=row>ENSMUSG00000110129</th><td>-0.7417480</td><td> 2.8191624</td><td>-5.220573</td><td>5.353426e-05</td><td>0.01708118</td><td>1.992438</td></tr>\n",
       "\t<tr><th scope=row>ENSMUSG00000024661</th><td>-0.4098239</td><td> 9.0482225</td><td>-5.220564</td><td>5.353525e-05</td><td>0.01708118</td><td>2.031294</td></tr>\n",
       "\t<tr><th scope=row>ENSMUSG00000058594</th><td> 0.5280802</td><td> 5.2773906</td><td> 5.219809</td><td>5.362317e-05</td><td>0.01708118</td><td>2.044242</td></tr>\n",
       "</tbody>\n",
       "</table>\n"
      ],
      "text/latex": [
       "A data.frame: 50 × 6\n",
       "\\begin{tabular}{r|llllll}\n",
       "  & logFC & AveExpr & t & P.Value & adj.P.Val & B\\\\\n",
       "  & <dbl> & <dbl> & <dbl> & <dbl> & <dbl> & <dbl>\\\\\n",
       "\\hline\n",
       "\tENSMUSG00000058886 & -0.5787290 &  7.0085623 & -7.111117 & 1.095052e-06 & 0.01519353 & 5.740680\\\\\n",
       "\tENSMUSG00000030403 &  0.5813029 &  5.1052222 &  6.668602 & 2.610049e-06 & 0.01519353 & 4.899903\\\\\n",
       "\tENSMUSG00002075524 & -2.7873593 &  0.1724406 & -6.453413 & 4.020050e-06 & 0.01519353 & 2.856818\\\\\n",
       "\tENSMUSG00000019763 &  0.7084379 &  3.6195849 &  6.396114 & 4.514747e-06 & 0.01519353 & 4.264275\\\\\n",
       "\tENSMUSG00000043065 &  1.0115498 &  2.6927432 &  6.365215 & 4.807195e-06 & 0.01519353 & 4.012693\\\\\n",
       "\tENSMUSG00000027778 &  0.9707882 &  2.4679749 &  6.319534 & 5.275837e-06 & 0.01519353 & 3.872009\\\\\n",
       "\tENSMUSG00000020267 & -0.6868905 &  9.7193142 & -6.141215 & 7.605624e-06 & 0.01578489 & 3.899605\\\\\n",
       "\tENSMUSG00000118537 & -0.9412231 &  3.6379626 & -6.097171 & 8.330023e-06 & 0.01578489 & 3.747400\\\\\n",
       "\tENSMUSG00000028890 & -0.5463247 &  6.6450933 & -6.090276 & 8.449693e-06 & 0.01578489 & 3.798894\\\\\n",
       "\tENSMUSG00000044534 &  3.1506216 & -1.1354450 &  6.027553 & 9.623229e-06 & 0.01578489 & 1.000080\\\\\n",
       "\tENSMUSG00000003865 &  1.0607621 &  3.1899634 &  5.970143 & 1.084447e-05 & 0.01578489 & 3.422089\\\\\n",
       "\tENSMUSG00000027309 &  0.5764886 &  6.1829592 &  5.962172 & 1.102622e-05 & 0.01578489 & 3.545438\\\\\n",
       "\tENSMUSG00000022820 & -0.6503507 &  7.0560321 & -5.890716 & 1.280250e-05 & 0.01578489 & 3.401449\\\\\n",
       "\tENSMUSG00000032705 &  0.4958282 &  5.0410920 &  5.859063 & 1.368099e-05 & 0.01578489 & 3.341995\\\\\n",
       "\tENSMUSG00000072694 & -0.6393636 &  7.2947047 & -5.839942 & 1.424152e-05 & 0.01578489 & 3.299433\\\\\n",
       "\tENSMUSG00000022769 &  0.6894729 &  3.0899527 &  5.827577 & 1.461649e-05 & 0.01578489 & 3.140131\\\\\n",
       "\tENSMUSG00000042043 & -0.6192756 &  8.2173799 & -5.789456 & 1.583774e-05 & 0.01583357 & 3.198023\\\\\n",
       "\tENSMUSG00000031700 &  0.6492395 &  4.7003490 &  5.770194 & 1.649425e-05 & 0.01583357 & 3.163566\\\\\n",
       "\tENSMUSG00000057841 & -0.7102065 & 10.4054509 & -5.640571 & 2.170414e-05 & 0.01708118 & 2.898383\\\\\n",
       "\tENSMUSG00000025986 &  0.5786158 &  5.7662883 &  5.629157 & 2.223730e-05 & 0.01708118 & 2.877733\\\\\n",
       "\tENSMUSG00000085028 &  1.2922936 &  0.9664698 &  5.597654 & 2.377967e-05 & 0.01708118 & 1.964997\\\\\n",
       "\tENSMUSG00000025823 &  0.5929876 &  5.2536494 &  5.581373 & 2.461939e-05 & 0.01708118 & 2.785315\\\\\n",
       "\tENSMUSG00000045519 & -0.8065172 &  4.8550325 & -5.580984 & 2.463981e-05 & 0.01708118 & 2.786501\\\\\n",
       "\tENSMUSG00000000295 & -0.7434656 &  6.0073629 & -5.565035 & 2.549262e-05 & 0.01708118 & 2.744937\\\\\n",
       "\tENSMUSG00000093674 & -0.7025168 & 11.1560560 & -5.551210 & 2.625637e-05 & 0.01708118 & 2.717141\\\\\n",
       "\tENSMUSG00000002014 & -0.5989121 &  7.0441948 & -5.549364 & 2.636008e-05 & 0.01708118 & 2.709513\\\\\n",
       "\tENSMUSG00000041912 &  0.7128010 &  5.3787515 &  5.512896 & 2.849793e-05 & 0.01708118 & 2.645547\\\\\n",
       "\tENSMUSG00000030226 & -0.4431190 &  7.5091674 & -5.509946 & 2.867850e-05 & 0.01708118 & 2.628571\\\\\n",
       "\tENSMUSG00000064061 &  0.5024429 &  6.5991506 &  5.495052 & 2.960800e-05 & 0.01708118 & 2.598916\\\\\n",
       "\tENSMUSG00000073609 &  0.8616452 &  2.9030456 &  5.486686 & 3.014358e-05 & 0.01708118 & 2.484396\\\\\n",
       "\tENSMUSG00000010554 &  0.6528394 &  3.7685369 &  5.447021 & 3.282146e-05 & 0.01708118 & 2.497166\\\\\n",
       "\tENSMUSG00000027009 &  1.0299850 &  2.1201713 &  5.415886 & 3.509345e-05 & 0.01708118 & 2.184899\\\\\n",
       "\tENSMUSG00000071528 & -0.7713754 &  8.9871430 & -5.389506 & 3.714429e-05 & 0.01708118 & 2.381892\\\\\n",
       "\tENSMUSG00000027111 &  0.5927170 &  4.6439177 &  5.380576 & 3.786601e-05 & 0.01708118 & 2.382618\\\\\n",
       "\tENSMUSG00000030579 & -0.7362537 &  3.4966607 & -5.355364 & 3.998208e-05 & 0.01708118 & 2.311659\\\\\n",
       "\tENSMUSG00000062328 & -0.7368539 & 11.2073547 & -5.351178 & 4.034492e-05 & 0.01708118 & 2.306117\\\\\n",
       "\tENSMUSG00000109588 & -1.9343948 &  0.5620829 & -5.343688 & 4.100265e-05 & 0.01708118 & 1.531065\\\\\n",
       "\tENSMUSG00000020914 &  0.9409670 &  4.9808558 &  5.302826 & 4.478937e-05 & 0.01708118 & 2.221816\\\\\n",
       "\tENSMUSG00000000056 &  0.5745014 &  6.2645684 &  5.302825 & 4.478946e-05 & 0.01708118 & 2.203971\\\\\n",
       "\tENSMUSG00000033940 & -0.5632898 &  8.2571216 & -5.280925 & 4.696436e-05 & 0.01708118 & 2.155859\\\\\n",
       "\tENSMUSG00000031167 & -0.8615789 &  9.5292796 & -5.274958 & 4.757547e-05 & 0.01708118 & 2.145391\\\\\n",
       "\tENSMUSG00000020801 & -0.7257058 &  5.6027284 & -5.273267 & 4.775011e-05 & 0.01708118 & 2.148705\\\\\n",
       "\tENSMUSG00000003546 &  0.4626541 &  4.3009252 &  5.263920 & 4.872736e-05 & 0.01708118 & 2.146679\\\\\n",
       "\tENSMUSG00000021537 & -0.6611732 &  7.8739699 & -5.263263 & 4.879682e-05 & 0.01708118 & 2.118723\\\\\n",
       "\tENSMUSG00000032513 &  0.4557096 &  5.0167919 &  5.253226 & 4.987072e-05 & 0.01708118 & 2.117673\\\\\n",
       "\tENSMUSG00000009927 & -0.6258103 & 10.2457747 & -5.225670 & 5.294471e-05 & 0.01708118 & 2.044022\\\\\n",
       "\tENSMUSG00000024151 &  0.5544929 &  4.7398062 &  5.222243 & 5.334039e-05 & 0.01708118 & 2.058450\\\\\n",
       "\tENSMUSG00000110129 & -0.7417480 &  2.8191624 & -5.220573 & 5.353426e-05 & 0.01708118 & 1.992438\\\\\n",
       "\tENSMUSG00000024661 & -0.4098239 &  9.0482225 & -5.220564 & 5.353525e-05 & 0.01708118 & 2.031294\\\\\n",
       "\tENSMUSG00000058594 &  0.5280802 &  5.2773906 &  5.219809 & 5.362317e-05 & 0.01708118 & 2.044242\\\\\n",
       "\\end{tabular}\n"
      ],
      "text/markdown": [
       "\n",
       "A data.frame: 50 × 6\n",
       "\n",
       "| <!--/--> | logFC &lt;dbl&gt; | AveExpr &lt;dbl&gt; | t &lt;dbl&gt; | P.Value &lt;dbl&gt; | adj.P.Val &lt;dbl&gt; | B &lt;dbl&gt; |\n",
       "|---|---|---|---|---|---|---|\n",
       "| ENSMUSG00000058886 | -0.5787290 |  7.0085623 | -7.111117 | 1.095052e-06 | 0.01519353 | 5.740680 |\n",
       "| ENSMUSG00000030403 |  0.5813029 |  5.1052222 |  6.668602 | 2.610049e-06 | 0.01519353 | 4.899903 |\n",
       "| ENSMUSG00002075524 | -2.7873593 |  0.1724406 | -6.453413 | 4.020050e-06 | 0.01519353 | 2.856818 |\n",
       "| ENSMUSG00000019763 |  0.7084379 |  3.6195849 |  6.396114 | 4.514747e-06 | 0.01519353 | 4.264275 |\n",
       "| ENSMUSG00000043065 |  1.0115498 |  2.6927432 |  6.365215 | 4.807195e-06 | 0.01519353 | 4.012693 |\n",
       "| ENSMUSG00000027778 |  0.9707882 |  2.4679749 |  6.319534 | 5.275837e-06 | 0.01519353 | 3.872009 |\n",
       "| ENSMUSG00000020267 | -0.6868905 |  9.7193142 | -6.141215 | 7.605624e-06 | 0.01578489 | 3.899605 |\n",
       "| ENSMUSG00000118537 | -0.9412231 |  3.6379626 | -6.097171 | 8.330023e-06 | 0.01578489 | 3.747400 |\n",
       "| ENSMUSG00000028890 | -0.5463247 |  6.6450933 | -6.090276 | 8.449693e-06 | 0.01578489 | 3.798894 |\n",
       "| ENSMUSG00000044534 |  3.1506216 | -1.1354450 |  6.027553 | 9.623229e-06 | 0.01578489 | 1.000080 |\n",
       "| ENSMUSG00000003865 |  1.0607621 |  3.1899634 |  5.970143 | 1.084447e-05 | 0.01578489 | 3.422089 |\n",
       "| ENSMUSG00000027309 |  0.5764886 |  6.1829592 |  5.962172 | 1.102622e-05 | 0.01578489 | 3.545438 |\n",
       "| ENSMUSG00000022820 | -0.6503507 |  7.0560321 | -5.890716 | 1.280250e-05 | 0.01578489 | 3.401449 |\n",
       "| ENSMUSG00000032705 |  0.4958282 |  5.0410920 |  5.859063 | 1.368099e-05 | 0.01578489 | 3.341995 |\n",
       "| ENSMUSG00000072694 | -0.6393636 |  7.2947047 | -5.839942 | 1.424152e-05 | 0.01578489 | 3.299433 |\n",
       "| ENSMUSG00000022769 |  0.6894729 |  3.0899527 |  5.827577 | 1.461649e-05 | 0.01578489 | 3.140131 |\n",
       "| ENSMUSG00000042043 | -0.6192756 |  8.2173799 | -5.789456 | 1.583774e-05 | 0.01583357 | 3.198023 |\n",
       "| ENSMUSG00000031700 |  0.6492395 |  4.7003490 |  5.770194 | 1.649425e-05 | 0.01583357 | 3.163566 |\n",
       "| ENSMUSG00000057841 | -0.7102065 | 10.4054509 | -5.640571 | 2.170414e-05 | 0.01708118 | 2.898383 |\n",
       "| ENSMUSG00000025986 |  0.5786158 |  5.7662883 |  5.629157 | 2.223730e-05 | 0.01708118 | 2.877733 |\n",
       "| ENSMUSG00000085028 |  1.2922936 |  0.9664698 |  5.597654 | 2.377967e-05 | 0.01708118 | 1.964997 |\n",
       "| ENSMUSG00000025823 |  0.5929876 |  5.2536494 |  5.581373 | 2.461939e-05 | 0.01708118 | 2.785315 |\n",
       "| ENSMUSG00000045519 | -0.8065172 |  4.8550325 | -5.580984 | 2.463981e-05 | 0.01708118 | 2.786501 |\n",
       "| ENSMUSG00000000295 | -0.7434656 |  6.0073629 | -5.565035 | 2.549262e-05 | 0.01708118 | 2.744937 |\n",
       "| ENSMUSG00000093674 | -0.7025168 | 11.1560560 | -5.551210 | 2.625637e-05 | 0.01708118 | 2.717141 |\n",
       "| ENSMUSG00000002014 | -0.5989121 |  7.0441948 | -5.549364 | 2.636008e-05 | 0.01708118 | 2.709513 |\n",
       "| ENSMUSG00000041912 |  0.7128010 |  5.3787515 |  5.512896 | 2.849793e-05 | 0.01708118 | 2.645547 |\n",
       "| ENSMUSG00000030226 | -0.4431190 |  7.5091674 | -5.509946 | 2.867850e-05 | 0.01708118 | 2.628571 |\n",
       "| ENSMUSG00000064061 |  0.5024429 |  6.5991506 |  5.495052 | 2.960800e-05 | 0.01708118 | 2.598916 |\n",
       "| ENSMUSG00000073609 |  0.8616452 |  2.9030456 |  5.486686 | 3.014358e-05 | 0.01708118 | 2.484396 |\n",
       "| ENSMUSG00000010554 |  0.6528394 |  3.7685369 |  5.447021 | 3.282146e-05 | 0.01708118 | 2.497166 |\n",
       "| ENSMUSG00000027009 |  1.0299850 |  2.1201713 |  5.415886 | 3.509345e-05 | 0.01708118 | 2.184899 |\n",
       "| ENSMUSG00000071528 | -0.7713754 |  8.9871430 | -5.389506 | 3.714429e-05 | 0.01708118 | 2.381892 |\n",
       "| ENSMUSG00000027111 |  0.5927170 |  4.6439177 |  5.380576 | 3.786601e-05 | 0.01708118 | 2.382618 |\n",
       "| ENSMUSG00000030579 | -0.7362537 |  3.4966607 | -5.355364 | 3.998208e-05 | 0.01708118 | 2.311659 |\n",
       "| ENSMUSG00000062328 | -0.7368539 | 11.2073547 | -5.351178 | 4.034492e-05 | 0.01708118 | 2.306117 |\n",
       "| ENSMUSG00000109588 | -1.9343948 |  0.5620829 | -5.343688 | 4.100265e-05 | 0.01708118 | 1.531065 |\n",
       "| ENSMUSG00000020914 |  0.9409670 |  4.9808558 |  5.302826 | 4.478937e-05 | 0.01708118 | 2.221816 |\n",
       "| ENSMUSG00000000056 |  0.5745014 |  6.2645684 |  5.302825 | 4.478946e-05 | 0.01708118 | 2.203971 |\n",
       "| ENSMUSG00000033940 | -0.5632898 |  8.2571216 | -5.280925 | 4.696436e-05 | 0.01708118 | 2.155859 |\n",
       "| ENSMUSG00000031167 | -0.8615789 |  9.5292796 | -5.274958 | 4.757547e-05 | 0.01708118 | 2.145391 |\n",
       "| ENSMUSG00000020801 | -0.7257058 |  5.6027284 | -5.273267 | 4.775011e-05 | 0.01708118 | 2.148705 |\n",
       "| ENSMUSG00000003546 |  0.4626541 |  4.3009252 |  5.263920 | 4.872736e-05 | 0.01708118 | 2.146679 |\n",
       "| ENSMUSG00000021537 | -0.6611732 |  7.8739699 | -5.263263 | 4.879682e-05 | 0.01708118 | 2.118723 |\n",
       "| ENSMUSG00000032513 |  0.4557096 |  5.0167919 |  5.253226 | 4.987072e-05 | 0.01708118 | 2.117673 |\n",
       "| ENSMUSG00000009927 | -0.6258103 | 10.2457747 | -5.225670 | 5.294471e-05 | 0.01708118 | 2.044022 |\n",
       "| ENSMUSG00000024151 |  0.5544929 |  4.7398062 |  5.222243 | 5.334039e-05 | 0.01708118 | 2.058450 |\n",
       "| ENSMUSG00000110129 | -0.7417480 |  2.8191624 | -5.220573 | 5.353426e-05 | 0.01708118 | 1.992438 |\n",
       "| ENSMUSG00000024661 | -0.4098239 |  9.0482225 | -5.220564 | 5.353525e-05 | 0.01708118 | 2.031294 |\n",
       "| ENSMUSG00000058594 |  0.5280802 |  5.2773906 |  5.219809 | 5.362317e-05 | 0.01708118 | 2.044242 |\n",
       "\n"
      ],
      "text/plain": [
       "                   logFC      AveExpr    t         P.Value      adj.P.Val \n",
       "ENSMUSG00000058886 -0.5787290  7.0085623 -7.111117 1.095052e-06 0.01519353\n",
       "ENSMUSG00000030403  0.5813029  5.1052222  6.668602 2.610049e-06 0.01519353\n",
       "ENSMUSG00002075524 -2.7873593  0.1724406 -6.453413 4.020050e-06 0.01519353\n",
       "ENSMUSG00000019763  0.7084379  3.6195849  6.396114 4.514747e-06 0.01519353\n",
       "ENSMUSG00000043065  1.0115498  2.6927432  6.365215 4.807195e-06 0.01519353\n",
       "ENSMUSG00000027778  0.9707882  2.4679749  6.319534 5.275837e-06 0.01519353\n",
       "ENSMUSG00000020267 -0.6868905  9.7193142 -6.141215 7.605624e-06 0.01578489\n",
       "ENSMUSG00000118537 -0.9412231  3.6379626 -6.097171 8.330023e-06 0.01578489\n",
       "ENSMUSG00000028890 -0.5463247  6.6450933 -6.090276 8.449693e-06 0.01578489\n",
       "ENSMUSG00000044534  3.1506216 -1.1354450  6.027553 9.623229e-06 0.01578489\n",
       "ENSMUSG00000003865  1.0607621  3.1899634  5.970143 1.084447e-05 0.01578489\n",
       "ENSMUSG00000027309  0.5764886  6.1829592  5.962172 1.102622e-05 0.01578489\n",
       "ENSMUSG00000022820 -0.6503507  7.0560321 -5.890716 1.280250e-05 0.01578489\n",
       "ENSMUSG00000032705  0.4958282  5.0410920  5.859063 1.368099e-05 0.01578489\n",
       "ENSMUSG00000072694 -0.6393636  7.2947047 -5.839942 1.424152e-05 0.01578489\n",
       "ENSMUSG00000022769  0.6894729  3.0899527  5.827577 1.461649e-05 0.01578489\n",
       "ENSMUSG00000042043 -0.6192756  8.2173799 -5.789456 1.583774e-05 0.01583357\n",
       "ENSMUSG00000031700  0.6492395  4.7003490  5.770194 1.649425e-05 0.01583357\n",
       "ENSMUSG00000057841 -0.7102065 10.4054509 -5.640571 2.170414e-05 0.01708118\n",
       "ENSMUSG00000025986  0.5786158  5.7662883  5.629157 2.223730e-05 0.01708118\n",
       "ENSMUSG00000085028  1.2922936  0.9664698  5.597654 2.377967e-05 0.01708118\n",
       "ENSMUSG00000025823  0.5929876  5.2536494  5.581373 2.461939e-05 0.01708118\n",
       "ENSMUSG00000045519 -0.8065172  4.8550325 -5.580984 2.463981e-05 0.01708118\n",
       "ENSMUSG00000000295 -0.7434656  6.0073629 -5.565035 2.549262e-05 0.01708118\n",
       "ENSMUSG00000093674 -0.7025168 11.1560560 -5.551210 2.625637e-05 0.01708118\n",
       "ENSMUSG00000002014 -0.5989121  7.0441948 -5.549364 2.636008e-05 0.01708118\n",
       "ENSMUSG00000041912  0.7128010  5.3787515  5.512896 2.849793e-05 0.01708118\n",
       "ENSMUSG00000030226 -0.4431190  7.5091674 -5.509946 2.867850e-05 0.01708118\n",
       "ENSMUSG00000064061  0.5024429  6.5991506  5.495052 2.960800e-05 0.01708118\n",
       "ENSMUSG00000073609  0.8616452  2.9030456  5.486686 3.014358e-05 0.01708118\n",
       "ENSMUSG00000010554  0.6528394  3.7685369  5.447021 3.282146e-05 0.01708118\n",
       "ENSMUSG00000027009  1.0299850  2.1201713  5.415886 3.509345e-05 0.01708118\n",
       "ENSMUSG00000071528 -0.7713754  8.9871430 -5.389506 3.714429e-05 0.01708118\n",
       "ENSMUSG00000027111  0.5927170  4.6439177  5.380576 3.786601e-05 0.01708118\n",
       "ENSMUSG00000030579 -0.7362537  3.4966607 -5.355364 3.998208e-05 0.01708118\n",
       "ENSMUSG00000062328 -0.7368539 11.2073547 -5.351178 4.034492e-05 0.01708118\n",
       "ENSMUSG00000109588 -1.9343948  0.5620829 -5.343688 4.100265e-05 0.01708118\n",
       "ENSMUSG00000020914  0.9409670  4.9808558  5.302826 4.478937e-05 0.01708118\n",
       "ENSMUSG00000000056  0.5745014  6.2645684  5.302825 4.478946e-05 0.01708118\n",
       "ENSMUSG00000033940 -0.5632898  8.2571216 -5.280925 4.696436e-05 0.01708118\n",
       "ENSMUSG00000031167 -0.8615789  9.5292796 -5.274958 4.757547e-05 0.01708118\n",
       "ENSMUSG00000020801 -0.7257058  5.6027284 -5.273267 4.775011e-05 0.01708118\n",
       "ENSMUSG00000003546  0.4626541  4.3009252  5.263920 4.872736e-05 0.01708118\n",
       "ENSMUSG00000021537 -0.6611732  7.8739699 -5.263263 4.879682e-05 0.01708118\n",
       "ENSMUSG00000032513  0.4557096  5.0167919  5.253226 4.987072e-05 0.01708118\n",
       "ENSMUSG00000009927 -0.6258103 10.2457747 -5.225670 5.294471e-05 0.01708118\n",
       "ENSMUSG00000024151  0.5544929  4.7398062  5.222243 5.334039e-05 0.01708118\n",
       "ENSMUSG00000110129 -0.7417480  2.8191624 -5.220573 5.353426e-05 0.01708118\n",
       "ENSMUSG00000024661 -0.4098239  9.0482225 -5.220564 5.353525e-05 0.01708118\n",
       "ENSMUSG00000058594  0.5280802  5.2773906  5.219809 5.362317e-05 0.01708118\n",
       "                   B       \n",
       "ENSMUSG00000058886 5.740680\n",
       "ENSMUSG00000030403 4.899903\n",
       "ENSMUSG00002075524 2.856818\n",
       "ENSMUSG00000019763 4.264275\n",
       "ENSMUSG00000043065 4.012693\n",
       "ENSMUSG00000027778 3.872009\n",
       "ENSMUSG00000020267 3.899605\n",
       "ENSMUSG00000118537 3.747400\n",
       "ENSMUSG00000028890 3.798894\n",
       "ENSMUSG00000044534 1.000080\n",
       "ENSMUSG00000003865 3.422089\n",
       "ENSMUSG00000027309 3.545438\n",
       "ENSMUSG00000022820 3.401449\n",
       "ENSMUSG00000032705 3.341995\n",
       "ENSMUSG00000072694 3.299433\n",
       "ENSMUSG00000022769 3.140131\n",
       "ENSMUSG00000042043 3.198023\n",
       "ENSMUSG00000031700 3.163566\n",
       "ENSMUSG00000057841 2.898383\n",
       "ENSMUSG00000025986 2.877733\n",
       "ENSMUSG00000085028 1.964997\n",
       "ENSMUSG00000025823 2.785315\n",
       "ENSMUSG00000045519 2.786501\n",
       "ENSMUSG00000000295 2.744937\n",
       "ENSMUSG00000093674 2.717141\n",
       "ENSMUSG00000002014 2.709513\n",
       "ENSMUSG00000041912 2.645547\n",
       "ENSMUSG00000030226 2.628571\n",
       "ENSMUSG00000064061 2.598916\n",
       "ENSMUSG00000073609 2.484396\n",
       "ENSMUSG00000010554 2.497166\n",
       "ENSMUSG00000027009 2.184899\n",
       "ENSMUSG00000071528 2.381892\n",
       "ENSMUSG00000027111 2.382618\n",
       "ENSMUSG00000030579 2.311659\n",
       "ENSMUSG00000062328 2.306117\n",
       "ENSMUSG00000109588 1.531065\n",
       "ENSMUSG00000020914 2.221816\n",
       "ENSMUSG00000000056 2.203971\n",
       "ENSMUSG00000033940 2.155859\n",
       "ENSMUSG00000031167 2.145391\n",
       "ENSMUSG00000020801 2.148705\n",
       "ENSMUSG00000003546 2.146679\n",
       "ENSMUSG00000021537 2.118723\n",
       "ENSMUSG00000032513 2.117673\n",
       "ENSMUSG00000009927 2.044022\n",
       "ENSMUSG00000024151 2.058450\n",
       "ENSMUSG00000110129 1.992438\n",
       "ENSMUSG00000024661 2.031294\n",
       "ENSMUSG00000058594 2.044242"
      ]
     },
     "metadata": {},
     "output_type": "display_data"
    },
    {
     "data": {
      "text/html": [
       "<strong>png:</strong> 2"
      ],
      "text/latex": [
       "\\textbf{png:} 2"
      ],
      "text/markdown": [
       "**png:** 2"
      ],
      "text/plain": [
       "png \n",
       "  2 "
      ]
     },
     "metadata": {},
     "output_type": "display_data"
    },
    {
     "data": {
      "text/html": [
       "<strong>png:</strong> 2"
      ],
      "text/latex": [
       "\\textbf{png:} 2"
      ],
      "text/markdown": [
       "**png:** 2"
      ],
      "text/plain": [
       "png \n",
       "  2 "
      ]
     },
     "metadata": {},
     "output_type": "display_data"
    }
   ],
   "source": [
    "contr <- makeContrasts(groupFAexcess - groupControl, levels = colnames(coef(fit)))\n",
    "print(contr)\n",
    "\n",
    "# Estimate contrast for each gene\n",
    "tmp <- contrasts.fit(fit, contr)\n",
    "\n",
    "# Apply EBayes\n",
    "tmp <- eBayes(tmp)\n",
    "\n",
    "# Multiple testing adjustment\n",
    "top.table <- topTable(tmp, adjust.method = \"BH\", sort.by = \"P\", n = Inf)\n",
    "\n",
    "# How many DEGs are there after FDR correction\n",
    "length(which(top.table$adj.P.Val < 0.05))\n",
    "\n",
    "# View top 50 DEGs\n",
    "head(top.table, 50)\n",
    "\n",
    "# Save top.table as a CSV file\n",
    "write.csv(top.table, file = \"05_DEGs/faexcess_vs_control_results.csv\", row.names = TRUE)\n",
    "\n",
    "# Visualize Volcano Plot\n",
    "pdf(\"05_DEGs/volcanoplot_faexcess_vs_control.pdf\")\n",
    "volcanoplot(tmp, coef=1, highlight=8, names=rownames(tmp), main=\"Control vs. FAexcess\", cex.main = 0.8)\n",
    "dev.off()\n",
    "\n",
    "# Visualize Heatmap\n",
    "pdf(\"05_DEGs/heatmap_faexcess_vs_control.pdf\", height = 15, width = 10)\n",
    "heatmap.2(\n",
    "  logcpm[rownames(top.table), ],\n",
    "  col = brewer.pal(11, \"RdBu\"),\n",
    "  scale = \"row\",\n",
    "  trace = \"none\",\n",
    "  cexCol = 0.9  \n",
    ")\n",
    "dev.off()"
   ]
  },
  {
   "cell_type": "markdown",
   "id": "2f0507d3-fa58-43bb-bd22-8b7ee0459136",
   "metadata": {},
   "source": [
    "## Sex Stratified DEG Analysis"
   ]
  },
  {
   "cell_type": "code",
   "execution_count": 58,
   "id": "b265e337-7e23-49b9-9f80-5d74698a2715",
   "metadata": {},
   "outputs": [
    {
     "data": {
      "text/html": [
       "<table class=\"dataframe\">\n",
       "<caption>A data.frame: 6 × 16</caption>\n",
       "<thead>\n",
       "\t<tr><th></th><th scope=col>G1_1_1_4</th><th scope=col>G1_1_1_5</th><th scope=col>G1_1_1_6</th><th scope=col>G1_1_1_7</th><th scope=col>G1_1_2_4</th><th scope=col>G1_1_2_5</th><th scope=col>G1_1_2_6</th><th scope=col>G2_2_6_5</th><th scope=col>G2_2_6_6</th><th scope=col>G2_2_6_7</th><th scope=col>G2_2_6_8</th><th scope=col>G2_2_7_10</th><th scope=col>G2_2_7_11</th><th scope=col>G2_2_7_7</th><th scope=col>G2_2_7_8</th><th scope=col>G2_2_7_9</th></tr>\n",
       "\t<tr><th></th><th scope=col>&lt;int&gt;</th><th scope=col>&lt;int&gt;</th><th scope=col>&lt;int&gt;</th><th scope=col>&lt;int&gt;</th><th scope=col>&lt;int&gt;</th><th scope=col>&lt;int&gt;</th><th scope=col>&lt;int&gt;</th><th scope=col>&lt;int&gt;</th><th scope=col>&lt;int&gt;</th><th scope=col>&lt;int&gt;</th><th scope=col>&lt;int&gt;</th><th scope=col>&lt;int&gt;</th><th scope=col>&lt;int&gt;</th><th scope=col>&lt;int&gt;</th><th scope=col>&lt;int&gt;</th><th scope=col>&lt;int&gt;</th></tr>\n",
       "</thead>\n",
       "<tbody>\n",
       "\t<tr><th scope=row>ENSMUSG00000102628</th><td>0</td><td>0</td><td>0</td><td>0</td><td>0</td><td>0</td><td>1</td><td>0</td><td>0</td><td>0</td><td>1</td><td>0</td><td>0</td><td>0</td><td>0</td><td>0</td></tr>\n",
       "\t<tr><th scope=row>ENSMUSG00000100595</th><td>0</td><td>0</td><td>0</td><td>0</td><td>0</td><td>0</td><td>0</td><td>0</td><td>0</td><td>0</td><td>0</td><td>0</td><td>0</td><td>0</td><td>0</td><td>1</td></tr>\n",
       "\t<tr><th scope=row>ENSMUSG00000097426</th><td>0</td><td>0</td><td>0</td><td>0</td><td>0</td><td>0</td><td>0</td><td>0</td><td>0</td><td>0</td><td>0</td><td>0</td><td>0</td><td>0</td><td>0</td><td>0</td></tr>\n",
       "\t<tr><th scope=row>ENSMUSG00000104478</th><td>0</td><td>0</td><td>0</td><td>0</td><td>0</td><td>0</td><td>0</td><td>0</td><td>0</td><td>0</td><td>0</td><td>0</td><td>0</td><td>0</td><td>0</td><td>0</td></tr>\n",
       "\t<tr><th scope=row>ENSMUSG00000104385</th><td>0</td><td>0</td><td>0</td><td>0</td><td>0</td><td>0</td><td>0</td><td>0</td><td>0</td><td>0</td><td>0</td><td>0</td><td>0</td><td>0</td><td>0</td><td>0</td></tr>\n",
       "\t<tr><th scope=row>ENSMUSG00000086053</th><td>0</td><td>0</td><td>0</td><td>0</td><td>1</td><td>0</td><td>0</td><td>0</td><td>0</td><td>2</td><td>0</td><td>1</td><td>2</td><td>1</td><td>0</td><td>0</td></tr>\n",
       "</tbody>\n",
       "</table>\n"
      ],
      "text/latex": [
       "A data.frame: 6 × 16\n",
       "\\begin{tabular}{r|llllllllllllllll}\n",
       "  & G1\\_1\\_1\\_4 & G1\\_1\\_1\\_5 & G1\\_1\\_1\\_6 & G1\\_1\\_1\\_7 & G1\\_1\\_2\\_4 & G1\\_1\\_2\\_5 & G1\\_1\\_2\\_6 & G2\\_2\\_6\\_5 & G2\\_2\\_6\\_6 & G2\\_2\\_6\\_7 & G2\\_2\\_6\\_8 & G2\\_2\\_7\\_10 & G2\\_2\\_7\\_11 & G2\\_2\\_7\\_7 & G2\\_2\\_7\\_8 & G2\\_2\\_7\\_9\\\\\n",
       "  & <int> & <int> & <int> & <int> & <int> & <int> & <int> & <int> & <int> & <int> & <int> & <int> & <int> & <int> & <int> & <int>\\\\\n",
       "\\hline\n",
       "\tENSMUSG00000102628 & 0 & 0 & 0 & 0 & 0 & 0 & 1 & 0 & 0 & 0 & 1 & 0 & 0 & 0 & 0 & 0\\\\\n",
       "\tENSMUSG00000100595 & 0 & 0 & 0 & 0 & 0 & 0 & 0 & 0 & 0 & 0 & 0 & 0 & 0 & 0 & 0 & 1\\\\\n",
       "\tENSMUSG00000097426 & 0 & 0 & 0 & 0 & 0 & 0 & 0 & 0 & 0 & 0 & 0 & 0 & 0 & 0 & 0 & 0\\\\\n",
       "\tENSMUSG00000104478 & 0 & 0 & 0 & 0 & 0 & 0 & 0 & 0 & 0 & 0 & 0 & 0 & 0 & 0 & 0 & 0\\\\\n",
       "\tENSMUSG00000104385 & 0 & 0 & 0 & 0 & 0 & 0 & 0 & 0 & 0 & 0 & 0 & 0 & 0 & 0 & 0 & 0\\\\\n",
       "\tENSMUSG00000086053 & 0 & 0 & 0 & 0 & 1 & 0 & 0 & 0 & 0 & 2 & 0 & 1 & 2 & 1 & 0 & 0\\\\\n",
       "\\end{tabular}\n"
      ],
      "text/markdown": [
       "\n",
       "A data.frame: 6 × 16\n",
       "\n",
       "| <!--/--> | G1_1_1_4 &lt;int&gt; | G1_1_1_5 &lt;int&gt; | G1_1_1_6 &lt;int&gt; | G1_1_1_7 &lt;int&gt; | G1_1_2_4 &lt;int&gt; | G1_1_2_5 &lt;int&gt; | G1_1_2_6 &lt;int&gt; | G2_2_6_5 &lt;int&gt; | G2_2_6_6 &lt;int&gt; | G2_2_6_7 &lt;int&gt; | G2_2_6_8 &lt;int&gt; | G2_2_7_10 &lt;int&gt; | G2_2_7_11 &lt;int&gt; | G2_2_7_7 &lt;int&gt; | G2_2_7_8 &lt;int&gt; | G2_2_7_9 &lt;int&gt; |\n",
       "|---|---|---|---|---|---|---|---|---|---|---|---|---|---|---|---|---|\n",
       "| ENSMUSG00000102628 | 0 | 0 | 0 | 0 | 0 | 0 | 1 | 0 | 0 | 0 | 1 | 0 | 0 | 0 | 0 | 0 |\n",
       "| ENSMUSG00000100595 | 0 | 0 | 0 | 0 | 0 | 0 | 0 | 0 | 0 | 0 | 0 | 0 | 0 | 0 | 0 | 1 |\n",
       "| ENSMUSG00000097426 | 0 | 0 | 0 | 0 | 0 | 0 | 0 | 0 | 0 | 0 | 0 | 0 | 0 | 0 | 0 | 0 |\n",
       "| ENSMUSG00000104478 | 0 | 0 | 0 | 0 | 0 | 0 | 0 | 0 | 0 | 0 | 0 | 0 | 0 | 0 | 0 | 0 |\n",
       "| ENSMUSG00000104385 | 0 | 0 | 0 | 0 | 0 | 0 | 0 | 0 | 0 | 0 | 0 | 0 | 0 | 0 | 0 | 0 |\n",
       "| ENSMUSG00000086053 | 0 | 0 | 0 | 0 | 1 | 0 | 0 | 0 | 0 | 2 | 0 | 1 | 2 | 1 | 0 | 0 |\n",
       "\n"
      ],
      "text/plain": [
       "                   G1_1_1_4 G1_1_1_5 G1_1_1_6 G1_1_1_7 G1_1_2_4 G1_1_2_5\n",
       "ENSMUSG00000102628 0        0        0        0        0        0       \n",
       "ENSMUSG00000100595 0        0        0        0        0        0       \n",
       "ENSMUSG00000097426 0        0        0        0        0        0       \n",
       "ENSMUSG00000104478 0        0        0        0        0        0       \n",
       "ENSMUSG00000104385 0        0        0        0        0        0       \n",
       "ENSMUSG00000086053 0        0        0        0        1        0       \n",
       "                   G1_1_2_6 G2_2_6_5 G2_2_6_6 G2_2_6_7 G2_2_6_8 G2_2_7_10\n",
       "ENSMUSG00000102628 1        0        0        0        1        0        \n",
       "ENSMUSG00000100595 0        0        0        0        0        0        \n",
       "ENSMUSG00000097426 0        0        0        0        0        0        \n",
       "ENSMUSG00000104478 0        0        0        0        0        0        \n",
       "ENSMUSG00000104385 0        0        0        0        0        0        \n",
       "ENSMUSG00000086053 0        0        0        2        0        1        \n",
       "                   G2_2_7_11 G2_2_7_7 G2_2_7_8 G2_2_7_9\n",
       "ENSMUSG00000102628 0         0        0        0       \n",
       "ENSMUSG00000100595 0         0        0        1       \n",
       "ENSMUSG00000097426 0         0        0        0       \n",
       "ENSMUSG00000104478 0         0        0        0       \n",
       "ENSMUSG00000104385 0         0        0        0       \n",
       "ENSMUSG00000086053 2         1        0        0       "
      ]
     },
     "metadata": {},
     "output_type": "display_data"
    }
   ],
   "source": [
    "counts <- read.delim(\"05_gene_counts/gene_counts.txt\", row.names = 1)\n",
    "head(counts)"
   ]
  },
  {
   "cell_type": "code",
   "execution_count": 59,
   "id": "003789e8-4a8f-42f3-9e73-ec38b7d7c1e2",
   "metadata": {},
   "outputs": [],
   "source": [
    "# Create DEG list\n",
    "d0 <- DGEList(counts)"
   ]
  },
  {
   "cell_type": "code",
   "execution_count": 60,
   "id": "f9af01c3-d279-48e0-881f-d0a797786387",
   "metadata": {},
   "outputs": [
    {
     "data": {
      "text/html": [
       "<style>\n",
       ".list-inline {list-style: none; margin:0; padding: 0}\n",
       ".list-inline>li {display: inline-block}\n",
       ".list-inline>li:not(:last-child)::after {content: \"\\00b7\"; padding: 0 .5ex}\n",
       "</style>\n",
       "<ol class=list-inline><li>1902015</li><li>26</li></ol>\n"
      ],
      "text/latex": [
       "\\begin{enumerate*}\n",
       "\\item 1902015\n",
       "\\item 26\n",
       "\\end{enumerate*}\n"
      ],
      "text/markdown": [
       "1. 1902015\n",
       "2. 26\n",
       "\n",
       "\n"
      ],
      "text/plain": [
       "[1] 1902015      26"
      ]
     },
     "metadata": {},
     "output_type": "display_data"
    },
    {
     "data": {
      "text/html": [
       "<table class=\"dataframe\">\n",
       "<caption>A data.frame: 6 × 26</caption>\n",
       "<thead>\n",
       "\t<tr><th></th><th scope=col>seqid</th><th scope=col>source</th><th scope=col>type</th><th scope=col>start</th><th scope=col>end</th><th scope=col>score</th><th scope=col>strand</th><th scope=col>phase</th><th scope=col>gene_id</th><th scope=col>gene_version</th><th scope=col>⋯</th><th scope=col>transcript_source</th><th scope=col>transcript_biotype</th><th scope=col>tag</th><th scope=col>transcript_support_level</th><th scope=col>exon_number</th><th scope=col>exon_id</th><th scope=col>exon_version</th><th scope=col>ccds_id</th><th scope=col>protein_id</th><th scope=col>protein_version</th></tr>\n",
       "\t<tr><th></th><th scope=col>&lt;fct&gt;</th><th scope=col>&lt;fct&gt;</th><th scope=col>&lt;fct&gt;</th><th scope=col>&lt;int&gt;</th><th scope=col>&lt;int&gt;</th><th scope=col>&lt;dbl&gt;</th><th scope=col>&lt;chr&gt;</th><th scope=col>&lt;int&gt;</th><th scope=col>&lt;chr&gt;</th><th scope=col>&lt;chr&gt;</th><th scope=col>⋯</th><th scope=col>&lt;chr&gt;</th><th scope=col>&lt;chr&gt;</th><th scope=col>&lt;chr&gt;</th><th scope=col>&lt;chr&gt;</th><th scope=col>&lt;chr&gt;</th><th scope=col>&lt;chr&gt;</th><th scope=col>&lt;chr&gt;</th><th scope=col>&lt;chr&gt;</th><th scope=col>&lt;chr&gt;</th><th scope=col>&lt;chr&gt;</th></tr>\n",
       "</thead>\n",
       "<tbody>\n",
       "\t<tr><th scope=row>1</th><td>1</td><td>havana</td><td>gene      </td><td>150956201</td><td>150958296</td><td>NA</td><td>+</td><td>NA</td><td>ENSMUSG00000102628</td><td>2</td><td>⋯</td><td>NA    </td><td>NA                  </td><td>NA   </td><td>NA                                 </td><td>NA</td><td>NA                </td><td>NA</td><td>NA</td><td>NA</td><td>NA</td></tr>\n",
       "\t<tr><th scope=row>2</th><td>1</td><td>havana</td><td>transcript</td><td>150956201</td><td>150958296</td><td>NA</td><td>+</td><td>NA</td><td>ENSMUSG00000102628</td><td>2</td><td>⋯</td><td>havana</td><td>TEC                 </td><td>basic</td><td>NA (assigned to previous version 1)</td><td>NA</td><td>NA                </td><td>NA</td><td>NA</td><td>NA</td><td>NA</td></tr>\n",
       "\t<tr><th scope=row>3</th><td>1</td><td>havana</td><td>exon      </td><td>150956201</td><td>150958296</td><td>NA</td><td>+</td><td>NA</td><td>ENSMUSG00000102628</td><td>2</td><td>⋯</td><td>havana</td><td>TEC                 </td><td>basic</td><td>NA (assigned to previous version 1)</td><td>1 </td><td>ENSMUSE00001342333</td><td>2 </td><td>NA</td><td>NA</td><td>NA</td></tr>\n",
       "\t<tr><th scope=row>4</th><td>1</td><td>havana</td><td>gene      </td><td>150983666</td><td>150984611</td><td>NA</td><td>+</td><td>NA</td><td>ENSMUSG00000100595</td><td>2</td><td>⋯</td><td>NA    </td><td>NA                  </td><td>NA   </td><td>NA                                 </td><td>NA</td><td>NA                </td><td>NA</td><td>NA</td><td>NA</td><td>NA</td></tr>\n",
       "\t<tr><th scope=row>5</th><td>1</td><td>havana</td><td>transcript</td><td>150983666</td><td>150984611</td><td>NA</td><td>+</td><td>NA</td><td>ENSMUSG00000100595</td><td>2</td><td>⋯</td><td>havana</td><td>processed_pseudogene</td><td>basic</td><td>NA (assigned to previous version 1)</td><td>NA</td><td>NA                </td><td>NA</td><td>NA</td><td>NA</td><td>NA</td></tr>\n",
       "\t<tr><th scope=row>6</th><td>1</td><td>havana</td><td>exon      </td><td>150983666</td><td>150984611</td><td>NA</td><td>+</td><td>NA</td><td>ENSMUSG00000100595</td><td>2</td><td>⋯</td><td>havana</td><td>processed_pseudogene</td><td>basic</td><td>NA (assigned to previous version 1)</td><td>1 </td><td>ENSMUSE00001324949</td><td>2 </td><td>NA</td><td>NA</td><td>NA</td></tr>\n",
       "</tbody>\n",
       "</table>\n"
      ],
      "text/latex": [
       "A data.frame: 6 × 26\n",
       "\\begin{tabular}{r|lllllllllllllllllllll}\n",
       "  & seqid & source & type & start & end & score & strand & phase & gene\\_id & gene\\_version & ⋯ & transcript\\_source & transcript\\_biotype & tag & transcript\\_support\\_level & exon\\_number & exon\\_id & exon\\_version & ccds\\_id & protein\\_id & protein\\_version\\\\\n",
       "  & <fct> & <fct> & <fct> & <int> & <int> & <dbl> & <chr> & <int> & <chr> & <chr> & ⋯ & <chr> & <chr> & <chr> & <chr> & <chr> & <chr> & <chr> & <chr> & <chr> & <chr>\\\\\n",
       "\\hline\n",
       "\t1 & 1 & havana & gene       & 150956201 & 150958296 & NA & + & NA & ENSMUSG00000102628 & 2 & ⋯ & NA     & NA                   & NA    & NA                                  & NA & NA                 & NA & NA & NA & NA\\\\\n",
       "\t2 & 1 & havana & transcript & 150956201 & 150958296 & NA & + & NA & ENSMUSG00000102628 & 2 & ⋯ & havana & TEC                  & basic & NA (assigned to previous version 1) & NA & NA                 & NA & NA & NA & NA\\\\\n",
       "\t3 & 1 & havana & exon       & 150956201 & 150958296 & NA & + & NA & ENSMUSG00000102628 & 2 & ⋯ & havana & TEC                  & basic & NA (assigned to previous version 1) & 1  & ENSMUSE00001342333 & 2  & NA & NA & NA\\\\\n",
       "\t4 & 1 & havana & gene       & 150983666 & 150984611 & NA & + & NA & ENSMUSG00000100595 & 2 & ⋯ & NA     & NA                   & NA    & NA                                  & NA & NA                 & NA & NA & NA & NA\\\\\n",
       "\t5 & 1 & havana & transcript & 150983666 & 150984611 & NA & + & NA & ENSMUSG00000100595 & 2 & ⋯ & havana & processed\\_pseudogene & basic & NA (assigned to previous version 1) & NA & NA                 & NA & NA & NA & NA\\\\\n",
       "\t6 & 1 & havana & exon       & 150983666 & 150984611 & NA & + & NA & ENSMUSG00000100595 & 2 & ⋯ & havana & processed\\_pseudogene & basic & NA (assigned to previous version 1) & 1  & ENSMUSE00001324949 & 2  & NA & NA & NA\\\\\n",
       "\\end{tabular}\n"
      ],
      "text/markdown": [
       "\n",
       "A data.frame: 6 × 26\n",
       "\n",
       "| <!--/--> | seqid &lt;fct&gt; | source &lt;fct&gt; | type &lt;fct&gt; | start &lt;int&gt; | end &lt;int&gt; | score &lt;dbl&gt; | strand &lt;chr&gt; | phase &lt;int&gt; | gene_id &lt;chr&gt; | gene_version &lt;chr&gt; | ⋯ ⋯ | transcript_source &lt;chr&gt; | transcript_biotype &lt;chr&gt; | tag &lt;chr&gt; | transcript_support_level &lt;chr&gt; | exon_number &lt;chr&gt; | exon_id &lt;chr&gt; | exon_version &lt;chr&gt; | ccds_id &lt;chr&gt; | protein_id &lt;chr&gt; | protein_version &lt;chr&gt; |\n",
       "|---|---|---|---|---|---|---|---|---|---|---|---|---|---|---|---|---|---|---|---|---|---|\n",
       "| 1 | 1 | havana | gene       | 150956201 | 150958296 | NA | + | NA | ENSMUSG00000102628 | 2 | ⋯ | NA     | NA                   | NA    | NA                                  | NA | NA                 | NA | NA | NA | NA |\n",
       "| 2 | 1 | havana | transcript | 150956201 | 150958296 | NA | + | NA | ENSMUSG00000102628 | 2 | ⋯ | havana | TEC                  | basic | NA (assigned to previous version 1) | NA | NA                 | NA | NA | NA | NA |\n",
       "| 3 | 1 | havana | exon       | 150956201 | 150958296 | NA | + | NA | ENSMUSG00000102628 | 2 | ⋯ | havana | TEC                  | basic | NA (assigned to previous version 1) | 1  | ENSMUSE00001342333 | 2  | NA | NA | NA |\n",
       "| 4 | 1 | havana | gene       | 150983666 | 150984611 | NA | + | NA | ENSMUSG00000100595 | 2 | ⋯ | NA     | NA                   | NA    | NA                                  | NA | NA                 | NA | NA | NA | NA |\n",
       "| 5 | 1 | havana | transcript | 150983666 | 150984611 | NA | + | NA | ENSMUSG00000100595 | 2 | ⋯ | havana | processed_pseudogene | basic | NA (assigned to previous version 1) | NA | NA                 | NA | NA | NA | NA |\n",
       "| 6 | 1 | havana | exon       | 150983666 | 150984611 | NA | + | NA | ENSMUSG00000100595 | 2 | ⋯ | havana | processed_pseudogene | basic | NA (assigned to previous version 1) | 1  | ENSMUSE00001324949 | 2  | NA | NA | NA |\n",
       "\n"
      ],
      "text/plain": [
       "  seqid source type       start     end       score strand phase\n",
       "1 1     havana gene       150956201 150958296 NA    +      NA   \n",
       "2 1     havana transcript 150956201 150958296 NA    +      NA   \n",
       "3 1     havana exon       150956201 150958296 NA    +      NA   \n",
       "4 1     havana gene       150983666 150984611 NA    +      NA   \n",
       "5 1     havana transcript 150983666 150984611 NA    +      NA   \n",
       "6 1     havana exon       150983666 150984611 NA    +      NA   \n",
       "  gene_id            gene_version ⋯ transcript_source transcript_biotype  \n",
       "1 ENSMUSG00000102628 2            ⋯ NA                NA                  \n",
       "2 ENSMUSG00000102628 2            ⋯ havana            TEC                 \n",
       "3 ENSMUSG00000102628 2            ⋯ havana            TEC                 \n",
       "4 ENSMUSG00000100595 2            ⋯ NA                NA                  \n",
       "5 ENSMUSG00000100595 2            ⋯ havana            processed_pseudogene\n",
       "6 ENSMUSG00000100595 2            ⋯ havana            processed_pseudogene\n",
       "  tag   transcript_support_level            exon_number exon_id           \n",
       "1 NA    NA                                  NA          NA                \n",
       "2 basic NA (assigned to previous version 1) NA          NA                \n",
       "3 basic NA (assigned to previous version 1) 1           ENSMUSE00001342333\n",
       "4 NA    NA                                  NA          NA                \n",
       "5 basic NA (assigned to previous version 1) NA          NA                \n",
       "6 basic NA (assigned to previous version 1) 1           ENSMUSE00001324949\n",
       "  exon_version ccds_id protein_id protein_version\n",
       "1 NA           NA      NA         NA             \n",
       "2 NA           NA      NA         NA             \n",
       "3 2            NA      NA         NA             \n",
       "4 NA           NA      NA         NA             \n",
       "5 NA           NA      NA         NA             \n",
       "6 2            NA      NA         NA             "
      ]
     },
     "metadata": {},
     "output_type": "display_data"
    }
   ],
   "source": [
    "# Read in annotation\n",
    "gtf_file <- \"01_raw_data/mmEnsemble107/Mus_musculus_Ensemble_107_new.gtf.gz\"\n",
    "anno <- readGFF(gtf_file)\n",
    "\n",
    "# Display dimensions of annotation\n",
    "dim(anno)\n",
    "\n",
    "# View annotation\n",
    "head(anno)"
   ]
  },
  {
   "cell_type": "code",
   "execution_count": 61,
   "id": "5a671baa-8bc1-47b8-b222-aa49dc62d463",
   "metadata": {},
   "outputs": [
    {
     "name": "stdout",
     "output_type": "stream",
     "text": [
      "          treatment treatment_group dam pup    sex\n",
      "G1_1_1_4    Control               1   1   4 Female\n",
      "G1_1_1_5    Control               1   1   5 Female\n",
      "G1_1_1_6    Control               1   1   6   Male\n",
      "G1_1_1_7    Control               1   1   7   Male\n",
      "G1_1_2_4    Control               1   2   4   Male\n",
      "G1_1_2_5    Control               1   2   5 Female\n",
      "G1_1_2_6    Control               1   2   6 Female\n",
      "G2_2_6_5   FAexcess               2   6   5 Female\n",
      "G2_2_6_6   FAexcess               2   6   6 Female\n",
      "G2_2_6_7   FAexcess               2   6   7 Female\n",
      "G2_2_6_8   FAexcess               2   6   8 Female\n",
      "G2_2_7_10  FAexcess               2   7  10 Female\n",
      "G2_2_7_11  FAexcess               2   7  11   Male\n",
      "G2_2_7_7   FAexcess               2   7   7   Male\n",
      "G2_2_7_8   FAexcess               2   7   8   Male\n",
      "G2_2_7_9   FAexcess               2   7   9 Female\n"
     ]
    }
   ],
   "source": [
    "# Derive experiment metadata from sample names\n",
    "sample_names <- colnames(counts)\n",
    "\n",
    "# Derive experiment metadata\n",
    "metadata <- as.data.frame(do.call(rbind, strsplit(sample_names, '[_]', perl=TRUE)))\n",
    "colnames(metadata) <- c('treatment', 'treatment_group', 'dam', 'pup')\n",
    "\n",
    "# Convert treatment levels\n",
    "metadata <- metadata %>%\n",
    "  mutate(treatment = ifelse(treatment == \"G1\", \"Control\", \n",
    "                            ifelse(treatment == \"G2\", \"FAexcess\", treatment)))\n",
    "\n",
    "# Set row names based on original sample names\n",
    "rownames(metadata) <- sample_names\n",
    "\n",
    "# Add sample sex\n",
    "metadata$sex <- c(\"Female\", \"Female\", \"Male\", \"Male\", \"Male\", \"Female\", \"Female\", \"Female\", \"Female\", \"Female\", \"Female\", \"Female\", \"Male\", \"Male\", \"Male\", \"Female\")\n",
    "\n",
    "# Print the resulting metadata\n",
    "print(metadata)"
   ]
  },
  {
   "cell_type": "code",
   "execution_count": 62,
   "id": "1a95d990-ad2f-4c38-908b-e3d06a34fa04",
   "metadata": {},
   "outputs": [
    {
     "data": {
      "text/plain": [
       "\n",
       " Control.Female FAexcess.Female    Control.Male   FAexcess.Male \n",
       "              4               6               3               3 "
      ]
     },
     "metadata": {},
     "output_type": "display_data"
    }
   ],
   "source": [
    "# Create groups\n",
    "metadata$group <- interaction(metadata$treatment, metadata$sex)\n",
    "table(metadata$group)"
   ]
  },
  {
   "cell_type": "markdown",
   "id": "a7dcaf0f-3307-4ecc-b438-1517a1c3aa40",
   "metadata": {},
   "source": [
    "## Preprocess and Normalize"
   ]
  },
  {
   "cell_type": "code",
   "execution_count": 63,
   "id": "3c620026-9d8b-423f-9b1f-875822b3762b",
   "metadata": {},
   "outputs": [
    {
     "data": {
      "text/html": [
       "<table class=\"dataframe\">\n",
       "<caption>A data.frame: 16 × 3</caption>\n",
       "<thead>\n",
       "\t<tr><th></th><th scope=col>group</th><th scope=col>lib.size</th><th scope=col>norm.factors</th></tr>\n",
       "\t<tr><th></th><th scope=col>&lt;fct&gt;</th><th scope=col>&lt;dbl&gt;</th><th scope=col>&lt;dbl&gt;</th></tr>\n",
       "</thead>\n",
       "<tbody>\n",
       "\t<tr><th scope=row>G1_1_1_4</th><td>1</td><td>12300720</td><td>0.9936017</td></tr>\n",
       "\t<tr><th scope=row>G1_1_1_5</th><td>1</td><td>10909151</td><td>0.9836129</td></tr>\n",
       "\t<tr><th scope=row>G1_1_1_6</th><td>1</td><td>13508769</td><td>0.9758412</td></tr>\n",
       "\t<tr><th scope=row>G1_1_1_7</th><td>1</td><td>15557657</td><td>0.9423234</td></tr>\n",
       "\t<tr><th scope=row>G1_1_2_4</th><td>1</td><td> 9354623</td><td>0.9903152</td></tr>\n",
       "\t<tr><th scope=row>G1_1_2_5</th><td>1</td><td>15495778</td><td>0.8499332</td></tr>\n",
       "\t<tr><th scope=row>G1_1_2_6</th><td>1</td><td>13763281</td><td>0.9829010</td></tr>\n",
       "\t<tr><th scope=row>G2_2_6_5</th><td>1</td><td>13304554</td><td>1.0070883</td></tr>\n",
       "\t<tr><th scope=row>G2_2_6_6</th><td>1</td><td> 9568818</td><td>1.0721004</td></tr>\n",
       "\t<tr><th scope=row>G2_2_6_7</th><td>1</td><td>12258238</td><td>1.0625026</td></tr>\n",
       "\t<tr><th scope=row>G2_2_6_8</th><td>1</td><td>13925825</td><td>1.0586937</td></tr>\n",
       "\t<tr><th scope=row>G2_2_7_10</th><td>1</td><td>10819156</td><td>1.0504731</td></tr>\n",
       "\t<tr><th scope=row>G2_2_7_11</th><td>1</td><td> 9230822</td><td>1.0335742</td></tr>\n",
       "\t<tr><th scope=row>G2_2_7_7</th><td>1</td><td>13526719</td><td>1.0022769</td></tr>\n",
       "\t<tr><th scope=row>G2_2_7_8</th><td>1</td><td> 9115576</td><td>0.9784212</td></tr>\n",
       "\t<tr><th scope=row>G2_2_7_9</th><td>1</td><td>10679618</td><td>1.0400946</td></tr>\n",
       "</tbody>\n",
       "</table>\n"
      ],
      "text/latex": [
       "A data.frame: 16 × 3\n",
       "\\begin{tabular}{r|lll}\n",
       "  & group & lib.size & norm.factors\\\\\n",
       "  & <fct> & <dbl> & <dbl>\\\\\n",
       "\\hline\n",
       "\tG1\\_1\\_1\\_4 & 1 & 12300720 & 0.9936017\\\\\n",
       "\tG1\\_1\\_1\\_5 & 1 & 10909151 & 0.9836129\\\\\n",
       "\tG1\\_1\\_1\\_6 & 1 & 13508769 & 0.9758412\\\\\n",
       "\tG1\\_1\\_1\\_7 & 1 & 15557657 & 0.9423234\\\\\n",
       "\tG1\\_1\\_2\\_4 & 1 &  9354623 & 0.9903152\\\\\n",
       "\tG1\\_1\\_2\\_5 & 1 & 15495778 & 0.8499332\\\\\n",
       "\tG1\\_1\\_2\\_6 & 1 & 13763281 & 0.9829010\\\\\n",
       "\tG2\\_2\\_6\\_5 & 1 & 13304554 & 1.0070883\\\\\n",
       "\tG2\\_2\\_6\\_6 & 1 &  9568818 & 1.0721004\\\\\n",
       "\tG2\\_2\\_6\\_7 & 1 & 12258238 & 1.0625026\\\\\n",
       "\tG2\\_2\\_6\\_8 & 1 & 13925825 & 1.0586937\\\\\n",
       "\tG2\\_2\\_7\\_10 & 1 & 10819156 & 1.0504731\\\\\n",
       "\tG2\\_2\\_7\\_11 & 1 &  9230822 & 1.0335742\\\\\n",
       "\tG2\\_2\\_7\\_7 & 1 & 13526719 & 1.0022769\\\\\n",
       "\tG2\\_2\\_7\\_8 & 1 &  9115576 & 0.9784212\\\\\n",
       "\tG2\\_2\\_7\\_9 & 1 & 10679618 & 1.0400946\\\\\n",
       "\\end{tabular}\n"
      ],
      "text/markdown": [
       "\n",
       "A data.frame: 16 × 3\n",
       "\n",
       "| <!--/--> | group &lt;fct&gt; | lib.size &lt;dbl&gt; | norm.factors &lt;dbl&gt; |\n",
       "|---|---|---|---|\n",
       "| G1_1_1_4 | 1 | 12300720 | 0.9936017 |\n",
       "| G1_1_1_5 | 1 | 10909151 | 0.9836129 |\n",
       "| G1_1_1_6 | 1 | 13508769 | 0.9758412 |\n",
       "| G1_1_1_7 | 1 | 15557657 | 0.9423234 |\n",
       "| G1_1_2_4 | 1 |  9354623 | 0.9903152 |\n",
       "| G1_1_2_5 | 1 | 15495778 | 0.8499332 |\n",
       "| G1_1_2_6 | 1 | 13763281 | 0.9829010 |\n",
       "| G2_2_6_5 | 1 | 13304554 | 1.0070883 |\n",
       "| G2_2_6_6 | 1 |  9568818 | 1.0721004 |\n",
       "| G2_2_6_7 | 1 | 12258238 | 1.0625026 |\n",
       "| G2_2_6_8 | 1 | 13925825 | 1.0586937 |\n",
       "| G2_2_7_10 | 1 | 10819156 | 1.0504731 |\n",
       "| G2_2_7_11 | 1 |  9230822 | 1.0335742 |\n",
       "| G2_2_7_7 | 1 | 13526719 | 1.0022769 |\n",
       "| G2_2_7_8 | 1 |  9115576 | 0.9784212 |\n",
       "| G2_2_7_9 | 1 | 10679618 | 1.0400946 |\n",
       "\n"
      ],
      "text/plain": [
       "          group lib.size norm.factors\n",
       "G1_1_1_4  1     12300720 0.9936017   \n",
       "G1_1_1_5  1     10909151 0.9836129   \n",
       "G1_1_1_6  1     13508769 0.9758412   \n",
       "G1_1_1_7  1     15557657 0.9423234   \n",
       "G1_1_2_4  1      9354623 0.9903152   \n",
       "G1_1_2_5  1     15495778 0.8499332   \n",
       "G1_1_2_6  1     13763281 0.9829010   \n",
       "G2_2_6_5  1     13304554 1.0070883   \n",
       "G2_2_6_6  1      9568818 1.0721004   \n",
       "G2_2_6_7  1     12258238 1.0625026   \n",
       "G2_2_6_8  1     13925825 1.0586937   \n",
       "G2_2_7_10 1     10819156 1.0504731   \n",
       "G2_2_7_11 1      9230822 1.0335742   \n",
       "G2_2_7_7  1     13526719 1.0022769   \n",
       "G2_2_7_8  1      9115576 0.9784212   \n",
       "G2_2_7_9  1     10679618 1.0400946   "
      ]
     },
     "metadata": {},
     "output_type": "display_data"
    }
   ],
   "source": [
    "d0 <- calcNormFactors(d0)\n",
    "d0$samples"
   ]
  },
  {
   "cell_type": "code",
   "execution_count": 64,
   "id": "96adee19-7069-4c42-adeb-17380efe2547",
   "metadata": {},
   "outputs": [
    {
     "data": {
      "text/html": [
       "<table class=\"dataframe\">\n",
       "<caption>A matrix: 6 × 4 of type dbl</caption>\n",
       "<thead>\n",
       "\t<tr><th></th><th scope=col>groupControl.Female</th><th scope=col>groupFAexcess.Female</th><th scope=col>groupControl.Male</th><th scope=col>groupFAexcess.Male</th></tr>\n",
       "</thead>\n",
       "<tbody>\n",
       "\t<tr><th scope=row>1</th><td>1</td><td>0</td><td>0</td><td>0</td></tr>\n",
       "\t<tr><th scope=row>2</th><td>1</td><td>0</td><td>0</td><td>0</td></tr>\n",
       "\t<tr><th scope=row>3</th><td>0</td><td>0</td><td>1</td><td>0</td></tr>\n",
       "\t<tr><th scope=row>4</th><td>0</td><td>0</td><td>1</td><td>0</td></tr>\n",
       "\t<tr><th scope=row>5</th><td>0</td><td>0</td><td>1</td><td>0</td></tr>\n",
       "\t<tr><th scope=row>6</th><td>1</td><td>0</td><td>0</td><td>0</td></tr>\n",
       "</tbody>\n",
       "</table>\n"
      ],
      "text/latex": [
       "A matrix: 6 × 4 of type dbl\n",
       "\\begin{tabular}{r|llll}\n",
       "  & groupControl.Female & groupFAexcess.Female & groupControl.Male & groupFAexcess.Male\\\\\n",
       "\\hline\n",
       "\t1 & 1 & 0 & 0 & 0\\\\\n",
       "\t2 & 1 & 0 & 0 & 0\\\\\n",
       "\t3 & 0 & 0 & 1 & 0\\\\\n",
       "\t4 & 0 & 0 & 1 & 0\\\\\n",
       "\t5 & 0 & 0 & 1 & 0\\\\\n",
       "\t6 & 1 & 0 & 0 & 0\\\\\n",
       "\\end{tabular}\n"
      ],
      "text/markdown": [
       "\n",
       "A matrix: 6 × 4 of type dbl\n",
       "\n",
       "| <!--/--> | groupControl.Female | groupFAexcess.Female | groupControl.Male | groupFAexcess.Male |\n",
       "|---|---|---|---|---|\n",
       "| 1 | 1 | 0 | 0 | 0 |\n",
       "| 2 | 1 | 0 | 0 | 0 |\n",
       "| 3 | 0 | 0 | 1 | 0 |\n",
       "| 4 | 0 | 0 | 1 | 0 |\n",
       "| 5 | 0 | 0 | 1 | 0 |\n",
       "| 6 | 1 | 0 | 0 | 0 |\n",
       "\n"
      ],
      "text/plain": [
       "  groupControl.Female groupFAexcess.Female groupControl.Male groupFAexcess.Male\n",
       "1 1                   0                    0                 0                 \n",
       "2 1                   0                    0                 0                 \n",
       "3 0                   0                    1                 0                 \n",
       "4 0                   0                    1                 0                 \n",
       "5 0                   0                    1                 0                 \n",
       "6 1                   0                    0                 0                 "
      ]
     },
     "metadata": {},
     "output_type": "display_data"
    }
   ],
   "source": [
    "# Create design matrix\n",
    "group <- metadata$group\n",
    "mm <- model.matrix(~0 + group)\n",
    "head(mm)"
   ]
  },
  {
   "cell_type": "code",
   "execution_count": 65,
   "id": "234ba98f-f141-427a-8bd1-23ad79c1e2d6",
   "metadata": {},
   "outputs": [
    {
     "data": {
      "text/html": [
       "17862"
      ],
      "text/latex": [
       "17862"
      ],
      "text/markdown": [
       "17862"
      ],
      "text/plain": [
       "[1] 17862"
      ]
     },
     "metadata": {},
     "output_type": "display_data"
    }
   ],
   "source": [
    "# Filter genes by expression\n",
    "keep <- filterByExpr(d0, mm)\n",
    "\n",
    "# View number of genes retained\n",
    "sum(keep) "
   ]
  },
  {
   "cell_type": "code",
   "execution_count": 66,
   "id": "5b5a33da-6bff-42fe-a72d-244f2b714573",
   "metadata": {},
   "outputs": [],
   "source": [
    "d <- d0[keep,]"
   ]
  },
  {
   "cell_type": "code",
   "execution_count": 67,
   "id": "4f3b6b96-e7d6-4e13-bbef-5d74d64f635f",
   "metadata": {},
   "outputs": [
    {
     "data": {
      "image/png": "[encoded data removed]",
      "text/plain": [
       "plot without title"
      ]
     },
     "metadata": {
      "image/png": {
       "height": 420,
       "width": 420
      }
     },
     "output_type": "display_data"
    }
   ],
   "source": [
    "# Define unique groups and corresponding colors\n",
    "groups <- unique(metadata$group)\n",
    "colors <- rainbow(length(groups))\n",
    "\n",
    "# Map colors to groups\n",
    "group_colors <- setNames(colors, groups)\n",
    "\n",
    "# Visualize data with multidimensional scaling plot\n",
    "plotMDS(d, col = group_colors[metadata$group], cex=1)\n",
    "\n",
    "# Add legend\n",
    "legend(\"topright\", legend = groups, col = colors, pch = 1, cex = 1)"
   ]
  },
  {
   "cell_type": "code",
   "execution_count": 68,
   "id": "bb0b8304-abe6-4cc7-b98d-149e59ad76b2",
   "metadata": {},
   "outputs": [],
   "source": [
    "# Obtain log-transformed normalized expression data\n",
    "logcpm <- cpm(d, prior.count=2, log=TRUE)\n",
    "write.table(logcpm,\"05_gene_counts/sex_stratified_normalized_counts.txt\",sep=\"\\t\",quote=F)"
   ]
  },
  {
   "cell_type": "markdown",
   "id": "9fde4baf-e09d-4acb-8d83-66b01f8c5316",
   "metadata": {},
   "source": [
    "## Voom Transform and Calculate Variance Weights"
   ]
  },
  {
   "cell_type": "code",
   "execution_count": 69,
   "id": "2a487ec6-f17c-4118-a9fe-fbb6e97b6197",
   "metadata": {},
   "outputs": [
    {
     "data": {
      "image/png": "[encoded data removed]",
      "text/plain": [
       "Plot with title “voom: Mean-variance trend”"
      ]
     },
     "metadata": {
      "image/png": {
       "height": 420,
       "width": 420
      }
     },
     "output_type": "display_data"
    }
   ],
   "source": [
    "# Voom transformation\n",
    "y <- voom(d, mm, plot = T)"
   ]
  },
  {
   "cell_type": "markdown",
   "id": "04c6bd00-1d47-465a-af2f-d8045658d0d7",
   "metadata": {},
   "source": [
    "## Fit Linear Model in Limma"
   ]
  },
  {
   "cell_type": "code",
   "execution_count": 70,
   "id": "badc6075-be06-43bf-aa03-17c383c3ada2",
   "metadata": {},
   "outputs": [
    {
     "data": {
      "text/html": [
       "<table class=\"dataframe\">\n",
       "<caption>A matrix: 6 × 4 of type dbl</caption>\n",
       "<thead>\n",
       "\t<tr><th></th><th scope=col>groupControl.Female</th><th scope=col>groupFAexcess.Female</th><th scope=col>groupControl.Male</th><th scope=col>groupFAexcess.Male</th></tr>\n",
       "</thead>\n",
       "<tbody>\n",
       "\t<tr><th scope=row>ENSMUSG00000051285</th><td> 5.7008444</td><td> 5.7948592</td><td> 5.7928280</td><td> 5.7165064</td></tr>\n",
       "\t<tr><th scope=row>ENSMUSG00000103509</th><td>-1.5944501</td><td>-0.3767355</td><td>-1.2635969</td><td>-1.4581499</td></tr>\n",
       "\t<tr><th scope=row>ENSMUSG00000097797</th><td> 0.8824385</td><td> 0.2077341</td><td> 0.5401060</td><td> 0.5020416</td></tr>\n",
       "\t<tr><th scope=row>ENSMUSG00000026312</th><td> 3.6851302</td><td> 3.9513246</td><td> 3.6272551</td><td> 3.5601872</td></tr>\n",
       "\t<tr><th scope=row>ENSMUSG00000039748</th><td> 0.8096522</td><td> 1.0550842</td><td> 0.9400093</td><td> 0.9146627</td></tr>\n",
       "\t<tr><th scope=row>ENSMUSG00000057363</th><td> 5.1224601</td><td> 4.4846058</td><td> 4.8260252</td><td> 4.4156413</td></tr>\n",
       "</tbody>\n",
       "</table>\n"
      ],
      "text/latex": [
       "A matrix: 6 × 4 of type dbl\n",
       "\\begin{tabular}{r|llll}\n",
       "  & groupControl.Female & groupFAexcess.Female & groupControl.Male & groupFAexcess.Male\\\\\n",
       "\\hline\n",
       "\tENSMUSG00000051285 &  5.7008444 &  5.7948592 &  5.7928280 &  5.7165064\\\\\n",
       "\tENSMUSG00000103509 & -1.5944501 & -0.3767355 & -1.2635969 & -1.4581499\\\\\n",
       "\tENSMUSG00000097797 &  0.8824385 &  0.2077341 &  0.5401060 &  0.5020416\\\\\n",
       "\tENSMUSG00000026312 &  3.6851302 &  3.9513246 &  3.6272551 &  3.5601872\\\\\n",
       "\tENSMUSG00000039748 &  0.8096522 &  1.0550842 &  0.9400093 &  0.9146627\\\\\n",
       "\tENSMUSG00000057363 &  5.1224601 &  4.4846058 &  4.8260252 &  4.4156413\\\\\n",
       "\\end{tabular}\n"
      ],
      "text/markdown": [
       "\n",
       "A matrix: 6 × 4 of type dbl\n",
       "\n",
       "| <!--/--> | groupControl.Female | groupFAexcess.Female | groupControl.Male | groupFAexcess.Male |\n",
       "|---|---|---|---|---|\n",
       "| ENSMUSG00000051285 |  5.7008444 |  5.7948592 |  5.7928280 |  5.7165064 |\n",
       "| ENSMUSG00000103509 | -1.5944501 | -0.3767355 | -1.2635969 | -1.4581499 |\n",
       "| ENSMUSG00000097797 |  0.8824385 |  0.2077341 |  0.5401060 |  0.5020416 |\n",
       "| ENSMUSG00000026312 |  3.6851302 |  3.9513246 |  3.6272551 |  3.5601872 |\n",
       "| ENSMUSG00000039748 |  0.8096522 |  1.0550842 |  0.9400093 |  0.9146627 |\n",
       "| ENSMUSG00000057363 |  5.1224601 |  4.4846058 |  4.8260252 |  4.4156413 |\n",
       "\n"
      ],
      "text/plain": [
       "                   groupControl.Female groupFAexcess.Female groupControl.Male\n",
       "ENSMUSG00000051285  5.7008444           5.7948592            5.7928280       \n",
       "ENSMUSG00000103509 -1.5944501          -0.3767355           -1.2635969       \n",
       "ENSMUSG00000097797  0.8824385           0.2077341            0.5401060       \n",
       "ENSMUSG00000026312  3.6851302           3.9513246            3.6272551       \n",
       "ENSMUSG00000039748  0.8096522           1.0550842            0.9400093       \n",
       "ENSMUSG00000057363  5.1224601           4.4846058            4.8260252       \n",
       "                   groupFAexcess.Male\n",
       "ENSMUSG00000051285  5.7165064        \n",
       "ENSMUSG00000103509 -1.4581499        \n",
       "ENSMUSG00000097797  0.5020416        \n",
       "ENSMUSG00000026312  3.5601872        \n",
       "ENSMUSG00000039748  0.9146627        \n",
       "ENSMUSG00000057363  4.4156413        "
      ]
     },
     "metadata": {},
     "output_type": "display_data"
    }
   ],
   "source": [
    "# Fit linear model\n",
    "fit <- lmFit(y, mm)\n",
    "\n",
    "head(coef(fit))"
   ]
  },
  {
   "cell_type": "markdown",
   "id": "d828411c-22c7-43a0-8aac-4cf88f8e299a",
   "metadata": {},
   "source": [
    "## DEG Analysis"
   ]
  },
  {
   "cell_type": "code",
   "execution_count": 71,
   "id": "65a2c6e5-5b5f-48b3-8af9-505b53012946",
   "metadata": {},
   "outputs": [
    {
     "name": "stdout",
     "output_type": "stream",
     "text": [
      "     [,1]              [,2]             [,3]             [,4]             \n",
      "[1,] \"Control.Female\"  \"Control.Female\" \"Control.Female\" \"FAexcess.Female\"\n",
      "[2,] \"FAexcess.Female\" \"Control.Male\"   \"FAexcess.Male\"  \"Control.Male\"   \n",
      "     [,5]              [,6]           \n",
      "[1,] \"FAexcess.Female\" \"Control.Male\" \n",
      "[2,] \"FAexcess.Male\"   \"FAexcess.Male\"\n",
      "     [,1]              [,2]             [,3]             [,4]             \n",
      "[1,] \"FAexcess.Female\" \"Control.Male\"   \"FAexcess.Male\"  \"FAexcess.Female\"\n",
      "[2,] \"Control.Female\"  \"Control.Female\" \"Control.Female\" \"Control.Male\"   \n",
      "     [,5]              [,6]           \n",
      "[1,] \"FAexcess.Male\"   \"FAexcess.Male\"\n",
      "[2,] \"FAexcess.Female\" \"Control.Male\" \n"
     ]
    }
   ],
   "source": [
    "# Determine pairwise combinations for analysis\n",
    "groups <- levels(metadata$group)\n",
    "pairwise_combinations <- combn(groups, 2, simplify = TRUE)\n",
    "print(pairwise_combinations)\n",
    "\n",
    "# FLip so condition comes before control\n",
    "pairwise_combinations <- apply(pairwise_combinations, 2, rev)\n",
    "\n",
    "# Switch exception\n",
    "pairwise_combinations[1, 4] <- \"FAexcess.Female\"\n",
    "pairwise_combinations[2, 4] <- \"Control.Male\"\n",
    "\n",
    "print(pairwise_combinations)"
   ]
  },
  {
   "cell_type": "code",
   "execution_count": 72,
   "id": "4fc0241e-c640-4e3d-9dc0-d2b15b021822",
   "metadata": {},
   "outputs": [
    {
     "name": "stdout",
     "output_type": "stream",
     "text": [
      "Processing: FAexcess.Female vs Control.Female \n",
      "Contrast columns: groupFAexcess.Female - groupControl.Female \n",
      "                      Contrasts\n",
      "Levels                 groupFAexcess.Female-groupControl.Female\n",
      "  groupControl.Female                                        -1\n",
      "  groupFAexcess.Female                                        1\n",
      "  groupControl.Male                                           0\n",
      "  groupFAexcess.Male                                          0\n",
      "Comparison: faexcess_female vs control_female - DEGs: 161 \n",
      "                        logFC   AveExpr         t      P.Value  adj.P.Val\n",
      "ENSMUSG00000085028  1.8189886 0.9664698  6.933464 2.185268e-06 0.03541077\n",
      "ENSMUSG00000020722 -1.8351408 0.4267717 -6.476827 5.204264e-06 0.03541077\n",
      "ENSMUSG00000045519 -1.0469321 4.8550325 -6.303640 7.286262e-06 0.03541077\n",
      "ENSMUSG00000043065  1.1976760 2.6927432  6.004621 1.315074e-05 0.03541077\n",
      "ENSMUSG00000025986  0.7265465 5.7662883  5.914425 1.575121e-05 0.03541077\n",
      "ENSMUSG00000028890 -0.6499939 6.6450933 -5.841717 1.823131e-05 0.03541077\n",
      "ENSMUSG00000027778  1.1331908 2.4679749  5.820065 1.904525e-05 0.03541077\n",
      "ENSMUSG00000002732 -1.3175986 1.9046706 -5.788753 2.028918e-05 0.03541077\n",
      "ENSMUSG00000003865  1.2741727 3.1899634  5.777106 2.077301e-05 0.03541077\n",
      "ENSMUSG00000024151  0.7153756 4.7398062  5.748976 2.199123e-05 0.03541077\n",
      "                          B\n",
      "ENSMUSG00000085028 3.491892\n",
      "ENSMUSG00000020722 3.093703\n",
      "ENSMUSG00000045519 3.967651\n",
      "ENSMUSG00000043065 3.230995\n",
      "ENSMUSG00000025986 3.226780\n",
      "ENSMUSG00000028890 3.079392\n",
      "ENSMUSG00000027778 2.871139\n",
      "ENSMUSG00000002732 2.750375\n",
      "ENSMUSG00000003865 2.900084\n",
      "ENSMUSG00000024151 2.918033\n",
      "Processing: Control.Male vs Control.Female \n",
      "Contrast columns: groupControl.Male - groupControl.Female \n",
      "                      Contrasts\n",
      "Levels                 groupControl.Male-groupControl.Female\n",
      "  groupControl.Female                                     -1\n",
      "  groupFAexcess.Female                                     0\n",
      "  groupControl.Male                                        1\n",
      "  groupFAexcess.Male                                       0\n",
      "Comparison: control_male vs control_female - DEGs: 0 \n",
      "                        logFC     AveExpr         t      P.Value adj.P.Val\n",
      "ENSMUSG00000069045  6.5733569  0.77202324  4.746635 0.0001781117 0.9999755\n",
      "ENSMUSG00000069049  7.8060433  1.71729782  4.693463 0.0001995997 0.9999755\n",
      "ENSMUSG00000056673  6.5937082  0.05047927  4.589748 0.0002494317 0.9999755\n",
      "ENSMUSG00000068457  5.9198119 -0.41298899  4.121274 0.0006890613 0.9999755\n",
      "ENSMUSG00000035150 -0.5890661  7.10215302 -3.746146 0.0015651862 0.9999755\n",
      "ENSMUSG00000099876  3.3279236 -2.28123941  3.723996 0.0016429641 0.9999755\n",
      "ENSMUSG00000085028  1.0936945  0.96646976  3.529737 0.0025132239 0.9999755\n",
      "ENSMUSG00000107497 -1.2934062  0.24482095 -3.437698 0.0030728361 0.9999755\n",
      "ENSMUSG00000022876  1.7643661 -0.48944719  3.389921 0.0034103381 0.9999755\n",
      "ENSMUSG00000109102  1.5455209 -0.78561405  3.350826 0.0037135642 0.9999755\n",
      "                           B\n",
      "ENSMUSG00000069045 -4.361060\n",
      "ENSMUSG00000069049 -4.366254\n",
      "ENSMUSG00000056673 -4.456552\n",
      "ENSMUSG00000068457 -4.471613\n",
      "ENSMUSG00000035150 -3.604067\n",
      "ENSMUSG00000099876 -4.542018\n",
      "ENSMUSG00000085028 -4.445208\n",
      "ENSMUSG00000107497 -4.471264\n",
      "ENSMUSG00000022876 -4.506137\n",
      "ENSMUSG00000109102 -4.521580\n",
      "Processing: FAexcess.Male vs Control.Female \n",
      "Contrast columns: groupFAexcess.Male - groupControl.Female \n",
      "                      Contrasts\n",
      "Levels                 groupFAexcess.Male-groupControl.Female\n",
      "  groupControl.Female                                      -1\n",
      "  groupFAexcess.Female                                      0\n",
      "  groupControl.Male                                         0\n",
      "  groupFAexcess.Male                                        1\n",
      "Comparison: faexcess_male vs control_female - DEGs: 0 \n",
      "                        logFC     AveExpr         t      P.Value  adj.P.Val\n",
      "ENSMUSG00000022769  1.1498818  3.08995265  6.470001 5.273347e-06 0.09419252\n",
      "ENSMUSG00000019763  0.9948655  3.61958494  5.873198 1.711138e-05 0.13479510\n",
      "ENSMUSG00000085028  1.7099070  0.96646976  5.734657 2.263942e-05 0.13479510\n",
      "ENSMUSG00000099876  4.4782914 -2.28123941  5.274108 5.841000e-05 0.24266729\n",
      "ENSMUSG00000044534  4.3597800 -1.13544504  5.158302 7.442186e-05 0.24266729\n",
      "ENSMUSG00000058886 -0.6458199  7.00856229 -5.074522 8.876011e-05 0.24266729\n",
      "ENSMUSG00000023951  1.2275482  5.42280389  5.023226 9.890739e-05 0.24266729\n",
      "ENSMUSG00000017737  1.5932624  3.00472741  4.978657 1.086854e-04 0.24266729\n",
      "ENSMUSG00000056673  6.7372066  0.05047927  4.684944 2.032806e-04 0.38439791\n",
      "ENSMUSG00000030403  0.6195927  5.10522219  4.628616 2.294211e-04 0.38439791\n",
      "                            B\n",
      "ENSMUSG00000022769  3.4552924\n",
      "ENSMUSG00000019763  2.7265682\n",
      "ENSMUSG00000085028  0.6985223\n",
      "ENSMUSG00000099876 -1.7768649\n",
      "ENSMUSG00000044534 -1.8803764\n",
      "ENSMUSG00000058886  1.5931330\n",
      "ENSMUSG00000023951  1.4808181\n",
      "ENSMUSG00000017737  1.1147941\n",
      "ENSMUSG00000056673 -1.1488318\n",
      "ENSMUSG00000030403  0.7178221\n",
      "Processing: FAexcess.Female vs Control.Male \n",
      "Contrast columns: groupFAexcess.Female - groupControl.Male \n",
      "                      Contrasts\n",
      "Levels                 groupFAexcess.Female-groupControl.Male\n",
      "  groupControl.Female                                       0\n",
      "  groupFAexcess.Female                                      1\n",
      "  groupControl.Male                                        -1\n",
      "  groupFAexcess.Male                                        0\n",
      "Comparison: faexcess_female vs control_male - DEGs: 0 \n",
      "                        logFC    AveExpr         t      P.Value adj.P.Val\n",
      "ENSMUSG00000028890 -0.6872118 6.64509333 -5.639621 2.747133e-05 0.1343445\n",
      "ENSMUSG00000069049 -8.1086869 1.71729782 -5.534785 3.405072e-05 0.1343445\n",
      "ENSMUSG00000042043 -0.8059220 8.21737993 -5.517066 3.531379e-05 0.1343445\n",
      "ENSMUSG00000022820 -0.8678524 7.05603210 -5.510484 3.579519e-05 0.1343445\n",
      "ENSMUSG00000056673 -7.0954719 0.05047927 -5.437474 4.161046e-05 0.1343445\n",
      "ENSMUSG00000038943  1.0536465 3.70268371  5.341959 5.071665e-05 0.1343445\n",
      "ENSMUSG00000020267 -0.8123932 9.71931417 -5.285853 5.699723e-05 0.1343445\n",
      "ENSMUSG00000023015  0.7095679 5.06516859  5.259879 6.016997e-05 0.1343445\n",
      "ENSMUSG00000069045 -8.1994397 0.77202324 -5.184742 7.040791e-05 0.1397362\n",
      "ENSMUSG00000045519 -0.9248157 4.85503250 -5.087416 8.638144e-05 0.1413604\n",
      "                           B\n",
      "ENSMUSG00000028890 2.7093336\n",
      "ENSMUSG00000069049 1.4468901\n",
      "ENSMUSG00000042043 2.4723067\n",
      "ENSMUSG00000022820 2.4595625\n",
      "ENSMUSG00000056673 0.4723057\n",
      "ENSMUSG00000038943 2.0541965\n",
      "ENSMUSG00000020267 2.0201013\n",
      "ENSMUSG00000023015 1.9715988\n",
      "ENSMUSG00000069045 0.2680024\n",
      "ENSMUSG00000045519 1.6355886\n",
      "Processing: FAexcess.Male vs FAexcess.Female \n",
      "Contrast columns: groupFAexcess.Male - groupFAexcess.Female \n",
      "                      Contrasts\n",
      "Levels                 groupFAexcess.Male-groupFAexcess.Female\n",
      "  groupControl.Female                                        0\n",
      "  groupFAexcess.Female                                      -1\n",
      "  groupControl.Male                                          0\n",
      "  groupFAexcess.Male                                         1\n",
      "Comparison: faexcess_male vs faexcess_female - DEGs: 0 \n",
      "                        logFC     AveExpr         t      P.Value adj.P.Val\n",
      "ENSMUSG00000099876  4.5783461 -2.28123941  6.325745 6.978365e-06 0.1246475\n",
      "ENSMUSG00000056673  7.2389703  0.05047927  5.540718 3.363826e-05 0.3004233\n",
      "ENSMUSG00000069049  7.8269919  1.71729782  5.338788 5.105191e-05 0.3039631\n",
      "ENSMUSG00000069045  7.9409237  0.77202324  5.008104 1.021199e-04 0.4560163\n",
      "ENSMUSG00000068457  6.3678592 -0.41298899  4.480287 3.158707e-04 0.9998391\n",
      "ENSMUSG00000096775  0.7177613  2.51098675  4.092327 7.339975e-04 0.9998391\n",
      "ENSMUSG00000111264  1.7555553  1.45572217  4.083786 7.478133e-04 0.9998391\n",
      "ENSMUSG00000016918 -1.0932571  3.29641567 -3.959454 9.812924e-04 0.9998391\n",
      "ENSMUSG00000096768  4.7729961  1.34145621  3.844271 1.262591e-03 0.9998391\n",
      "ENSMUSG00000035121  1.2461279  0.35650715  3.788038 1.428007e-03 0.9998391\n",
      "                           B\n",
      "ENSMUSG00000099876 -4.149467\n",
      "ENSMUSG00000056673 -3.949776\n",
      "ENSMUSG00000069049 -3.568522\n",
      "ENSMUSG00000069045 -3.979794\n",
      "ENSMUSG00000068457 -4.142148\n",
      "ENSMUSG00000096775 -3.115662\n",
      "ENSMUSG00000111264 -3.506355\n",
      "ENSMUSG00000016918 -2.994882\n",
      "ENSMUSG00000096768 -3.615441\n",
      "ENSMUSG00000035121 -3.881537\n",
      "Processing: FAexcess.Male vs Control.Male \n",
      "Contrast columns: groupFAexcess.Male - groupControl.Male \n",
      "                      Contrasts\n",
      "Levels                 groupFAexcess.Male-groupControl.Male\n",
      "  groupControl.Female                                     0\n",
      "  groupFAexcess.Female                                    0\n",
      "  groupControl.Male                                      -1\n",
      "  groupFAexcess.Male                                      1\n",
      "Comparison: faexcess_male vs control_male - DEGs: 0 \n",
      "                        logFC    AveExpr         t      P.Value adj.P.Val\n",
      "ENSMUSG00000021453  1.0201965  3.9906090  4.780064 0.0001658242 0.9998472\n",
      "ENSMUSG00000058886 -0.5671886  7.0085623 -4.169862 0.0006197803 0.9998472\n",
      "ENSMUSG00000086806  2.1034795 -0.7014112  4.158689 0.0006350615 0.9998472\n",
      "ENSMUSG00000022769  0.7460798  3.0899527  4.048646 0.0008074656 0.9998472\n",
      "ENSMUSG00000023015  0.6284392  5.0651686  4.031016 0.0008391757 0.9998472\n",
      "ENSMUSG00000046245  2.3613100 -0.1871550  3.957585 0.0009853106 0.9998472\n",
      "ENSMUSG00000029701  0.7550761  4.4807046  3.899111 0.0011197811 0.9998472\n",
      "ENSMUSG00000078862 -1.0783667  3.8071072 -3.885471 0.0011537112 0.9998472\n",
      "ENSMUSG00000051639 -0.7108779  3.6656715 -3.832444 0.0012957092 0.9998472\n",
      "ENSMUSG00000017737  1.3034690  3.0047274  3.831608 0.0012980834 0.9998472\n",
      "                           B\n",
      "ENSMUSG00000021453 -3.816337\n",
      "ENSMUSG00000058886 -3.574971\n",
      "ENSMUSG00000086806 -4.514150\n",
      "ENSMUSG00000022769 -4.070952\n",
      "ENSMUSG00000023015 -3.777771\n",
      "ENSMUSG00000046245 -4.496659\n",
      "ENSMUSG00000029701 -3.888311\n",
      "ENSMUSG00000078862 -4.014294\n",
      "ENSMUSG00000051639 -4.047450\n",
      "ENSMUSG00000017737 -4.136578\n"
     ]
    }
   ],
   "source": [
    "# Loop over each pairwise combination\n",
    "for (i in 1:ncol(pairwise_combinations)) {\n",
    "  # Extract the pair\n",
    "  group1 <- pairwise_combinations[1, i]\n",
    "  group2 <- pairwise_combinations[2, i]\n",
    "  \n",
    "  # Create contrast names that match the coefficients\n",
    "  group1_col <- paste0(\"group\", group1)\n",
    "  group2_col <- paste0(\"group\", group2)\n",
    "  \n",
    "  # Print for debugging\n",
    "  cat(\"Processing:\", group1, \"vs\", group2, \"\\n\")\n",
    "  cat(\"Contrast columns:\", group1_col, \"-\", group2_col, \"\\n\")\n",
    "  \n",
    "  # Define contrast\n",
    "  contr <- makeContrasts(contrasts = paste0(group1_col, \"-\", group2_col), levels = colnames(coef(fit)))\n",
    "  \n",
    "  # Check contrast definition\n",
    "  print(contr)\n",
    "  \n",
    "  # Estimate contrast for each gene\n",
    "  tmp <- contrasts.fit(fit, contr)\n",
    "  \n",
    "  # Apply eBayes\n",
    "  tmp <- eBayes(tmp)\n",
    "  \n",
    "  # Multiple testing adjustment\n",
    "  top.table <- topTable(tmp, adjust.method = \"BH\", sort.by = \"P\", n = Inf)\n",
    "  \n",
    "  # Rename\n",
    "  original_names <- c(\"Control.Female\", \"FAexcess.Female\", \"Control.Male\", \"FAexcess.Male\")\n",
    "  new_names <- c(\"control_female\", \"faexcess_female\", \"control_male\", \"faexcess_male\")\n",
    "  if (group1 %in% original_names) {\n",
    "    group1 <- new_names[which(original_names == group1)]\n",
    "  }\n",
    "  if (group2 %in% original_names) {\n",
    "    group2 <- new_names[which(original_names == group2)]\n",
    "  }\n",
    "    \n",
    "  # Print or save the number of DEGs\n",
    "  num_degs <- length(which(top.table$adj.P.Val < 0.05))\n",
    "  cat(\"Comparison:\", group1, \"vs\", group2, \"- DEGs:\", num_degs, \"\\n\")\n",
    "  \n",
    "  # View the top 10 DEGs for each comparison\n",
    "  print(head(top.table, 10))\n",
    "  \n",
    "  # Save the results\n",
    "  write.csv(top.table, file = paste0(\"05_DEGs/\", tolower(group1), \"_vs_\", tolower(group2), \"_results.csv\"), row.names = TRUE)\n",
    "}"
   ]
  }
 ],
 "metadata": {
  "kernelspec": {
   "display_name": "R",
   "language": "R",
   "name": "ir"
  },
  "language_info": {
   "codemirror_mode": "r",
   "file_extension": ".r",
   "mimetype": "text/x-r-source",
   "name": "R",
   "pygments_lexer": "r",
   "version": "4.3.2"
  }
 },
 "nbformat": 4,
 "nbformat_minor": 5
}
