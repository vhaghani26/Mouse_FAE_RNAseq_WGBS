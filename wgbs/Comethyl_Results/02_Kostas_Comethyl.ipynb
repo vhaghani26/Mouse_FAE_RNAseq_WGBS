{
 "cells": [
  {
   "cell_type": "markdown",
   "id": "421e76ba-d77e-4fa6-9a3a-90d352eb7a08",
   "metadata": {},
   "source": [
    "# Set Library Path"
   ]
  },
  {
   "cell_type": "code",
   "execution_count": 1,
   "id": "ce2b8b5f-ea46-418a-8648-5a7d5262bdd9",
   "metadata": {},
   "outputs": [],
   "source": [
    ".libPaths(\"/home/vhaghani/anaconda3/envs/jupyter_nb_R4.4.2/lib/R/library\")"
   ]
  },
  {
   "cell_type": "markdown",
   "id": "32c5e124-7598-4058-b58e-e1dbc909cc75",
   "metadata": {},
   "source": [
    "# Load Libraries"
   ]
  },
  {
   "cell_type": "code",
   "execution_count": 3,
   "id": "35babafb-8f17-41e9-885c-1a0a74977267",
   "metadata": {},
   "outputs": [],
   "source": [
    "library(enrichR)\n",
    "library(dplyr)\n",
    "library(rtracklayer)\n",
    "library(GenomicRanges)\n",
    "library(openxlsx)\n",
    "library(readxl)\n",
    "library(glue)\n",
    "library(ggplot2)\n",
    "library(viridis)\n",
    "library(tidyr)\n",
    "library(comethyl)"
   ]
  },
  {
   "cell_type": "markdown",
   "id": "e8f3adef-dcfe-405a-994b-478a732aa1ee",
   "metadata": {},
   "source": [
    "# Load Data"
   ]
  },
  {
   "cell_type": "code",
   "execution_count": 8,
   "id": "3bf35391-85c2-489e-aba7-8fe48945d544",
   "metadata": {},
   "outputs": [],
   "source": [
    "modules <- readRDS(\"Modules.rds\")"
   ]
  },
  {
   "cell_type": "code",
   "execution_count": 9,
   "id": "d38a0648-fdc2-4461-b3f3-967c999a914d",
   "metadata": {},
   "outputs": [],
   "source": [
    "regions <- modules$regions"
   ]
  },
  {
   "cell_type": "code",
   "execution_count": 10,
   "id": "9370c9f2-0b01-466c-aa23-b25a87098166",
   "metadata": {},
   "outputs": [],
   "source": [
    "# Module eigengenes\n",
    "MEs <- modules$MEs"
   ]
  },
  {
   "cell_type": "code",
   "execution_count": 11,
   "id": "805fa139-0723-4f31-afe0-5dcb51538bc0",
   "metadata": {},
   "outputs": [],
   "source": [
    "# Sample trait data\n",
    "colData <- openxlsx::read.xlsx(\"sample_info.xlsx\", rowNames = TRUE)"
   ]
  },
  {
   "cell_type": "markdown",
   "id": "bd75abf5-5093-4e7c-a54f-bd81878ec779",
   "metadata": {},
   "source": [
    "# Make Heatmap"
   ]
  },
  {
   "cell_type": "code",
   "execution_count": 12,
   "id": "e23ac921-4f83-4b78-ba05-18279be11db9",
   "metadata": {},
   "outputs": [
    {
     "name": "stderr",
     "output_type": "stream",
     "text": [
      "[getMEtraitCor] Testing associations between module eigennodes and sample traits using bicor correlation\n",
      "\n",
      "[getMEtraitCor] Saving file as ME_Trait_Correlation_Stats.txt\n",
      "\n"
     ]
    }
   ],
   "source": [
    "# Test correlations between module eigennodes and sample traits\n",
    "MEtraitCor <- getMEtraitCor(MEs, colData = colData, corType = \"bicor\",\n",
    "                            file = \"ME_Trait_Correlation_Stats.txt\")"
   ]
  },
  {
   "cell_type": "code",
   "execution_count": 13,
   "id": "818fcd10-b017-4e4d-b98e-5f292b88f67c",
   "metadata": {},
   "outputs": [
    {
     "name": "stderr",
     "output_type": "stream",
     "text": [
      "[getDendro] Clustering with bicor correlation as the distance\n",
      "\n"
     ]
    }
   ],
   "source": [
    "# Module dendrogram\n",
    "moduleDendro <- getDendro(MEs, distance = \"bicor\")"
   ]
  },
  {
   "cell_type": "code",
   "execution_count": 14,
   "id": "5995a2b2-5f35-4536-a55b-61cc8b5d2b82",
   "metadata": {},
   "outputs": [
    {
     "name": "stderr",
     "output_type": "stream",
     "text": [
      "[getDendro] Transposing data\n",
      "\n",
      "[getCor] Calculating correlations using bicor correlation\n",
      "\n",
      "[getDendro] Clustering by euclidean distance\n",
      "\n"
     ]
    }
   ],
   "source": [
    "# Trait dendrogram with error handling\n",
    "traitDendro <- tryCatch({\n",
    "  getCor(MEs, y = colData, corType = \"bicor\", robustY = FALSE) %>%\n",
    "    getDendro(transpose = TRUE)\n",
    "}, error = function(e) {\n",
    "  cat(\"Bicor failed for trait dendrogram, trying pearson correlation...\\n\")\n",
    "  getCor(MEs, y = colData, corType = \"pearson\") %>%\n",
    "    getDendro(transpose = TRUE)\n",
    "})"
   ]
  },
  {
   "cell_type": "code",
   "execution_count": 15,
   "id": "bbd09cbe-ee6f-46a4-8181-71425f3ea2ed",
   "metadata": {},
   "outputs": [],
   "source": [
    "# Sort Variables\n",
    "sorted_trait_order <- traitDendro$order[order(traitDendro$order)]\n",
    "\n",
    "# Get the corresponding module labels based on the order\n",
    "module_order <- moduleDendro$order\n",
    "ordered_module_labels <- moduleDendro$labels[module_order]"
   ]
  },
  {
   "cell_type": "code",
   "execution_count": 16,
   "id": "decbf855-9ec8-4f58-aa9c-3a52cecd7469",
   "metadata": {},
   "outputs": [],
   "source": [
    "# Save ordered_module_labels to a text file\n",
    "write.table(ordered_module_labels, \n",
    "            file = \"ME_Trait_Correlation_Heatmap_Module_Order.txt\", \n",
    "            row.names = FALSE, \n",
    "            col.names = FALSE, \n",
    "            quote = FALSE)"
   ]
  },
  {
   "cell_type": "code",
   "execution_count": 17,
   "id": "e61e2177-b96b-423b-81b2-8d2617e4f731",
   "metadata": {},
   "outputs": [
    {
     "name": "stderr",
     "output_type": "stream",
     "text": [
      "[plotMEtraitCor] Plotting ME trait correlation heatmap\n",
      "\n",
      "[plotMEtraitCor] Using colors in column names for x-axis labels\n",
      "\n",
      "[plotMEtraitCor] Saving plot as ME_Trait_Correlation_Heatmap.pdf\n",
      "\n"
     ]
    },
    {
     "data": {
      "image/png": "[encoded data removed]",
      "text/plain": [
       "plot without title"
      ]
     },
     "metadata": {
      "image/png": {
       "height": 420,
       "width": 420
      }
     },
     "output_type": "display_data"
    }
   ],
   "source": [
    "# ME-trait correlation heatmap\n",
    "plotMEtraitCor(MEtraitCor, moduleOrder = moduleDendro$order,\n",
    "               traitOrder = sorted_trait_order,\n",
    "               colColorMargins = c(-2.5, 4.2, 2.7, 11.25), \n",
    "               file = \"ME_Trait_Correlation_Heatmap.pdf\")"
   ]
  },
  {
   "cell_type": "markdown",
   "id": "5e5a1cfa-78ff-4cdc-b262-5cd9c2e89e1f",
   "metadata": {},
   "source": [
    "# Process Data"
   ]
  },
  {
   "cell_type": "markdown",
   "id": "6ab79df5-e7f4-4ae0-8caf-224596c309ca",
   "metadata": {},
   "source": [
    "Select modules of interest based on significance in module trait correlations."
   ]
  },
  {
   "cell_type": "code",
   "execution_count": 18,
   "id": "a91b299d-f255-452c-a722-f08e99ddcedf",
   "metadata": {},
   "outputs": [],
   "source": [
    "# Filter MEtraitCor for significant modules only (p-values less than 0.05)\n",
    "modules_of_interest <- MEtraitCor %>%\n",
    "    filter(p < 0.05) %>%\n",
    "    distinct(module) \n",
    "\n",
    "# Create module list\n",
    "modules_of_interest <- as.character(unique(modules_of_interest$module))\n",
    "\n",
    "# Remove grey if present\n",
    "modules_of_interest <- modules_of_interest[modules_of_interest != \"grey\"]"
   ]
  },
  {
   "cell_type": "code",
   "execution_count": 20,
   "id": "4ac640ad-5d93-4210-8c98-730d50c254de",
   "metadata": {},
   "outputs": [
    {
     "name": "stdout",
     "output_type": "stream",
     "text": [
      "[1] \"1 yellowgreen\"\n",
      "[1] \"2 lightsteelblue1\"\n",
      "[1] \"3 salmon4\"\n",
      "[1] \"4 magenta\"\n",
      "[1] \"5 white\"\n",
      "[1] \"6 purple\"\n",
      "[1] \"7 darkmagenta\"\n",
      "[1] \"8 lightcyan1\"\n",
      "[1] \"9 yellow\"\n",
      "[1] \"10 lightcyan\"\n",
      "[1] \"11 honeydew1\"\n",
      "[1] \"12 lightpink4\"\n",
      "[1] \"13 black\"\n",
      "[1] \"14 brown\"\n",
      "[1] \"15 brown4\"\n",
      "[1] \"16 lightgreen\"\n"
     ]
    }
   ],
   "source": [
    "# Confirm subsetting\n",
    "for (i in seq_along(modules_of_interest)) {\n",
    "    module <- modules_of_interest[i]\n",
    "    print(paste(i, module))\n",
    "}"
   ]
  },
  {
   "cell_type": "code",
   "execution_count": 19,
   "id": "cf345ae2-e14d-4640-b06f-ee31014077bb",
   "metadata": {},
   "outputs": [],
   "source": [
    "# Filter out modules that are not of interest\n",
    "regions <- regions %>%\n",
    "  filter(module %in% modules_of_interest)"
   ]
  },
  {
   "cell_type": "code",
   "execution_count": 21,
   "id": "93bc845b-3c4c-4050-aca3-bdcb1407eb36",
   "metadata": {},
   "outputs": [
    {
     "data": {
      "text/html": [
       "<table class=\"dataframe\">\n",
       "<caption>A data.frame: 6 × 14</caption>\n",
       "<thead>\n",
       "\t<tr><th></th><th scope=col>RegionID</th><th scope=col>chr</th><th scope=col>start</th><th scope=col>end</th><th scope=col>width</th><th scope=col>n</th><th scope=col>covMin</th><th scope=col>covMean</th><th scope=col>covSD</th><th scope=col>methMean</th><th scope=col>methSD</th><th scope=col>module</th><th scope=col>membership</th><th scope=col>hubRegion</th></tr>\n",
       "\t<tr><th></th><th scope=col>&lt;chr&gt;</th><th scope=col>&lt;chr&gt;</th><th scope=col>&lt;int&gt;</th><th scope=col>&lt;int&gt;</th><th scope=col>&lt;int&gt;</th><th scope=col>&lt;int&gt;</th><th scope=col>&lt;int&gt;</th><th scope=col>&lt;dbl&gt;</th><th scope=col>&lt;dbl&gt;</th><th scope=col>&lt;dbl&gt;</th><th scope=col>&lt;dbl&gt;</th><th scope=col>&lt;chr&gt;</th><th scope=col>&lt;dbl&gt;</th><th scope=col>&lt;lgl&gt;</th></tr>\n",
       "</thead>\n",
       "<tbody>\n",
       "\t<tr><th scope=row>1</th><td>Region_1 </td><td>chr1</td><td>3007430</td><td>3007682</td><td>252</td><td>4</td><td>14</td><td>22.33333</td><td>7.202693</td><td>0.7972004</td><td>0.08512359</td><td>magenta   </td><td>0.4652672</td><td>FALSE</td></tr>\n",
       "\t<tr><th scope=row>2</th><td>Region_6 </td><td>chr1</td><td>3017445</td><td>3017736</td><td>291</td><td>4</td><td>10</td><td>23.00000</td><td>9.544156</td><td>0.7985774</td><td>0.12548113</td><td>yellow    </td><td>0.6728349</td><td>FALSE</td></tr>\n",
       "\t<tr><th scope=row>3</th><td>Region_9 </td><td>chr1</td><td>3030034</td><td>3030139</td><td>105</td><td>3</td><td>14</td><td>22.00000</td><td>4.631905</td><td>0.8749088</td><td>0.06399012</td><td>purple    </td><td>0.7429895</td><td>FALSE</td></tr>\n",
       "\t<tr><th scope=row>4</th><td>Region_12</td><td>chr1</td><td>3045448</td><td>3045765</td><td>317</td><td>4</td><td> 9</td><td>22.66667</td><td>9.227758</td><td>0.9429644</td><td>0.06775824</td><td>yellow    </td><td>0.8705777</td><td>FALSE</td></tr>\n",
       "\t<tr><th scope=row>5</th><td>Region_16</td><td>chr1</td><td>3063374</td><td>3063494</td><td>120</td><td>4</td><td> 9</td><td>17.83333</td><td>7.132937</td><td>0.8694196</td><td>0.10946624</td><td>lightgreen</td><td>0.5455708</td><td>FALSE</td></tr>\n",
       "\t<tr><th scope=row>6</th><td>Region_19</td><td>chr1</td><td>3070337</td><td>3070454</td><td>117</td><td>4</td><td>10</td><td>22.83333</td><td>7.744010</td><td>0.8956680</td><td>0.09571400</td><td>lightcyan </td><td>0.6219798</td><td>FALSE</td></tr>\n",
       "</tbody>\n",
       "</table>\n"
      ],
      "text/latex": [
       "A data.frame: 6 × 14\n",
       "\\begin{tabular}{r|llllllllllllll}\n",
       "  & RegionID & chr & start & end & width & n & covMin & covMean & covSD & methMean & methSD & module & membership & hubRegion\\\\\n",
       "  & <chr> & <chr> & <int> & <int> & <int> & <int> & <int> & <dbl> & <dbl> & <dbl> & <dbl> & <chr> & <dbl> & <lgl>\\\\\n",
       "\\hline\n",
       "\t1 & Region\\_1  & chr1 & 3007430 & 3007682 & 252 & 4 & 14 & 22.33333 & 7.202693 & 0.7972004 & 0.08512359 & magenta    & 0.4652672 & FALSE\\\\\n",
       "\t2 & Region\\_6  & chr1 & 3017445 & 3017736 & 291 & 4 & 10 & 23.00000 & 9.544156 & 0.7985774 & 0.12548113 & yellow     & 0.6728349 & FALSE\\\\\n",
       "\t3 & Region\\_9  & chr1 & 3030034 & 3030139 & 105 & 3 & 14 & 22.00000 & 4.631905 & 0.8749088 & 0.06399012 & purple     & 0.7429895 & FALSE\\\\\n",
       "\t4 & Region\\_12 & chr1 & 3045448 & 3045765 & 317 & 4 &  9 & 22.66667 & 9.227758 & 0.9429644 & 0.06775824 & yellow     & 0.8705777 & FALSE\\\\\n",
       "\t5 & Region\\_16 & chr1 & 3063374 & 3063494 & 120 & 4 &  9 & 17.83333 & 7.132937 & 0.8694196 & 0.10946624 & lightgreen & 0.5455708 & FALSE\\\\\n",
       "\t6 & Region\\_19 & chr1 & 3070337 & 3070454 & 117 & 4 & 10 & 22.83333 & 7.744010 & 0.8956680 & 0.09571400 & lightcyan  & 0.6219798 & FALSE\\\\\n",
       "\\end{tabular}\n"
      ],
      "text/markdown": [
       "\n",
       "A data.frame: 6 × 14\n",
       "\n",
       "| <!--/--> | RegionID &lt;chr&gt; | chr &lt;chr&gt; | start &lt;int&gt; | end &lt;int&gt; | width &lt;int&gt; | n &lt;int&gt; | covMin &lt;int&gt; | covMean &lt;dbl&gt; | covSD &lt;dbl&gt; | methMean &lt;dbl&gt; | methSD &lt;dbl&gt; | module &lt;chr&gt; | membership &lt;dbl&gt; | hubRegion &lt;lgl&gt; |\n",
       "|---|---|---|---|---|---|---|---|---|---|---|---|---|---|---|\n",
       "| 1 | Region_1  | chr1 | 3007430 | 3007682 | 252 | 4 | 14 | 22.33333 | 7.202693 | 0.7972004 | 0.08512359 | magenta    | 0.4652672 | FALSE |\n",
       "| 2 | Region_6  | chr1 | 3017445 | 3017736 | 291 | 4 | 10 | 23.00000 | 9.544156 | 0.7985774 | 0.12548113 | yellow     | 0.6728349 | FALSE |\n",
       "| 3 | Region_9  | chr1 | 3030034 | 3030139 | 105 | 3 | 14 | 22.00000 | 4.631905 | 0.8749088 | 0.06399012 | purple     | 0.7429895 | FALSE |\n",
       "| 4 | Region_12 | chr1 | 3045448 | 3045765 | 317 | 4 |  9 | 22.66667 | 9.227758 | 0.9429644 | 0.06775824 | yellow     | 0.8705777 | FALSE |\n",
       "| 5 | Region_16 | chr1 | 3063374 | 3063494 | 120 | 4 |  9 | 17.83333 | 7.132937 | 0.8694196 | 0.10946624 | lightgreen | 0.5455708 | FALSE |\n",
       "| 6 | Region_19 | chr1 | 3070337 | 3070454 | 117 | 4 | 10 | 22.83333 | 7.744010 | 0.8956680 | 0.09571400 | lightcyan  | 0.6219798 | FALSE |\n",
       "\n"
      ],
      "text/plain": [
       "  RegionID  chr  start   end     width n covMin covMean  covSD    methMean \n",
       "1 Region_1  chr1 3007430 3007682 252   4 14     22.33333 7.202693 0.7972004\n",
       "2 Region_6  chr1 3017445 3017736 291   4 10     23.00000 9.544156 0.7985774\n",
       "3 Region_9  chr1 3030034 3030139 105   3 14     22.00000 4.631905 0.8749088\n",
       "4 Region_12 chr1 3045448 3045765 317   4  9     22.66667 9.227758 0.9429644\n",
       "5 Region_16 chr1 3063374 3063494 120   4  9     17.83333 7.132937 0.8694196\n",
       "6 Region_19 chr1 3070337 3070454 117   4 10     22.83333 7.744010 0.8956680\n",
       "  methSD     module     membership hubRegion\n",
       "1 0.08512359 magenta    0.4652672  FALSE    \n",
       "2 0.12548113 yellow     0.6728349  FALSE    \n",
       "3 0.06399012 purple     0.7429895  FALSE    \n",
       "4 0.06775824 yellow     0.8705777  FALSE    \n",
       "5 0.10946624 lightgreen 0.5455708  FALSE    \n",
       "6 0.09571400 lightcyan  0.6219798  FALSE    "
      ]
     },
     "metadata": {},
     "output_type": "display_data"
    }
   ],
   "source": [
    "# View\n",
    "head(regions)"
   ]
  },
  {
   "cell_type": "code",
   "execution_count": 22,
   "id": "aa4462a4-bab3-4a5f-9059-9295a6f9945f",
   "metadata": {},
   "outputs": [
    {
     "data": {
      "text/html": [
       "<table class=\"dataframe\">\n",
       "<caption>A data.frame: 6 × 7</caption>\n",
       "<thead>\n",
       "\t<tr><th></th><th scope=col>module</th><th scope=col>trait</th><th scope=col>nObs</th><th scope=col>bicor</th><th scope=col>Z</th><th scope=col>t</th><th scope=col>p</th></tr>\n",
       "\t<tr><th></th><th scope=col>&lt;fct&gt;</th><th scope=col>&lt;fct&gt;</th><th scope=col>&lt;dbl&gt;</th><th scope=col>&lt;dbl&gt;</th><th scope=col>&lt;dbl&gt;</th><th scope=col>&lt;dbl&gt;</th><th scope=col>&lt;dbl&gt;</th></tr>\n",
       "</thead>\n",
       "<tbody>\n",
       "\t<tr><th scope=row>1</th><td>ivory</td><td>Dam1  </td><td>12</td><td> 0.28682864</td><td> 0.9332108</td><td>0.9468152</td><td>0.3660501</td></tr>\n",
       "\t<tr><th scope=row>2</th><td>ivory</td><td>Dam2  </td><td>12</td><td>-0.52958538</td><td>-1.8643801</td><td>1.9742799</td><td>0.0765977</td></tr>\n",
       "\t<tr><th scope=row>3</th><td>ivory</td><td>Dam6  </td><td>12</td><td> 0.03324189</td><td> 0.1051588</td><td>0.1051782</td><td>0.9183142</td></tr>\n",
       "\t<tr><th scope=row>4</th><td>ivory</td><td>Dam7  </td><td>12</td><td> 0.18871584</td><td> 0.6040116</td><td>0.6076910</td><td>0.5569400</td></tr>\n",
       "\t<tr><th scope=row>5</th><td>ivory</td><td>Male  </td><td>12</td><td>-0.35441619</td><td>-1.1715776</td><td>1.1985638</td><td>0.2583300</td></tr>\n",
       "\t<tr><th scope=row>6</th><td>ivory</td><td>Female</td><td>12</td><td> 0.35441619</td><td> 1.1715776</td><td>1.1985638</td><td>0.2583300</td></tr>\n",
       "</tbody>\n",
       "</table>\n"
      ],
      "text/latex": [
       "A data.frame: 6 × 7\n",
       "\\begin{tabular}{r|lllllll}\n",
       "  & module & trait & nObs & bicor & Z & t & p\\\\\n",
       "  & <fct> & <fct> & <dbl> & <dbl> & <dbl> & <dbl> & <dbl>\\\\\n",
       "\\hline\n",
       "\t1 & ivory & Dam1   & 12 &  0.28682864 &  0.9332108 & 0.9468152 & 0.3660501\\\\\n",
       "\t2 & ivory & Dam2   & 12 & -0.52958538 & -1.8643801 & 1.9742799 & 0.0765977\\\\\n",
       "\t3 & ivory & Dam6   & 12 &  0.03324189 &  0.1051588 & 0.1051782 & 0.9183142\\\\\n",
       "\t4 & ivory & Dam7   & 12 &  0.18871584 &  0.6040116 & 0.6076910 & 0.5569400\\\\\n",
       "\t5 & ivory & Male   & 12 & -0.35441619 & -1.1715776 & 1.1985638 & 0.2583300\\\\\n",
       "\t6 & ivory & Female & 12 &  0.35441619 &  1.1715776 & 1.1985638 & 0.2583300\\\\\n",
       "\\end{tabular}\n"
      ],
      "text/markdown": [
       "\n",
       "A data.frame: 6 × 7\n",
       "\n",
       "| <!--/--> | module &lt;fct&gt; | trait &lt;fct&gt; | nObs &lt;dbl&gt; | bicor &lt;dbl&gt; | Z &lt;dbl&gt; | t &lt;dbl&gt; | p &lt;dbl&gt; |\n",
       "|---|---|---|---|---|---|---|---|\n",
       "| 1 | ivory | Dam1   | 12 |  0.28682864 |  0.9332108 | 0.9468152 | 0.3660501 |\n",
       "| 2 | ivory | Dam2   | 12 | -0.52958538 | -1.8643801 | 1.9742799 | 0.0765977 |\n",
       "| 3 | ivory | Dam6   | 12 |  0.03324189 |  0.1051588 | 0.1051782 | 0.9183142 |\n",
       "| 4 | ivory | Dam7   | 12 |  0.18871584 |  0.6040116 | 0.6076910 | 0.5569400 |\n",
       "| 5 | ivory | Male   | 12 | -0.35441619 | -1.1715776 | 1.1985638 | 0.2583300 |\n",
       "| 6 | ivory | Female | 12 |  0.35441619 |  1.1715776 | 1.1985638 | 0.2583300 |\n",
       "\n"
      ],
      "text/plain": [
       "  module trait  nObs bicor       Z          t         p        \n",
       "1 ivory  Dam1   12    0.28682864  0.9332108 0.9468152 0.3660501\n",
       "2 ivory  Dam2   12   -0.52958538 -1.8643801 1.9742799 0.0765977\n",
       "3 ivory  Dam6   12    0.03324189  0.1051588 0.1051782 0.9183142\n",
       "4 ivory  Dam7   12    0.18871584  0.6040116 0.6076910 0.5569400\n",
       "5 ivory  Male   12   -0.35441619 -1.1715776 1.1985638 0.2583300\n",
       "6 ivory  Female 12    0.35441619  1.1715776 1.1985638 0.2583300"
      ]
     },
     "metadata": {},
     "output_type": "display_data"
    },
    {
     "name": "stdout",
     "output_type": "stream",
     "text": [
      " [1] ivory           sienna3         yellowgreen     lightsteelblue1\n",
      " [5] salmon4         magenta         paleturquoise   cyan           \n",
      " [9] darkolivegreen  darkgrey        green           orangered4     \n",
      "[13] grey60          white           salmon          darkturquoise  \n",
      "[17] purple          blue            darkmagenta     skyblue        \n",
      "[21] lightcyan1      lightyellow     yellow          pink           \n",
      "[25] royalblue       maroon          plum1           lightcyan      \n",
      "[29] red             thistle2        bisque4         skyblue3       \n",
      "[33] darkslateblue   navajowhite2    honeydew1       plum2          \n",
      "[37] lavenderblush3  lightpink4      turquoise       saddlebrown    \n",
      "[41] thistle1        mediumpurple3   darkorange      midnightblue   \n",
      "[45] darkgreen       black           brown           brown4         \n",
      "[49] palevioletred3  floralwhite     darkorange2     steelblue      \n",
      "[53] lightgreen      orange          greenyellow     tan            \n",
      "[57] darkred         violet         \n",
      "58 Levels: ivory sienna3 yellowgreen lightsteelblue1 salmon4 ... violet\n"
     ]
    }
   ],
   "source": [
    "# View MEtraitCor\n",
    "head(MEtraitCor)\n",
    "\n",
    "# See module list\n",
    "print(unique(MEtraitCor$module))"
   ]
  },
  {
   "cell_type": "code",
   "execution_count": 23,
   "id": "3d8592f8-6161-4f97-99ec-3bcad66516d8",
   "metadata": {},
   "outputs": [],
   "source": [
    "# Filter out modules that are not of interest\n",
    "MEtraitCor <- MEtraitCor %>%\n",
    "  mutate(module = as.character(module)) %>%\n",
    "  filter(module %in% modules_of_interest)"
   ]
  },
  {
   "cell_type": "code",
   "execution_count": 24,
   "id": "334c46ed-2a6e-47d6-b314-c9936d1c9ee4",
   "metadata": {},
   "outputs": [
    {
     "data": {
      "text/html": [
       "<table class=\"dataframe\">\n",
       "<caption>A data.frame: 6 × 7</caption>\n",
       "<thead>\n",
       "\t<tr><th></th><th scope=col>module</th><th scope=col>trait</th><th scope=col>nObs</th><th scope=col>bicor</th><th scope=col>Z</th><th scope=col>t</th><th scope=col>p</th></tr>\n",
       "\t<tr><th></th><th scope=col>&lt;chr&gt;</th><th scope=col>&lt;fct&gt;</th><th scope=col>&lt;dbl&gt;</th><th scope=col>&lt;dbl&gt;</th><th scope=col>&lt;dbl&gt;</th><th scope=col>&lt;dbl&gt;</th><th scope=col>&lt;dbl&gt;</th></tr>\n",
       "</thead>\n",
       "<tbody>\n",
       "\t<tr><th scope=row>1</th><td>yellowgreen</td><td>Dam1  </td><td>12</td><td>-0.74820065</td><td>-3.06378822</td><td>3.56611335</td><td>0.005128801</td></tr>\n",
       "\t<tr><th scope=row>2</th><td>yellowgreen</td><td>Dam2  </td><td>12</td><td> 0.55663684</td><td> 1.98574229</td><td>2.11884162</td><td>0.060140746</td></tr>\n",
       "\t<tr><th scope=row>3</th><td>yellowgreen</td><td>Dam6  </td><td>12</td><td> 0.25789306</td><td> 0.83436706</td><td>0.84408181</td><td>0.418358325</td></tr>\n",
       "\t<tr><th scope=row>4</th><td>yellowgreen</td><td>Dam7  </td><td>12</td><td> 0.03594185</td><td> 0.11370710</td><td>0.11373161</td><td>0.911701515</td></tr>\n",
       "\t<tr><th scope=row>5</th><td>yellowgreen</td><td>Male  </td><td>12</td><td>-0.01151168</td><td>-0.03640473</td><td>0.03640554</td><td>0.971675481</td></tr>\n",
       "\t<tr><th scope=row>6</th><td>yellowgreen</td><td>Female</td><td>12</td><td> 0.01151168</td><td> 0.03640473</td><td>0.03640554</td><td>0.971675481</td></tr>\n",
       "</tbody>\n",
       "</table>\n"
      ],
      "text/latex": [
       "A data.frame: 6 × 7\n",
       "\\begin{tabular}{r|lllllll}\n",
       "  & module & trait & nObs & bicor & Z & t & p\\\\\n",
       "  & <chr> & <fct> & <dbl> & <dbl> & <dbl> & <dbl> & <dbl>\\\\\n",
       "\\hline\n",
       "\t1 & yellowgreen & Dam1   & 12 & -0.74820065 & -3.06378822 & 3.56611335 & 0.005128801\\\\\n",
       "\t2 & yellowgreen & Dam2   & 12 &  0.55663684 &  1.98574229 & 2.11884162 & 0.060140746\\\\\n",
       "\t3 & yellowgreen & Dam6   & 12 &  0.25789306 &  0.83436706 & 0.84408181 & 0.418358325\\\\\n",
       "\t4 & yellowgreen & Dam7   & 12 &  0.03594185 &  0.11370710 & 0.11373161 & 0.911701515\\\\\n",
       "\t5 & yellowgreen & Male   & 12 & -0.01151168 & -0.03640473 & 0.03640554 & 0.971675481\\\\\n",
       "\t6 & yellowgreen & Female & 12 &  0.01151168 &  0.03640473 & 0.03640554 & 0.971675481\\\\\n",
       "\\end{tabular}\n"
      ],
      "text/markdown": [
       "\n",
       "A data.frame: 6 × 7\n",
       "\n",
       "| <!--/--> | module &lt;chr&gt; | trait &lt;fct&gt; | nObs &lt;dbl&gt; | bicor &lt;dbl&gt; | Z &lt;dbl&gt; | t &lt;dbl&gt; | p &lt;dbl&gt; |\n",
       "|---|---|---|---|---|---|---|---|\n",
       "| 1 | yellowgreen | Dam1   | 12 | -0.74820065 | -3.06378822 | 3.56611335 | 0.005128801 |\n",
       "| 2 | yellowgreen | Dam2   | 12 |  0.55663684 |  1.98574229 | 2.11884162 | 0.060140746 |\n",
       "| 3 | yellowgreen | Dam6   | 12 |  0.25789306 |  0.83436706 | 0.84408181 | 0.418358325 |\n",
       "| 4 | yellowgreen | Dam7   | 12 |  0.03594185 |  0.11370710 | 0.11373161 | 0.911701515 |\n",
       "| 5 | yellowgreen | Male   | 12 | -0.01151168 | -0.03640473 | 0.03640554 | 0.971675481 |\n",
       "| 6 | yellowgreen | Female | 12 |  0.01151168 |  0.03640473 | 0.03640554 | 0.971675481 |\n",
       "\n"
      ],
      "text/plain": [
       "  module      trait  nObs bicor       Z           t          p          \n",
       "1 yellowgreen Dam1   12   -0.74820065 -3.06378822 3.56611335 0.005128801\n",
       "2 yellowgreen Dam2   12    0.55663684  1.98574229 2.11884162 0.060140746\n",
       "3 yellowgreen Dam6   12    0.25789306  0.83436706 0.84408181 0.418358325\n",
       "4 yellowgreen Dam7   12    0.03594185  0.11370710 0.11373161 0.911701515\n",
       "5 yellowgreen Male   12   -0.01151168 -0.03640473 0.03640554 0.971675481\n",
       "6 yellowgreen Female 12    0.01151168  0.03640473 0.03640554 0.971675481"
      ]
     },
     "metadata": {},
     "output_type": "display_data"
    },
    {
     "name": "stdout",
     "output_type": "stream",
     "text": [
      " [1] \"yellowgreen\"     \"lightsteelblue1\" \"salmon4\"         \"magenta\"        \n",
      " [5] \"white\"           \"purple\"          \"darkmagenta\"     \"lightcyan1\"     \n",
      " [9] \"yellow\"          \"lightcyan\"       \"honeydew1\"       \"lightpink4\"     \n",
      "[13] \"black\"           \"brown\"           \"brown4\"          \"lightgreen\"     \n"
     ]
    }
   ],
   "source": [
    "# View MEtraitCor\n",
    "head(MEtraitCor)\n",
    "\n",
    "# See module list\n",
    "print(unique(MEtraitCor$module))"
   ]
  },
  {
   "cell_type": "code",
   "execution_count": 25,
   "id": "8a0313cb-d965-4bc1-8ed4-892cd8ec4655",
   "metadata": {},
   "outputs": [],
   "source": [
    "# Define traits to remove\n",
    "traits_to_remove <- c(\"Dam1\", \"Dam2\", \"Dam6\", \"Dam7\", \"Female\", \"Male\")"
   ]
  },
  {
   "cell_type": "code",
   "execution_count": 26,
   "id": "72781310-1719-4fd3-88d3-e9ba0aca3732",
   "metadata": {},
   "outputs": [],
   "source": [
    "# Remove modules that are significant only in traits to remove\n",
    "modules_to_keep <- MEtraitCor %>%\n",
    "  filter(!trait %in% traits_to_remove) %>%\n",
    "  group_by(module) %>%\n",
    "  filter(any(p < 0.05)) %>%\n",
    "  pull(module) %>%\n",
    "  unique()"
   ]
  },
  {
   "cell_type": "code",
   "execution_count": 27,
   "id": "0546008b-abf7-4073-9aac-b51cf16d6c68",
   "metadata": {},
   "outputs": [],
   "source": [
    "# Filter MEtraitCor to keep only these modules\n",
    "MEtraitCor <- MEtraitCor %>%\n",
    "  filter(module %in% modules_to_keep)"
   ]
  },
  {
   "cell_type": "code",
   "execution_count": 28,
   "id": "3694ef96-87f6-4c26-bbb1-77682812b7b2",
   "metadata": {},
   "outputs": [],
   "source": [
    "# Remove all traits to remove from MEtraitCor\n",
    "MEtraitCor <- MEtraitCor %>%\n",
    "  mutate(trait = as.character(trait)) %>%\n",
    "  filter(!trait %in% traits_to_remove)"
   ]
  },
  {
   "cell_type": "code",
   "execution_count": 34,
   "id": "8d8a4325-50b0-4a9d-bc03-7544819176a0",
   "metadata": {},
   "outputs": [
    {
     "name": "stdout",
     "output_type": "stream",
     "text": [
      "[1] \"Remaining modules after filtering:\"\n",
      "[1] \"white\"     \"purple\"    \"honeydew1\" \"brown\"     \"brown4\"   \n",
      "[1] \"Remaining traits after filtering:\"\n",
      "[1] \"Control\"   \"FA_Excess\"\n"
     ]
    }
   ],
   "source": [
    "print(\"Remaining modules after filtering:\")\n",
    "remaining_modules <- unique(MEtraitCor$module)\n",
    "print(remaining_modules)\n",
    "\n",
    "print(\"Remaining traits after filtering:\")\n",
    "remaining_traits <- unique(MEtraitCor$trait)\n",
    "print(remaining_traits)"
   ]
  },
  {
   "cell_type": "code",
   "execution_count": 35,
   "id": "edee362b-b42f-4294-b865-a1992e47355a",
   "metadata": {},
   "outputs": [],
   "source": [
    "# Set axis variable labels\n",
    "moduleOrder <- remaining_modules\n",
    "sorted_trait_order <- sort(remaining_traits)"
   ]
  },
  {
   "cell_type": "code",
   "execution_count": 36,
   "id": "f26b084e-53f2-47d0-bef0-70f5eac4fae9",
   "metadata": {},
   "outputs": [
    {
     "name": "stderr",
     "output_type": "stream",
     "text": [
      "[plotMEtraitCor] Plotting ME trait correlation heatmap\n",
      "\n",
      "[plotMEtraitCor] Saving plot as ME_Trait_Correlation_Heatmap.pdf\n",
      "\n"
     ]
    },
    {
     "data": {
      "image/png": "[encoded data removed]",
      "text/plain": [
       "plot without title"
      ]
     },
     "metadata": {
      "image/png": {
       "height": 420,
       "width": 420
      }
     },
     "output_type": "display_data"
    }
   ],
   "source": [
    "# ME-trait correlation heatmap\n",
    "plotMEtraitCor(MEtraitCor, moduleOrder = moduleDendro,\n",
    "               traitOrder = sorted_trait_order,\n",
    "               colColorMargins = c(-2.5, 4.2, 2.7, 11.25), \n",
    "               file = \"ME_Trait_Correlation_Heatmap.pdf\")"
   ]
  },
  {
   "cell_type": "markdown",
   "id": "70b3e726-a5d3-4862-9b11-084d277c8e04",
   "metadata": {},
   "source": [
    "# Annotate Regions"
   ]
  },
  {
   "cell_type": "code",
   "execution_count": null,
   "id": "d3270a51-9bc2-4dc6-8a8b-116707121738",
   "metadata": {},
   "outputs": [],
   "source": [
    "# Read the GTF annotation file\n",
    "gtf_file <- \"/share/lasallelab/genomes/mm10/mm10.refGene.gtf\"\n",
    "gtf_data <- import(gtf_file)\n",
    "\n",
    "# View\n",
    "head(gtf_data)"
   ]
  },
  {
   "cell_type": "code",
   "execution_count": null,
   "id": "8b3876a1-1c45-432c-a81e-02c25993a503",
   "metadata": {},
   "outputs": [],
   "source": [
    "# Create GRanges object for regions\n",
    "gr_regions <- GRanges(seqnames = regions$chr,\n",
    "                      ranges = IRanges(start = regions$start, end = regions$end))"
   ]
  },
  {
   "cell_type": "code",
   "execution_count": null,
   "id": "f38407b6-6e69-4612-88c0-f71085f5e697",
   "metadata": {},
   "outputs": [],
   "source": [
    "# Extract transcript entries from the GTF data\n",
    "gtf_transcripts <- gtf_data[gtf_data$type == \"transcript\"]"
   ]
  },
  {
   "cell_type": "code",
   "execution_count": null,
   "id": "0407efc2-a275-41f9-9475-419474cdac50",
   "metadata": {},
   "outputs": [],
   "source": [
    "# Create GRanges object for gene annotations\n",
    "gr_genes <- GRanges(seqnames = seqnames(gtf_transcripts),\n",
    "                    ranges = IRanges(start = start(gtf_transcripts), end = end(gtf_transcripts)),\n",
    "                    gene_name = mcols(gtf_transcripts)$gene_name)"
   ]
  },
  {
   "cell_type": "code",
   "execution_count": null,
   "id": "72b36843-ec4f-49ec-a563-5fb668e875c2",
   "metadata": {},
   "outputs": [],
   "source": [
    "# Find overlaps between regions and gene annotations\n",
    "overlaps <- findOverlaps(gr_regions, gr_genes)"
   ]
  },
  {
   "cell_type": "code",
   "execution_count": null,
   "id": "fd511205-dbb4-4248-b22b-16b7576d4e10",
   "metadata": {},
   "outputs": [],
   "source": [
    "# Create a new column for gene names in the regions data frame\n",
    "regions$gene_name <- NA\n",
    "regions$gene_name[queryHits(overlaps)] <- gr_genes$gene_name[subjectHits(overlaps)]"
   ]
  },
  {
   "cell_type": "code",
   "execution_count": null,
   "id": "374e5a50-1a15-4c57-a9bd-f5c860d2ea25",
   "metadata": {},
   "outputs": [],
   "source": [
    "# View annotated regions\n",
    "head(regions)"
   ]
  },
  {
   "cell_type": "markdown",
   "id": "5f68f9d0-c1c5-4891-aaea-e2f66537d96b",
   "metadata": {},
   "source": [
    "# Gene Ontology"
   ]
  },
  {
   "cell_type": "code",
   "execution_count": null,
   "id": "3a71c454-4791-4d4a-a2b5-c81f9b593986",
   "metadata": {},
   "outputs": [],
   "source": [
    "# Create a list of gene names per module\n",
    "module_genes <- regions %>%\n",
    "  group_by(module) %>%\n",
    "  summarize(unique_genes = list(unique(gene_name[!is.na(gene_name)])), .groups = 'drop')\n",
    "\n",
    "# View\n",
    "head(module_genes)"
   ]
  },
  {
   "cell_type": "code",
   "execution_count": null,
   "id": "b3a5c0dd-d268-46aa-ad4d-994d6e003e3c",
   "metadata": {},
   "outputs": [],
   "source": [
    "# Count genes per module\n",
    "module_genes_length <- module_genes %>%\n",
    "  mutate(num_genes = sapply(unique_genes, length)) %>%\n",
    "  select(module, num_genes)\n",
    "\n",
    "# View\n",
    "print(module_genes_length)"
   ]
  },
  {
   "cell_type": "code",
   "execution_count": null,
   "id": "f2506908-96af-412c-b0f9-139c41152be2",
   "metadata": {},
   "outputs": [],
   "source": [
    "# Iterate over each module\n",
    "for (module in module_genes$module) {\n",
    "  # Read in gene list\n",
    "  gene_list <- module_genes$unique_genes[[which(module_genes$module == module)]]\n",
    "    \n",
    "  tryCatch({\n",
    "    # Perform the enrichR analysis on the gene list for the current module\n",
    "    enrichr_results <- enrichr(gene_list, c(\"GO_Biological_Process_2023\",\n",
    "                                                     \"GO_Cellular_Component_2023\",\n",
    "                                                     \"GO_Molecular_Function_2023\",\n",
    "                                                     \"KEGG_2019_Mouse\",\n",
    "                                                     \"Panther_2016\",\n",
    "                                                     \"Reactome_2016\",\n",
    "                                                     \"RNA-Seq_Disease_Gene_and_Drug_Signatures_from_GEO\"))\n",
    "    \n",
    "    # Check if enrichr_results is empty\n",
    "    if (length(enrichr_results) == 0) {\n",
    "      cat(\"No results for module\", module, \"\\n\")\n",
    "      next\n",
    "    }\n",
    "    \n",
    "    # Save Enrichr outputs\n",
    "    wb <- createWorkbook()\n",
    "    \n",
    "    for (i in seq_along(enrichr_results)) {\n",
    "      # Extract the data frame from the list\n",
    "      df <- enrichr_results[[i]]\n",
    "      \n",
    "      # Check if the data frame is empty\n",
    "      if (nrow(df) == 0) {\n",
    "        cat(\"Empty data frame for\", names(enrichr_results)[i], \"in module\", module, \"\\n\")\n",
    "        next\n",
    "      }\n",
    "      \n",
    "      # Define the original sheet name\n",
    "      original_sheet_name <- names(enrichr_results)[i]\n",
    "      \n",
    "      # Modify the sheet name if it's specifically \"RNA-Seq_Disease_Gene_and_Drug_Signatures_from_GEO\"\n",
    "      sheet_name <- if (original_sheet_name == \"RNA-Seq_Disease_Gene_and_Drug_Signatures_from_GEO\") {\n",
    "        \"RNAseq_DiseaseGene_DrugSigs_GEO\"\n",
    "      } else {\n",
    "        original_sheet_name\n",
    "      }\n",
    "      \n",
    "      # Add the data frame as a new sheet in the Excel workbook\n",
    "      addWorksheet(wb, sheet_name)\n",
    "      writeData(wb, sheet = sheet_name, x = df)\n",
    "    }\n",
    "    \n",
    "    # Save the Excel workbook\n",
    "    saveWorkbook(wb, paste0(module, \"_enrichr_results.xlsx\"), overwrite = TRUE)\n",
    "    \n",
    "    # Function to plot and save the results\n",
    "    plot_and_save <- function(df, filename, title) {\n",
    "      if (nrow(df) == 0) {\n",
    "        cat(\"Empty data frame for\", title, \"in module\", module, \"\\n\")\n",
    "        return()\n",
    "      }\n",
    "      pdf(filename, height = 7, width = 15)\n",
    "      print(plotEnrich(df, showTerms = 25, numChar = 75, y = \"Count\", orderBy = \"P.value\") + ggtitle(title))\n",
    "      dev.off()\n",
    "    }\n",
    "    \n",
    "    # Plot and save Enrichr results\n",
    "    plot_and_save(enrichr_results$GO_Biological_Process_2023, \n",
    "                  paste0(module, \"_GO_Biological_Process_2023.pdf\"), \n",
    "                  paste(\"GO_Biological_Process_2023 for\", module, \"module\"))\n",
    "    \n",
    "    plot_and_save(enrichr_results$GO_Cellular_Component_2023, \n",
    "                  paste0(module, \"_GO_Cellular_Component_2023.pdf\"), \n",
    "                  paste(\"GO_Cellular_Component_2023 for\", module, \"module\"))\n",
    "    \n",
    "    plot_and_save(enrichr_results$GO_Molecular_Function_2023, \n",
    "                  paste0(module, \"_GO_Molecular_Function_2023.pdf\"), \n",
    "                  paste(\"GO_Molecular_Function_2023 for\", module, \"module\"))\n",
    "    \n",
    "    plot_and_save(enrichr_results$KEGG_2019_Mouse, \n",
    "                  paste0(module, \"_KEGG_2019_Mouse.pdf\"), \n",
    "                  paste(\"KEGG_2019_Mouse for\", module, \"module\"))\n",
    "    \n",
    "    plot_and_save(enrichr_results$Panther_2016, \n",
    "                  paste0(module, \"_Panther_2016.pdf\"), \n",
    "                  paste(\"Panther_2016 for\", module, \"module\"))\n",
    "    \n",
    "    plot_and_save(enrichr_results$Reactome_2016, \n",
    "                  paste0(module, \"_Reactome_2016.pdf\"), \n",
    "                  paste(\"Reactome_2016 for\", module, \"module\"))\n",
    "    \n",
    "    plot_and_save(enrichr_results$`RNA-Seq_Disease_Gene_and_Drug_Signatures_from_GEO`, \n",
    "                  paste0(module, \"_RNA-Seq_Disease_Gene_and_Drug_Signatures_from_GEO.pdf\"), \n",
    "                  paste(\"RNA-Seq_Disease_Gene_and_Drug_Signatures_from_GEO for\", module, \"module\"))\n",
    "    \n",
    "  }, error = function(e) {\n",
    "    cat(\"Error occurred for module\", module, \": \", conditionMessage(e), \"\\n\")\n",
    "    # Log the error to a file for further inspection\n",
    "    write(paste(\"Error occurred for module\", module, \": \", conditionMessage(e), \"\\n\"), file = \"error_log.txt\", append = TRUE)\n",
    "    # Continue to the next module\n",
    "    next\n",
    "  })\n",
    "}"
   ]
  },
  {
   "cell_type": "markdown",
   "id": "597f5187-4a5d-4bb0-8b27-c2076ddc3738",
   "metadata": {},
   "source": [
    "# Visualize GO Results"
   ]
  },
  {
   "cell_type": "markdown",
   "id": "c1273adf-0884-4f35-a76c-39e24372e56d",
   "metadata": {},
   "source": [
    "## Top 25 Dot Plots (Priotizing Overlap)"
   ]
  },
  {
   "cell_type": "code",
   "execution_count": null,
   "id": "91973907-049b-4953-9c9b-e6253e7180ff",
   "metadata": {},
   "outputs": [],
   "source": [
    "# List of GO databases\n",
    "databases <- c(\"GO_Biological_Process_2023\", \"GO_Cellular_Component_2023\", \"GO_Molecular_Function_2023\",\n",
    "               \"KEGG_2019_Mouse\", \"Panther_2016\", \"Reactome_2016\", \"RNAseq_DiseaseGene_DrugSigs_GEO\")"
   ]
  },
  {
   "cell_type": "code",
   "execution_count": null,
   "id": "d6fabb01-5178-4e6b-b7a7-a9daaefb4841",
   "metadata": {},
   "outputs": [],
   "source": [
    "# Store GO data into data frame\n",
    "\n",
    "# Initialize an empty dataframe\n",
    "all_data <- data.frame()\n",
    "\n",
    "# Iterate over each module and read in the corresponding Excel file\n",
    "for (module in module_genes$module) {\n",
    "  file_path <- glue(\"{module}_enrichr_results.xlsx\")\n",
    "  \n",
    "  for (database in databases) {\n",
    "    try({\n",
    "      # Read the data from the Excel file\n",
    "      df <- read_excel(file_path, sheet = database)\n",
    "      \n",
    "      if (nrow(df) == 0) {\n",
    "        next  # Skip to the next database if no data\n",
    "      }\n",
    "      \n",
    "      # Select the required columns and add module and database information\n",
    "      df <- df %>%\n",
    "        select(Term, Adjusted.P.value, Odds.Ratio) %>%\n",
    "        mutate(Module = module, Database = database)\n",
    "      \n",
    "      # Append to the dataframe\n",
    "      all_data <- bind_rows(all_data, df)\n",
    "      \n",
    "    }, silent = TRUE)\n",
    "  }\n",
    "}\n",
    "\n",
    "# Check if any data was read\n",
    "if (nrow(all_data) == 0) {\n",
    "  stop(\"No data read from any of the Excel files.\")\n",
    "}\n",
    "\n",
    "# Display the combined dataframe\n",
    "head(all_data)"
   ]
  },
  {
   "cell_type": "code",
   "execution_count": null,
   "id": "01818b62-70bb-4fc6-9361-0fd252b9c971",
   "metadata": {},
   "outputs": [],
   "source": [
    "# Filter out rows where the Adjusted.P.value is less than 0.1\n",
    "all_data <- all_data %>%\n",
    "  filter(Adjusted.P.value <= 0.05)\n",
    "\n",
    "# Display the filtered dataframe\n",
    "head(all_data)"
   ]
  },
  {
   "cell_type": "code",
   "execution_count": null,
   "id": "c0c6ed7a-8b23-4934-a731-c320df3e4cf0",
   "metadata": {},
   "outputs": [],
   "source": [
    "# Count the number of total terms and unique terms for each database\n",
    "database_term_counts <- all_data %>%\n",
    "  group_by(Database) %>%\n",
    "  summarise(\n",
    "    Total_Terms = n(),\n",
    "    Unique_Terms = n_distinct(Term)\n",
    "  )\n",
    "\n",
    "# Print the table\n",
    "print(database_term_counts)"
   ]
  },
  {
   "cell_type": "code",
   "execution_count": null,
   "id": "6d43622e-4083-4276-a389-5ceeca64a99c",
   "metadata": {},
   "outputs": [],
   "source": [
    "# Calculate the number of modules each term appears in for each database\n",
    "term_module_counts <- all_data %>%\n",
    "  group_by(Database, Term) %>%\n",
    "  summarise(ModuleCount = n_distinct(Module), .groups = 'drop')\n",
    "\n",
    "# Rank the terms within each database by the number of modules they appear in\n",
    "ranked_terms <- term_module_counts %>%\n",
    "  arrange(Database, desc(ModuleCount)) %>%\n",
    "  group_by(Database) %>%\n",
    "  slice_head(n = 25) %>%\n",
    "  ungroup()\n",
    "\n",
    "# Merge with the original data to filter the top 25 terms per database\n",
    "filtered_data_top_25 <- all_data %>%\n",
    "  semi_join(ranked_terms, by = c(\"Database\", \"Term\"))\n",
    "\n",
    "# Print the filtered data\n",
    "head(filtered_data_top_25)"
   ]
  },
  {
   "cell_type": "code",
   "execution_count": null,
   "id": "5b15982b-8cf5-4081-a884-6244c812fb17",
   "metadata": {},
   "outputs": [],
   "source": [
    "# Count the number of total terms and unique terms for each database\n",
    "filtered_database_term_counts <- filtered_data_top_25 %>%\n",
    "  group_by(Database) %>%\n",
    "  summarise(\n",
    "    Total_Terms = n(),\n",
    "    Unique_Terms = n_distinct(Term)\n",
    "  )\n",
    "\n",
    "# Print the table\n",
    "print(filtered_database_term_counts)"
   ]
  },
  {
   "cell_type": "code",
   "execution_count": null,
   "id": "0e5f450a-1eb5-445c-a3fb-e8c4e41c8c80",
   "metadata": {},
   "outputs": [],
   "source": [
    "# Create plots for each database\n",
    "for (database in unique(filtered_data_top_25$Database)) {\n",
    "  database_filtered_data <- filtered_data_top_25 %>%\n",
    "    filter(Database == database)\n",
    "  \n",
    "  if (nrow(database_filtered_data) > 0) {\n",
    "    dot_plot <- ggplot(database_filtered_data, aes(x = Module, y = Term, size = Odds.Ratio, fill = Adjusted.P.value)) +\n",
    "      geom_point(shape = 21) +\n",
    "      scale_fill_viridis() +\n",
    "      xlab('') + ylab('') +\n",
    "      labs(\n",
    "        title = 'Top Enrichr Terms Across Modules',\n",
    "        subtitle = glue('{database}')\n",
    "      ) +\n",
    "      theme(\n",
    "        panel.background = element_rect(fill = \"white\", color = NA),\n",
    "        panel.grid.major = element_blank(),\n",
    "        panel.grid.minor = element_blank(),\n",
    "        panel.border = element_blank(),\n",
    "        axis.line = element_line(color = \"black\"),\n",
    "        plot.background = element_rect(fill = \"white\", color = NA),\n",
    "        axis.text.x = element_text(angle = 90, hjust = 1)\n",
    "      )\n",
    "    \n",
    "    # Save the dot plot with the database name in the filename\n",
    "    ggsave(filename = glue(\"top_25_dot_plot_{database}.pdf\"), plot = dot_plot, height = 7, width = 15)\n",
    "  } else {\n",
    "    cat(glue(\"No data available for {database}. Skipping...\\n\"))\n",
    "  }\n",
    "}"
   ]
  },
  {
   "cell_type": "markdown",
   "id": "6e52d00c-b9d2-45cb-8381-a3180a614acc",
   "metadata": {},
   "source": [
    "## Top 25 Per Module Dot Plot"
   ]
  },
  {
   "cell_type": "code",
   "execution_count": null,
   "id": "412c9680-3edc-42fe-8df3-c688ca6013cb",
   "metadata": {},
   "outputs": [],
   "source": [
    "# List of GO databases\n",
    "databases <- c(\"GO_Biological_Process_2023\", \"GO_Cellular_Component_2023\", \"GO_Molecular_Function_2023\",\n",
    "               \"KEGG_2019_Mouse\", \"Panther_2016\", \"Reactome_2016\", \"RNAseq_DiseaseGene_DrugSigs_GEO\")"
   ]
  },
  {
   "cell_type": "code",
   "execution_count": null,
   "id": "ce4d438a-ea83-4e06-847c-e35d2d2cef55",
   "metadata": {},
   "outputs": [],
   "source": [
    "# Store GO data into data frame\n",
    "\n",
    "# Initialize an empty dataframe\n",
    "all_data <- data.frame()\n",
    "\n",
    "# Iterate over each module and read in the corresponding Excel file\n",
    "for (module in modules_of_interest) {\n",
    "  file_path <- glue(\"{module}_enrichr_results.xlsx\")\n",
    "  \n",
    "  for (database in databases) {\n",
    "    try({\n",
    "      # Read the data from the Excel file\n",
    "      df <- read_excel(file_path, sheet = database)\n",
    "      \n",
    "      if (nrow(df) == 0) {\n",
    "        next  # Skip to the next database if no data\n",
    "      }\n",
    "      \n",
    "      # Select the required columns and add module and database information\n",
    "      df <- df %>%\n",
    "        select(Term, Adjusted.P.value, Odds.Ratio) %>%\n",
    "        mutate(Module = module, Database = database)\n",
    "      \n",
    "      # Append to the dataframe\n",
    "      all_data <- bind_rows(all_data, df)\n",
    "      \n",
    "    }, silent = TRUE)\n",
    "  }\n",
    "}\n",
    "\n",
    "# Check if any data was read\n",
    "if (nrow(all_data) == 0) {\n",
    "  stop(\"No data read from any of the Excel files.\")\n",
    "}\n",
    "\n",
    "# Display the combined dataframe\n",
    "head(all_data)"
   ]
  },
  {
   "cell_type": "code",
   "execution_count": null,
   "id": "dc0cbd02-f51a-4640-8c06-73f770ec8d05",
   "metadata": {},
   "outputs": [],
   "source": [
    "# Filter out rows where the Adjusted.P.value is less than 0.1\n",
    "all_data <- all_data %>%\n",
    "  filter(Adjusted.P.value <= 0.05)\n",
    "\n",
    "# Display the filtered dataframe\n",
    "head(all_data)"
   ]
  },
  {
   "cell_type": "code",
   "execution_count": null,
   "id": "3914472e-2597-41ca-8ad9-a0e2d7fa622a",
   "metadata": {},
   "outputs": [],
   "source": [
    "# Count the number of total terms and unique terms for each database\n",
    "database_term_counts <- all_data %>%\n",
    "  group_by(Database) %>%\n",
    "  summarise(\n",
    "    Total_Terms = n(),\n",
    "    Unique_Terms = n_distinct(Term)\n",
    "  )\n",
    "\n",
    "# Print the table\n",
    "print(database_term_counts)"
   ]
  },
  {
   "cell_type": "code",
   "execution_count": null,
   "id": "b1143215-621a-4014-95ea-33e30befd0dd",
   "metadata": {},
   "outputs": [],
   "source": [
    "# Filter to keep only the top 10 most significant per module and database\n",
    "top_25 <- all_data %>%\n",
    "  group_by(Module, Database) %>%\n",
    "  slice_min(order_by = Adjusted.P.value, n = 25, with_ties = FALSE) %>%\n",
    "  ungroup()\n",
    "\n",
    "# View \n",
    "head(top_25)"
   ]
  },
  {
   "cell_type": "code",
   "execution_count": null,
   "id": "0744a2c9-0603-4264-8ae5-007e5ee72dab",
   "metadata": {},
   "outputs": [],
   "source": [
    "# Count the number of total terms and unique terms for each database\n",
    "database_term_counts <- top_25 %>%\n",
    "  group_by(Database) %>%\n",
    "  summarise(\n",
    "    Total_Terms = n(),\n",
    "    Unique_Terms = n_distinct(Term)\n",
    "  )\n",
    "\n",
    "# Print the table\n",
    "print(database_term_counts)"
   ]
  },
  {
   "cell_type": "code",
   "execution_count": null,
   "id": "6befd2c0-fbb8-4324-8e0c-3f7df14ce7b8",
   "metadata": {},
   "outputs": [],
   "source": [
    "# Create plots for each database\n",
    "for (database in unique(top_25$Database)) {\n",
    "  # Filter for the current database\n",
    "  current_data <- top_25 %>%\n",
    "    filter(Database == database)\n",
    "  \n",
    "  if (nrow(current_data) > 0) {\n",
    "    dot_plot <- ggplot(current_data, aes(x = Module, y = Term, size = Odds.Ratio, fill = Adjusted.P.value)) +\n",
    "      geom_point(shape = 21) +\n",
    "      scale_fill_viridis() +\n",
    "      xlab('') + ylab('') +\n",
    "      labs(\n",
    "        title = 'Top 25 Enrichr Terms Per Module',\n",
    "        subtitle = glue('{database}')\n",
    "      ) +\n",
    "      theme(\n",
    "        panel.background = element_rect(fill = \"white\", color = NA),\n",
    "        panel.grid.major = element_blank(),\n",
    "        panel.grid.minor = element_blank(),\n",
    "        panel.border = element_blank(),\n",
    "        axis.line = element_line(color = \"black\"),\n",
    "        plot.background = element_rect(fill = \"white\", color = NA),\n",
    "        axis.text.x = element_text(angle = 90, hjust = 1)\n",
    "      )\n",
    "    \n",
    "    # Save the dot plot with the database name in the filename\n",
    "    ggsave(filename = glue(\"top_25_per_module_dot_plot_{database}.pdf\"), plot = dot_plot, height = 12, width = 15)\n",
    "  } else {\n",
    "    cat(glue(\"No data available for {database}. Skipping...\\n\"))\n",
    "  }\n",
    "}"
   ]
  }
 ],
 "metadata": {
  "kernelspec": {
   "display_name": "R",
   "language": "R",
   "name": "ir"
  },
  "language_info": {
   "codemirror_mode": "r",
   "file_extension": ".r",
   "mimetype": "text/x-r-source",
   "name": "R",
   "pygments_lexer": "r",
   "version": "4.4.2"
  }
 },
 "nbformat": 4,
 "nbformat_minor": 5
}
