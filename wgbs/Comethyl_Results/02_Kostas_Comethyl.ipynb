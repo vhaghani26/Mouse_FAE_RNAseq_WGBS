{
 "cells": [
  {
   "cell_type": "markdown",
   "id": "421e76ba-d77e-4fa6-9a3a-90d352eb7a08",
   "metadata": {},
   "source": [
    "# Set Library Path"
   ]
  },
  {
   "cell_type": "code",
   "execution_count": 1,
   "id": "ce2b8b5f-ea46-418a-8648-5a7d5262bdd9",
   "metadata": {},
   "outputs": [],
   "source": [
    ".libPaths(\"/share/korflab/home/viki/anaconda3/jupyter_nb_R4.3/lib/R/library\")"
   ]
  },
  {
   "cell_type": "markdown",
   "id": "32c5e124-7598-4058-b58e-e1dbc909cc75",
   "metadata": {},
   "source": [
    "# Load Libraries"
   ]
  },
  {
   "cell_type": "code",
   "execution_count": 3,
   "id": "35babafb-8f17-41e9-885c-1a0a74977267",
   "metadata": {},
   "outputs": [],
   "source": [
    "library(enrichR)\n",
    "library(dplyr)\n",
    "library(rtracklayer)\n",
    "library(GenomicRanges)\n",
    "library(openxlsx)\n",
    "library(readxl)\n",
    "library(glue)\n",
    "library(ggplot2)\n",
    "library(viridis)\n",
    "library(tidyr)"
   ]
  },
  {
   "cell_type": "markdown",
   "id": "e8f3adef-dcfe-405a-994b-478a732aa1ee",
   "metadata": {},
   "source": [
    "# Load Data"
   ]
  },
  {
   "cell_type": "code",
   "execution_count": null,
   "id": "3bf35391-85c2-489e-aba7-8fe48945d544",
   "metadata": {},
   "outputs": [],
   "source": [
    "modules <- readRDS(\"Modules.rds\")"
   ]
  },
  {
   "cell_type": "code",
   "execution_count": null,
   "id": "d38a0648-fdc2-4461-b3f3-967c999a914d",
   "metadata": {},
   "outputs": [],
   "source": [
    "regions <- modules$regions"
   ]
  },
  {
   "cell_type": "markdown",
   "id": "5e5a1cfa-78ff-4cdc-b262-5cd9c2e89e1f",
   "metadata": {},
   "source": [
    "# Process Data"
   ]
  },
  {
   "cell_type": "markdown",
   "id": "6ab79df5-e7f4-4ae0-8caf-224596c309ca",
   "metadata": {},
   "source": [
    "Select modules of interest based on significance in module trait correlations."
   ]
  },
  {
   "cell_type": "code",
   "execution_count": 7,
   "id": "a91b299d-f255-452c-a722-f08e99ddcedf",
   "metadata": {},
   "outputs": [],
   "source": [
    "# Determine modules of interest\n",
    "modules_of_interest <- list(\"honeydew1\", \"white\", \"brown\", \"brown4\", \"purple\")"
   ]
  },
  {
   "cell_type": "code",
   "execution_count": null,
   "id": "4ac640ad-5d93-4210-8c98-730d50c254de",
   "metadata": {},
   "outputs": [],
   "source": [
    "# Filter out modules that are not of interest\n",
    "regions <- regions %>%\n",
    "  filter(module %in% modules_of_interest)"
   ]
  },
  {
   "cell_type": "code",
   "execution_count": null,
   "id": "93bc845b-3c4c-4050-aca3-bdcb1407eb36",
   "metadata": {},
   "outputs": [],
   "source": [
    "# View\n",
    "head(regions)"
   ]
  },
  {
   "cell_type": "markdown",
   "id": "70b3e726-a5d3-4862-9b11-084d277c8e04",
   "metadata": {},
   "source": [
    "# Annotate Regions"
   ]
  },
  {
   "cell_type": "code",
   "execution_count": null,
   "id": "d3270a51-9bc2-4dc6-8a8b-116707121738",
   "metadata": {},
   "outputs": [],
   "source": [
    "# Read the GTF annotation file\n",
    "gtf_file <- \"/share/lasallelab/genomes/mm10/mm10.refGene.gtf\"\n",
    "gtf_data <- import(gtf_file)\n",
    "\n",
    "# View\n",
    "head(gtf_data)"
   ]
  },
  {
   "cell_type": "code",
   "execution_count": null,
   "id": "8b3876a1-1c45-432c-a81e-02c25993a503",
   "metadata": {},
   "outputs": [],
   "source": [
    "# Create GRanges object for regions\n",
    "gr_regions <- GRanges(seqnames = regions$chr,\n",
    "                      ranges = IRanges(start = regions$start, end = regions$end))"
   ]
  },
  {
   "cell_type": "code",
   "execution_count": null,
   "id": "f38407b6-6e69-4612-88c0-f71085f5e697",
   "metadata": {},
   "outputs": [],
   "source": [
    "# Extract transcript entries from the GTF data\n",
    "gtf_transcripts <- gtf_data[gtf_data$type == \"transcript\"]"
   ]
  },
  {
   "cell_type": "code",
   "execution_count": null,
   "id": "0407efc2-a275-41f9-9475-419474cdac50",
   "metadata": {},
   "outputs": [],
   "source": [
    "# Create GRanges object for gene annotations\n",
    "gr_genes <- GRanges(seqnames = seqnames(gtf_transcripts),\n",
    "                    ranges = IRanges(start = start(gtf_transcripts), end = end(gtf_transcripts)),\n",
    "                    gene_name = mcols(gtf_transcripts)$gene_name)"
   ]
  },
  {
   "cell_type": "code",
   "execution_count": null,
   "id": "72b36843-ec4f-49ec-a563-5fb668e875c2",
   "metadata": {},
   "outputs": [],
   "source": [
    "# Find overlaps between regions and gene annotations\n",
    "overlaps <- findOverlaps(gr_regions, gr_genes)"
   ]
  },
  {
   "cell_type": "code",
   "execution_count": null,
   "id": "fd511205-dbb4-4248-b22b-16b7576d4e10",
   "metadata": {},
   "outputs": [],
   "source": [
    "# Create a new column for gene names in the regions data frame\n",
    "regions$gene_name <- NA\n",
    "regions$gene_name[queryHits(overlaps)] <- gr_genes$gene_name[subjectHits(overlaps)]"
   ]
  },
  {
   "cell_type": "code",
   "execution_count": null,
   "id": "374e5a50-1a15-4c57-a9bd-f5c860d2ea25",
   "metadata": {},
   "outputs": [],
   "source": [
    "# View annotated regions\n",
    "head(regions)"
   ]
  },
  {
   "cell_type": "markdown",
   "id": "5f68f9d0-c1c5-4891-aaea-e2f66537d96b",
   "metadata": {},
   "source": [
    "# Gene Ontology"
   ]
  },
  {
   "cell_type": "code",
   "execution_count": null,
   "id": "3a71c454-4791-4d4a-a2b5-c81f9b593986",
   "metadata": {},
   "outputs": [],
   "source": [
    "# Create a list of gene names per module\n",
    "module_genes <- regions %>%\n",
    "  group_by(module) %>%\n",
    "  summarize(unique_genes = list(unique(gene_name[!is.na(gene_name)])), .groups = 'drop')\n",
    "\n",
    "# View\n",
    "head(module_genes)"
   ]
  },
  {
   "cell_type": "code",
   "execution_count": null,
   "id": "b3a5c0dd-d268-46aa-ad4d-994d6e003e3c",
   "metadata": {},
   "outputs": [],
   "source": [
    "# Count genes per module\n",
    "module_genes_length <- module_genes %>%\n",
    "  mutate(num_genes = sapply(unique_genes, length)) %>%\n",
    "  select(module, num_genes)\n",
    "\n",
    "# View\n",
    "print(module_genes_length)"
   ]
  },
  {
   "cell_type": "code",
   "execution_count": null,
   "id": "f2506908-96af-412c-b0f9-139c41152be2",
   "metadata": {},
   "outputs": [],
   "source": [
    "# Iterate over each module\n",
    "for (module in module_genes$module) {\n",
    "  # Read in gene list\n",
    "  gene_list <- module_genes$unique_genes[[which(module_genes$module == module)]]\n",
    "    \n",
    "  tryCatch({\n",
    "    # Perform the enrichR analysis on the gene list for the current module\n",
    "    enrichr_results <- enrichr(gene_list, c(\"GO_Biological_Process_2023\",\n",
    "                                                     \"GO_Cellular_Component_2023\",\n",
    "                                                     \"GO_Molecular_Function_2023\",\n",
    "                                                     \"KEGG_2019_Mouse\",\n",
    "                                                     \"Panther_2016\",\n",
    "                                                     \"Reactome_2016\",\n",
    "                                                     \"RNA-Seq_Disease_Gene_and_Drug_Signatures_from_GEO\"))\n",
    "    \n",
    "    # Check if enrichr_results is empty\n",
    "    if (length(enrichr_results) == 0) {\n",
    "      cat(\"No results for module\", module, \"\\n\")\n",
    "      next\n",
    "    }\n",
    "    \n",
    "    # Save Enrichr outputs\n",
    "    wb <- createWorkbook()\n",
    "    \n",
    "    for (i in seq_along(enrichr_results)) {\n",
    "      # Extract the data frame from the list\n",
    "      df <- enrichr_results[[i]]\n",
    "      \n",
    "      # Check if the data frame is empty\n",
    "      if (nrow(df) == 0) {\n",
    "        cat(\"Empty data frame for\", names(enrichr_results)[i], \"in module\", module, \"\\n\")\n",
    "        next\n",
    "      }\n",
    "      \n",
    "      # Define the original sheet name\n",
    "      original_sheet_name <- names(enrichr_results)[i]\n",
    "      \n",
    "      # Modify the sheet name if it's specifically \"RNA-Seq_Disease_Gene_and_Drug_Signatures_from_GEO\"\n",
    "      sheet_name <- if (original_sheet_name == \"RNA-Seq_Disease_Gene_and_Drug_Signatures_from_GEO\") {\n",
    "        \"RNAseq_DiseaseGene_DrugSigs_GEO\"\n",
    "      } else {\n",
    "        original_sheet_name\n",
    "      }\n",
    "      \n",
    "      # Add the data frame as a new sheet in the Excel workbook\n",
    "      addWorksheet(wb, sheet_name)\n",
    "      writeData(wb, sheet = sheet_name, x = df)\n",
    "    }\n",
    "    \n",
    "    # Save the Excel workbook\n",
    "    saveWorkbook(wb, paste0(module, \"_enrichr_results.xlsx\"), overwrite = TRUE)\n",
    "    \n",
    "    # Function to plot and save the results\n",
    "    plot_and_save <- function(df, filename, title) {\n",
    "      if (nrow(df) == 0) {\n",
    "        cat(\"Empty data frame for\", title, \"in module\", module, \"\\n\")\n",
    "        return()\n",
    "      }\n",
    "      pdf(filename, height = 7, width = 15)\n",
    "      print(plotEnrich(df, showTerms = 25, numChar = 75, y = \"Count\", orderBy = \"P.value\") + ggtitle(title))\n",
    "      dev.off()\n",
    "    }\n",
    "    \n",
    "    # Plot and save Enrichr results\n",
    "    plot_and_save(enrichr_results$GO_Biological_Process_2023, \n",
    "                  paste0(module, \"_GO_Biological_Process_2023.pdf\"), \n",
    "                  paste(\"GO_Biological_Process_2023 for\", module, \"module\"))\n",
    "    \n",
    "    plot_and_save(enrichr_results$GO_Cellular_Component_2023, \n",
    "                  paste0(module, \"_GO_Cellular_Component_2023.pdf\"), \n",
    "                  paste(\"GO_Cellular_Component_2023 for\", module, \"module\"))\n",
    "    \n",
    "    plot_and_save(enrichr_results$GO_Molecular_Function_2023, \n",
    "                  paste0(module, \"_GO_Molecular_Function_2023.pdf\"), \n",
    "                  paste(\"GO_Molecular_Function_2023 for\", module, \"module\"))\n",
    "    \n",
    "    plot_and_save(enrichr_results$KEGG_2019_Mouse, \n",
    "                  paste0(module, \"_KEGG_2019_Mouse.pdf\"), \n",
    "                  paste(\"KEGG_2019_Mouse for\", module, \"module\"))\n",
    "    \n",
    "    plot_and_save(enrichr_results$Panther_2016, \n",
    "                  paste0(module, \"_Panther_2016.pdf\"), \n",
    "                  paste(\"Panther_2016 for\", module, \"module\"))\n",
    "    \n",
    "    plot_and_save(enrichr_results$Reactome_2016, \n",
    "                  paste0(module, \"_Reactome_2016.pdf\"), \n",
    "                  paste(\"Reactome_2016 for\", module, \"module\"))\n",
    "    \n",
    "    plot_and_save(enrichr_results$`RNA-Seq_Disease_Gene_and_Drug_Signatures_from_GEO`, \n",
    "                  paste0(module, \"_RNA-Seq_Disease_Gene_and_Drug_Signatures_from_GEO.pdf\"), \n",
    "                  paste(\"RNA-Seq_Disease_Gene_and_Drug_Signatures_from_GEO for\", module, \"module\"))\n",
    "    \n",
    "  }, error = function(e) {\n",
    "    cat(\"Error occurred for module\", module, \": \", conditionMessage(e), \"\\n\")\n",
    "    # Log the error to a file for further inspection\n",
    "    write(paste(\"Error occurred for module\", module, \": \", conditionMessage(e), \"\\n\"), file = \"error_log.txt\", append = TRUE)\n",
    "    # Continue to the next module\n",
    "    next\n",
    "  })\n",
    "}"
   ]
  },
  {
   "cell_type": "markdown",
   "id": "597f5187-4a5d-4bb0-8b27-c2076ddc3738",
   "metadata": {},
   "source": [
    "# Visualize GO Results"
   ]
  },
  {
   "cell_type": "markdown",
   "id": "c1273adf-0884-4f35-a76c-39e24372e56d",
   "metadata": {},
   "source": [
    "## Top 25 Dot Plots (Priotizing Overlap)"
   ]
  },
  {
   "cell_type": "code",
   "execution_count": null,
   "id": "91973907-049b-4953-9c9b-e6253e7180ff",
   "metadata": {},
   "outputs": [],
   "source": [
    "# List of GO databases\n",
    "databases <- c(\"GO_Biological_Process_2023\", \"GO_Cellular_Component_2023\", \"GO_Molecular_Function_2023\",\n",
    "               \"KEGG_2019_Mouse\", \"Panther_2016\", \"Reactome_2016\", \"RNAseq_DiseaseGene_DrugSigs_GEO\")"
   ]
  },
  {
   "cell_type": "code",
   "execution_count": null,
   "id": "d6fabb01-5178-4e6b-b7a7-a9daaefb4841",
   "metadata": {},
   "outputs": [],
   "source": [
    "# Store GO data into data frame\n",
    "\n",
    "# Initialize an empty dataframe\n",
    "all_data <- data.frame()\n",
    "\n",
    "# Iterate over each module and read in the corresponding Excel file\n",
    "for (module in module_genes$module) {\n",
    "  file_path <- glue(\"{module}_enrichr_results.xlsx\")\n",
    "  \n",
    "  for (database in databases) {\n",
    "    try({\n",
    "      # Read the data from the Excel file\n",
    "      df <- read_excel(file_path, sheet = database)\n",
    "      \n",
    "      if (nrow(df) == 0) {\n",
    "        next  # Skip to the next database if no data\n",
    "      }\n",
    "      \n",
    "      # Select the required columns and add module and database information\n",
    "      df <- df %>%\n",
    "        select(Term, Adjusted.P.value, Odds.Ratio) %>%\n",
    "        mutate(Module = module, Database = database)\n",
    "      \n",
    "      # Append to the dataframe\n",
    "      all_data <- bind_rows(all_data, df)\n",
    "      \n",
    "    }, silent = TRUE)\n",
    "  }\n",
    "}\n",
    "\n",
    "# Check if any data was read\n",
    "if (nrow(all_data) == 0) {\n",
    "  stop(\"No data read from any of the Excel files.\")\n",
    "}\n",
    "\n",
    "# Display the combined dataframe\n",
    "head(all_data)"
   ]
  },
  {
   "cell_type": "code",
   "execution_count": null,
   "id": "01818b62-70bb-4fc6-9361-0fd252b9c971",
   "metadata": {},
   "outputs": [],
   "source": [
    "# Filter out rows where the Adjusted.P.value is less than 0.1\n",
    "all_data <- all_data %>%\n",
    "  filter(Adjusted.P.value <= 0.05)\n",
    "\n",
    "# Display the filtered dataframe\n",
    "head(all_data)"
   ]
  },
  {
   "cell_type": "code",
   "execution_count": null,
   "id": "c0c6ed7a-8b23-4934-a731-c320df3e4cf0",
   "metadata": {},
   "outputs": [],
   "source": [
    "# Count the number of total terms and unique terms for each database\n",
    "database_term_counts <- all_data %>%\n",
    "  group_by(Database) %>%\n",
    "  summarise(\n",
    "    Total_Terms = n(),\n",
    "    Unique_Terms = n_distinct(Term)\n",
    "  )\n",
    "\n",
    "# Print the table\n",
    "print(database_term_counts)"
   ]
  },
  {
   "cell_type": "code",
   "execution_count": null,
   "id": "6d43622e-4083-4276-a389-5ceeca64a99c",
   "metadata": {},
   "outputs": [],
   "source": [
    "# Calculate the number of modules each term appears in for each database\n",
    "term_module_counts <- all_data %>%\n",
    "  group_by(Database, Term) %>%\n",
    "  summarise(ModuleCount = n_distinct(Module), .groups = 'drop')\n",
    "\n",
    "# Rank the terms within each database by the number of modules they appear in\n",
    "ranked_terms <- term_module_counts %>%\n",
    "  arrange(Database, desc(ModuleCount)) %>%\n",
    "  group_by(Database) %>%\n",
    "  slice_head(n = 25) %>%\n",
    "  ungroup()\n",
    "\n",
    "# Merge with the original data to filter the top 25 terms per database\n",
    "filtered_data_top_25 <- all_data %>%\n",
    "  semi_join(ranked_terms, by = c(\"Database\", \"Term\"))\n",
    "\n",
    "# Print the filtered data\n",
    "head(filtered_data_top_25)"
   ]
  },
  {
   "cell_type": "code",
   "execution_count": null,
   "id": "5b15982b-8cf5-4081-a884-6244c812fb17",
   "metadata": {},
   "outputs": [],
   "source": [
    "# Count the number of total terms and unique terms for each database\n",
    "filtered_database_term_counts <- filtered_data_top_25 %>%\n",
    "  group_by(Database) %>%\n",
    "  summarise(\n",
    "    Total_Terms = n(),\n",
    "    Unique_Terms = n_distinct(Term)\n",
    "  )\n",
    "\n",
    "# Print the table\n",
    "print(filtered_database_term_counts)"
   ]
  },
  {
   "cell_type": "code",
   "execution_count": null,
   "id": "0e5f450a-1eb5-445c-a3fb-e8c4e41c8c80",
   "metadata": {},
   "outputs": [],
   "source": [
    "# Create plots for each database\n",
    "for (database in unique(filtered_data_top_25$Database)) {\n",
    "  database_filtered_data <- filtered_data_top_25 %>%\n",
    "    filter(Database == database)\n",
    "  \n",
    "  if (nrow(database_filtered_data) > 0) {\n",
    "    dot_plot <- ggplot(database_filtered_data, aes(x = Module, y = Term, size = Odds.Ratio, fill = Adjusted.P.value)) +\n",
    "      geom_point(shape = 21) +\n",
    "      scale_fill_viridis() +\n",
    "      xlab('') + ylab('') +\n",
    "      labs(\n",
    "        title = 'Top Enrichr Terms Across Modules',\n",
    "        subtitle = glue('{database}')\n",
    "      ) +\n",
    "      theme(\n",
    "        panel.background = element_rect(fill = \"white\", color = NA),\n",
    "        panel.grid.major = element_blank(),\n",
    "        panel.grid.minor = element_blank(),\n",
    "        panel.border = element_blank(),\n",
    "        axis.line = element_line(color = \"black\"),\n",
    "        plot.background = element_rect(fill = \"white\", color = NA),\n",
    "        axis.text.x = element_text(angle = 90, hjust = 1)\n",
    "      )\n",
    "    \n",
    "    # Save the dot plot with the database name in the filename\n",
    "    ggsave(filename = glue(\"top_25_dot_plot_{database}.pdf\"), plot = dot_plot, height = 7, width = 15)\n",
    "  } else {\n",
    "    cat(glue(\"No data available for {database}. Skipping...\\n\"))\n",
    "  }\n",
    "}"
   ]
  },
  {
   "cell_type": "markdown",
   "id": "6e52d00c-b9d2-45cb-8381-a3180a614acc",
   "metadata": {},
   "source": [
    "## Top 25 Per Module Dot Plot"
   ]
  },
  {
   "cell_type": "code",
   "execution_count": 8,
   "id": "412c9680-3edc-42fe-8df3-c688ca6013cb",
   "metadata": {},
   "outputs": [],
   "source": [
    "# List of GO databases\n",
    "databases <- c(\"GO_Biological_Process_2023\", \"GO_Cellular_Component_2023\", \"GO_Molecular_Function_2023\",\n",
    "               \"KEGG_2019_Mouse\", \"Panther_2016\", \"Reactome_2016\", \"RNAseq_DiseaseGene_DrugSigs_GEO\")"
   ]
  },
  {
   "cell_type": "code",
   "execution_count": 9,
   "id": "ce4d438a-ea83-4e06-847c-e35d2d2cef55",
   "metadata": {},
   "outputs": [
    {
     "data": {
      "text/html": [
       "<table class=\"dataframe\">\n",
       "<caption>A data.frame: 6 × 5</caption>\n",
       "<thead>\n",
       "\t<tr><th></th><th scope=col>Term</th><th scope=col>Adjusted.P.value</th><th scope=col>Odds.Ratio</th><th scope=col>Module</th><th scope=col>Database</th></tr>\n",
       "\t<tr><th></th><th scope=col>&lt;chr&gt;</th><th scope=col>&lt;dbl&gt;</th><th scope=col>&lt;dbl&gt;</th><th scope=col>&lt;chr&gt;</th><th scope=col>&lt;chr&gt;</th></tr>\n",
       "</thead>\n",
       "<tbody>\n",
       "\t<tr><th scope=row>1</th><td>Regulation Of Neuron Projection Development (GO:0010975)  </td><td>0.001061955</td><td>4.369626</td><td>honeydew1</td><td>GO_Biological_Process_2023</td></tr>\n",
       "\t<tr><th scope=row>2</th><td>Modulation Of Chemical Synaptic Transmission (GO:0050804) </td><td>0.002139396</td><td>4.926606</td><td>honeydew1</td><td>GO_Biological_Process_2023</td></tr>\n",
       "\t<tr><th scope=row>3</th><td>Peptidyl-Threonine Modification (GO:0018210)              </td><td>0.010963121</td><td>6.293506</td><td>honeydew1</td><td>GO_Biological_Process_2023</td></tr>\n",
       "\t<tr><th scope=row>4</th><td>Regulation Of Trans-Synaptic Signaling (GO:0099177)       </td><td>0.031262087</td><td>8.472719</td><td>honeydew1</td><td>GO_Biological_Process_2023</td></tr>\n",
       "\t<tr><th scope=row>5</th><td>Regulation Of Canonical Wnt Signaling Pathway (GO:0060828)</td><td>0.032843915</td><td>3.171949</td><td>honeydew1</td><td>GO_Biological_Process_2023</td></tr>\n",
       "\t<tr><th scope=row>6</th><td>Neuron Development (GO:0048666)                           </td><td>0.032843915</td><td>3.639517</td><td>honeydew1</td><td>GO_Biological_Process_2023</td></tr>\n",
       "</tbody>\n",
       "</table>\n"
      ],
      "text/latex": [
       "A data.frame: 6 × 5\n",
       "\\begin{tabular}{r|lllll}\n",
       "  & Term & Adjusted.P.value & Odds.Ratio & Module & Database\\\\\n",
       "  & <chr> & <dbl> & <dbl> & <chr> & <chr>\\\\\n",
       "\\hline\n",
       "\t1 & Regulation Of Neuron Projection Development (GO:0010975)   & 0.001061955 & 4.369626 & honeydew1 & GO\\_Biological\\_Process\\_2023\\\\\n",
       "\t2 & Modulation Of Chemical Synaptic Transmission (GO:0050804)  & 0.002139396 & 4.926606 & honeydew1 & GO\\_Biological\\_Process\\_2023\\\\\n",
       "\t3 & Peptidyl-Threonine Modification (GO:0018210)               & 0.010963121 & 6.293506 & honeydew1 & GO\\_Biological\\_Process\\_2023\\\\\n",
       "\t4 & Regulation Of Trans-Synaptic Signaling (GO:0099177)        & 0.031262087 & 8.472719 & honeydew1 & GO\\_Biological\\_Process\\_2023\\\\\n",
       "\t5 & Regulation Of Canonical Wnt Signaling Pathway (GO:0060828) & 0.032843915 & 3.171949 & honeydew1 & GO\\_Biological\\_Process\\_2023\\\\\n",
       "\t6 & Neuron Development (GO:0048666)                            & 0.032843915 & 3.639517 & honeydew1 & GO\\_Biological\\_Process\\_2023\\\\\n",
       "\\end{tabular}\n"
      ],
      "text/markdown": [
       "\n",
       "A data.frame: 6 × 5\n",
       "\n",
       "| <!--/--> | Term &lt;chr&gt; | Adjusted.P.value &lt;dbl&gt; | Odds.Ratio &lt;dbl&gt; | Module &lt;chr&gt; | Database &lt;chr&gt; |\n",
       "|---|---|---|---|---|---|\n",
       "| 1 | Regulation Of Neuron Projection Development (GO:0010975)   | 0.001061955 | 4.369626 | honeydew1 | GO_Biological_Process_2023 |\n",
       "| 2 | Modulation Of Chemical Synaptic Transmission (GO:0050804)  | 0.002139396 | 4.926606 | honeydew1 | GO_Biological_Process_2023 |\n",
       "| 3 | Peptidyl-Threonine Modification (GO:0018210)               | 0.010963121 | 6.293506 | honeydew1 | GO_Biological_Process_2023 |\n",
       "| 4 | Regulation Of Trans-Synaptic Signaling (GO:0099177)        | 0.031262087 | 8.472719 | honeydew1 | GO_Biological_Process_2023 |\n",
       "| 5 | Regulation Of Canonical Wnt Signaling Pathway (GO:0060828) | 0.032843915 | 3.171949 | honeydew1 | GO_Biological_Process_2023 |\n",
       "| 6 | Neuron Development (GO:0048666)                            | 0.032843915 | 3.639517 | honeydew1 | GO_Biological_Process_2023 |\n",
       "\n"
      ],
      "text/plain": [
       "  Term                                                       Adjusted.P.value\n",
       "1 Regulation Of Neuron Projection Development (GO:0010975)   0.001061955     \n",
       "2 Modulation Of Chemical Synaptic Transmission (GO:0050804)  0.002139396     \n",
       "3 Peptidyl-Threonine Modification (GO:0018210)               0.010963121     \n",
       "4 Regulation Of Trans-Synaptic Signaling (GO:0099177)        0.031262087     \n",
       "5 Regulation Of Canonical Wnt Signaling Pathway (GO:0060828) 0.032843915     \n",
       "6 Neuron Development (GO:0048666)                            0.032843915     \n",
       "  Odds.Ratio Module    Database                  \n",
       "1 4.369626   honeydew1 GO_Biological_Process_2023\n",
       "2 4.926606   honeydew1 GO_Biological_Process_2023\n",
       "3 6.293506   honeydew1 GO_Biological_Process_2023\n",
       "4 8.472719   honeydew1 GO_Biological_Process_2023\n",
       "5 3.171949   honeydew1 GO_Biological_Process_2023\n",
       "6 3.639517   honeydew1 GO_Biological_Process_2023"
      ]
     },
     "metadata": {},
     "output_type": "display_data"
    }
   ],
   "source": [
    "# Store GO data into data frame\n",
    "\n",
    "# Initialize an empty dataframe\n",
    "all_data <- data.frame()\n",
    "\n",
    "# Iterate over each module and read in the corresponding Excel file\n",
    "for (module in modules_of_interest) {\n",
    "  file_path <- glue(\"{module}_enrichr_results.xlsx\")\n",
    "  \n",
    "  for (database in databases) {\n",
    "    try({\n",
    "      # Read the data from the Excel file\n",
    "      df <- read_excel(file_path, sheet = database)\n",
    "      \n",
    "      if (nrow(df) == 0) {\n",
    "        next  # Skip to the next database if no data\n",
    "      }\n",
    "      \n",
    "      # Select the required columns and add module and database information\n",
    "      df <- df %>%\n",
    "        select(Term, Adjusted.P.value, Odds.Ratio) %>%\n",
    "        mutate(Module = module, Database = database)\n",
    "      \n",
    "      # Append to the dataframe\n",
    "      all_data <- bind_rows(all_data, df)\n",
    "      \n",
    "    }, silent = TRUE)\n",
    "  }\n",
    "}\n",
    "\n",
    "# Check if any data was read\n",
    "if (nrow(all_data) == 0) {\n",
    "  stop(\"No data read from any of the Excel files.\")\n",
    "}\n",
    "\n",
    "# Display the combined dataframe\n",
    "head(all_data)"
   ]
  },
  {
   "cell_type": "code",
   "execution_count": 10,
   "id": "dc0cbd02-f51a-4640-8c06-73f770ec8d05",
   "metadata": {},
   "outputs": [
    {
     "data": {
      "text/html": [
       "<table class=\"dataframe\">\n",
       "<caption>A data.frame: 6 × 5</caption>\n",
       "<thead>\n",
       "\t<tr><th></th><th scope=col>Term</th><th scope=col>Adjusted.P.value</th><th scope=col>Odds.Ratio</th><th scope=col>Module</th><th scope=col>Database</th></tr>\n",
       "\t<tr><th></th><th scope=col>&lt;chr&gt;</th><th scope=col>&lt;dbl&gt;</th><th scope=col>&lt;dbl&gt;</th><th scope=col>&lt;chr&gt;</th><th scope=col>&lt;chr&gt;</th></tr>\n",
       "</thead>\n",
       "<tbody>\n",
       "\t<tr><th scope=row>1</th><td>Regulation Of Neuron Projection Development (GO:0010975)  </td><td>0.001061955</td><td>4.369626</td><td>honeydew1</td><td>GO_Biological_Process_2023</td></tr>\n",
       "\t<tr><th scope=row>2</th><td>Modulation Of Chemical Synaptic Transmission (GO:0050804) </td><td>0.002139396</td><td>4.926606</td><td>honeydew1</td><td>GO_Biological_Process_2023</td></tr>\n",
       "\t<tr><th scope=row>3</th><td>Peptidyl-Threonine Modification (GO:0018210)              </td><td>0.010963121</td><td>6.293506</td><td>honeydew1</td><td>GO_Biological_Process_2023</td></tr>\n",
       "\t<tr><th scope=row>4</th><td>Regulation Of Trans-Synaptic Signaling (GO:0099177)       </td><td>0.031262087</td><td>8.472719</td><td>honeydew1</td><td>GO_Biological_Process_2023</td></tr>\n",
       "\t<tr><th scope=row>5</th><td>Regulation Of Canonical Wnt Signaling Pathway (GO:0060828)</td><td>0.032843915</td><td>3.171949</td><td>honeydew1</td><td>GO_Biological_Process_2023</td></tr>\n",
       "\t<tr><th scope=row>6</th><td>Neuron Development (GO:0048666)                           </td><td>0.032843915</td><td>3.639517</td><td>honeydew1</td><td>GO_Biological_Process_2023</td></tr>\n",
       "</tbody>\n",
       "</table>\n"
      ],
      "text/latex": [
       "A data.frame: 6 × 5\n",
       "\\begin{tabular}{r|lllll}\n",
       "  & Term & Adjusted.P.value & Odds.Ratio & Module & Database\\\\\n",
       "  & <chr> & <dbl> & <dbl> & <chr> & <chr>\\\\\n",
       "\\hline\n",
       "\t1 & Regulation Of Neuron Projection Development (GO:0010975)   & 0.001061955 & 4.369626 & honeydew1 & GO\\_Biological\\_Process\\_2023\\\\\n",
       "\t2 & Modulation Of Chemical Synaptic Transmission (GO:0050804)  & 0.002139396 & 4.926606 & honeydew1 & GO\\_Biological\\_Process\\_2023\\\\\n",
       "\t3 & Peptidyl-Threonine Modification (GO:0018210)               & 0.010963121 & 6.293506 & honeydew1 & GO\\_Biological\\_Process\\_2023\\\\\n",
       "\t4 & Regulation Of Trans-Synaptic Signaling (GO:0099177)        & 0.031262087 & 8.472719 & honeydew1 & GO\\_Biological\\_Process\\_2023\\\\\n",
       "\t5 & Regulation Of Canonical Wnt Signaling Pathway (GO:0060828) & 0.032843915 & 3.171949 & honeydew1 & GO\\_Biological\\_Process\\_2023\\\\\n",
       "\t6 & Neuron Development (GO:0048666)                            & 0.032843915 & 3.639517 & honeydew1 & GO\\_Biological\\_Process\\_2023\\\\\n",
       "\\end{tabular}\n"
      ],
      "text/markdown": [
       "\n",
       "A data.frame: 6 × 5\n",
       "\n",
       "| <!--/--> | Term &lt;chr&gt; | Adjusted.P.value &lt;dbl&gt; | Odds.Ratio &lt;dbl&gt; | Module &lt;chr&gt; | Database &lt;chr&gt; |\n",
       "|---|---|---|---|---|---|\n",
       "| 1 | Regulation Of Neuron Projection Development (GO:0010975)   | 0.001061955 | 4.369626 | honeydew1 | GO_Biological_Process_2023 |\n",
       "| 2 | Modulation Of Chemical Synaptic Transmission (GO:0050804)  | 0.002139396 | 4.926606 | honeydew1 | GO_Biological_Process_2023 |\n",
       "| 3 | Peptidyl-Threonine Modification (GO:0018210)               | 0.010963121 | 6.293506 | honeydew1 | GO_Biological_Process_2023 |\n",
       "| 4 | Regulation Of Trans-Synaptic Signaling (GO:0099177)        | 0.031262087 | 8.472719 | honeydew1 | GO_Biological_Process_2023 |\n",
       "| 5 | Regulation Of Canonical Wnt Signaling Pathway (GO:0060828) | 0.032843915 | 3.171949 | honeydew1 | GO_Biological_Process_2023 |\n",
       "| 6 | Neuron Development (GO:0048666)                            | 0.032843915 | 3.639517 | honeydew1 | GO_Biological_Process_2023 |\n",
       "\n"
      ],
      "text/plain": [
       "  Term                                                       Adjusted.P.value\n",
       "1 Regulation Of Neuron Projection Development (GO:0010975)   0.001061955     \n",
       "2 Modulation Of Chemical Synaptic Transmission (GO:0050804)  0.002139396     \n",
       "3 Peptidyl-Threonine Modification (GO:0018210)               0.010963121     \n",
       "4 Regulation Of Trans-Synaptic Signaling (GO:0099177)        0.031262087     \n",
       "5 Regulation Of Canonical Wnt Signaling Pathway (GO:0060828) 0.032843915     \n",
       "6 Neuron Development (GO:0048666)                            0.032843915     \n",
       "  Odds.Ratio Module    Database                  \n",
       "1 4.369626   honeydew1 GO_Biological_Process_2023\n",
       "2 4.926606   honeydew1 GO_Biological_Process_2023\n",
       "3 6.293506   honeydew1 GO_Biological_Process_2023\n",
       "4 8.472719   honeydew1 GO_Biological_Process_2023\n",
       "5 3.171949   honeydew1 GO_Biological_Process_2023\n",
       "6 3.639517   honeydew1 GO_Biological_Process_2023"
      ]
     },
     "metadata": {},
     "output_type": "display_data"
    }
   ],
   "source": [
    "# Filter out rows where the Adjusted.P.value is less than 0.1\n",
    "all_data <- all_data %>%\n",
    "  filter(Adjusted.P.value <= 0.05)\n",
    "\n",
    "# Display the filtered dataframe\n",
    "head(all_data)"
   ]
  },
  {
   "cell_type": "code",
   "execution_count": 11,
   "id": "3914472e-2597-41ca-8ad9-a0e2d7fa622a",
   "metadata": {},
   "outputs": [
    {
     "name": "stdout",
     "output_type": "stream",
     "text": [
      "\u001b[90m# A tibble: 7 × 3\u001b[39m\n",
      "  Database                        Total_Terms Unique_Terms\n",
      "  \u001b[3m\u001b[90m<chr>\u001b[39m\u001b[23m                                 \u001b[3m\u001b[90m<int>\u001b[39m\u001b[23m        \u001b[3m\u001b[90m<int>\u001b[39m\u001b[23m\n",
      "\u001b[90m1\u001b[39m GO_Biological_Process_2023              328          187\n",
      "\u001b[90m2\u001b[39m GO_Cellular_Component_2023              116           52\n",
      "\u001b[90m3\u001b[39m GO_Molecular_Function_2023              154           80\n",
      "\u001b[90m4\u001b[39m KEGG_2019_Mouse                         195           83\n",
      "\u001b[90m5\u001b[39m Panther_2016                             75           33\n",
      "\u001b[90m6\u001b[39m RNAseq_DiseaseGene_DrugSigs_GEO        \u001b[4m1\u001b[24m177          348\n",
      "\u001b[90m7\u001b[39m Reactome_2016                           305          148\n"
     ]
    }
   ],
   "source": [
    "# Count the number of total terms and unique terms for each database\n",
    "database_term_counts <- all_data %>%\n",
    "  group_by(Database) %>%\n",
    "  summarise(\n",
    "    Total_Terms = n(),\n",
    "    Unique_Terms = n_distinct(Term)\n",
    "  )\n",
    "\n",
    "# Print the table\n",
    "print(database_term_counts)"
   ]
  },
  {
   "cell_type": "code",
   "execution_count": 14,
   "id": "b1143215-621a-4014-95ea-33e30befd0dd",
   "metadata": {},
   "outputs": [
    {
     "data": {
      "text/html": [
       "<table class=\"dataframe\">\n",
       "<caption>A tibble: 6 × 5</caption>\n",
       "<thead>\n",
       "\t<tr><th scope=col>Term</th><th scope=col>Adjusted.P.value</th><th scope=col>Odds.Ratio</th><th scope=col>Module</th><th scope=col>Database</th></tr>\n",
       "\t<tr><th scope=col>&lt;chr&gt;</th><th scope=col>&lt;dbl&gt;</th><th scope=col>&lt;dbl&gt;</th><th scope=col>&lt;chr&gt;</th><th scope=col>&lt;chr&gt;</th></tr>\n",
       "</thead>\n",
       "<tbody>\n",
       "\t<tr><td>Regulation Of Neuron Projection Development (GO:0010975)            </td><td>1.494853e-05</td><td>2.602594</td><td>brown</td><td>GO_Biological_Process_2023</td></tr>\n",
       "\t<tr><td>Phosphorylation (GO:0016310)                                        </td><td>7.808549e-05</td><td>1.726316</td><td>brown</td><td>GO_Biological_Process_2023</td></tr>\n",
       "\t<tr><td>Regulation Of Small GTPase Mediated Signal Transduction (GO:0051056)</td><td>8.928440e-05</td><td>2.950288</td><td>brown</td><td>GO_Biological_Process_2023</td></tr>\n",
       "\t<tr><td>Regulation Of Intracellular Signal Transduction (GO:1902531)        </td><td>1.496323e-04</td><td>1.871522</td><td>brown</td><td>GO_Biological_Process_2023</td></tr>\n",
       "\t<tr><td>Protein Modification Process (GO:0036211)                           </td><td>1.496323e-04</td><td>1.491984</td><td>brown</td><td>GO_Biological_Process_2023</td></tr>\n",
       "\t<tr><td>Protein Phosphorylation (GO:0006468)                                </td><td>3.663245e-04</td><td>1.576952</td><td>brown</td><td>GO_Biological_Process_2023</td></tr>\n",
       "</tbody>\n",
       "</table>\n"
      ],
      "text/latex": [
       "A tibble: 6 × 5\n",
       "\\begin{tabular}{lllll}\n",
       " Term & Adjusted.P.value & Odds.Ratio & Module & Database\\\\\n",
       " <chr> & <dbl> & <dbl> & <chr> & <chr>\\\\\n",
       "\\hline\n",
       "\t Regulation Of Neuron Projection Development (GO:0010975)             & 1.494853e-05 & 2.602594 & brown & GO\\_Biological\\_Process\\_2023\\\\\n",
       "\t Phosphorylation (GO:0016310)                                         & 7.808549e-05 & 1.726316 & brown & GO\\_Biological\\_Process\\_2023\\\\\n",
       "\t Regulation Of Small GTPase Mediated Signal Transduction (GO:0051056) & 8.928440e-05 & 2.950288 & brown & GO\\_Biological\\_Process\\_2023\\\\\n",
       "\t Regulation Of Intracellular Signal Transduction (GO:1902531)         & 1.496323e-04 & 1.871522 & brown & GO\\_Biological\\_Process\\_2023\\\\\n",
       "\t Protein Modification Process (GO:0036211)                            & 1.496323e-04 & 1.491984 & brown & GO\\_Biological\\_Process\\_2023\\\\\n",
       "\t Protein Phosphorylation (GO:0006468)                                 & 3.663245e-04 & 1.576952 & brown & GO\\_Biological\\_Process\\_2023\\\\\n",
       "\\end{tabular}\n"
      ],
      "text/markdown": [
       "\n",
       "A tibble: 6 × 5\n",
       "\n",
       "| Term &lt;chr&gt; | Adjusted.P.value &lt;dbl&gt; | Odds.Ratio &lt;dbl&gt; | Module &lt;chr&gt; | Database &lt;chr&gt; |\n",
       "|---|---|---|---|---|\n",
       "| Regulation Of Neuron Projection Development (GO:0010975)             | 1.494853e-05 | 2.602594 | brown | GO_Biological_Process_2023 |\n",
       "| Phosphorylation (GO:0016310)                                         | 7.808549e-05 | 1.726316 | brown | GO_Biological_Process_2023 |\n",
       "| Regulation Of Small GTPase Mediated Signal Transduction (GO:0051056) | 8.928440e-05 | 2.950288 | brown | GO_Biological_Process_2023 |\n",
       "| Regulation Of Intracellular Signal Transduction (GO:1902531)         | 1.496323e-04 | 1.871522 | brown | GO_Biological_Process_2023 |\n",
       "| Protein Modification Process (GO:0036211)                            | 1.496323e-04 | 1.491984 | brown | GO_Biological_Process_2023 |\n",
       "| Protein Phosphorylation (GO:0006468)                                 | 3.663245e-04 | 1.576952 | brown | GO_Biological_Process_2023 |\n",
       "\n"
      ],
      "text/plain": [
       "  Term                                                                \n",
       "1 Regulation Of Neuron Projection Development (GO:0010975)            \n",
       "2 Phosphorylation (GO:0016310)                                        \n",
       "3 Regulation Of Small GTPase Mediated Signal Transduction (GO:0051056)\n",
       "4 Regulation Of Intracellular Signal Transduction (GO:1902531)        \n",
       "5 Protein Modification Process (GO:0036211)                           \n",
       "6 Protein Phosphorylation (GO:0006468)                                \n",
       "  Adjusted.P.value Odds.Ratio Module Database                  \n",
       "1 1.494853e-05     2.602594   brown  GO_Biological_Process_2023\n",
       "2 7.808549e-05     1.726316   brown  GO_Biological_Process_2023\n",
       "3 8.928440e-05     2.950288   brown  GO_Biological_Process_2023\n",
       "4 1.496323e-04     1.871522   brown  GO_Biological_Process_2023\n",
       "5 1.496323e-04     1.491984   brown  GO_Biological_Process_2023\n",
       "6 3.663245e-04     1.576952   brown  GO_Biological_Process_2023"
      ]
     },
     "metadata": {},
     "output_type": "display_data"
    }
   ],
   "source": [
    "# Filter to keep only the top 10 most significant per module and database\n",
    "top_25 <- all_data %>%\n",
    "  group_by(Module, Database) %>%\n",
    "  slice_min(order_by = Adjusted.P.value, n = 25, with_ties = FALSE) %>%\n",
    "  ungroup()\n",
    "\n",
    "# View \n",
    "head(top_25)"
   ]
  },
  {
   "cell_type": "code",
   "execution_count": 15,
   "id": "0744a2c9-0603-4264-8ae5-007e5ee72dab",
   "metadata": {},
   "outputs": [
    {
     "name": "stdout",
     "output_type": "stream",
     "text": [
      "\u001b[90m# A tibble: 7 × 3\u001b[39m\n",
      "  Database                        Total_Terms Unique_Terms\n",
      "  \u001b[3m\u001b[90m<chr>\u001b[39m\u001b[23m                                 \u001b[3m\u001b[90m<int>\u001b[39m\u001b[23m        \u001b[3m\u001b[90m<int>\u001b[39m\u001b[23m\n",
      "\u001b[90m1\u001b[39m GO_Biological_Process_2023              107           58\n",
      "\u001b[90m2\u001b[39m GO_Cellular_Component_2023               92           36\n",
      "\u001b[90m3\u001b[39m GO_Molecular_Function_2023              100           55\n",
      "\u001b[90m4\u001b[39m KEGG_2019_Mouse                         100           49\n",
      "\u001b[90m5\u001b[39m Panther_2016                             74           32\n",
      "\u001b[90m6\u001b[39m RNAseq_DiseaseGene_DrugSigs_GEO         125           41\n",
      "\u001b[90m7\u001b[39m Reactome_2016                           100           58\n"
     ]
    }
   ],
   "source": [
    "# Count the number of total terms and unique terms for each database\n",
    "database_term_counts <- top_25 %>%\n",
    "  group_by(Database) %>%\n",
    "  summarise(\n",
    "    Total_Terms = n(),\n",
    "    Unique_Terms = n_distinct(Term)\n",
    "  )\n",
    "\n",
    "# Print the table\n",
    "print(database_term_counts)"
   ]
  },
  {
   "cell_type": "code",
   "execution_count": 19,
   "id": "6befd2c0-fbb8-4324-8e0c-3f7df14ce7b8",
   "metadata": {},
   "outputs": [],
   "source": [
    "# Create plots for each database\n",
    "for (database in unique(top_25$Database)) {\n",
    "  # Filter for the current database\n",
    "  current_data <- top_25 %>%\n",
    "    filter(Database == database)\n",
    "  \n",
    "  if (nrow(current_data) > 0) {\n",
    "    dot_plot <- ggplot(current_data, aes(x = Module, y = Term, size = Odds.Ratio, fill = Adjusted.P.value)) +\n",
    "      geom_point(shape = 21) +\n",
    "      scale_fill_viridis() +\n",
    "      xlab('') + ylab('') +\n",
    "      labs(\n",
    "        title = 'Top 25 Enrichr Terms Per Module',\n",
    "        subtitle = glue('{database}')\n",
    "      ) +\n",
    "      theme(\n",
    "        panel.background = element_rect(fill = \"white\", color = NA),\n",
    "        panel.grid.major = element_blank(),\n",
    "        panel.grid.minor = element_blank(),\n",
    "        panel.border = element_blank(),\n",
    "        axis.line = element_line(color = \"black\"),\n",
    "        plot.background = element_rect(fill = \"white\", color = NA),\n",
    "        axis.text.x = element_text(angle = 90, hjust = 1)\n",
    "      )\n",
    "    \n",
    "    # Save the dot plot with the database name in the filename\n",
    "    ggsave(filename = glue(\"top_25_per_module_dot_plot_{database}.pdf\"), plot = dot_plot, height = 12, width = 15)\n",
    "  } else {\n",
    "    cat(glue(\"No data available for {database}. Skipping...\\n\"))\n",
    "  }\n",
    "}"
   ]
  }
 ],
 "metadata": {
  "kernelspec": {
   "display_name": "R",
   "language": "R",
   "name": "ir"
  },
  "language_info": {
   "codemirror_mode": "r",
   "file_extension": ".r",
   "mimetype": "text/x-r-source",
   "name": "R",
   "pygments_lexer": "r",
   "version": "4.3.2"
  }
 },
 "nbformat": 4,
 "nbformat_minor": 5
}
